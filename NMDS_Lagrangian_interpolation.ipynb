{
  "nbformat": 4,
  "nbformat_minor": 0,
  "metadata": {
    "colab": {
      "provenance": []
    },
    "kernelspec": {
      "name": "python3",
      "display_name": "Python 3"
    },
    "language_info": {
      "name": "python"
    }
  },
  "cells": [
    {
      "cell_type": "markdown",
      "source": [
        "## ASSIGNMENT 3"
      ],
      "metadata": {
        "id": "voSMe16OHuLC"
      }
    },
    {
      "cell_type": "markdown",
      "source": [
        "**Name : Bhargav Pandya**\n",
        "\n",
        "**S_ID : 202218055**"
      ],
      "metadata": {
        "id": "YoVg1oWdFfHj"
      }
    },
    {
      "cell_type": "markdown",
      "source": [
        "## Assignment-3"
      ],
      "metadata": {
        "id": "_tmh2Mbqh-9E"
      }
    },
    {
      "cell_type": "markdown",
      "source": [
        "1. Write a function which implements the Lagrangian\n",
        "interpolation method for m order polynomials. For obtaining\n",
        "the m order interpolating polynomial, you require the\n",
        "function evaluation of m+1 points."
      ],
      "metadata": {
        "id": "fE_2e2boiGeM"
      }
    },
    {
      "cell_type": "code",
      "execution_count": null,
      "metadata": {
        "id": "YuckSUGIhrT_"
      },
      "outputs": [],
      "source": [
        "''' m = degree of polynomial \n",
        "    x = for which value we have to estimate\n",
        "    arr_x = array of given points\n",
        "    f_x = array of f(x) respctive arr_x'''\n",
        "\n",
        "def lagrangian_interpolation(m , x , arr_x , f_x ):     \n",
        "  v = [0]*(m+1)                 # intilize v\n",
        "  for i in range(m+1):\n",
        "    numerator = 1\n",
        "    denominator = 1\n",
        "    for j in range(m+1):\n",
        "      if i!=j:\n",
        "        numerator*=(x - arr_x[j])         # multipling (x-xj) where i!=j\n",
        "        denominator*=(arr_x[i] - arr_x[j])      # multiplying (xi-xj)\n",
        "      v[i] = (numerator / denominator)          # change v[i] to division of numerator and denominator\n",
        "  ans = 0 \n",
        "  for i in range(m+1):\n",
        "    ans+=(f_x[i]*v[i])                        # additon of multiplication v[i] and f(xi)\n",
        "  return ans"
      ]
    },
    {
      "cell_type": "markdown",
      "source": [
        "example "
      ],
      "metadata": {
        "id": "YRREf4P1KB_0"
      }
    },
    {
      "cell_type": "code",
      "source": [
        "m = int(input(\"Which order polynomials you want to interpolate ?   \"))"
      ],
      "metadata": {
        "colab": {
          "base_uri": "https://localhost:8080/"
        },
        "id": "2LH41nyLkB5S",
        "outputId": "1a7c96a7-c372-496c-fd44-c6af890063d3"
      },
      "execution_count": null,
      "outputs": [
        {
          "name": "stdout",
          "output_type": "stream",
          "text": [
            "Which order polynomials you want to interpolate ?   2\n"
          ]
        }
      ]
    },
    {
      "cell_type": "code",
      "source": [
        "x  = float(input(\"which value you want to estimate ?   x = \"))"
      ],
      "metadata": {
        "colab": {
          "base_uri": "https://localhost:8080/"
        },
        "id": "tbojmP3anPD1",
        "outputId": "d87ed857-725c-4983-8daf-d6ab61811ba8"
      },
      "execution_count": null,
      "outputs": [
        {
          "name": "stdout",
          "output_type": "stream",
          "text": [
            "which value you want to estimate ?   x = 4\n"
          ]
        }
      ]
    },
    {
      "cell_type": "code",
      "source": [
        "arr_x = []\n",
        "f_x = []\n",
        "for i in range(m+1):\n",
        "  k = float(input(\"x{} = \".format(i)))\n",
        "  arr_x.append(k)\n",
        "  k_i = float(input(\"f_x{} = \".format(i)))\n",
        "  f_x.append(k_i)"
      ],
      "metadata": {
        "colab": {
          "base_uri": "https://localhost:8080/"
        },
        "id": "w6LQkNYqh97w",
        "outputId": "e0bc3be8-3c9e-49a1-cb99-90a35c055944"
      },
      "execution_count": null,
      "outputs": [
        {
          "name": "stdout",
          "output_type": "stream",
          "text": [
            "x0 = -1\n",
            "f_x0 = 1\n",
            "x1 = 0\n",
            "f_x1 = 0\n",
            "x2 = 1\n",
            "f_x2 = 1\n"
          ]
        }
      ]
    },
    {
      "cell_type": "code",
      "source": [
        "print(\"value of g({}) from langrang interpolation usign given points  = {} \".format(x , lagrangian_interpolation(m , x , arr_x , f_x )))"
      ],
      "metadata": {
        "colab": {
          "base_uri": "https://localhost:8080/"
        },
        "id": "Q_i3cJvvh1C3",
        "outputId": "1a1d9346-d74b-4419-c8be-ad6332740129"
      },
      "execution_count": null,
      "outputs": [
        {
          "output_type": "stream",
          "name": "stdout",
          "text": [
            "value of g(4.0) from langrang interpolation usign given points  = 16.0 \n"
          ]
        }
      ]
    },
    {
      "cell_type": "markdown",
      "source": [
        "## 2. Consider the function y= log 2(x) . Evaluate the function on four points x0 = 1, x1 = 4, x2 = 8 and x3 = 256 and obtain the cubic interpolation g(x) using your code. Find the value of your estimated g(x) at x = 16. Compute the error and compare it from the error obtained by Newton Divided Difference methods"
      ],
      "metadata": {
        "id": "ECg4RziI2CjM"
      }
    },
    {
      "cell_type": "code",
      "source": [
        "m = int(input(\"Which order polynomials you want to interpolate ?   \"))\n",
        "x  = float(input(\"which value you want to estimate ?   x = \"))"
      ],
      "metadata": {
        "colab": {
          "base_uri": "https://localhost:8080/"
        },
        "id": "IJvsP9kvh04I",
        "outputId": "c6007a00-579f-49eb-deae-52de0b78b2af"
      },
      "execution_count": null,
      "outputs": [
        {
          "name": "stdout",
          "output_type": "stream",
          "text": [
            "Which order polynomials you want to interpolate ?   3\n",
            "which value you want to estimate ?   x = 16\n"
          ]
        }
      ]
    },
    {
      "cell_type": "code",
      "source": [
        "arr_x = []\n",
        "f_x = []\n",
        "\n",
        "for i in range(m+1):\n",
        "  k = float(input(\"x{} = \".format(i)))\n",
        "  arr_x.append(k)\n",
        "  k_i = float(input(\"f_x{} = \".format(i)))\n",
        "  f_x.append(k_i)\n"
      ],
      "metadata": {
        "colab": {
          "base_uri": "https://localhost:8080/"
        },
        "id": "ZmM6Q7Zl2VdV",
        "outputId": "7ebfbce6-1884-45f1-8373-e650b58265bb"
      },
      "execution_count": null,
      "outputs": [
        {
          "name": "stdout",
          "output_type": "stream",
          "text": [
            "x0 = 1\n",
            "f_x0 = 0\n",
            "x1 = 4\n",
            "f_x1 = 2\n",
            "x2 = 8\n",
            "f_x2 = 3\n",
            "x3 = 256\n",
            "f_x3 = 8\n"
          ]
        }
      ]
    },
    {
      "cell_type": "code",
      "source": [
        "ans_lagr = lagrangian_interpolation(m , x , arr_x , f_x )\n",
        "print(\"value of g({}) from langrang interpolation usign given points  = {} \".format(x , ans_lagr ))"
      ],
      "metadata": {
        "colab": {
          "base_uri": "https://localhost:8080/"
        },
        "id": "p-ATCUK82tr-",
        "outputId": "82f9d220-b77a-4214-e14a-a9ec64c65163"
      },
      "execution_count": null,
      "outputs": [
        {
          "output_type": "stream",
          "name": "stdout",
          "text": [
            "value of g(16.0) from langrang interpolation usign given points  = -0.3833017077798871 \n"
          ]
        }
      ]
    },
    {
      "cell_type": "markdown",
      "source": [
        "error = ((actual value - estimated value)*100/actual value) %"
      ],
      "metadata": {
        "id": "f2OsrQC5VMho"
      }
    },
    {
      "cell_type": "code",
      "source": [
        "error_lagrangian_interpolation = ((4-ans_lagr)*100)/4\n",
        "print(\"error from lagrangian_interpolation = \",error_lagrangian_interpolation , \"%\")"
      ],
      "metadata": {
        "colab": {
          "base_uri": "https://localhost:8080/"
        },
        "id": "IPVV6hnlRD9o",
        "outputId": "3d61afbf-96da-40c9-991c-3c49a6850c6b"
      },
      "execution_count": null,
      "outputs": [
        {
          "output_type": "stream",
          "name": "stdout",
          "text": [
            "error from lagrangian_interpolation =  109.58254269449719 %\n"
          ]
        }
      ]
    },
    {
      "cell_type": "code",
      "source": [
        "def newton_interpolation(n, x , arr_x,f_x):\n",
        "    \n",
        "  b0 = f_x[0]\n",
        "  b = [b0]\n",
        "  for i in range(1, n):\n",
        "      s = f_x[i]\n",
        "      for j in range(i):\n",
        "          s = (s - b[j]) / (arr_x[i] - arr_x[j])\n",
        "      b.append(s)\n",
        "\n",
        "  ans = 0\n",
        "  for i in range(n):\n",
        "      s = b[i]\n",
        "      for j in range(i):\n",
        "          s *= (x - arr_x[j])\n",
        "      ans += s\n",
        "  return ans"
      ],
      "metadata": {
        "id": "hxRVzfZ328eM"
      },
      "execution_count": null,
      "outputs": []
    },
    {
      "cell_type": "code",
      "source": [
        "n = m+1  # because here n is number of given points"
      ],
      "metadata": {
        "id": "3QjXZdCWB-UJ"
      },
      "execution_count": null,
      "outputs": []
    },
    {
      "cell_type": "code",
      "source": [
        "ans_newton = newton_interpolation(m+1, x , arr_x , f_x )\n",
        "print(\"value of g({}) from newton interpolation usign given points  = {} \".format(x , ans_newton))"
      ],
      "metadata": {
        "colab": {
          "base_uri": "https://localhost:8080/"
        },
        "id": "-7k9iRR33fEY",
        "outputId": "b110ab64-d431-4443-aaf7-d05e5f8a26f8"
      },
      "execution_count": null,
      "outputs": [
        {
          "output_type": "stream",
          "name": "stdout",
          "text": [
            "value of g(16.0) from newton interpolation usign given points  = -0.38330170777988537 \n"
          ]
        }
      ]
    },
    {
      "cell_type": "code",
      "source": [
        "error_newton_interpolation = ((4-ans_newton)*100)/4\n",
        "print(\"error from newton_interpolation = \",error_newton_interpolation , \"%\")"
      ],
      "metadata": {
        "colab": {
          "base_uri": "https://localhost:8080/"
        },
        "id": "llDq7ZDOVyCg",
        "outputId": "cd574bf3-eb4e-4b3d-964d-9c57406533e4"
      },
      "execution_count": null,
      "outputs": [
        {
          "output_type": "stream",
          "name": "stdout",
          "text": [
            "error from newton_interpolation =  109.58254269449714 %\n"
          ]
        }
      ]
    },
    {
      "cell_type": "code",
      "source": [
        "difference =  abs(ans_lagr - ans_newton)\n",
        "print( \" difference   = \" , round(difference,4) )"
      ],
      "metadata": {
        "id": "hpom1MTlB29k",
        "colab": {
          "base_uri": "https://localhost:8080/"
        },
        "outputId": "ea594561-6af5-4c90-d7b0-ebe49ad7904e"
      },
      "execution_count": null,
      "outputs": [
        {
          "output_type": "stream",
          "name": "stdout",
          "text": [
            " difference   =  0.0\n"
          ]
        }
      ]
    },
    {
      "cell_type": "markdown",
      "source": [
        "here we can see that error is zero"
      ],
      "metadata": {
        "id": "uIYjiAbtMdke"
      }
    },
    {
      "cell_type": "markdown",
      "source": [
        "**Conclusion : Both are work identically same , just algebrically represation are diffrent .**"
      ],
      "metadata": {
        "id": "wLsrH_gbLYdC"
      }
    }
  ]
}