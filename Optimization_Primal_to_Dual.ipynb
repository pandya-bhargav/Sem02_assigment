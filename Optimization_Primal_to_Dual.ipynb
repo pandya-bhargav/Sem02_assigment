{
 "cells": [
  {
   "cell_type": "code",
   "execution_count": 1,
   "metadata": {
    "id": "rgWXXDcexaDs"
   },
   "outputs": [],
   "source": [
    "import numpy as np"
   ]
  },
  {
   "cell_type": "code",
   "execution_count": 2,
   "metadata": {
    "id": "YvaubHfg1cuf"
   },
   "outputs": [],
   "source": [
    "'''\n",
    "type            : type of objective fun\n",
    "No_of_variable  :  totol num of variable\n",
    "Type_of_variable : contain xi >= , <= or unrestricted\n",
    "No_of_constraints :total num of constrians\n",
    "sign_of_constraints : constrains are <= , >= , = \n",
    "c : coeff. of objective fun.\n",
    "A : coeff. of constrains\n",
    "b : right side of constrains\n",
    "'''\n",
    "\n",
    "def convert_to_standard_form(\n",
    "    Type , No_of_variable , Type_of_variable ,\n",
    "    No_of_constraints , sign_of_constraints ,\n",
    "    c , A , b ):\n",
    "      \n",
    "    if Type == 'min':\n",
    "        Type = \"max\"\n",
    "        c = [(-1)*ele for ele in c]\n",
    "    \n",
    "    i1 = 0\n",
    "    while i1 < No_of_constraints:\n",
    "         # convert >= to change <= there for multiple with (-1) sign\n",
    "        if sign_of_constraints[i1] == \">=\":\n",
    "            sign_of_constraints[i1] = \"<=\"\n",
    "            A[i1] = (-1)*A[i1]\n",
    "            b[i1] = (-1)*b[i1]\n",
    "            \n",
    "        # convert = constrain to <= and >=   \n",
    "        elif sign_of_constraints[i1] == \"=\":\n",
    "            sign_of_constraints[i1] = \"<=\"\n",
    "            No_of_constraints += 1\n",
    "            sign_of_constraints.append(\"<=\")\n",
    "            A = np.vstack((A,(-1)*A[i1]))\n",
    "            b.append((-1)*b[i1])\n",
    "            \n",
    "        # <= then just pass \n",
    "        else:\n",
    "            pass\n",
    "        \n",
    "        i1 += 1    \n",
    "    i2 = 0\n",
    "    \n",
    "\n",
    "    while i2 < No_of_variable:\n",
    "        # if type of variable are xi <=0 then we have to change to xi >= 0 \n",
    "        if Type_of_variable[i2] == \"<=\":\n",
    "            \n",
    "            Type_of_variable[i2] = \">=\"\n",
    "            for j in range(No_of_constraints):\n",
    "                A[j][i2] = (-1)*A[j][i2]\n",
    "            c[i2] = (-1)*c[i2]\n",
    "        \n",
    "        # if xi is unrestricted then xi = xi`-xi``\n",
    "        elif Type_of_variable[i2] == \"unrestricted\":\n",
    "            Type_of_variable[i2] = \">=\"\n",
    "            No_of_variable += 1\n",
    "            Type_of_variable.append(\">=\")\n",
    "            new_col = []\n",
    "            for j in range(No_of_constraints):\n",
    "                new_col.append((-1)*A[j][i2])\n",
    "                \n",
    "            # concate A and updated type of variable\n",
    "            A = np.hstack((A, np.atleast_2d(new_col).T))\n",
    "            c.append((-1)*c[i2])\n",
    "        \n",
    "        \n",
    "        else:\n",
    "            pass\n",
    "        \n",
    "        i2 += 1\n",
    "    #return updated all inputs so we can use further \n",
    "    return Type,No_of_variable,Type_of_variable,No_of_constraints,sign_of_constraints,c,A,b"
   ]
  },
  {
   "cell_type": "code",
   "execution_count": 3,
   "metadata": {
    "id": "lOYYSPBlmWAG"
   },
   "outputs": [],
   "source": [
    "# convert to dual\n",
    "\n",
    "def convert_to_Dual(\n",
    "    Type , No_of_variable , Type_of_variable ,\n",
    "    No_of_constraints , sign_of_constraints ,\n",
    "    c , A , b ):\n",
    "    \n",
    "    Dual_Type = \"min\"\n",
    "    No_of_variable_of_dual = No_of_constraints\n",
    "    Type_of_variable_of_dual = []\n",
    "    \n",
    "    # change inequality in dual\n",
    "    for i in range(No_of_constraints):\n",
    "        if sign_of_constraints[i]==\"<=\":\n",
    "            Type_of_variable_of_dual.append(\">=\")\n",
    "        else:\n",
    "            return print(\"Please first convert to standard form!\")\n",
    "    \n",
    "    No_of_constraints_of_dual = No_of_variable\n",
    "    sign_of_constraints_of_dual = []\n",
    "    for i in range(No_of_variable):\n",
    "        if Type_of_variable[i]==\">=\":\n",
    "            sign_of_constraints_of_dual.append(\">=\")\n",
    "            \n",
    "    Dual_c = b\n",
    "    Dual_A = A.T\n",
    "    Dual_b = c\n",
    "    \n",
    "    return Dual_Type,No_of_variable_of_dual,Type_of_variable_of_dual,No_of_constraints_of_dual,sign_of_constraints_of_dual,Dual_c,Dual_A,Dual_b"
   ]
  },
  {
   "cell_type": "code",
   "execution_count": 4,
   "metadata": {
    "id": "nbBGyicB7UcK"
   },
   "outputs": [],
   "source": [
    "def print_LPP(\n",
    "    P_or_D , Type,No_of_variable , Type_of_variable ,\n",
    "    No_of_constraints , sign_of_constraints ,\n",
    "    c , A , b):\n",
    "    \n",
    "    if P_or_D == 'Primal':\n",
    "        z = \"\"\n",
    "        \n",
    "        for i in range(No_of_variable):\n",
    "            z = z + \"{}*x{} + \".format(c[i],(i+1))\n",
    "        z = z[:-2]\n",
    "        print(Type,\"z =\",z)\n",
    "        print()\n",
    "        print(\"Subject to Constraints\")\n",
    "        \n",
    "        for i in range(No_of_constraints):\n",
    "            raw = \"\"\n",
    "            for j in range(No_of_variable):\n",
    "                raw = raw + \"{}*x{} + \".format(A[i][j],j+1)\n",
    "            raw = raw[:-2]\n",
    "            raw = raw + \" {} \".format(sign_of_constraints[i]) + \" {}\".format(b[i])\n",
    "            print(raw)\n",
    "            \n",
    "        print()\n",
    "        \n",
    "        for i in range(No_of_variable):\n",
    "            x = \"x{} \".format(i+1) + \"{}\".format(Type_of_variable[i])\n",
    "            if Type_of_variable[i]!=\"unrestricted\":\n",
    "                x += \" 0\"\n",
    "            print(x)\n",
    "            \n",
    "    else:\n",
    "        \n",
    "        w = \"\"\n",
    "        \n",
    "        for i in range(No_of_variable):\n",
    "              w = w + \"{}*y{} + \".format(c[i],(i+1))\n",
    "        w = w[:-2]\n",
    "        print(Type,\"w =\",w)\n",
    "        \n",
    "        print()\n",
    "        \n",
    "        print(\"Subject to Constraints\")\n",
    "        for i in range(No_of_constraints):\n",
    "            raw = \"\"\n",
    "            for j in range(No_of_variable):\n",
    "                raw = raw + \"{}*y{} + \".format(A[i][j],j+1)\n",
    "            raw = raw[:-2]\n",
    "            raw = raw + \" {} \".format(sign_of_constraints[i]) + \" {}\".format(b[i])\n",
    "            print(raw)\n",
    "            \n",
    "        print()\n",
    "        \n",
    "        for i in range(No_of_variable):\n",
    "            y = \"y{} \".format(i+1) + \"{}\".format(Type_of_variable[i])\n",
    "            if Type_of_variable[i]!=\"unrestricted\":\n",
    "                y += \" 0\"\n",
    "            print(y)\n",
    "            \n",
    "        print()\n",
    "        \n",
    "        Unrestricted_variables = []\n",
    "        n = No_of_variable\n",
    "        k = 0\n",
    "        \n",
    "        while k < n:\n",
    "            if (-c[k]) in c:\n",
    "                Unrestricted_variables.append(k)\n",
    "                Unrestricted_variables.append(c.index(-c[k]))\n",
    "                n -= 1\n",
    "            k += 1\n",
    "            \n",
    "        Unrestricted_variables = [str(ele+1) for ele in Unrestricted_variables]\n",
    "        print(\"Here {} are make total {} unrestricted variables and other are Non-Negative variable.\".format(','.join(Unrestricted_variables),int(len(Unrestricted_variables)/2)))"
   ]
  },
  {
   "cell_type": "code",
   "execution_count": 5,
   "metadata": {
    "colab": {
     "base_uri": "https://localhost:8080/"
    },
    "id": "z-_tAA3Uiejk",
    "outputId": "fb14bf72-0191-4319-f6d3-23f4a999c96a"
   },
   "outputs": [
    {
     "name": "stdout",
     "output_type": "stream",
     "text": [
      "Enter a type of objective function whether its max or min : max\n",
      "Enter number of variable : 3\n",
      "If xi >= ,<= , unrestricted then enter >= , <= and unrestricted respectivly. \n",
      "Enter the sign of variable 1 :<=\n",
      "Enter the sign of variable 2 :>=\n",
      "Enter the sign of variable 3 :unrestricted\n",
      "\n",
      "Enter the value c 1 : 4\n",
      "Enter the value c 2 : 6\n",
      "Enter the value c 3 : 10\n",
      "Enter number of constraints : 3\n",
      "Enter the sign of constrint 1 : <=\n",
      "Enter the sign of constrint 2 : >=\n",
      "Enter the sign of constrint 3 : =\n",
      "\n",
      "Enter Right side of constraints\n",
      "Enter value of b(right side) of constraint 1 : 7\n",
      "Enter value of b(right side) of constraint 2 : 3\n",
      "Enter value of b(right side) of constraint 3 : 7\n",
      "\n",
      "Enter coefficient of variables\n",
      "Enter the value of coefficient of variable 1 of row 1: 2\n",
      "Enter the value of coefficient of variable 2 of row 1: 5\n",
      "Enter the value of coefficient of variable 3 of row 1: 6\n",
      "Enter the value of coefficient of variable 1 of row 2: 24\n",
      "Enter the value of coefficient of variable 2 of row 2: 5\n",
      "Enter the value of coefficient of variable 3 of row 2: 9\n",
      "Enter the value of coefficient of variable 1 of row 3: 11\n",
      "Enter the value of coefficient of variable 2 of row 3: 4\n",
      "Enter the value of coefficient of variable 3 of row 3: 8\n"
     ]
    }
   ],
   "source": [
    "# for which type of objective function\n",
    "Type = input(\"Enter a type of objective function whether its max or min : \")\n",
    "\n",
    "# for how may xi's are present\n",
    "No_of_variable = int(input(\"Enter number of variable : \"))\n",
    "\n",
    "# for xi <= , >= , unrestricted\n",
    "print(\"If xi >= ,<= , unrestricted then enter >= , <= and unrestricted respectivly. \")\n",
    "\n",
    "Type_of_variable = []\n",
    "for i in range(No_of_variable):\n",
    "    Type_of_variable.append(input(\"Enter the sign of variable {} :\".format(i+1)))\n",
    "print()\n",
    "\n",
    "#for number of constraints\n",
    "\n",
    "c = []\n",
    "for i in range(No_of_variable):\n",
    "    c.append(float(input(\"Enter the value c {} : \".format(i+1))))\n",
    "No_of_constraints = int(input(\"Enter number of constraints : \"))\n",
    "\n",
    "#sign of constraints\n",
    "\n",
    "sign_of_constraints = []\n",
    "\n",
    "for i in range(No_of_constraints):\n",
    "    sign_of_constraints.append(input(\"Enter the sign of constrint {} : \".format(i+1)))\n",
    "b = []\n",
    "\n",
    "print()\n",
    "\n",
    "print(\"Enter Right side of constraints\")\n",
    "for i in range(No_of_constraints):\n",
    "    b.append(float(input(\"Enter value of b(right side) of constraint {} : \".format(i+1))))\n",
    "\n",
    "print()\n",
    "\n",
    "print(\"Enter coefficient of variables\")\n",
    "A = []\n",
    "\n",
    "for i in range(No_of_constraints):\n",
    "    row = []\n",
    "    for j in range(No_of_variable):\n",
    "        row.append(float(input(\"Enter the value of coefficient of variable {} of row {}: \".format(j+1,i+1))))\n",
    "    A.append(row)\n",
    "    \n",
    "A = np.array(A)"
   ]
  },
  {
   "cell_type": "code",
   "execution_count": 6,
   "metadata": {
    "id": "ijPprA6Om_bY"
   },
   "outputs": [],
   "source": [
    "A0 = A.copy()\n",
    "b0 = b.copy()\n",
    "c0 = c.copy()\n",
    "\n",
    "n = No_of_variable\n",
    "m = No_of_constraints\n",
    "\n",
    "T_v = Type_of_variable.copy()\n",
    "s_c = sign_of_constraints.copy()\n",
    "\n",
    "T = Type"
   ]
  },
  {
   "cell_type": "code",
   "execution_count": 7,
   "metadata": {
    "colab": {
     "base_uri": "https://localhost:8080/"
    },
    "id": "3lfRce2zdjfz",
    "outputId": "292a98d1-13f0-4c16-bc29-fad3c27a9c25"
   },
   "outputs": [
    {
     "name": "stdout",
     "output_type": "stream",
     "text": [
      "max z = 4.0*x1 + 6.0*x2 + 10.0*x3 \n",
      "\n",
      "Subject to Constraints\n",
      "2.0*x1 + 5.0*x2 + 6.0*x3  <=  7.0\n",
      "24.0*x1 + 5.0*x2 + 9.0*x3  >=  3.0\n",
      "11.0*x1 + 4.0*x2 + 8.0*x3  =  7.0\n",
      "\n",
      "x1 <= 0\n",
      "x2 >= 0\n",
      "x3 unrestricted\n"
     ]
    }
   ],
   "source": [
    "print_LPP(\"Primal\",T,n,T_v,m,s_c,c0,A0,b0)"
   ]
  },
  {
   "cell_type": "code",
   "execution_count": 8,
   "metadata": {
    "id": "X8-3-Y0JCNlK"
   },
   "outputs": [],
   "source": [
    "new_T,new_n,new_T_v,new_m,new_s_c,new_c0,new_A0,new_b0 = convert_to_standard_form(T,n,T_v,m,s_c,c0,A0,b0)"
   ]
  },
  {
   "cell_type": "code",
   "execution_count": 9,
   "metadata": {
    "colab": {
     "base_uri": "https://localhost:8080/"
    },
    "id": "8b-JhRWxFhop",
    "outputId": "94560664-efa5-467b-d43b-d7fabcdc0061"
   },
   "outputs": [
    {
     "name": "stdout",
     "output_type": "stream",
     "text": [
      "max z = -4.0*x1 + 6.0*x2 + 10.0*x3 + -10.0*x4 \n",
      "\n",
      "Subject to Constraints\n",
      "-2.0*x1 + 5.0*x2 + 6.0*x3 + -6.0*x4  <=  7.0\n",
      "24.0*x1 + -5.0*x2 + -9.0*x3 + 9.0*x4  <=  -3.0\n",
      "-11.0*x1 + 4.0*x2 + 8.0*x3 + -8.0*x4  <=  7.0\n",
      "11.0*x1 + -4.0*x2 + -8.0*x3 + 8.0*x4  <=  -7.0\n",
      "\n",
      "x1 >= 0\n",
      "x2 >= 0\n",
      "x3 >= 0\n",
      "x4 >= 0\n"
     ]
    }
   ],
   "source": [
    "print_LPP(\"Primal\",new_T,new_n,new_T_v,new_m,new_s_c,new_c0,new_A0,new_b0)"
   ]
  },
  {
   "cell_type": "code",
   "execution_count": 10,
   "metadata": {
    "id": "vVH81i-T2XNQ"
   },
   "outputs": [],
   "source": [
    "Dual_T,Dual_n,Dual_T_v,Dual_m,Dual_s_c,Dual_c0,Dual_A0,Dual_b0 = convert_to_Dual(new_T,new_n,new_T_v,new_m,new_s_c,new_c0,new_A0,new_b0)"
   ]
  },
  {
   "cell_type": "code",
   "execution_count": 11,
   "metadata": {
    "colab": {
     "base_uri": "https://localhost:8080/"
    },
    "id": "41inHqF1_UWS",
    "outputId": "6d6cb611-2f74-42d4-c76d-013b1106ccff",
    "scrolled": true
   },
   "outputs": [
    {
     "name": "stdout",
     "output_type": "stream",
     "text": [
      "min w = 7.0*y1 + -3.0*y2 + 7.0*y3 + -7.0*y4 \n",
      "\n",
      "Subject to Constraints\n",
      "-2.0*y1 + 24.0*y2 + -11.0*y3 + 11.0*y4  >=  -4.0\n",
      "5.0*y1 + -5.0*y2 + 4.0*y3 + -4.0*y4  >=  6.0\n",
      "6.0*y1 + -9.0*y2 + 8.0*y3 + -8.0*y4  >=  10.0\n",
      "-6.0*y1 + 9.0*y2 + -8.0*y3 + 8.0*y4  >=  -10.0\n",
      "\n",
      "y1 >= 0\n",
      "y2 >= 0\n",
      "y3 >= 0\n",
      "y4 >= 0\n",
      "\n",
      "Here 1,4,3,4 are make total 2 unrestricted variables and other are Non-Negative variable.\n"
     ]
    }
   ],
   "source": [
    "print_LPP(\"Dual\",Dual_T,Dual_n,Dual_T_v,Dual_m,Dual_s_c,Dual_c0,Dual_A0,Dual_b0)"
   ]
  }
 ],
 "metadata": {
  "colab": {
   "provenance": []
  },
  "kernelspec": {
   "display_name": "Python 3 (ipykernel)",
   "language": "python",
   "name": "python3"
  },
  "language_info": {
   "codemirror_mode": {
    "name": "ipython",
    "version": 3
   },
   "file_extension": ".py",
   "mimetype": "text/x-python",
   "name": "python",
   "nbconvert_exporter": "python",
   "pygments_lexer": "ipython3",
   "version": "3.9.12"
  }
 },
 "nbformat": 4,
 "nbformat_minor": 1
}
