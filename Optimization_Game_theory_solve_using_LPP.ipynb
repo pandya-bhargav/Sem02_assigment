{
  "nbformat": 4,
  "nbformat_minor": 0,
  "metadata": {
    "colab": {
      "provenance": []
    },
    "kernelspec": {
      "name": "python3",
      "display_name": "Python 3"
    },
    "language_info": {
      "name": "python"
    }
  },
  "cells": [
    {
      "cell_type": "markdown",
      "source": [
        "**Name : Bhargav Pandya** \n",
        "\n",
        "**Student Id: 202218055**"
      ],
      "metadata": {
        "id": "zN6P1m0LEjyw"
      }
    },
    {
      "cell_type": "markdown",
      "source": [
        "**Assignment - 07**"
      ],
      "metadata": {
        "id": "DS6kSvA_E4dk"
      }
    },
    {
      "cell_type": "code",
      "source": [
        "import numpy as np"
      ],
      "metadata": {
        "id": "0t7HJT7tJNln"
      },
      "execution_count": 1,
      "outputs": []
    },
    {
      "cell_type": "code",
      "source": [
        "A = [[ 3, -4,  2],\n",
        "     [ 1, -7, -3],\n",
        "     [-2,  4,  7]]"
      ],
      "metadata": {
        "id": "83d_fU5Cmzil"
      },
      "execution_count": 3,
      "outputs": []
    },
    {
      "cell_type": "code",
      "source": [
        "A = np.array(A)"
      ],
      "metadata": {
        "id": "OQ0s5YFFNZul"
      },
      "execution_count": 4,
      "outputs": []
    },
    {
      "cell_type": "code",
      "source": [
        "print(\"Payoff Matrix A :\\n\", A)"
      ],
      "metadata": {
        "colab": {
          "base_uri": "https://localhost:8080/",
          "height": 0
        },
        "id": "dcwhD4WSMH9b",
        "outputId": "eeadfe59-8373-4312-a380-cf6cb7658f11"
      },
      "execution_count": 5,
      "outputs": [
        {
          "output_type": "stream",
          "name": "stdout",
          "text": [
            "Payoff Matrix A :\n",
            " [[ 3 -4  2]\n",
            " [ 1 -7 -3]\n",
            " [-2  4  7]]\n"
          ]
        }
      ]
    },
    {
      "cell_type": "markdown",
      "source": [
        "formulate the game as a linear programming problem"
      ],
      "metadata": {
        "id": "gpxcm69Rb9KX"
      }
    },
    {
      "cell_type": "code",
      "source": [
        "def convert_LPP(A):\n",
        "    k = abs(A.flatten().min()) + 1 #we add k = minimum numberof payoff +1 , for value of game > 0\n",
        "    A1 = A + k\n",
        "    B = A1.T\n",
        " \n",
        "    # Formulation for Max u\n",
        "    print('-' * 40)\n",
        "    print('Max u')\n",
        "    print('Subject to')\n",
        "    for i in range(B.shape[0]):\n",
        "        row = ''\n",
        "        for j in range(len(B[0])):\n",
        "            row = row + '({})x{} + '.format(B[i][j], j+1)\n",
        "        row = row[:-2]\n",
        "        row = row + '>= u'\n",
        "        print(row)\n",
        "    row1 = ''\n",
        "    for k in range(len(B[0])):\n",
        "        row1 = row1 + 'x{} + '.format(k+1)\n",
        "    row1 = row1[:-2]\n",
        "    row1 = row1 + '= 1'\n",
        "    print(row1)\n",
        "    print('xi >= 0')\n",
        "    print('-' * 40)\n",
        "\n",
        "    # Formulation for min v\n",
        "    print('Min v')\n",
        "    print('Subject to')\n",
        "    for i in range(A1.shape[0]):\n",
        "        row = ''\n",
        "        for j in range(len(A1[0])):\n",
        "            row = row + '({})y{} + '.format(A1[i][j], j+1)\n",
        "        row = row[:-2]\n",
        "        row = row + '<= v'\n",
        "        print(row)\n",
        "    row1 = ''\n",
        "    for k in range(len(A1[0])):\n",
        "        row1 = row1 + 'y{} + '.format(k+1)\n",
        "    row1 = row1[:-2]\n",
        "    row1 = row1 + '= 1'\n",
        "    print(row1)\n",
        "    print('yi >= 0')\n",
        "    print('-' * 40)"
      ],
      "metadata": {
        "id": "KFNV2leuRpcN"
      },
      "execution_count": 6,
      "outputs": []
    },
    {
      "cell_type": "code",
      "source": [
        "convert_LPP(A)"
      ],
      "metadata": {
        "colab": {
          "base_uri": "https://localhost:8080/",
          "height": 0
        },
        "id": "Mje5wu7VRwYd",
        "outputId": "32447538-1dd0-4324-becd-a30083511974"
      },
      "execution_count": 7,
      "outputs": [
        {
          "output_type": "stream",
          "name": "stdout",
          "text": [
            "----------------------------------------\n",
            "Max u\n",
            "Subject to\n",
            "(11)x1 + (9)x2 + (6)x3 >= u\n",
            "(4)x1 + (1)x2 + (12)x3 >= u\n",
            "(10)x1 + (5)x2 + (15)x3 >= u\n",
            "x1 + x2 + x3 = 1\n",
            "xi >= 0\n",
            "----------------------------------------\n",
            "Min v\n",
            "Subject to\n",
            "(11)y1 + (4)y2 + (10)y3 <= v\n",
            "(9)y1 + (1)y2 + (5)y3 <= v\n",
            "(6)y1 + (12)y2 + (15)y3 <= v\n",
            "y1 + y2 + y3 = 1\n",
            "yi >= 0\n",
            "----------------------------------------\n"
          ]
        }
      ]
    },
    {
      "cell_type": "markdown",
      "source": [
        "Solve a linear programming problem using Python."
      ],
      "metadata": {
        "id": "HQtgVPmkcNWP"
      }
    },
    {
      "cell_type": "code",
      "source": [
        "#Function for calculating zj\n",
        "def Zj(A, t, b):\n",
        "  s = 0\n",
        "  for j in range(len(b)):\n",
        "    s = s + b[j]*A[j][t]\n",
        "  return s"
      ],
      "metadata": {
        "id": "G9MVWUlQWA43"
      },
      "execution_count": 8,
      "outputs": []
    },
    {
      "cell_type": "code",
      "source": [
        "n,m = A.shape"
      ],
      "metadata": {
        "id": "aSDzucxhnTyd"
      },
      "execution_count": 12,
      "outputs": []
    },
    {
      "cell_type": "code",
      "source": [
        "#Function for finding minimum\n",
        "def Min(array, m_type = ' '):\n",
        "  k = 0\n",
        "  if m_type == 'zj_cj':\n",
        "    min = 0\n",
        "    for i in range(len(array)):\n",
        "      if array[i] < min:\n",
        "        min = array[i]\n",
        "        k = i\n",
        "    return min, k\n",
        "\n",
        "  else:\n",
        "    min = 987654321\n",
        "    for i in range(len(array)):\n",
        "      if array[i] < min and array[i] > 0:\n",
        "        min = array[i]\n",
        "        k = i\n",
        "    return min, k"
      ],
      "metadata": {
        "id": "_yWphH0cH6mC"
      },
      "execution_count": 13,
      "outputs": []
    },
    {
      "cell_type": "code",
      "source": [
        "#Function to implements LPP method to solve mxn game \n",
        "def Value_of_game(A,n,m):\n",
        "  \n",
        "  k = abs(A.flatten().min()) + 1 #we add k = minimum numberof payoff +1 , for value of game > 0\n",
        "  A = A + k\n",
        "  I = np.identity(n)\n",
        "  A = np.column_stack((A, I))\n",
        "  A = A.tolist()\n",
        "\n",
        "  x = [1, 1, 1] # Solution matrix\n",
        "  b = [0] * n  #Cost of basic variable\n",
        "  c = ([1] * m) + b  #Cost of the objective  \n",
        "\n",
        "  var = ['B'+str(i+1) for i in range(m)] + ['A'+str(i+1) for i in range(n)] # Stores the name of the variables\n",
        "  basic_Var = var[len(var)-n : ]\n",
        "\n",
        "  dic = {i: 0 for i in var}\n",
        "\n",
        "  while True: \n",
        "    minRatio = []\n",
        "    zj_cj = []\n",
        "    for i in range(m+n):\n",
        "      zj_cj.append(Zj(A, i, b) - c[i])\n",
        "    \n",
        "    if all(x >=0 for x in zj_cj):\n",
        "      gv = 0\n",
        "      for i in var[:m]:\n",
        "        gv += dic[i]\n",
        "      gv = 1 / gv\n",
        "      zj_cj = [i*gv for i in zj_cj]\n",
        "      b = [i*gv for i in b]\n",
        "\n",
        "      a = []\n",
        "      for i, j in zip(var[m:], zj_cj[m:]):\n",
        "        a.append(round(j, 2))\n",
        "      print('Optimal strategy of player A is ',a)\n",
        "\n",
        "      b = []\n",
        "      for i in var[:m]:\n",
        "        b.append(round(dic[i]*gv, 2))\n",
        "      print('Optimal strategy of player B is ',b)  \n",
        "     \n",
        "      gv = gv - k   \n",
        "      print('\\nValue Of game: ', round(gv,2))\n",
        "      break\n",
        "    \n",
        "    #Find the key column \n",
        "    min_zj, pos_zj = Min(zj_cj, m_type = 'zj_cj')\n",
        "    \n",
        "    #Calculate min ratio\n",
        "    for i in range(len(A)):\n",
        "      minRatio.append((x[i] / A[i][pos_zj]) if A[i][pos_zj] != 0 else 0)\n",
        "    \n",
        "    #Find the key row\n",
        "    min_r, pos_r = Min(minRatio)\n",
        "\n",
        "    if min_r == np.inf: #check for unbounded region\n",
        "      print('Unbounded')\n",
        "      break\n",
        "\n",
        "    pivot = A[pos_r][pos_zj]\n",
        "\n",
        "    A[pos_r] = [i/pivot for i in A[pos_r]]\n",
        "    x[pos_r] = x[pos_r]/pivot\n",
        "\n",
        "    for i in range(n):\n",
        "      if i != pos_r:\n",
        "        fact = A[i][pos_zj]\n",
        "        A[i] = [A[i][j] - fact*A[pos_r][j]\n",
        "                for j in range(len(var))]\n",
        "        x[i] = x[i] - fact*x[pos_r]\n",
        "\n",
        "    #change leaving variable with entering variable\n",
        "    basic_Var[pos_r] = var[pos_zj]\n",
        "    b[pos_r] = c[pos_zj]\n",
        "\n",
        "    for i in dic.keys():\n",
        "      if i in basic_Var:\n",
        "        dic[i] = x[basic_Var.index(i)]\n",
        "      else:\n",
        "        dic[i] = 0"
      ],
      "metadata": {
        "id": "nyUcgZVtJS9b"
      },
      "execution_count": 14,
      "outputs": []
    },
    {
      "cell_type": "code",
      "source": [
        "Value_of_game(A,n,m)"
      ],
      "metadata": {
        "colab": {
          "base_uri": "https://localhost:8080/",
          "height": 0
        },
        "id": "XvaMB38ZRFGS",
        "outputId": "8d9b7ce7-b331-4b15-eff8-bbaa7cde9199"
      },
      "execution_count": 15,
      "outputs": [
        {
          "output_type": "stream",
          "name": "stdout",
          "text": [
            "Optimal strategy of player A is  [0.46, 0.0, 0.54]\n",
            "Optimal strategy of player B is  [0.62, 0.38, 0.0]\n",
            "\n",
            "Value Of game:  0.31\n"
          ]
        }
      ]
    },
    {
      "cell_type": "code",
      "source": [],
      "metadata": {
        "id": "FaVj9NtXcXP4"
      },
      "execution_count": null,
      "outputs": []
    }
  ]
}