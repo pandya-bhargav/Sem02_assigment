{
 "cells": [
  {
   "attachments": {},
   "cell_type": "markdown",
   "metadata": {},
   "source": [
    "# NumPy:"
   ]
  },
  {
   "cell_type": "code",
   "execution_count": 1,
   "metadata": {},
   "outputs": [],
   "source": [
    "import numpy as np"
   ]
  },
  {
   "attachments": {},
   "cell_type": "markdown",
   "metadata": {},
   "source": [
    "1. Create a 1x7 Numpy array whose elements consist of a geometric progression with a = 1 & r = 3."
   ]
  },
  {
   "cell_type": "code",
   "execution_count": 2,
   "metadata": {},
   "outputs": [
    {
     "name": "stdout",
     "output_type": "stream",
     "text": [
      "[  1   3   9  27  81 243 729]\n"
     ]
    }
   ],
   "source": [
    "a = 1\n",
    "r = 3\n",
    "gp_array = np.array(a)\n",
    "\n",
    "for i in np.arange(1,7):\n",
    "    gp_array = np.append(gp_array, a*(r**i))\n",
    "\n",
    "print(gp_array)"
   ]
  },
  {
   "attachments": {},
   "cell_type": "markdown",
   "metadata": {},
   "source": [
    "2. Transform each of the element of the below matrix according to the below equation\n",
    "\n",
    "    if x is an element in input matrix, output matrix should have $1/(x^2 + 1)$ in its place\n",
    "\n",
    "mat = [[1,2,3],[4,5,6]]"
   ]
  },
  {
   "cell_type": "code",
   "execution_count": 3,
   "metadata": {},
   "outputs": [
    {
     "name": "stdout",
     "output_type": "stream",
     "text": [
      "[[0.5        0.2        0.1       ]\n",
      " [0.05882353 0.03846154 0.02702703]]\n"
     ]
    }
   ],
   "source": [
    "input = np.array([[1,2,3],[4,5,6]])\n",
    "\n",
    "output = 1/((input**2)+1)\n",
    "\n",
    "print(output)"
   ]
  },
  {
   "attachments": {},
   "cell_type": "markdown",
   "metadata": {},
   "source": [
    "3. Make a 5x5 NumPy array of all zeros and use indexing and broadcasting to modify it such that all the elements not on the border are 1"
   ]
  },
  {
   "cell_type": "code",
   "execution_count": 4,
   "metadata": {},
   "outputs": [
    {
     "name": "stdout",
     "output_type": "stream",
     "text": [
      "[[0. 0. 0. 0. 0.]\n",
      " [0. 1. 1. 1. 0.]\n",
      " [0. 1. 1. 1. 0.]\n",
      " [0. 1. 1. 1. 0.]\n",
      " [0. 0. 0. 0. 0.]]\n"
     ]
    }
   ],
   "source": [
    "q3_array = np.zeros((5,5))\n",
    "\n",
    "q3_array[1:4,1:4] = 1\n",
    "\n",
    "print(q3_array)"
   ]
  },
  {
   "attachments": {},
   "cell_type": "markdown",
   "metadata": {},
   "source": [
    "4. using numpy, instantiate 13x13 zeros matrix then modify it to make the below matrix:\n",
    ">\n",
    "    [[0,0,0,0,0,0,0,0,0,0,0,0,0]\n",
    "    [0,1,1,1,1,1,1,1,1,1,1,1,0]\n",
    "    [0,1,2,2,2,2,2,2,2,2,2,1,0]\n",
    "    [0,1,2,3,3,3,3,3,3,3,2,1,0]\n",
    "    [0,1,2,3,4,4,4,4,4,3,2,1,0]\n",
    "    [0,1,2,3,4,5,5,5,4,3,2,1,0]\n",
    "    [0,1,2,3,4,5,6,5,4,3,2,1,0]\n",
    "    [0,1,2,3,4,5,5,5,4,3,2,1,0]\n",
    "    [0,1,2,3,4,4,4,4,4,3,2,1,0]\n",
    "    [0,1,2,3,3,3,3,3,3,3,2,1,0]\n",
    "    [0,1,2,2,2,2,2,2,2,2,2,1,0]\n",
    "    [0,1,1,1,1,1,1,1,1,1,1,1,0]\n",
    "    [0,0,0,0,0,0,0,0,0,0,0,0,0]]"
   ]
  },
  {
   "cell_type": "code",
   "execution_count": 5,
   "metadata": {},
   "outputs": [
    {
     "name": "stdout",
     "output_type": "stream",
     "text": [
      "[[0. 0. 0. 0. 0. 0. 0. 0. 0. 0. 0. 0. 0.]\n",
      " [0. 1. 1. 1. 1. 1. 1. 1. 1. 1. 1. 1. 0.]\n",
      " [0. 1. 2. 2. 2. 2. 2. 2. 2. 2. 2. 1. 0.]\n",
      " [0. 1. 2. 3. 3. 3. 3. 3. 3. 3. 2. 1. 0.]\n",
      " [0. 1. 2. 3. 4. 4. 4. 4. 4. 3. 2. 1. 0.]\n",
      " [0. 1. 2. 3. 4. 5. 5. 5. 4. 3. 2. 1. 0.]\n",
      " [0. 1. 2. 3. 4. 5. 6. 5. 4. 3. 2. 1. 0.]\n",
      " [0. 1. 2. 3. 4. 5. 5. 5. 4. 3. 2. 1. 0.]\n",
      " [0. 1. 2. 3. 4. 4. 4. 4. 4. 3. 2. 1. 0.]\n",
      " [0. 1. 2. 3. 3. 3. 3. 3. 3. 3. 2. 1. 0.]\n",
      " [0. 1. 2. 2. 2. 2. 2. 2. 2. 2. 2. 1. 0.]\n",
      " [0. 1. 1. 1. 1. 1. 1. 1. 1. 1. 1. 1. 0.]\n",
      " [0. 0. 0. 0. 0. 0. 0. 0. 0. 0. 0. 0. 0.]]\n"
     ]
    }
   ],
   "source": [
    "q4_array = np.zeros((13,13))\n",
    "m,n = q4_array.shape\n",
    "for i in np.arange(7):\n",
    "    q4_array[i:m-i,i:n-i] = i\n",
    "\n",
    "print(q4_array)\n"
   ]
  },
  {
   "attachments": {},
   "cell_type": "markdown",
   "metadata": {},
   "source": [
    "5. make a 3 dimensional array of shape 3,3,3 having values 1-27 in sequence\n",
    "1) Slice this matrix to contain only second and third rows, first and second columns. \\\\\n",
    "2) Output a two dimensional matrix as shown below \\\\\n",
    "[[0,3,6],[9,12,15],[18,21,14]]"
   ]
  },
  {
   "cell_type": "code",
   "execution_count": 6,
   "metadata": {},
   "outputs": [
    {
     "name": "stdout",
     "output_type": "stream",
     "text": [
      "[[[ 1  2  3]\n",
      "  [ 4  5  6]\n",
      "  [ 7  8  9]]\n",
      "\n",
      " [[10 11 12]\n",
      "  [13 14 15]\n",
      "  [16 17 18]]\n",
      "\n",
      " [[19 20 21]\n",
      "  [22 23 24]\n",
      "  [25 26 27]]] \n",
      "\n",
      "[[[ 4  5]\n",
      "  [ 7  8]]\n",
      "\n",
      " [[13 14]\n",
      "  [16 17]]\n",
      "\n",
      " [[22 23]\n",
      "  [25 26]]] \n",
      "\n",
      "[[ 0  3  6]\n",
      " [ 9 12 15]\n",
      " [18 21 24]]\n"
     ]
    }
   ],
   "source": [
    "q5_array = np.arange(1,28).reshape(3,3,3)\n",
    "print(q5_array,\"\\n\")\n",
    "\n",
    "print(q5_array[:,1:,:2],\"\\n\")\n",
    "\n",
    "output = q5_array[:,:,0]-1\n",
    "\n",
    "print(output)\n",
    "\n"
   ]
  },
  {
   "attachments": {},
   "cell_type": "markdown",
   "metadata": {},
   "source": [
    "6. Make a 2 dimensional array of size 3,3 having values 1-9 in sequence and modify it such that even values remains unchanged but odd values are changed to zero "
   ]
  },
  {
   "cell_type": "code",
   "execution_count": 7,
   "metadata": {},
   "outputs": [
    {
     "name": "stdout",
     "output_type": "stream",
     "text": [
      "[[0 2 0]\n",
      " [4 0 6]\n",
      " [0 8 0]]\n"
     ]
    }
   ],
   "source": [
    "q6_array = np.arange(1,10).reshape(3,3)\n",
    "m,n = q6_array.shape\n",
    "for i in np.arange(m):\n",
    "    for j in np.arange(n):\n",
    "        if q6_array[i,j]%2!=0:\n",
    "            q6_array[i,j] = 0\n",
    "\n",
    "print(q6_array) \n"
   ]
  },
  {
   "attachments": {},
   "cell_type": "markdown",
   "metadata": {},
   "source": [
    "7. Make a 2 dimensional array of size 8,4 having values 1-32 in sequence. use list indexing to output all the even elements in the matrix"
   ]
  },
  {
   "cell_type": "code",
   "execution_count": 8,
   "metadata": {},
   "outputs": [
    {
     "data": {
      "text/plain": [
       "array([[ 2,  4],\n",
       "       [ 6,  8],\n",
       "       [10, 12],\n",
       "       [14, 16],\n",
       "       [18, 20],\n",
       "       [22, 24],\n",
       "       [26, 28],\n",
       "       [30, 32]])"
      ]
     },
     "execution_count": 8,
     "metadata": {},
     "output_type": "execute_result"
    }
   ],
   "source": [
    "q7_array = np.arange(1,33).reshape(8,4)\n",
    "\n",
    "q7_array[:,[1,3]]"
   ]
  },
  {
   "attachments": {},
   "cell_type": "markdown",
   "metadata": {},
   "source": [
    "8. Make matrix1 as a 2 dimensional array of size 3,3 having value 0-8 in sequence. make matrix2 as a 2 dimensional array of size 3,3 having values 1-9 in sequence. use masking and conditional logic to replace all the odd elements of matrix A with even elements of matrix B\n"
   ]
  },
  {
   "cell_type": "code",
   "execution_count": 9,
   "metadata": {},
   "outputs": [
    {
     "name": "stdout",
     "output_type": "stream",
     "text": [
      "[[0 2 2]\n",
      " [4 4 6]\n",
      " [6 8 8]]\n"
     ]
    }
   ],
   "source": [
    "q8_array1 = np.arange(9).reshape(3,3)\n",
    "q8_array2 = np.arange(1,10).reshape(3,3)\n",
    "\n",
    "mask1 = q8_array1%2!=0\n",
    "\n",
    "for i in np.arange(3):\n",
    "    for j in np.arange(3):\n",
    "        if mask1[i,j]:\n",
    "            q8_array1[i,j] = q8_array2[i,j]\n",
    "\n",
    "print(q8_array1)"
   ]
  },
  {
   "attachments": {},
   "cell_type": "markdown",
   "metadata": {},
   "source": [
    "9. solve for x and y using numpy \\\\\n",
    "2x + 5y = 20 \\\\\n",
    "3x + 6y = 12"
   ]
  },
  {
   "cell_type": "code",
   "execution_count": 10,
   "metadata": {},
   "outputs": [
    {
     "name": "stdout",
     "output_type": "stream",
     "text": [
      "x:  -20.0 \ty:  12.0\n"
     ]
    }
   ],
   "source": [
    "A = np.array([[2,5],[3,6]])\n",
    "b = np.array([20,12])\n",
    " \n",
    "#Ax = b ---> x = A^-1 b\n",
    "\n",
    "x,y = np.dot(np.linalg.inv(A),b)\n",
    "\n",
    "print(\"x: \",x,\"\\ty: \",y)"
   ]
  },
  {
   "attachments": {},
   "cell_type": "markdown",
   "metadata": {},
   "source": [
    "# Pandas:"
   ]
  },
  {
   "cell_type": "code",
   "execution_count": 11,
   "metadata": {},
   "outputs": [],
   "source": [
    "import pandas as pd"
   ]
  },
  {
   "attachments": {},
   "cell_type": "markdown",
   "metadata": {},
   "source": [
    "1. Download iris dataset from kaggle. It contains 6 columns and 150 rows of 3 different sepcies of flowers."
   ]
  },
  {
   "cell_type": "code",
   "execution_count": 12,
   "metadata": {},
   "outputs": [
    {
     "data": {
      "text/html": [
       "<div>\n",
       "<style scoped>\n",
       "    .dataframe tbody tr th:only-of-type {\n",
       "        vertical-align: middle;\n",
       "    }\n",
       "\n",
       "    .dataframe tbody tr th {\n",
       "        vertical-align: top;\n",
       "    }\n",
       "\n",
       "    .dataframe thead th {\n",
       "        text-align: right;\n",
       "    }\n",
       "</style>\n",
       "<table border=\"1\" class=\"dataframe\">\n",
       "  <thead>\n",
       "    <tr style=\"text-align: right;\">\n",
       "      <th></th>\n",
       "      <th>Id</th>\n",
       "      <th>SepalLengthCm</th>\n",
       "      <th>SepalWidthCm</th>\n",
       "      <th>PetalLengthCm</th>\n",
       "      <th>PetalWidthCm</th>\n",
       "      <th>Species</th>\n",
       "    </tr>\n",
       "  </thead>\n",
       "  <tbody>\n",
       "    <tr>\n",
       "      <th>0</th>\n",
       "      <td>1</td>\n",
       "      <td>5.1</td>\n",
       "      <td>3.5</td>\n",
       "      <td>1.4</td>\n",
       "      <td>0.2</td>\n",
       "      <td>Iris-setosa</td>\n",
       "    </tr>\n",
       "    <tr>\n",
       "      <th>1</th>\n",
       "      <td>2</td>\n",
       "      <td>4.9</td>\n",
       "      <td>3.0</td>\n",
       "      <td>1.4</td>\n",
       "      <td>0.2</td>\n",
       "      <td>Iris-setosa</td>\n",
       "    </tr>\n",
       "    <tr>\n",
       "      <th>2</th>\n",
       "      <td>3</td>\n",
       "      <td>4.7</td>\n",
       "      <td>3.2</td>\n",
       "      <td>1.3</td>\n",
       "      <td>0.2</td>\n",
       "      <td>Iris-setosa</td>\n",
       "    </tr>\n",
       "    <tr>\n",
       "      <th>3</th>\n",
       "      <td>4</td>\n",
       "      <td>4.6</td>\n",
       "      <td>3.1</td>\n",
       "      <td>1.5</td>\n",
       "      <td>0.2</td>\n",
       "      <td>Iris-setosa</td>\n",
       "    </tr>\n",
       "    <tr>\n",
       "      <th>4</th>\n",
       "      <td>5</td>\n",
       "      <td>5.0</td>\n",
       "      <td>3.6</td>\n",
       "      <td>1.4</td>\n",
       "      <td>0.2</td>\n",
       "      <td>Iris-setosa</td>\n",
       "    </tr>\n",
       "    <tr>\n",
       "      <th>...</th>\n",
       "      <td>...</td>\n",
       "      <td>...</td>\n",
       "      <td>...</td>\n",
       "      <td>...</td>\n",
       "      <td>...</td>\n",
       "      <td>...</td>\n",
       "    </tr>\n",
       "    <tr>\n",
       "      <th>145</th>\n",
       "      <td>146</td>\n",
       "      <td>6.7</td>\n",
       "      <td>3.0</td>\n",
       "      <td>5.2</td>\n",
       "      <td>2.3</td>\n",
       "      <td>Iris-virginica</td>\n",
       "    </tr>\n",
       "    <tr>\n",
       "      <th>146</th>\n",
       "      <td>147</td>\n",
       "      <td>6.3</td>\n",
       "      <td>2.5</td>\n",
       "      <td>5.0</td>\n",
       "      <td>1.9</td>\n",
       "      <td>Iris-virginica</td>\n",
       "    </tr>\n",
       "    <tr>\n",
       "      <th>147</th>\n",
       "      <td>148</td>\n",
       "      <td>6.5</td>\n",
       "      <td>3.0</td>\n",
       "      <td>5.2</td>\n",
       "      <td>2.0</td>\n",
       "      <td>Iris-virginica</td>\n",
       "    </tr>\n",
       "    <tr>\n",
       "      <th>148</th>\n",
       "      <td>149</td>\n",
       "      <td>6.2</td>\n",
       "      <td>3.4</td>\n",
       "      <td>5.4</td>\n",
       "      <td>2.3</td>\n",
       "      <td>Iris-virginica</td>\n",
       "    </tr>\n",
       "    <tr>\n",
       "      <th>149</th>\n",
       "      <td>150</td>\n",
       "      <td>5.9</td>\n",
       "      <td>3.0</td>\n",
       "      <td>5.1</td>\n",
       "      <td>1.8</td>\n",
       "      <td>Iris-virginica</td>\n",
       "    </tr>\n",
       "  </tbody>\n",
       "</table>\n",
       "<p>150 rows × 6 columns</p>\n",
       "</div>"
      ],
      "text/plain": [
       "      Id  SepalLengthCm  SepalWidthCm  PetalLengthCm  PetalWidthCm  \\\n",
       "0      1            5.1           3.5            1.4           0.2   \n",
       "1      2            4.9           3.0            1.4           0.2   \n",
       "2      3            4.7           3.2            1.3           0.2   \n",
       "3      4            4.6           3.1            1.5           0.2   \n",
       "4      5            5.0           3.6            1.4           0.2   \n",
       "..   ...            ...           ...            ...           ...   \n",
       "145  146            6.7           3.0            5.2           2.3   \n",
       "146  147            6.3           2.5            5.0           1.9   \n",
       "147  148            6.5           3.0            5.2           2.0   \n",
       "148  149            6.2           3.4            5.4           2.3   \n",
       "149  150            5.9           3.0            5.1           1.8   \n",
       "\n",
       "            Species  \n",
       "0       Iris-setosa  \n",
       "1       Iris-setosa  \n",
       "2       Iris-setosa  \n",
       "3       Iris-setosa  \n",
       "4       Iris-setosa  \n",
       "..              ...  \n",
       "145  Iris-virginica  \n",
       "146  Iris-virginica  \n",
       "147  Iris-virginica  \n",
       "148  Iris-virginica  \n",
       "149  Iris-virginica  \n",
       "\n",
       "[150 rows x 6 columns]"
      ]
     },
     "execution_count": 12,
     "metadata": {},
     "output_type": "execute_result"
    }
   ],
   "source": [
    "df = pd.read_csv('Iris.csv')\n",
    "\n",
    "df"
   ]
  },
  {
   "attachments": {},
   "cell_type": "markdown",
   "metadata": {},
   "source": [
    "2. Make a dataframe of the csv file. After that, make three dataframes, containing 50 rows each for all the three different species."
   ]
  },
  {
   "cell_type": "code",
   "execution_count": 13,
   "metadata": {},
   "outputs": [],
   "source": [
    "df1 = df.iloc[:50,:]\n",
    "df2 = df.iloc[50:100,:]\n",
    "df3 = df.iloc[100:,:]"
   ]
  },
  {
   "attachments": {},
   "cell_type": "markdown",
   "metadata": {},
   "source": [
    "3. Build a new dataframe, \"train_df\" containing 40 rows from each of the three species dataframes. Hence containing 120 rows."
   ]
  },
  {
   "cell_type": "code",
   "execution_count": 14,
   "metadata": {},
   "outputs": [
    {
     "data": {
      "text/html": [
       "<div>\n",
       "<style scoped>\n",
       "    .dataframe tbody tr th:only-of-type {\n",
       "        vertical-align: middle;\n",
       "    }\n",
       "\n",
       "    .dataframe tbody tr th {\n",
       "        vertical-align: top;\n",
       "    }\n",
       "\n",
       "    .dataframe thead th {\n",
       "        text-align: right;\n",
       "    }\n",
       "</style>\n",
       "<table border=\"1\" class=\"dataframe\">\n",
       "  <thead>\n",
       "    <tr style=\"text-align: right;\">\n",
       "      <th></th>\n",
       "      <th>index</th>\n",
       "      <th>Id</th>\n",
       "      <th>SepalLengthCm</th>\n",
       "      <th>SepalWidthCm</th>\n",
       "      <th>PetalLengthCm</th>\n",
       "      <th>PetalWidthCm</th>\n",
       "      <th>Species</th>\n",
       "    </tr>\n",
       "  </thead>\n",
       "  <tbody>\n",
       "    <tr>\n",
       "      <th>0</th>\n",
       "      <td>0</td>\n",
       "      <td>1</td>\n",
       "      <td>5.1</td>\n",
       "      <td>3.5</td>\n",
       "      <td>1.4</td>\n",
       "      <td>0.2</td>\n",
       "      <td>Iris-setosa</td>\n",
       "    </tr>\n",
       "    <tr>\n",
       "      <th>1</th>\n",
       "      <td>1</td>\n",
       "      <td>2</td>\n",
       "      <td>4.9</td>\n",
       "      <td>3.0</td>\n",
       "      <td>1.4</td>\n",
       "      <td>0.2</td>\n",
       "      <td>Iris-setosa</td>\n",
       "    </tr>\n",
       "    <tr>\n",
       "      <th>2</th>\n",
       "      <td>2</td>\n",
       "      <td>3</td>\n",
       "      <td>4.7</td>\n",
       "      <td>3.2</td>\n",
       "      <td>1.3</td>\n",
       "      <td>0.2</td>\n",
       "      <td>Iris-setosa</td>\n",
       "    </tr>\n",
       "    <tr>\n",
       "      <th>3</th>\n",
       "      <td>3</td>\n",
       "      <td>4</td>\n",
       "      <td>4.6</td>\n",
       "      <td>3.1</td>\n",
       "      <td>1.5</td>\n",
       "      <td>0.2</td>\n",
       "      <td>Iris-setosa</td>\n",
       "    </tr>\n",
       "    <tr>\n",
       "      <th>4</th>\n",
       "      <td>4</td>\n",
       "      <td>5</td>\n",
       "      <td>5.0</td>\n",
       "      <td>3.6</td>\n",
       "      <td>1.4</td>\n",
       "      <td>0.2</td>\n",
       "      <td>Iris-setosa</td>\n",
       "    </tr>\n",
       "    <tr>\n",
       "      <th>...</th>\n",
       "      <td>...</td>\n",
       "      <td>...</td>\n",
       "      <td>...</td>\n",
       "      <td>...</td>\n",
       "      <td>...</td>\n",
       "      <td>...</td>\n",
       "      <td>...</td>\n",
       "    </tr>\n",
       "    <tr>\n",
       "      <th>115</th>\n",
       "      <td>135</td>\n",
       "      <td>136</td>\n",
       "      <td>7.7</td>\n",
       "      <td>3.0</td>\n",
       "      <td>6.1</td>\n",
       "      <td>2.3</td>\n",
       "      <td>Iris-virginica</td>\n",
       "    </tr>\n",
       "    <tr>\n",
       "      <th>116</th>\n",
       "      <td>136</td>\n",
       "      <td>137</td>\n",
       "      <td>6.3</td>\n",
       "      <td>3.4</td>\n",
       "      <td>5.6</td>\n",
       "      <td>2.4</td>\n",
       "      <td>Iris-virginica</td>\n",
       "    </tr>\n",
       "    <tr>\n",
       "      <th>117</th>\n",
       "      <td>137</td>\n",
       "      <td>138</td>\n",
       "      <td>6.4</td>\n",
       "      <td>3.1</td>\n",
       "      <td>5.5</td>\n",
       "      <td>1.8</td>\n",
       "      <td>Iris-virginica</td>\n",
       "    </tr>\n",
       "    <tr>\n",
       "      <th>118</th>\n",
       "      <td>138</td>\n",
       "      <td>139</td>\n",
       "      <td>6.0</td>\n",
       "      <td>3.0</td>\n",
       "      <td>4.8</td>\n",
       "      <td>1.8</td>\n",
       "      <td>Iris-virginica</td>\n",
       "    </tr>\n",
       "    <tr>\n",
       "      <th>119</th>\n",
       "      <td>139</td>\n",
       "      <td>140</td>\n",
       "      <td>6.9</td>\n",
       "      <td>3.1</td>\n",
       "      <td>5.4</td>\n",
       "      <td>2.1</td>\n",
       "      <td>Iris-virginica</td>\n",
       "    </tr>\n",
       "  </tbody>\n",
       "</table>\n",
       "<p>120 rows × 7 columns</p>\n",
       "</div>"
      ],
      "text/plain": [
       "     index   Id  SepalLengthCm  SepalWidthCm  PetalLengthCm  PetalWidthCm  \\\n",
       "0        0    1            5.1           3.5            1.4           0.2   \n",
       "1        1    2            4.9           3.0            1.4           0.2   \n",
       "2        2    3            4.7           3.2            1.3           0.2   \n",
       "3        3    4            4.6           3.1            1.5           0.2   \n",
       "4        4    5            5.0           3.6            1.4           0.2   \n",
       "..     ...  ...            ...           ...            ...           ...   \n",
       "115    135  136            7.7           3.0            6.1           2.3   \n",
       "116    136  137            6.3           3.4            5.6           2.4   \n",
       "117    137  138            6.4           3.1            5.5           1.8   \n",
       "118    138  139            6.0           3.0            4.8           1.8   \n",
       "119    139  140            6.9           3.1            5.4           2.1   \n",
       "\n",
       "            Species  \n",
       "0       Iris-setosa  \n",
       "1       Iris-setosa  \n",
       "2       Iris-setosa  \n",
       "3       Iris-setosa  \n",
       "4       Iris-setosa  \n",
       "..              ...  \n",
       "115  Iris-virginica  \n",
       "116  Iris-virginica  \n",
       "117  Iris-virginica  \n",
       "118  Iris-virginica  \n",
       "119  Iris-virginica  \n",
       "\n",
       "[120 rows x 7 columns]"
      ]
     },
     "execution_count": 14,
     "metadata": {},
     "output_type": "execute_result"
    }
   ],
   "source": [
    "train_df1 = df1.iloc[:40,:]\n",
    "train_df2 = df2.iloc[:40,:]\n",
    "train_df3 = df3.iloc[:40,:]\n",
    "\n",
    "train_df = pd.concat([train_df1,train_df2,train_df3])\n",
    "\n",
    "train_df.reset_index(inplace=True)\n",
    "\n",
    "train_df"
   ]
  },
  {
   "attachments": {},
   "cell_type": "markdown",
   "metadata": {},
   "source": [
    "4. similarly build another dataframe, \"test_df\" containing the rest 10 rows from each of the three species dataframes. Hence containing 30 rows."
   ]
  },
  {
   "cell_type": "code",
   "execution_count": 15,
   "metadata": {},
   "outputs": [
    {
     "data": {
      "text/html": [
       "<div>\n",
       "<style scoped>\n",
       "    .dataframe tbody tr th:only-of-type {\n",
       "        vertical-align: middle;\n",
       "    }\n",
       "\n",
       "    .dataframe tbody tr th {\n",
       "        vertical-align: top;\n",
       "    }\n",
       "\n",
       "    .dataframe thead th {\n",
       "        text-align: right;\n",
       "    }\n",
       "</style>\n",
       "<table border=\"1\" class=\"dataframe\">\n",
       "  <thead>\n",
       "    <tr style=\"text-align: right;\">\n",
       "      <th></th>\n",
       "      <th>index</th>\n",
       "      <th>Id</th>\n",
       "      <th>SepalLengthCm</th>\n",
       "      <th>SepalWidthCm</th>\n",
       "      <th>PetalLengthCm</th>\n",
       "      <th>PetalWidthCm</th>\n",
       "      <th>Species</th>\n",
       "    </tr>\n",
       "  </thead>\n",
       "  <tbody>\n",
       "    <tr>\n",
       "      <th>0</th>\n",
       "      <td>40</td>\n",
       "      <td>41</td>\n",
       "      <td>5.0</td>\n",
       "      <td>3.5</td>\n",
       "      <td>1.3</td>\n",
       "      <td>0.3</td>\n",
       "      <td>Iris-setosa</td>\n",
       "    </tr>\n",
       "    <tr>\n",
       "      <th>1</th>\n",
       "      <td>41</td>\n",
       "      <td>42</td>\n",
       "      <td>4.5</td>\n",
       "      <td>2.3</td>\n",
       "      <td>1.3</td>\n",
       "      <td>0.3</td>\n",
       "      <td>Iris-setosa</td>\n",
       "    </tr>\n",
       "    <tr>\n",
       "      <th>2</th>\n",
       "      <td>42</td>\n",
       "      <td>43</td>\n",
       "      <td>4.4</td>\n",
       "      <td>3.2</td>\n",
       "      <td>1.3</td>\n",
       "      <td>0.2</td>\n",
       "      <td>Iris-setosa</td>\n",
       "    </tr>\n",
       "    <tr>\n",
       "      <th>3</th>\n",
       "      <td>43</td>\n",
       "      <td>44</td>\n",
       "      <td>5.0</td>\n",
       "      <td>3.5</td>\n",
       "      <td>1.6</td>\n",
       "      <td>0.6</td>\n",
       "      <td>Iris-setosa</td>\n",
       "    </tr>\n",
       "    <tr>\n",
       "      <th>4</th>\n",
       "      <td>44</td>\n",
       "      <td>45</td>\n",
       "      <td>5.1</td>\n",
       "      <td>3.8</td>\n",
       "      <td>1.9</td>\n",
       "      <td>0.4</td>\n",
       "      <td>Iris-setosa</td>\n",
       "    </tr>\n",
       "    <tr>\n",
       "      <th>5</th>\n",
       "      <td>45</td>\n",
       "      <td>46</td>\n",
       "      <td>4.8</td>\n",
       "      <td>3.0</td>\n",
       "      <td>1.4</td>\n",
       "      <td>0.3</td>\n",
       "      <td>Iris-setosa</td>\n",
       "    </tr>\n",
       "    <tr>\n",
       "      <th>6</th>\n",
       "      <td>46</td>\n",
       "      <td>47</td>\n",
       "      <td>5.1</td>\n",
       "      <td>3.8</td>\n",
       "      <td>1.6</td>\n",
       "      <td>0.2</td>\n",
       "      <td>Iris-setosa</td>\n",
       "    </tr>\n",
       "    <tr>\n",
       "      <th>7</th>\n",
       "      <td>47</td>\n",
       "      <td>48</td>\n",
       "      <td>4.6</td>\n",
       "      <td>3.2</td>\n",
       "      <td>1.4</td>\n",
       "      <td>0.2</td>\n",
       "      <td>Iris-setosa</td>\n",
       "    </tr>\n",
       "    <tr>\n",
       "      <th>8</th>\n",
       "      <td>48</td>\n",
       "      <td>49</td>\n",
       "      <td>5.3</td>\n",
       "      <td>3.7</td>\n",
       "      <td>1.5</td>\n",
       "      <td>0.2</td>\n",
       "      <td>Iris-setosa</td>\n",
       "    </tr>\n",
       "    <tr>\n",
       "      <th>9</th>\n",
       "      <td>49</td>\n",
       "      <td>50</td>\n",
       "      <td>5.0</td>\n",
       "      <td>3.3</td>\n",
       "      <td>1.4</td>\n",
       "      <td>0.2</td>\n",
       "      <td>Iris-setosa</td>\n",
       "    </tr>\n",
       "    <tr>\n",
       "      <th>10</th>\n",
       "      <td>90</td>\n",
       "      <td>91</td>\n",
       "      <td>5.5</td>\n",
       "      <td>2.6</td>\n",
       "      <td>4.4</td>\n",
       "      <td>1.2</td>\n",
       "      <td>Iris-versicolor</td>\n",
       "    </tr>\n",
       "    <tr>\n",
       "      <th>11</th>\n",
       "      <td>91</td>\n",
       "      <td>92</td>\n",
       "      <td>6.1</td>\n",
       "      <td>3.0</td>\n",
       "      <td>4.6</td>\n",
       "      <td>1.4</td>\n",
       "      <td>Iris-versicolor</td>\n",
       "    </tr>\n",
       "    <tr>\n",
       "      <th>12</th>\n",
       "      <td>92</td>\n",
       "      <td>93</td>\n",
       "      <td>5.8</td>\n",
       "      <td>2.6</td>\n",
       "      <td>4.0</td>\n",
       "      <td>1.2</td>\n",
       "      <td>Iris-versicolor</td>\n",
       "    </tr>\n",
       "    <tr>\n",
       "      <th>13</th>\n",
       "      <td>93</td>\n",
       "      <td>94</td>\n",
       "      <td>5.0</td>\n",
       "      <td>2.3</td>\n",
       "      <td>3.3</td>\n",
       "      <td>1.0</td>\n",
       "      <td>Iris-versicolor</td>\n",
       "    </tr>\n",
       "    <tr>\n",
       "      <th>14</th>\n",
       "      <td>94</td>\n",
       "      <td>95</td>\n",
       "      <td>5.6</td>\n",
       "      <td>2.7</td>\n",
       "      <td>4.2</td>\n",
       "      <td>1.3</td>\n",
       "      <td>Iris-versicolor</td>\n",
       "    </tr>\n",
       "    <tr>\n",
       "      <th>15</th>\n",
       "      <td>95</td>\n",
       "      <td>96</td>\n",
       "      <td>5.7</td>\n",
       "      <td>3.0</td>\n",
       "      <td>4.2</td>\n",
       "      <td>1.2</td>\n",
       "      <td>Iris-versicolor</td>\n",
       "    </tr>\n",
       "    <tr>\n",
       "      <th>16</th>\n",
       "      <td>96</td>\n",
       "      <td>97</td>\n",
       "      <td>5.7</td>\n",
       "      <td>2.9</td>\n",
       "      <td>4.2</td>\n",
       "      <td>1.3</td>\n",
       "      <td>Iris-versicolor</td>\n",
       "    </tr>\n",
       "    <tr>\n",
       "      <th>17</th>\n",
       "      <td>97</td>\n",
       "      <td>98</td>\n",
       "      <td>6.2</td>\n",
       "      <td>2.9</td>\n",
       "      <td>4.3</td>\n",
       "      <td>1.3</td>\n",
       "      <td>Iris-versicolor</td>\n",
       "    </tr>\n",
       "    <tr>\n",
       "      <th>18</th>\n",
       "      <td>98</td>\n",
       "      <td>99</td>\n",
       "      <td>5.1</td>\n",
       "      <td>2.5</td>\n",
       "      <td>3.0</td>\n",
       "      <td>1.1</td>\n",
       "      <td>Iris-versicolor</td>\n",
       "    </tr>\n",
       "    <tr>\n",
       "      <th>19</th>\n",
       "      <td>99</td>\n",
       "      <td>100</td>\n",
       "      <td>5.7</td>\n",
       "      <td>2.8</td>\n",
       "      <td>4.1</td>\n",
       "      <td>1.3</td>\n",
       "      <td>Iris-versicolor</td>\n",
       "    </tr>\n",
       "    <tr>\n",
       "      <th>20</th>\n",
       "      <td>140</td>\n",
       "      <td>141</td>\n",
       "      <td>6.7</td>\n",
       "      <td>3.1</td>\n",
       "      <td>5.6</td>\n",
       "      <td>2.4</td>\n",
       "      <td>Iris-virginica</td>\n",
       "    </tr>\n",
       "    <tr>\n",
       "      <th>21</th>\n",
       "      <td>141</td>\n",
       "      <td>142</td>\n",
       "      <td>6.9</td>\n",
       "      <td>3.1</td>\n",
       "      <td>5.1</td>\n",
       "      <td>2.3</td>\n",
       "      <td>Iris-virginica</td>\n",
       "    </tr>\n",
       "    <tr>\n",
       "      <th>22</th>\n",
       "      <td>142</td>\n",
       "      <td>143</td>\n",
       "      <td>5.8</td>\n",
       "      <td>2.7</td>\n",
       "      <td>5.1</td>\n",
       "      <td>1.9</td>\n",
       "      <td>Iris-virginica</td>\n",
       "    </tr>\n",
       "    <tr>\n",
       "      <th>23</th>\n",
       "      <td>143</td>\n",
       "      <td>144</td>\n",
       "      <td>6.8</td>\n",
       "      <td>3.2</td>\n",
       "      <td>5.9</td>\n",
       "      <td>2.3</td>\n",
       "      <td>Iris-virginica</td>\n",
       "    </tr>\n",
       "    <tr>\n",
       "      <th>24</th>\n",
       "      <td>144</td>\n",
       "      <td>145</td>\n",
       "      <td>6.7</td>\n",
       "      <td>3.3</td>\n",
       "      <td>5.7</td>\n",
       "      <td>2.5</td>\n",
       "      <td>Iris-virginica</td>\n",
       "    </tr>\n",
       "    <tr>\n",
       "      <th>25</th>\n",
       "      <td>145</td>\n",
       "      <td>146</td>\n",
       "      <td>6.7</td>\n",
       "      <td>3.0</td>\n",
       "      <td>5.2</td>\n",
       "      <td>2.3</td>\n",
       "      <td>Iris-virginica</td>\n",
       "    </tr>\n",
       "    <tr>\n",
       "      <th>26</th>\n",
       "      <td>146</td>\n",
       "      <td>147</td>\n",
       "      <td>6.3</td>\n",
       "      <td>2.5</td>\n",
       "      <td>5.0</td>\n",
       "      <td>1.9</td>\n",
       "      <td>Iris-virginica</td>\n",
       "    </tr>\n",
       "    <tr>\n",
       "      <th>27</th>\n",
       "      <td>147</td>\n",
       "      <td>148</td>\n",
       "      <td>6.5</td>\n",
       "      <td>3.0</td>\n",
       "      <td>5.2</td>\n",
       "      <td>2.0</td>\n",
       "      <td>Iris-virginica</td>\n",
       "    </tr>\n",
       "    <tr>\n",
       "      <th>28</th>\n",
       "      <td>148</td>\n",
       "      <td>149</td>\n",
       "      <td>6.2</td>\n",
       "      <td>3.4</td>\n",
       "      <td>5.4</td>\n",
       "      <td>2.3</td>\n",
       "      <td>Iris-virginica</td>\n",
       "    </tr>\n",
       "    <tr>\n",
       "      <th>29</th>\n",
       "      <td>149</td>\n",
       "      <td>150</td>\n",
       "      <td>5.9</td>\n",
       "      <td>3.0</td>\n",
       "      <td>5.1</td>\n",
       "      <td>1.8</td>\n",
       "      <td>Iris-virginica</td>\n",
       "    </tr>\n",
       "  </tbody>\n",
       "</table>\n",
       "</div>"
      ],
      "text/plain": [
       "    index   Id  SepalLengthCm  SepalWidthCm  PetalLengthCm  PetalWidthCm  \\\n",
       "0      40   41            5.0           3.5            1.3           0.3   \n",
       "1      41   42            4.5           2.3            1.3           0.3   \n",
       "2      42   43            4.4           3.2            1.3           0.2   \n",
       "3      43   44            5.0           3.5            1.6           0.6   \n",
       "4      44   45            5.1           3.8            1.9           0.4   \n",
       "5      45   46            4.8           3.0            1.4           0.3   \n",
       "6      46   47            5.1           3.8            1.6           0.2   \n",
       "7      47   48            4.6           3.2            1.4           0.2   \n",
       "8      48   49            5.3           3.7            1.5           0.2   \n",
       "9      49   50            5.0           3.3            1.4           0.2   \n",
       "10     90   91            5.5           2.6            4.4           1.2   \n",
       "11     91   92            6.1           3.0            4.6           1.4   \n",
       "12     92   93            5.8           2.6            4.0           1.2   \n",
       "13     93   94            5.0           2.3            3.3           1.0   \n",
       "14     94   95            5.6           2.7            4.2           1.3   \n",
       "15     95   96            5.7           3.0            4.2           1.2   \n",
       "16     96   97            5.7           2.9            4.2           1.3   \n",
       "17     97   98            6.2           2.9            4.3           1.3   \n",
       "18     98   99            5.1           2.5            3.0           1.1   \n",
       "19     99  100            5.7           2.8            4.1           1.3   \n",
       "20    140  141            6.7           3.1            5.6           2.4   \n",
       "21    141  142            6.9           3.1            5.1           2.3   \n",
       "22    142  143            5.8           2.7            5.1           1.9   \n",
       "23    143  144            6.8           3.2            5.9           2.3   \n",
       "24    144  145            6.7           3.3            5.7           2.5   \n",
       "25    145  146            6.7           3.0            5.2           2.3   \n",
       "26    146  147            6.3           2.5            5.0           1.9   \n",
       "27    147  148            6.5           3.0            5.2           2.0   \n",
       "28    148  149            6.2           3.4            5.4           2.3   \n",
       "29    149  150            5.9           3.0            5.1           1.8   \n",
       "\n",
       "            Species  \n",
       "0       Iris-setosa  \n",
       "1       Iris-setosa  \n",
       "2       Iris-setosa  \n",
       "3       Iris-setosa  \n",
       "4       Iris-setosa  \n",
       "5       Iris-setosa  \n",
       "6       Iris-setosa  \n",
       "7       Iris-setosa  \n",
       "8       Iris-setosa  \n",
       "9       Iris-setosa  \n",
       "10  Iris-versicolor  \n",
       "11  Iris-versicolor  \n",
       "12  Iris-versicolor  \n",
       "13  Iris-versicolor  \n",
       "14  Iris-versicolor  \n",
       "15  Iris-versicolor  \n",
       "16  Iris-versicolor  \n",
       "17  Iris-versicolor  \n",
       "18  Iris-versicolor  \n",
       "19  Iris-versicolor  \n",
       "20   Iris-virginica  \n",
       "21   Iris-virginica  \n",
       "22   Iris-virginica  \n",
       "23   Iris-virginica  \n",
       "24   Iris-virginica  \n",
       "25   Iris-virginica  \n",
       "26   Iris-virginica  \n",
       "27   Iris-virginica  \n",
       "28   Iris-virginica  \n",
       "29   Iris-virginica  "
      ]
     },
     "execution_count": 15,
     "metadata": {},
     "output_type": "execute_result"
    }
   ],
   "source": [
    "test_df1 = df1.iloc[40:,:]\n",
    "test_df2 = df2.iloc[40:,:]\n",
    "test_df3 = df3.iloc[40:,:]\n",
    "\n",
    "test_df = pd.concat([test_df1,test_df2,test_df3])\n",
    "test_df.reset_index(inplace=True)\n",
    "\n",
    "test_df\n"
   ]
  },
  {
   "attachments": {},
   "cell_type": "markdown",
   "metadata": {},
   "source": [
    "5. Check for any NaN or missing values in the dataframes. If present, replace them with 0 if the column type is numeric, else replace with \"missing\"."
   ]
  },
  {
   "cell_type": "code",
   "execution_count": 16,
   "metadata": {},
   "outputs": [
    {
     "data": {
      "text/plain": [
       "index            0\n",
       "Id               0\n",
       "SepalLengthCm    0\n",
       "SepalWidthCm     0\n",
       "PetalLengthCm    0\n",
       "PetalWidthCm     0\n",
       "Species          0\n",
       "dtype: int64"
      ]
     },
     "execution_count": 16,
     "metadata": {},
     "output_type": "execute_result"
    }
   ],
   "source": [
    "train_df.isna().sum()\n",
    "\n",
    "test_df.isna().sum()"
   ]
  },
  {
   "attachments": {},
   "cell_type": "markdown",
   "metadata": {},
   "source": [
    "6. Display the column types in the dataframe"
   ]
  },
  {
   "cell_type": "code",
   "execution_count": 17,
   "metadata": {},
   "outputs": [
    {
     "data": {
      "text/plain": [
       "Id                 int64\n",
       "SepalLengthCm    float64\n",
       "SepalWidthCm     float64\n",
       "PetalLengthCm    float64\n",
       "PetalWidthCm     float64\n",
       "Species           object\n",
       "dtype: object"
      ]
     },
     "execution_count": 17,
     "metadata": {},
     "output_type": "execute_result"
    }
   ],
   "source": [
    "df.dtypes"
   ]
  },
  {
   "attachments": {},
   "cell_type": "markdown",
   "metadata": {},
   "source": [
    "7. without using any inbuilt numpy or pandas functions, compute the mean, mode, median, variance, standard deviation, max, min of each numerical column in both train and test dataframes."
   ]
  },
  {
   "cell_type": "code",
   "execution_count": 45,
   "metadata": {},
   "outputs": [],
   "source": [
    "def mean_finder(arr):\n",
    "  sum = 0\n",
    "  for i in range(len(arr)):\n",
    "    sum += arr[i]\n",
    "  return sum/len(arr)\n",
    "\n",
    "def median_finder(arr):\n",
    "  arr.sort()\n",
    "  return arr[len(arr)//2]\n",
    "\n",
    "def var_finder(arr):\n",
    "  mean = mean_finder(arr)\n",
    "  sum = 0\n",
    "  for i in range(len(arr)):\n",
    "    sum += (arr[i] - mean)**2\n",
    "  return sum/len(arr)\n",
    "\n",
    "def sd_finder(arr):\n",
    "  var = var_finder(arr)\n",
    "  return var**(0.5)\n",
    "\n",
    "def min_finder(arr):\n",
    "  arr.sort()\n",
    "  return arr[0]\n",
    "\n",
    "def max_finder(arr):\n",
    "  arr.sort()\n",
    "  return arr[-1]\n",
    "\n",
    "def mode_finder(i):\n",
    "    i.sort()\n",
    "    l=[]\n",
    "    j = 0\n",
    "    while j < len(i) :\n",
    "      l.append(i.count(i[j]))\n",
    "      j += 1\n",
    "    d1 = dict(zip(i, l))\n",
    "    d2={k for (k,v) in d1.items() if v == max(l) }\n",
    "\n",
    "    return d2"
   ]
  },
  {
   "attachments": {},
   "cell_type": "markdown",
   "metadata": {},
   "source": [
    "##### mean:"
   ]
  },
  {
   "cell_type": "code",
   "execution_count": 36,
   "metadata": {},
   "outputs": [
    {
     "name": "stdout",
     "output_type": "stream",
     "text": [
      "mean of train_df SepalLengthCm:  5.8900000000000015\n",
      "mean of test_df SepalLengthCm:  5.656666666666666\n",
      "\n",
      "mean of train_df SepalWidthCm:  3.0600000000000014\n",
      "mean of test_df SepalWidthCm:  3.0300000000000002\n",
      "\n",
      "mean of train_df PetalLengthCm:  3.7958333333333347\n",
      "mean of test_df PetalLengthCm:  3.6100000000000003\n",
      "\n",
      "mean of train_df PetalWidthCm:  1.1908333333333334\n",
      "mean of test_df PetalWidthCm:  1.2299999999999998\n",
      "\n"
     ]
    }
   ],
   "source": [
    "columns = ['SepalLengthCm', 'SepalWidthCm', 'PetalLengthCm', 'PetalWidthCm']\n",
    "\n",
    "for i in columns:\n",
    "    print(f\"mean of train_df {i}: \", mean_finder(train_df[i]))\n",
    "    print(f\"mean of test_df {i}: \", mean_finder(test_df[i]))\n",
    "    print()\n"
   ]
  },
  {
   "attachments": {},
   "cell_type": "markdown",
   "metadata": {},
   "source": [
    "##### median:"
   ]
  },
  {
   "cell_type": "code",
   "execution_count": 39,
   "metadata": {},
   "outputs": [
    {
     "name": "stdout",
     "output_type": "stream",
     "text": [
      "median of train_df SepalLengthCm:  5.8\n",
      "median of test_df SepalLengthCm:  5.7\n",
      "\n",
      "median of train_df SepalWidthCm:  3.0\n",
      "median of test_df SepalWidthCm:  3.0\n",
      "\n",
      "median of train_df PetalLengthCm:  4.5\n",
      "median of test_df PetalLengthCm:  4.2\n",
      "\n",
      "median of train_df PetalWidthCm:  1.4\n",
      "median of test_df PetalWidthCm:  1.3\n",
      "\n"
     ]
    }
   ],
   "source": [
    "for i in columns:\n",
    "    print(f\"median of train_df {i}: \", median_finder(list(train_df[i])))\n",
    "    print(f\"median of test_df {i}: \", median_finder(list(test_df[i])))\n",
    "    print()"
   ]
  },
  {
   "attachments": {},
   "cell_type": "markdown",
   "metadata": {},
   "source": [
    "##### mode:"
   ]
  },
  {
   "cell_type": "code",
   "execution_count": 46,
   "metadata": {},
   "outputs": [
    {
     "name": "stdout",
     "output_type": "stream",
     "text": [
      "mode of train_df SepalLengthCm:  {6.3}\n",
      "mode of test_df  SepalLengthCm:  {5.0}\n",
      "\n",
      "mode of train_df SepalWidthCm:  {3.0}\n",
      "mode of test_df  SepalWidthCm:  {3.0}\n",
      "\n",
      "mode of train_df PetalLengthCm:  {1.5}\n",
      "mode of test_df  PetalLengthCm:  {1.3, 4.2, 5.1, 1.4}\n",
      "\n",
      "mode of train_df PetalWidthCm:  {0.2}\n",
      "mode of test_df  PetalWidthCm:  {0.2}\n",
      "\n"
     ]
    }
   ],
   "source": [
    "for i in columns:\n",
    "    print(f\"mode of train_df {i}: \", mode_finder(list(train_df[i])))\n",
    "    print(f\"mode of test_df  {i}: \", mode_finder(list(test_df [i])))\n",
    "    print()\n"
   ]
  },
  {
   "attachments": {},
   "cell_type": "markdown",
   "metadata": {},
   "source": [
    "##### variance:"
   ]
  },
  {
   "cell_type": "code",
   "execution_count": 40,
   "metadata": {},
   "outputs": [
    {
     "name": "stdout",
     "output_type": "stream",
     "text": [
      "variance of train_df SepalLengthCm:  0.7095666666666662\n",
      "variance of test_df SepalLengthCm:  0.523788888888889\n",
      "\n",
      "variance of train_df SepalWidthCm:  0.19356666666666672\n",
      "variance of test_df SepalWidthCm:  0.15876666666666667\n",
      "\n",
      "variance of train_df PetalLengthCm:  3.187565972222224\n",
      "variance of test_df PetalLengthCm:  2.6842333333333337\n",
      "\n",
      "variance of train_df PetalWidthCm:  0.5688326388888888\n",
      "variance of test_df PetalWidthCm:  0.6160999999999996\n",
      "\n"
     ]
    }
   ],
   "source": [
    "for i in columns:\n",
    "    print(f\"variance of train_df {i}: \", var_finder(train_df[i]))\n",
    "    print(f\"variance of test_df {i}: \", var_finder(test_df[i]))\n",
    "    print()"
   ]
  },
  {
   "attachments": {},
   "cell_type": "markdown",
   "metadata": {},
   "source": [
    "##### Std Deviation:"
   ]
  },
  {
   "cell_type": "code",
   "execution_count": 47,
   "metadata": {},
   "outputs": [
    {
     "name": "stdout",
     "output_type": "stream",
     "text": [
      "Std Deviation of train_df SepalLengthCm:  0.8423578020453459\n",
      "Std Deviation of test_df SepalLengthCm:  0.7237326086952894\n",
      "\n",
      "Std Deviation of train_df SepalWidthCm:  0.4399621195815234\n",
      "Std Deviation of test_df SepalWidthCm:  0.3984553509073089\n",
      "\n",
      "Std Deviation of train_df PetalLengthCm:  1.7853755829578895\n",
      "Std Deviation of test_df PetalLengthCm:  1.6383630041395996\n",
      "\n",
      "Std Deviation of train_df PetalWidthCm:  0.7542099435096894\n",
      "Std Deviation of test_df PetalWidthCm:  0.784920378127616\n",
      "\n"
     ]
    }
   ],
   "source": [
    "for i in columns:\n",
    "    print(f\"Std Deviation of train_df {i}: \", sd_finder(train_df[i]))\n",
    "    print(f\"Std Deviation of test_df {i}: \", sd_finder(test_df[i]))\n",
    "    print()"
   ]
  },
  {
   "cell_type": "markdown",
   "metadata": {},
   "source": [
    "##### min and max:"
   ]
  },
  {
   "cell_type": "code",
   "execution_count": 48,
   "metadata": {},
   "outputs": [
    {
     "name": "stdout",
     "output_type": "stream",
     "text": [
      "max of train_df SepalLengthCm:  7.9\n",
      "max of test_df SepalLengthCm:  6.9\n",
      "min of train_df SepalLengthCm:  4.3\n",
      "min of test_df SepalLengthCm:  4.4\n",
      "\n",
      "max of train_df SepalWidthCm:  4.4\n",
      "max of test_df SepalWidthCm:  3.8\n",
      "min of train_df SepalWidthCm:  2.0\n",
      "min of test_df SepalWidthCm:  2.3\n",
      "\n",
      "max of train_df PetalLengthCm:  6.9\n",
      "max of test_df PetalLengthCm:  5.9\n",
      "min of train_df PetalLengthCm:  1.0\n",
      "min of test_df PetalLengthCm:  1.3\n",
      "\n",
      "max of train_df PetalWidthCm:  2.5\n",
      "max of test_df PetalWidthCm:  2.5\n",
      "min of train_df PetalWidthCm:  0.1\n",
      "min of test_df PetalWidthCm:  0.2\n",
      "\n"
     ]
    }
   ],
   "source": [
    "for i in columns:\n",
    "    print(f\"max of train_df {i}: \", max_finder(list(train_df[i])))\n",
    "    print(f\"max of test_df {i}: \", max_finder(list(test_df[i])))\n",
    "    print(f\"min of train_df {i}: \", min_finder(list(train_df[i])))\n",
    "    print(f\"min of test_df {i}: \", min_finder(list(test_df[i])))\n",
    "    print()\n",
    "    "
   ]
  },
  {
   "attachments": {},
   "cell_type": "markdown",
   "metadata": {},
   "source": [
    "8. Without using any inbuilt numpy or pandas function, compute the correlation between each pair of columns (neglect ID and species column) in both train and test dataframes"
   ]
  },
  {
   "cell_type": "code",
   "execution_count": 29,
   "metadata": {},
   "outputs": [
    {
     "name": "stdout",
     "output_type": "stream",
     "text": [
      "correlation of SepalLengthCm & SepalLengthCm:  1.0000000000000004\n",
      "correlation of SepalLengthCm & SepalWidthCm:  -0.1278987951503491\n",
      "correlation of SepalLengthCm & PetalLengthCm:  0.8662056208850377\n",
      "correlation of SepalLengthCm & PetalWidthCm:  0.8057556192200062\n",
      "\n",
      "correlation of SepalWidthCm & SepalLengthCm:  -0.1278987951503491\n",
      "correlation of SepalWidthCm & SepalWidthCm:  1.0\n",
      "correlation of SepalWidthCm & PetalLengthCm:  -0.44727485077762297\n",
      "correlation of SepalWidthCm & PetalWidthCm:  -0.386851891258837\n",
      "\n",
      "correlation of PetalLengthCm & SepalLengthCm:  0.8662056208850377\n",
      "correlation of PetalLengthCm & SepalWidthCm:  -0.44727485077762297\n",
      "correlation of PetalLengthCm & PetalLengthCm:  0.9999999999999997\n",
      "correlation of PetalLengthCm & PetalWidthCm:  0.96571266323835\n",
      "\n",
      "correlation of PetalWidthCm & SepalLengthCm:  0.8057556192200062\n",
      "correlation of PetalWidthCm & SepalWidthCm:  -0.386851891258837\n",
      "correlation of PetalWidthCm & PetalLengthCm:  0.96571266323835\n",
      "correlation of PetalWidthCm & PetalWidthCm:  1.0000000000000007\n",
      "\n"
     ]
    }
   ],
   "source": [
    "def corr_finder(arr1,arr2):\n",
    "  m1 = mean_finder(arr1)\n",
    "  s1 = sd_finder(arr1)\n",
    "  m2 = mean_finder(arr2)\n",
    "  s2 = sd_finder(arr2)\n",
    "  sum = 0\n",
    "  if len(arr1) != len(arr2):\n",
    "    print(\"Error :: Length of arrays are not same\")\n",
    "    return\n",
    "  for i in range(len(arr1)):\n",
    "    sum += ((arr1[i] - m1)*(arr2[i] - m2))/(s1*s2*len(arr1))\n",
    "  return sum\n",
    "\n",
    "\n",
    "for i in range(len(columns)):\n",
    "    for j in range(len(columns)):\n",
    "      print(f\"correlation of {columns[i]} & {columns[j]}: \", corr_finder(train_df[columns[i]],train_df[columns[j]]))\n",
    "    print()\n"
   ]
  },
  {
   "attachments": {},
   "cell_type": "markdown",
   "metadata": {},
   "source": [
    "9. In train dataset, take the two columns having the highest correlation and fit a line between them using the linear regression class of sklearn. For Example, suppose SepalLength and SepalWidth has highest correlation, then you have to predict SepalLength, given SepalWidth (this is nothing but 2D LinearRegression). After that, Plot the line alongwith the corresponding SepalLength and SepalWidth Values from the test_df dataframe."
   ]
  },
  {
   "cell_type": "code",
   "execution_count": 27,
   "metadata": {},
   "outputs": [],
   "source": [
    "from sklearn.linear_model import LinearRegression\n",
    "import matplotlib.pyplot as plt\n",
    "model = LinearRegression()"
   ]
  },
  {
   "cell_type": "code",
   "execution_count": 30,
   "metadata": {},
   "outputs": [
    {
     "name": "stdout",
     "output_type": "stream",
     "text": [
      "Slope is:  [[2.28604757]]\n",
      "intercept is:  [1.07353168]\n"
     ]
    },
    {
     "data": {
      "text/plain": [
       "Text(0, 0.5, 'Petal Length in Cm')"
      ]
     },
     "execution_count": 30,
     "metadata": {},
     "output_type": "execute_result"
    },
    {
     "data": {
      "image/png": "[encoded data removed]",
      "text/plain": [
       "<Figure size 640x480 with 1 Axes>"
      ]
     },
     "metadata": {},
     "output_type": "display_data"
    }
   ],
   "source": [
    "# Petal Length and Petal Width has the highest Correlation\n",
    "c1 = np.array(train_df['PetalLengthCm']).reshape(-1,1)\n",
    "c2 = np.array(train_df['PetalWidthCm']).reshape(-1,1)\n",
    "\n",
    "model.fit(c2,c1)\n",
    "print(\"Slope is: \",model.coef_)\n",
    "print(\"intercept is: \",model.intercept_)\n",
    "\n",
    "pred_y = 2.286*c2 + 1.0735\n",
    "\n",
    "plt.scatter(c2,c1)\n",
    "plt.plot(c2,pred_y,color='red')\n",
    "plt.title('Training DataSet')\n",
    "plt.xlabel('Petal Width in Cm')\n",
    "plt.ylabel('Petal Length in Cm')"
   ]
  },
  {
   "attachments": {},
   "cell_type": "markdown",
   "metadata": {},
   "source": [
    "10. Predict the value of SepalLength for every 30 values of SepalWidth in the test_df dataframe using the predicted line."
   ]
  },
  {
   "cell_type": "code",
   "execution_count": 31,
   "metadata": {},
   "outputs": [
    {
     "data": {
      "text/plain": [
       "<matplotlib.legend.Legend at 0x21622510a60>"
      ]
     },
     "execution_count": 31,
     "metadata": {},
     "output_type": "execute_result"
    },
    {
     "data": {
      "image/png": "[encoded data removed]",
      "text/plain": [
       "<Figure size 640x480 with 1 Axes>"
      ]
     },
     "metadata": {},
     "output_type": "display_data"
    }
   ],
   "source": [
    "y_test = 2.286*np.array(test_df['PetalWidthCm']) + 1.0735\n",
    "plt.scatter(np.array(test_df['PetalWidthCm']),np.array(test_df['PetalLengthCm']))\n",
    "x = np.linspace(0,3,100)\n",
    "plt.plot(x,2.286*x+1.0735,color='red')\n",
    "plt.scatter(np.array(test_df['PetalWidthCm']),y_test,color='green')\n",
    "plt.legend(['Test Data','Regression Line','Predicted value for test data'])"
   ]
  },
  {
   "attachments": {},
   "cell_type": "markdown",
   "metadata": {},
   "source": [
    "11. Compute the Mean squared error between the predictions and real sepalLengh"
   ]
  },
  {
   "cell_type": "code",
   "execution_count": 32,
   "metadata": {},
   "outputs": [
    {
     "name": "stdout",
     "output_type": "stream",
     "text": [
      "MSE for train_df is:  [0.21483893]\n",
      "MSE for test_df is:  0.2964769273333333\n"
     ]
    }
   ],
   "source": [
    "print(\"MSE for train_df is: \",sum((pred_y-c1)**2/len(pred_y)))\n",
    "print(\"MSE for test_df is: \",sum((y_test-np.array(test_df['PetalLengthCm']))**2/len(y_test)))"
   ]
  },
  {
   "attachments": {},
   "cell_type": "markdown",
   "metadata": {},
   "source": [
    "###### Note: it might be possible that the two highest correlating columns are not sepal length and sepal width but let's say they are \"x\" and \"y\", in which case just do the exercise with those \"x\" and \"y\" columns"
   ]
  },
  {
   "attachments": {},
   "cell_type": "markdown",
   "metadata": {},
   "source": [
    "12. At this point you would have predicted \"x\" column using \"y\" column and computed the error in the test_df. You have to do the same whole process, but this time you have to predict \"x\" column using not only \"y\" column but also the remaining 2 columns (whichever it be). Again compute the error. No need to plot or draw anything as it will be 4 dimensional now. "
   ]
  },
  {
   "cell_type": "code",
   "execution_count": 34,
   "metadata": {},
   "outputs": [
    {
     "name": "stdout",
     "output_type": "stream",
     "text": [
      "Coefficients are:  [[ 0.70874788 -0.64497193  1.50267684]]\n",
      "intercept is:  [-0.19451521]\n",
      "Mean Square error for Train Data is:  0.12071834905166669\n",
      "Mean Square error for Test Data is:  0.23928960940999994\n"
     ]
    }
   ],
   "source": [
    "X = train_df[['SepalLengthCm','SepalWidthCm','PetalWidthCm']]\n",
    "Y = train_df[['PetalLengthCm']]\n",
    "model2 = LinearRegression()\n",
    "model2.fit(X,Y)\n",
    "print(\"Coefficients are: \",model2.coef_)\n",
    "print(\"intercept is: \",model2.intercept_)\n",
    "pred_Y_train = 0.7084*(train_df['SepalLengthCm']) - 0.6449*(train_df['SepalWidthCm']) + 1.5026*(train_df['PetalWidthCm'])\n",
    "pred_Y_test = 0.7084*(test_df['SepalLengthCm']) - 0.6449*(test_df['SepalWidthCm']) + 1.5026*(test_df['PetalWidthCm'])\n",
    "\n",
    "print(\"Mean Square error for Train Data is: \",sum(((pred_Y_train - train_df['PetalLengthCm'])**2)/len(pred_Y_train)))\n",
    "print(\"Mean Square error for Test Data is: \",sum(((pred_Y_test - test_df['PetalLengthCm'])**2)/len(pred_Y_test)))\n",
    "\n"
   ]
  },
  {
   "attachments": {},
   "cell_type": "markdown",
   "metadata": {},
   "source": [
    "13. Conclude which of the two methods produced less Mean square error."
   ]
  },
  {
   "attachments": {},
   "cell_type": "markdown",
   "metadata": {},
   "source": [
    "> \n",
    "    Linear regression has more mean square error than multivariate therefore multivariate linear regression has less mean square error."
   ]
  }
 ],
 "metadata": {
  "kernelspec": {
   "display_name": "Python 3",
   "language": "python",
   "name": "python3"
  },
  "language_info": {
   "codemirror_mode": {
    "name": "ipython",
    "version": 3
   },
   "file_extension": ".py",
   "mimetype": "text/x-python",
   "name": "python",
   "nbconvert_exporter": "python",
   "pygments_lexer": "ipython3",
   "version": "3.9.13"
  },
  "orig_nbformat": 4,
  "vscode": {
   "interpreter": {
    "hash": "ad2bdc8ecc057115af97d19610ffacc2b4e99fae6737bb82f5d7fb13d2f2c186"
   }
  }
 },
 "nbformat": 4,
 "nbformat_minor": 2
}
