{
  "nbformat": 4,
  "nbformat_minor": 0,
  "metadata": {
    "colab": {
      "provenance": []
    },
    "kernelspec": {
      "name": "python3",
      "display_name": "Python 3"
    },
    "language_info": {
      "name": "python"
    }
  },
  "cells": [
    {
      "cell_type": "markdown",
      "source": [
        "![image.png](data:image/png;base64,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)"
      ],
      "metadata": {
        "id": "DTG_iV5oNUIZ"
      }
    },
    {
      "cell_type": "code",
      "source": [
        "import numpy as np"
      ],
      "metadata": {
        "id": "wxK5e6PkCmov"
      },
      "execution_count": null,
      "outputs": []
    },
    {
      "cell_type": "code",
      "execution_count": null,
      "metadata": {
        "colab": {
          "base_uri": "https://localhost:8080/"
        },
        "id": "R-o3didpCJK_",
        "outputId": "2608629a-4a50-4086-abb2-f8cbfbf9005a"
      },
      "outputs": [
        {
          "name": "stdout",
          "output_type": "stream",
          "text": [
            "Enter Matrix Q and and intial X0\n",
            "Enter Dim of matrix Q : 2\n",
            "Enter Q row wise and each elements of row if sepreated by space \n",
            "2 -2\n",
            "-2 4\n",
            "Enter b separated by space : \n",
            "-2 0\n"
          ]
        }
      ],
      "source": [
        "print(\"Enter Matrix Q and and intial X0\")\n",
        "n = int(input(\"Enter Dim of matrix Q : \"))\n",
        "print(\"Enter Q row wise and each elements of row if sepreated by space \")\n",
        "Q = []\n",
        "for i in range(n):\n",
        "    row = [float(x) for x in input().split()]\n",
        "    Q.append(row)\n",
        "Q = np.array(Q)\n",
        "print(\"Enter b separated by space : \")\n",
        "b = np.array([float(x) for x in input().split()])"
      ]
    },
    {
      "cell_type": "code",
      "source": [
        "def positive_definite(Q):\n",
        "    row = Q.shape [0]\n",
        "    i = 0\n",
        "    j = 0\n",
        "    for i in range(row+1) : \n",
        "        Step = Q[:i,:j]\n",
        "        j+=1\n",
        "        i+=1\n",
        "        det = np.linalg.det(Step)\n",
        "        if det > 0 : \n",
        "            continue \n",
        "        else :\n",
        "            return False\n",
        "    return True\n",
        "\n",
        "def solver(Q,b):\n",
        "    g = [0]*(len(Q)+1)\n",
        "    d = [0]*(len(Q)+1)\n",
        "    x = [0]*(len(Q)+1)\n",
        "    x[0] = np.zeros(len(Q))\n",
        "\n",
        "    d[0] = b - Q @ x[0]\n",
        "    g[0] = -d[0]\n",
        "\n",
        "\n",
        "    for i in range(0,len(Q)):\n",
        "        print(\"for k = \",i+1)\n",
        "\n",
        "        alpha =  (-g[i].T @ d[i]) / ( d[i].T @ Q @ d[i] )\n",
        "        print(\"alpha = \" , alpha)\n",
        "\n",
        "        x[i+1] =  x[i] +  alpha*d[i]\n",
        "        print(\"x{} = {}\".format(i+1 , x[i+1]))\n",
        "\n",
        "        g[i+1] = Q @ x[i+1] - b\n",
        "\n",
        "        print(\"g{} = {}\".format(i+1 , g[i+1]))\n",
        "\n",
        "        beta = (g[i+1].T @ Q @ d[i])/(d[i].T @ Q @ d[i])\n",
        "        print(\"beta = \" , beta)\n",
        "\n",
        "        d[i+1] =  -g[i+1] + beta * d[i]\n",
        "        print(\"d{} = {}\".format(i+1 , d[i+1]))\n",
        "    print(\"\\n\")\n",
        "    print(\"Minimum at \" , x[-1])\n",
        "    return x[-1]\n"
      ],
      "metadata": {
        "id": "yR40aKXhIuXW"
      },
      "execution_count": null,
      "outputs": []
    },
    {
      "cell_type": "code",
      "source": [
        "def conjugate_decent(Q,b):\n",
        "    if positive_definite(Q):\n",
        "        ans = solver(Q , b)\n",
        "        print(ans)\n",
        "    else:\n",
        "        print(\"Given matrix is not Positive definite : \")\n",
        "        print(\"Better luck next time\")\n",
        "    "
      ],
      "metadata": {
        "id": "vayLqlMJFccu"
      },
      "execution_count": null,
      "outputs": []
    },
    {
      "cell_type": "code",
      "source": [
        "vector = conjugate_decent(Q,b)"
      ],
      "metadata": {
        "colab": {
          "base_uri": "https://localhost:8080/"
        },
        "id": "Z9njjPXHGjou",
        "outputId": "b1ce21ee-5646-4ede-a75c-23837a648e03"
      },
      "execution_count": null,
      "outputs": [
        {
          "output_type": "stream",
          "name": "stdout",
          "text": [
            "for k =  1\n",
            "alpha =  0.5\n",
            "x1 = [-1.  0.]\n",
            "g1 = [0. 2.]\n",
            "beta =  1.0\n",
            "d1 = [-2. -2.]\n",
            "for k =  2\n",
            "alpha =  0.5\n",
            "x2 = [-2. -1.]\n",
            "g2 = [0. 0.]\n",
            "beta =  0.0\n",
            "d2 = [-0. -0.]\n",
            "\n",
            "\n",
            "Minimum at  [-2. -1.]\n",
            "[-2. -1.]\n"
          ]
        }
      ]
    },
    {
      "cell_type": "code",
      "source": [
        "ans = (1/2)* vector.T @ Q @ vector - b.T @ vector"
      ],
      "metadata": {
        "id": "9zgsqNgYLquv",
        "colab": {
          "base_uri": "https://localhost:8080/",
          "height": 165
        },
        "outputId": "d042d1d0-3553-4a58-a933-943c6c4e324e"
      },
      "execution_count": null,
      "outputs": [
        {
          "output_type": "error",
          "ename": "AttributeError",
          "evalue": "ignored",
          "traceback": [
            "\u001b[0;31m---------------------------------------------------------------------------\u001b[0m",
            "\u001b[0;31mAttributeError\u001b[0m                            Traceback (most recent call last)",
            "\u001b[0;32m<ipython-input-8-8249c21a25b1>\u001b[0m in \u001b[0;36m<cell line: 1>\u001b[0;34m()\u001b[0m\n\u001b[0;32m----> 1\u001b[0;31m \u001b[0mans\u001b[0m \u001b[0;34m=\u001b[0m \u001b[0;34m(\u001b[0m\u001b[0;36m1\u001b[0m\u001b[0;34m/\u001b[0m\u001b[0;36m2\u001b[0m\u001b[0;34m)\u001b[0m\u001b[0;34m*\u001b[0m \u001b[0mvector\u001b[0m\u001b[0;34m.\u001b[0m\u001b[0mT\u001b[0m \u001b[0;34m@\u001b[0m \u001b[0mQ\u001b[0m \u001b[0;34m@\u001b[0m \u001b[0mvector\u001b[0m \u001b[0;34m-\u001b[0m \u001b[0mb\u001b[0m\u001b[0;34m.\u001b[0m\u001b[0mT\u001b[0m \u001b[0;34m@\u001b[0m \u001b[0mvector\u001b[0m\u001b[0;34m\u001b[0m\u001b[0;34m\u001b[0m\u001b[0m\n\u001b[0m",
            "\u001b[0;31mAttributeError\u001b[0m: 'NoneType' object has no attribute 'T'"
          ]
        }
      ]
    },
    {
      "cell_type": "code",
      "source": [
        "print(\"Minimum value = \", ans)"
      ],
      "metadata": {
        "colab": {
          "base_uri": "https://localhost:8080/"
        },
        "id": "4YYt6ev9MHfO",
        "outputId": "8d1af6fe-3344-4fba-f0fa-b3e459dd882c"
      },
      "execution_count": null,
      "outputs": [
        {
          "output_type": "stream",
          "name": "stdout",
          "text": [
            "Minimum value =  -4.0\n"
          ]
        }
      ]
    }
  ]
}