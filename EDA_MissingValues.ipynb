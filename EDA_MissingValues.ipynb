{
  "nbformat": 4,
  "nbformat_minor": 0,
  "metadata": {
    "colab": {
      "provenance": []
    },
    "kernelspec": {
      "name": "python3",
      "display_name": "Python 3"
    },
    "language_info": {
      "name": "python"
    }
  },
  "cells": [
    {
      "cell_type": "markdown",
      "source": [
        "# **Different Methods to Handle Missing Values** (non-time series data)\n",
        "\n",
        "**Table of Contents:**\n",
        "1. Reasons for Missing data\n",
        "2. Types of Missing data\n",
        "  * MCAR\n",
        "  * MAR\n",
        "  * MNAR\n",
        "3. Detection of Missing data\n",
        "  * Numerically\n",
        "  * Visually\n",
        "4. Treatment for Missing data\n",
        "  * Drop / Delete\n",
        "    * Listwise (complete case) deletion\n",
        "    * Pairwise (available case) deletion\n",
        "    * Column deletion\n",
        "  * Imputation\n",
        "    * Simple \n",
        "      * Fill values\n",
        "        * Arbitrary\n",
        "        * Mean/Median/Mode\n",
        "        * ffil\n",
        "        * bfill\n",
        "      * Interpolate\n",
        "        * Linear\n",
        "        * Polynomial\n",
        "        * Cubic spline\n",
        "    * Advanced \n",
        "      * ML methods\n",
        "  * Full Analysis\n",
        "5. Effect of treatment/Follow up"
      ],
      "metadata": {
        "id": "czryC47lSIR0"
      }
    },
    {
      "cell_type": "markdown",
      "source": [
        "# Reasons for missing data\n",
        "\n",
        "1. Figure out why the value is missing. \n",
        "\n",
        "  Is this value missing becuase \n",
        "\n",
        "   * `it dosen't exist? `\n",
        "    \n",
        "    it doesn't make sense to try and guess what it might be. \n",
        "    These values you probalby do want to keep as `NaN`.\n",
        "\n",
        "   * `it wasn't recorded `\n",
        "    * not collected/shared\n",
        "    * deleted by mistake\n",
        "   \n",
        "    you can try to guess what it might have been based on the other values in that column and row. \n",
        "    This is called \"imputation\" \n"
      ],
      "metadata": {
        "id": "KdzjV1lttbGo"
      }
    },
    {
      "cell_type": "markdown",
      "source": [
        "# Types of Missing data\n",
        "Rubin (1976) classified missing data problems into three categories. In his theory every data point has some likelihood of being missing.\n",
        "  * The process that\n",
        "governs these probabilities is called the **missing data mechanism** or response\n",
        "mechanism. \n",
        "  * The model for the process is called the **missing data model** or\n",
        "response model.\n",
        "\n",
        "Rubin’s distinction is important for understanding why some methods will\n",
        "not work. His theory lays down the conditions under which a missing data\n",
        "method can provide valid statistical inferences. "
      ],
      "metadata": {
        "id": "1aYb5WA38jpU"
      }
    },
    {
      "cell_type": "markdown",
      "source": [
        "## 1. Missing Completely at Random (MCAR)\n",
        "* the probability of being missing is the same for all cases\n",
        "* causes of the missing data are unrelated to the data.\n",
        "  * Missingness is independent of data\n",
        "  * The missing data are just a random subset of the data.\n",
        "  * The missing values on a given variable are not associated with other variables or with the variable itself. \n",
        " * In other words, there is no particular reason for the missing values. \n",
        "* examples:\n",
        "  * a weighing scale that ran out of batteries. \n",
        "  * a random sample of a population,\n",
        "   * each member has the same chance of being included in the sample. \n",
        "   * The (unobserved) data of members in the population that were not included in the sample are MCAR. \n",
        "* When data are MCAR, the analysis performed on the data is unbiased; \n",
        "* MCAR is often unrealistic for the data at hand, that is, data are rarely MCAR.\n"
      ],
      "metadata": {
        "id": "oezVEjX7Ci7e"
      }
    },
    {
      "cell_type": "markdown",
      "source": [
        "## 2. Missing at Random (MAR)\n",
        "  * the *probability of being missing* is the same only within groups defined\n",
        "by the observed data. \n",
        "  * MAR occurs when the missingness is not random, but where missingness can be fully accounted for by variables where there is complete information.\n",
        "    * Missingness depends on the observed data\n",
        "  * MAR is a much broader class than MCAR.\n",
        "  * MAR is more general and more realistic than MCAR.  \n",
        "  * example:\n",
        "    * when placed on a soft surface, a weighing scale may produce more missing values than when placed on a hard surface. \n",
        "      * Such data are thus not MCAR. \n",
        "      * If, however, we know surface type and if we can assume MCAR within the type of surface, then the data are MAR. \n",
        "    * a sample from a population, where the probability of selection depends on some known property. \n",
        "\n",
        "  * Modern missing data methods generally start from the MAR assumption.\n",
        "    * MAR is an assumption that is impossible to verify statistically\n",
        "  * MAR will provide asymptotically unbiased estimates if the parameter is estimated with Full Information Maximum Likelihood\n",
        "\n",
        "* **Techniques to use**\n",
        "\n",
        ">Imputation: \n",
        "  * a technique that involves replacing missing data with estimated values based on the observed data. \n",
        "  * There are several methods for imputation, such as \n",
        "    * mean imputation, \n",
        "    * hot-deck imputation, and \n",
        "    * regression imputation. \n",
        "  * Imputation can help to reduce the bias and increase the power of statistical analyses. \n",
        "  * Imputation requires assumptions about the underlying data distribution and can introduce additional variability in the results.\n",
        "\n",
        ">Maximum Likelihood Estimation (MLE): \n",
        "  * a method that estimates the parameters of a statistical model by maximizing the likelihood of the observed data. \n",
        "  * MLE can be used to estimate the missing data and fit a model to the observed data simultaneously. \n",
        "  * MLE can provide unbiased and efficient estimates of the parameters of interest if the missing data mechanism is correctly specified.\n",
        "\n",
        ">Weighting: \n",
        "  * a technique that involves assigning weights to observations based on the probability of being missing. \n",
        "  * Weighting can help to account for the non-randomness of the missing data and reduce the bias in the estimates. \n",
        "  * Example: Inverse Probability Weighting (IPW), which weights the observed data by the inverse of the probability of being observed.\n",
        "\n",
        ">Model-based approaches: \n",
        "  * involve fitting models that account for missing data. \n",
        "  * Example: Expectation-Maximization (EM) algorithm, which iteratively estimates the missing data and fits a model to the observed data. \n",
        "  * Model-based approaches can be computationally intensive but can provide more accurate estimates of the parameters of interest.\n",
        "\n",
        "* **Avoid the following techniques**\n",
        "\n",
        "> Complete case analysis: \n",
        "  * a technique that involves excluding observations with missing data from the analysis. \n",
        "  * can lead to biased results if the missing data is related to the outcome or predictor variables. \n",
        "\n",
        "  >Pairwise deletion: \n",
        "  * a technique that involves using only the available data for each pair of variables in the analysis. \n",
        "  * can lead to biased results if the missing data is related to the outcome or predictor variables. \n",
        "\n",
        "  >Listwise deletion: \n",
        "  * a technique that involves excluding all observations that have any missing data from the analysis. \n",
        "  * can lead to a loss of statistical power and biased estimates if the missing data is related to the outcome or predictor variables. \n",
        "\n",
        "  >Mean imputation: \n",
        "  * a technique that involves replacing missing data with the mean of the observed data for that variable. \n",
        "  * can lead to biased estimates of the parameters of interest if the missing data is related to the outcome or predictor variables. "
      ],
      "metadata": {
        "id": "8GK_Jz2GDMfG"
      }
    },
    {
      "cell_type": "markdown",
      "source": [
        "## 3. Missing Not at Random (MNAR)\n",
        "* the probability of being missing varies for reasons that are unknown to us.\n",
        "    * Missingness depends on unobserved data or the value of the missing data itself.\n",
        "    * neither MCAR nor MAR holds, \n",
        "    * also, called NMAR (not missing at random) \n",
        "* example: \n",
        "  * the weighing scale mechanism may wear out over time, producing more missing data as time progresses, but we may fail to note this. \n",
        "   * If the heavier objects are measured later in time, then we obtain a distribution of the measurements that will be distorted. \n",
        "   * Includes the possibility that the scale produces more missing values for the heavier objects, a situation that might be difficult to recognize and handle. \n",
        "* MNAR in public opinion research occurs if those with weaker opinions respond less often. \n",
        "* MNAR is the most complex case. \n",
        "* Strategies to handle MNAR are to \n",
        " * find more data about the causes for the missingness, or \n",
        " * perform what-if analyses to see how sensitive the results are under various scenarios.\n"
      ],
      "metadata": {
        "id": "VkKKwtmdD1sv"
      }
    },
    {
      "cell_type": "code",
      "source": [
        "# dislay all outputs in a cell (https://rb.gy/lbz7hn)\n",
        "from IPython.core.interactiveshell import InteractiveShell\n",
        "InteractiveShell.ast_node_interactivity = \"all\""
      ],
      "metadata": {
        "id": "QNcrGSv5aMLw"
      },
      "execution_count": null,
      "outputs": []
    },
    {
      "cell_type": "code",
      "source": [
        "# Setting your working directory\n",
        "!pwd\n",
        "!ls\n",
        "import os\n",
        "os.chdir('/content/drive/MyDrive/Colab Notebooks/')"
      ],
      "metadata": {
        "colab": {
          "base_uri": "https://localhost:8080/"
        },
        "id": "haqP2P0wS4n-",
        "outputId": "7b0fcc6e-901f-46c6-fb5b-48ddd7854ba0"
      },
      "execution_count": null,
      "outputs": [
        {
          "output_type": "stream",
          "name": "stdout",
          "text": [
            "/content\n",
            "drive  sample_data\n"
          ]
        }
      ]
    },
    {
      "cell_type": "code",
      "execution_count": null,
      "metadata": {
        "id": "zHrjnV2UR7Rn"
      },
      "outputs": [],
      "source": [
        "# import required packages\n",
        "import numpy as np\n",
        "import pandas as pd\n",
        "\n",
        "# import dataset \n",
        "df = pd.read_csv('./data/aug_train1.csv') # ,parse_dates=['Date'] option for date columns"
      ]
    },
    {
      "cell_type": "code",
      "source": [
        "# No of rows and columns in the dataset\n",
        "df.shape \n",
        "\n",
        "# Looking at first 5 rows\n",
        "#df.head()"
      ],
      "metadata": {
        "colab": {
          "base_uri": "https://localhost:8080/"
        },
        "id": "lwJIGrpIXaVM",
        "outputId": "27cc6a60-de6b-451f-d2d6-3b2231acff3c"
      },
      "execution_count": null,
      "outputs": [
        {
          "output_type": "execute_result",
          "data": {
            "text/plain": [
              "(19158, 14)"
            ]
          },
          "metadata": {},
          "execution_count": 4
        }
      ]
    },
    {
      "cell_type": "code",
      "source": [
        "# Looking at a random sample of 5 rows\n",
        "#df.sample(5)"
      ],
      "metadata": {
        "id": "VU0R-Ze4g-yx"
      },
      "execution_count": null,
      "outputs": []
    },
    {
      "cell_type": "code",
      "source": [
        "# Better understanding of the dataset\n",
        "df.info()"
      ],
      "metadata": {
        "colab": {
          "base_uri": "https://localhost:8080/"
        },
        "id": "NSlsUhrOhU0v",
        "outputId": "e9bc106a-69e9-4a94-a777-18737ed39f96"
      },
      "execution_count": null,
      "outputs": [
        {
          "output_type": "stream",
          "name": "stdout",
          "text": [
            "<class 'pandas.core.frame.DataFrame'>\n",
            "RangeIndex: 19158 entries, 0 to 19157\n",
            "Data columns (total 14 columns):\n",
            " #   Column                  Non-Null Count  Dtype  \n",
            "---  ------                  --------------  -----  \n",
            " 0   enrollee_id             19158 non-null  int64  \n",
            " 1   city                    19158 non-null  object \n",
            " 2   city_development_index  19130 non-null  float64\n",
            " 3   gender                  14650 non-null  object \n",
            " 4   relevent_experience     19158 non-null  object \n",
            " 5   enrolled_university     18772 non-null  object \n",
            " 6   education_level         18698 non-null  object \n",
            " 7   major_discipline        16345 non-null  object \n",
            " 8   experience              19093 non-null  object \n",
            " 9   company_size            13220 non-null  object \n",
            " 10  company_type            13018 non-null  object \n",
            " 11  last_new_job            18735 non-null  object \n",
            " 12  training_hours          19158 non-null  int64  \n",
            " 13  target                  19158 non-null  int64  \n",
            "dtypes: float64(1), int64(3), object(10)\n",
            "memory usage: 2.0+ MB\n"
          ]
        }
      ]
    },
    {
      "cell_type": "code",
      "source": [
        "# display the variable names (column names)\n",
        "df.columns"
      ],
      "metadata": {
        "id": "XcIWe9XVS1Q3",
        "colab": {
          "base_uri": "https://localhost:8080/"
        },
        "outputId": "d733abf8-0544-4ec9-9b7f-03e7c0f18d92"
      },
      "execution_count": null,
      "outputs": [
        {
          "output_type": "execute_result",
          "data": {
            "text/plain": [
              "Index(['enrollee_id', 'city', 'city_development_index', 'gender',\n",
              "       'relevent_experience', 'enrolled_university', 'education_level',\n",
              "       'major_discipline', 'experience', 'company_size', 'company_type',\n",
              "       'last_new_job', 'training_hours', 'target'],\n",
              "      dtype='object')"
            ]
          },
          "metadata": {},
          "execution_count": 7
        }
      ]
    },
    {
      "cell_type": "code",
      "source": [
        "# A quick stattistical view\n",
        "\n",
        "df.describe()"
      ],
      "metadata": {
        "id": "Cb7cZJa6j9I8",
        "outputId": "ddc1289a-3f55-4f12-c85f-1d0856e5a381",
        "colab": {
          "base_uri": "https://localhost:8080/",
          "height": 300
        }
      },
      "execution_count": null,
      "outputs": [
        {
          "output_type": "execute_result",
          "data": {
            "text/plain": [
              "        enrollee_id  city_development_index  training_hours        target\n",
              "count  19158.000000            19130.000000    19158.000000  19158.000000\n",
              "mean   16875.358179                0.828840       65.366896      0.249348\n",
              "std     9616.292592                0.123391       60.058462      0.432647\n",
              "min        1.000000                0.448000        1.000000      0.000000\n",
              "25%     8554.250000                0.740000       23.000000      0.000000\n",
              "50%    16982.500000                0.903000       47.000000      0.000000\n",
              "75%    25169.750000                0.920000       88.000000      0.000000\n",
              "max    33380.000000                0.949000      336.000000      1.000000"
            ],
            "text/html": [
              "\n",
              "  <div id=\"df-fe2ab9a2-3c92-4686-a734-7ca165416394\">\n",
              "    <div class=\"colab-df-container\">\n",
              "      <div>\n",
              "<style scoped>\n",
              "    .dataframe tbody tr th:only-of-type {\n",
              "        vertical-align: middle;\n",
              "    }\n",
              "\n",
              "    .dataframe tbody tr th {\n",
              "        vertical-align: top;\n",
              "    }\n",
              "\n",
              "    .dataframe thead th {\n",
              "        text-align: right;\n",
              "    }\n",
              "</style>\n",
              "<table border=\"1\" class=\"dataframe\">\n",
              "  <thead>\n",
              "    <tr style=\"text-align: right;\">\n",
              "      <th></th>\n",
              "      <th>enrollee_id</th>\n",
              "      <th>city_development_index</th>\n",
              "      <th>training_hours</th>\n",
              "      <th>target</th>\n",
              "    </tr>\n",
              "  </thead>\n",
              "  <tbody>\n",
              "    <tr>\n",
              "      <th>count</th>\n",
              "      <td>19158.000000</td>\n",
              "      <td>19130.000000</td>\n",
              "      <td>19158.000000</td>\n",
              "      <td>19158.000000</td>\n",
              "    </tr>\n",
              "    <tr>\n",
              "      <th>mean</th>\n",
              "      <td>16875.358179</td>\n",
              "      <td>0.828840</td>\n",
              "      <td>65.366896</td>\n",
              "      <td>0.249348</td>\n",
              "    </tr>\n",
              "    <tr>\n",
              "      <th>std</th>\n",
              "      <td>9616.292592</td>\n",
              "      <td>0.123391</td>\n",
              "      <td>60.058462</td>\n",
              "      <td>0.432647</td>\n",
              "    </tr>\n",
              "    <tr>\n",
              "      <th>min</th>\n",
              "      <td>1.000000</td>\n",
              "      <td>0.448000</td>\n",
              "      <td>1.000000</td>\n",
              "      <td>0.000000</td>\n",
              "    </tr>\n",
              "    <tr>\n",
              "      <th>25%</th>\n",
              "      <td>8554.250000</td>\n",
              "      <td>0.740000</td>\n",
              "      <td>23.000000</td>\n",
              "      <td>0.000000</td>\n",
              "    </tr>\n",
              "    <tr>\n",
              "      <th>50%</th>\n",
              "      <td>16982.500000</td>\n",
              "      <td>0.903000</td>\n",
              "      <td>47.000000</td>\n",
              "      <td>0.000000</td>\n",
              "    </tr>\n",
              "    <tr>\n",
              "      <th>75%</th>\n",
              "      <td>25169.750000</td>\n",
              "      <td>0.920000</td>\n",
              "      <td>88.000000</td>\n",
              "      <td>0.000000</td>\n",
              "    </tr>\n",
              "    <tr>\n",
              "      <th>max</th>\n",
              "      <td>33380.000000</td>\n",
              "      <td>0.949000</td>\n",
              "      <td>336.000000</td>\n",
              "      <td>1.000000</td>\n",
              "    </tr>\n",
              "  </tbody>\n",
              "</table>\n",
              "</div>\n",
              "      <button class=\"colab-df-convert\" onclick=\"convertToInteractive('df-fe2ab9a2-3c92-4686-a734-7ca165416394')\"\n",
              "              title=\"Convert this dataframe to an interactive table.\"\n",
              "              style=\"display:none;\">\n",
              "        \n",
              "  <svg xmlns=\"http://www.w3.org/2000/svg\" height=\"24px\"viewBox=\"0 0 24 24\"\n",
              "       width=\"24px\">\n",
              "    <path d=\"M0 0h24v24H0V0z\" fill=\"none\"/>\n",
              "    <path d=\"M18.56 5.44l.94 2.06.94-2.06 2.06-.94-2.06-.94-.94-2.06-.94 2.06-2.06.94zm-11 1L8.5 8.5l.94-2.06 2.06-.94-2.06-.94L8.5 2.5l-.94 2.06-2.06.94zm10 10l.94 2.06.94-2.06 2.06-.94-2.06-.94-.94-2.06-.94 2.06-2.06.94z\"/><path d=\"M17.41 7.96l-1.37-1.37c-.4-.4-.92-.59-1.43-.59-.52 0-1.04.2-1.43.59L10.3 9.45l-7.72 7.72c-.78.78-.78 2.05 0 2.83L4 21.41c.39.39.9.59 1.41.59.51 0 1.02-.2 1.41-.59l7.78-7.78 2.81-2.81c.8-.78.8-2.07 0-2.86zM5.41 20L4 18.59l7.72-7.72 1.47 1.35L5.41 20z\"/>\n",
              "  </svg>\n",
              "      </button>\n",
              "      \n",
              "  <style>\n",
              "    .colab-df-container {\n",
              "      display:flex;\n",
              "      flex-wrap:wrap;\n",
              "      gap: 12px;\n",
              "    }\n",
              "\n",
              "    .colab-df-convert {\n",
              "      background-color: #E8F0FE;\n",
              "      border: none;\n",
              "      border-radius: 50%;\n",
              "      cursor: pointer;\n",
              "      display: none;\n",
              "      fill: #1967D2;\n",
              "      height: 32px;\n",
              "      padding: 0 0 0 0;\n",
              "      width: 32px;\n",
              "    }\n",
              "\n",
              "    .colab-df-convert:hover {\n",
              "      background-color: #E2EBFA;\n",
              "      box-shadow: 0px 1px 2px rgba(60, 64, 67, 0.3), 0px 1px 3px 1px rgba(60, 64, 67, 0.15);\n",
              "      fill: #174EA6;\n",
              "    }\n",
              "\n",
              "    [theme=dark] .colab-df-convert {\n",
              "      background-color: #3B4455;\n",
              "      fill: #D2E3FC;\n",
              "    }\n",
              "\n",
              "    [theme=dark] .colab-df-convert:hover {\n",
              "      background-color: #434B5C;\n",
              "      box-shadow: 0px 1px 3px 1px rgba(0, 0, 0, 0.15);\n",
              "      filter: drop-shadow(0px 1px 2px rgba(0, 0, 0, 0.3));\n",
              "      fill: #FFFFFF;\n",
              "    }\n",
              "  </style>\n",
              "\n",
              "      <script>\n",
              "        const buttonEl =\n",
              "          document.querySelector('#df-fe2ab9a2-3c92-4686-a734-7ca165416394 button.colab-df-convert');\n",
              "        buttonEl.style.display =\n",
              "          google.colab.kernel.accessAllowed ? 'block' : 'none';\n",
              "\n",
              "        async function convertToInteractive(key) {\n",
              "          const element = document.querySelector('#df-fe2ab9a2-3c92-4686-a734-7ca165416394');\n",
              "          const dataTable =\n",
              "            await google.colab.kernel.invokeFunction('convertToInteractive',\n",
              "                                                     [key], {});\n",
              "          if (!dataTable) return;\n",
              "\n",
              "          const docLinkHtml = 'Like what you see? Visit the ' +\n",
              "            '<a target=\"_blank\" href=https://colab.research.google.com/notebooks/data_table.ipynb>data table notebook</a>'\n",
              "            + ' to learn more about interactive tables.';\n",
              "          element.innerHTML = '';\n",
              "          dataTable['output_type'] = 'display_data';\n",
              "          await google.colab.output.renderOutput(dataTable, element);\n",
              "          const docLink = document.createElement('div');\n",
              "          docLink.innerHTML = docLinkHtml;\n",
              "          element.appendChild(docLink);\n",
              "        }\n",
              "      </script>\n",
              "    </div>\n",
              "  </div>\n",
              "  "
            ]
          },
          "metadata": {},
          "execution_count": 8
        }
      ]
    },
    {
      "cell_type": "code",
      "source": [
        "# Counting all the unique values the variable \"gender\" takes\n",
        "df['gender'].value_counts()\n",
        "print('\\nTotal number of non missing values :', df['gender'].value_counts().sum())"
      ],
      "metadata": {
        "colab": {
          "base_uri": "https://localhost:8080/"
        },
        "id": "1icUjU3etfUz",
        "outputId": "67c90d58-5683-4b32-a6d8-cd80be82e5e5"
      },
      "execution_count": null,
      "outputs": [
        {
          "output_type": "execute_result",
          "data": {
            "text/plain": [
              "Male      13221\n",
              "Female     1238\n",
              "Other       191\n",
              "Name: gender, dtype: int64"
            ]
          },
          "metadata": {},
          "execution_count": 9
        },
        {
          "output_type": "stream",
          "name": "stdout",
          "text": [
            "\n",
            "Total number of non missing values : 14650\n"
          ]
        }
      ]
    },
    {
      "cell_type": "code",
      "source": [
        "df['city_development_index'].value_counts()"
      ],
      "metadata": {
        "id": "bHWVjQSouAWe",
        "colab": {
          "base_uri": "https://localhost:8080/"
        },
        "outputId": "e935d6c6-0be5-40c2-ed6b-54d7ac68b54e"
      },
      "execution_count": null,
      "outputs": [
        {
          "output_type": "execute_result",
          "data": {
            "text/plain": [
              "0.920    5195\n",
              "0.624    2700\n",
              "0.910    1528\n",
              "0.926    1335\n",
              "0.698     679\n",
              "         ... \n",
              "0.649       4\n",
              "0.807       4\n",
              "0.781       3\n",
              "0.625       3\n",
              "0.664       1\n",
              "Name: city_development_index, Length: 93, dtype: int64"
            ]
          },
          "metadata": {},
          "execution_count": 10
        }
      ]
    },
    {
      "cell_type": "markdown",
      "source": [
        "##General guidelines to correctly specify the **missing data mechanism**\n",
        "\n",
        ">*Understand the missing data mechanism:* To correctly specify the missing data mechanism, you need to have a good understanding of the data and the reasons why data are missing. This understanding can come from domain knowledge, data collection procedures, and data quality assessments.\n",
        "\n",
        ">Evaluate the patterns of missingness: Look for patterns in the missingness of the data. Are there any subgroups of the population that are more likely to have missing data? Are there any variables that are associated with the missingness of the data?\n",
        "\n",
        ">Use statistical methods: There are several statistical methods that can help you identify the missing data mechanism. For example, you can use graphical methods such as the missingness plot or the pattern of missingness by variable plot. You can also use statistical tests such as the Little's MCAR test or the likelihood ratio test for MAR.\n",
        "\n",
        ">Consider sensitivity analysis: It's important to assess the robustness of your analysis to different missing data mechanisms. You can do this by performing sensitivity analysis using different missing data assumptions and comparing the results.\n",
        "\n",
        ">Report the missing data mechanism: Once you have identified the missing data mechanism, report it clearly in your analysis. This will help others to understand your analysis and to assess the validity of your inferences.\n"
      ],
      "metadata": {
        "id": "w5Cz7Wxd3b7n"
      }
    },
    {
      "cell_type": "markdown",
      "source": [
        "# 3. Detecting the Missing values \n",
        "1. Numerically using \n",
        "  * `describe()`\n",
        "  * `isnull()`\n",
        "2. Graphically using `missingno` package\n",
        "\n",
        "## 3.1.1 Using `describe()` function to get all non-missing values\n",
        "\n",
        "The count property directly gives the count of `non-NaN values` in each column."
      ],
      "metadata": {
        "id": "ZOW16jabdjJc"
      }
    },
    {
      "cell_type": "code",
      "source": [
        "df.describe(include='all').loc['count']"
      ],
      "metadata": {
        "colab": {
          "base_uri": "https://localhost:8080/"
        },
        "id": "pfiG9gwmecUb",
        "outputId": "b9ee37a5-0aa6-47b5-8ef5-e5d83265a087"
      },
      "execution_count": null,
      "outputs": [
        {
          "output_type": "execute_result",
          "data": {
            "text/plain": [
              "enrollee_id               19158.0\n",
              "city                        19158\n",
              "city_development_index    19130.0\n",
              "gender                      14650\n",
              "relevent_experience         19158\n",
              "enrolled_university         18772\n",
              "education_level             18698\n",
              "major_discipline            16345\n",
              "experience                  19093\n",
              "company_size                13220\n",
              "company_type                13018\n",
              "last_new_job                18735\n",
              "training_hours            19158.0\n",
              "target                    19158.0\n",
              "Name: count, dtype: object"
            ]
          },
          "metadata": {},
          "execution_count": 11
        }
      ]
    },
    {
      "cell_type": "code",
      "source": [
        "#counting values only for numeric columns \n",
        "#df.numeric.describe() #not working\n",
        "df.describe(include=[np.number]).loc['count']"
      ],
      "metadata": {
        "colab": {
          "base_uri": "https://localhost:8080/"
        },
        "id": "ogL7D8rR43Pj",
        "outputId": "61668ab2-530e-4f38-9e0c-adf0384046b4"
      },
      "execution_count": null,
      "outputs": [
        {
          "output_type": "execute_result",
          "data": {
            "text/plain": [
              "enrollee_id               19158.0\n",
              "city_development_index    19130.0\n",
              "training_hours            19158.0\n",
              "target                    19158.0\n",
              "Name: count, dtype: float64"
            ]
          },
          "metadata": {},
          "execution_count": 12
        }
      ]
    },
    {
      "cell_type": "code",
      "source": [
        "# Including non-numerical columns \n",
        "df.describe(exclude=[np.number]).loc['count']"
      ],
      "metadata": {
        "colab": {
          "base_uri": "https://localhost:8080/"
        },
        "id": "pVyOgBrr7i7M",
        "outputId": "a7ea83c2-b583-4ff9-f927-3cc0b9204b68"
      },
      "execution_count": null,
      "outputs": [
        {
          "output_type": "execute_result",
          "data": {
            "text/plain": [
              "city                   19158\n",
              "gender                 14650\n",
              "relevent_experience    19158\n",
              "enrolled_university    18772\n",
              "education_level        18698\n",
              "major_discipline       16345\n",
              "experience             19093\n",
              "company_size           13220\n",
              "company_type           13018\n",
              "last_new_job           18735\n",
              "Name: count, dtype: object"
            ]
          },
          "metadata": {},
          "execution_count": 13
        }
      ]
    },
    {
      "cell_type": "markdown",
      "source": [
        "## 3.1.2. Using `isnull()` function to get all missing values\n",
        "\n",
        "`notnull` may be alternatively used to get all non-missing values"
      ],
      "metadata": {
        "id": "TzYqUmhti8X5"
      }
    },
    {
      "cell_type": "code",
      "source": [
        "# counting the missing values under each column\n",
        "\n",
        "df_mis=df.isnull().sum()\n",
        "df_mis\n"
      ],
      "metadata": {
        "colab": {
          "base_uri": "https://localhost:8080/"
        },
        "id": "erAbVoISXTMG",
        "outputId": "28df5da5-1356-46ae-cdd7-503107fcd0c0"
      },
      "execution_count": null,
      "outputs": [
        {
          "output_type": "execute_result",
          "data": {
            "text/plain": [
              "enrollee_id                  0\n",
              "city                         0\n",
              "city_development_index      28\n",
              "gender                    4508\n",
              "relevent_experience          0\n",
              "enrolled_university        386\n",
              "education_level            460\n",
              "major_discipline          2813\n",
              "experience                  65\n",
              "company_size              5938\n",
              "company_type              6140\n",
              "last_new_job               423\n",
              "training_hours               0\n",
              "target                       0\n",
              "dtype: int64"
            ]
          },
          "metadata": {},
          "execution_count": 14
        }
      ]
    },
    {
      "cell_type": "code",
      "source": [
        "df.isnull().mean()*100\n",
        "df_mis_pcent=100*df.isnull().sum()/len(df)\n",
        "print('\\n\\nMissing percentage:\\n\\n', df_mis_pcent)"
      ],
      "metadata": {
        "colab": {
          "base_uri": "https://localhost:8080/"
        },
        "id": "osc85OqJ3fOJ",
        "outputId": "232212cb-b354-443b-ec0e-0c618bae2152"
      },
      "execution_count": null,
      "outputs": [
        {
          "output_type": "execute_result",
          "data": {
            "text/plain": [
              "enrollee_id                0.000000\n",
              "city                       0.000000\n",
              "city_development_index     0.146153\n",
              "gender                    23.530640\n",
              "relevent_experience        0.000000\n",
              "enrolled_university        2.014824\n",
              "education_level            2.401086\n",
              "major_discipline          14.683161\n",
              "experience                 0.339284\n",
              "company_size              30.994885\n",
              "company_type              32.049274\n",
              "last_new_job               2.207955\n",
              "training_hours             0.000000\n",
              "target                     0.000000\n",
              "dtype: float64"
            ]
          },
          "metadata": {},
          "execution_count": 15
        },
        {
          "output_type": "stream",
          "name": "stdout",
          "text": [
            "\n",
            "\n",
            "Missing percentage:\n",
            "\n",
            " enrollee_id                0.000000\n",
            "city                       0.000000\n",
            "city_development_index     0.146153\n",
            "gender                    23.530640\n",
            "relevent_experience        0.000000\n",
            "enrolled_university        2.014824\n",
            "education_level            2.401086\n",
            "major_discipline          14.683161\n",
            "experience                 0.339284\n",
            "company_size              30.994885\n",
            "company_type              32.049274\n",
            "last_new_job               2.207955\n",
            "training_hours             0.000000\n",
            "target                     0.000000\n",
            "dtype: float64\n"
          ]
        }
      ]
    },
    {
      "cell_type": "code",
      "source": [
        "# Make a table of missing values with %\n",
        "df_mis_table=pd.concat([df_mis,df_mis_pcent],axis=1)\n",
        "df_mis_table"
      ],
      "metadata": {
        "colab": {
          "base_uri": "https://localhost:8080/",
          "height": 488
        },
        "id": "cuSlM_Hl347n",
        "outputId": "7061b457-f7c8-4e74-d2ec-10d695f63d06"
      },
      "execution_count": null,
      "outputs": [
        {
          "output_type": "execute_result",
          "data": {
            "text/plain": [
              "                           0          1\n",
              "enrollee_id                0   0.000000\n",
              "city                       0   0.000000\n",
              "city_development_index    28   0.146153\n",
              "gender                  4508  23.530640\n",
              "relevent_experience        0   0.000000\n",
              "enrolled_university      386   2.014824\n",
              "education_level          460   2.401086\n",
              "major_discipline        2813  14.683161\n",
              "experience                65   0.339284\n",
              "company_size            5938  30.994885\n",
              "company_type            6140  32.049274\n",
              "last_new_job             423   2.207955\n",
              "training_hours             0   0.000000\n",
              "target                     0   0.000000"
            ],
            "text/html": [
              "\n",
              "  <div id=\"df-031a4bc2-12e3-431d-ab47-f640d2ce3192\">\n",
              "    <div class=\"colab-df-container\">\n",
              "      <div>\n",
              "<style scoped>\n",
              "    .dataframe tbody tr th:only-of-type {\n",
              "        vertical-align: middle;\n",
              "    }\n",
              "\n",
              "    .dataframe tbody tr th {\n",
              "        vertical-align: top;\n",
              "    }\n",
              "\n",
              "    .dataframe thead th {\n",
              "        text-align: right;\n",
              "    }\n",
              "</style>\n",
              "<table border=\"1\" class=\"dataframe\">\n",
              "  <thead>\n",
              "    <tr style=\"text-align: right;\">\n",
              "      <th></th>\n",
              "      <th>0</th>\n",
              "      <th>1</th>\n",
              "    </tr>\n",
              "  </thead>\n",
              "  <tbody>\n",
              "    <tr>\n",
              "      <th>enrollee_id</th>\n",
              "      <td>0</td>\n",
              "      <td>0.000000</td>\n",
              "    </tr>\n",
              "    <tr>\n",
              "      <th>city</th>\n",
              "      <td>0</td>\n",
              "      <td>0.000000</td>\n",
              "    </tr>\n",
              "    <tr>\n",
              "      <th>city_development_index</th>\n",
              "      <td>28</td>\n",
              "      <td>0.146153</td>\n",
              "    </tr>\n",
              "    <tr>\n",
              "      <th>gender</th>\n",
              "      <td>4508</td>\n",
              "      <td>23.530640</td>\n",
              "    </tr>\n",
              "    <tr>\n",
              "      <th>relevent_experience</th>\n",
              "      <td>0</td>\n",
              "      <td>0.000000</td>\n",
              "    </tr>\n",
              "    <tr>\n",
              "      <th>enrolled_university</th>\n",
              "      <td>386</td>\n",
              "      <td>2.014824</td>\n",
              "    </tr>\n",
              "    <tr>\n",
              "      <th>education_level</th>\n",
              "      <td>460</td>\n",
              "      <td>2.401086</td>\n",
              "    </tr>\n",
              "    <tr>\n",
              "      <th>major_discipline</th>\n",
              "      <td>2813</td>\n",
              "      <td>14.683161</td>\n",
              "    </tr>\n",
              "    <tr>\n",
              "      <th>experience</th>\n",
              "      <td>65</td>\n",
              "      <td>0.339284</td>\n",
              "    </tr>\n",
              "    <tr>\n",
              "      <th>company_size</th>\n",
              "      <td>5938</td>\n",
              "      <td>30.994885</td>\n",
              "    </tr>\n",
              "    <tr>\n",
              "      <th>company_type</th>\n",
              "      <td>6140</td>\n",
              "      <td>32.049274</td>\n",
              "    </tr>\n",
              "    <tr>\n",
              "      <th>last_new_job</th>\n",
              "      <td>423</td>\n",
              "      <td>2.207955</td>\n",
              "    </tr>\n",
              "    <tr>\n",
              "      <th>training_hours</th>\n",
              "      <td>0</td>\n",
              "      <td>0.000000</td>\n",
              "    </tr>\n",
              "    <tr>\n",
              "      <th>target</th>\n",
              "      <td>0</td>\n",
              "      <td>0.000000</td>\n",
              "    </tr>\n",
              "  </tbody>\n",
              "</table>\n",
              "</div>\n",
              "      <button class=\"colab-df-convert\" onclick=\"convertToInteractive('df-031a4bc2-12e3-431d-ab47-f640d2ce3192')\"\n",
              "              title=\"Convert this dataframe to an interactive table.\"\n",
              "              style=\"display:none;\">\n",
              "        \n",
              "  <svg xmlns=\"http://www.w3.org/2000/svg\" height=\"24px\"viewBox=\"0 0 24 24\"\n",
              "       width=\"24px\">\n",
              "    <path d=\"M0 0h24v24H0V0z\" fill=\"none\"/>\n",
              "    <path d=\"M18.56 5.44l.94 2.06.94-2.06 2.06-.94-2.06-.94-.94-2.06-.94 2.06-2.06.94zm-11 1L8.5 8.5l.94-2.06 2.06-.94-2.06-.94L8.5 2.5l-.94 2.06-2.06.94zm10 10l.94 2.06.94-2.06 2.06-.94-2.06-.94-.94-2.06-.94 2.06-2.06.94z\"/><path d=\"M17.41 7.96l-1.37-1.37c-.4-.4-.92-.59-1.43-.59-.52 0-1.04.2-1.43.59L10.3 9.45l-7.72 7.72c-.78.78-.78 2.05 0 2.83L4 21.41c.39.39.9.59 1.41.59.51 0 1.02-.2 1.41-.59l7.78-7.78 2.81-2.81c.8-.78.8-2.07 0-2.86zM5.41 20L4 18.59l7.72-7.72 1.47 1.35L5.41 20z\"/>\n",
              "  </svg>\n",
              "      </button>\n",
              "      \n",
              "  <style>\n",
              "    .colab-df-container {\n",
              "      display:flex;\n",
              "      flex-wrap:wrap;\n",
              "      gap: 12px;\n",
              "    }\n",
              "\n",
              "    .colab-df-convert {\n",
              "      background-color: #E8F0FE;\n",
              "      border: none;\n",
              "      border-radius: 50%;\n",
              "      cursor: pointer;\n",
              "      display: none;\n",
              "      fill: #1967D2;\n",
              "      height: 32px;\n",
              "      padding: 0 0 0 0;\n",
              "      width: 32px;\n",
              "    }\n",
              "\n",
              "    .colab-df-convert:hover {\n",
              "      background-color: #E2EBFA;\n",
              "      box-shadow: 0px 1px 2px rgba(60, 64, 67, 0.3), 0px 1px 3px 1px rgba(60, 64, 67, 0.15);\n",
              "      fill: #174EA6;\n",
              "    }\n",
              "\n",
              "    [theme=dark] .colab-df-convert {\n",
              "      background-color: #3B4455;\n",
              "      fill: #D2E3FC;\n",
              "    }\n",
              "\n",
              "    [theme=dark] .colab-df-convert:hover {\n",
              "      background-color: #434B5C;\n",
              "      box-shadow: 0px 1px 3px 1px rgba(0, 0, 0, 0.15);\n",
              "      filter: drop-shadow(0px 1px 2px rgba(0, 0, 0, 0.3));\n",
              "      fill: #FFFFFF;\n",
              "    }\n",
              "  </style>\n",
              "\n",
              "      <script>\n",
              "        const buttonEl =\n",
              "          document.querySelector('#df-031a4bc2-12e3-431d-ab47-f640d2ce3192 button.colab-df-convert');\n",
              "        buttonEl.style.display =\n",
              "          google.colab.kernel.accessAllowed ? 'block' : 'none';\n",
              "\n",
              "        async function convertToInteractive(key) {\n",
              "          const element = document.querySelector('#df-031a4bc2-12e3-431d-ab47-f640d2ce3192');\n",
              "          const dataTable =\n",
              "            await google.colab.kernel.invokeFunction('convertToInteractive',\n",
              "                                                     [key], {});\n",
              "          if (!dataTable) return;\n",
              "\n",
              "          const docLinkHtml = 'Like what you see? Visit the ' +\n",
              "            '<a target=\"_blank\" href=https://colab.research.google.com/notebooks/data_table.ipynb>data table notebook</a>'\n",
              "            + ' to learn more about interactive tables.';\n",
              "          element.innerHTML = '';\n",
              "          dataTable['output_type'] = 'display_data';\n",
              "          await google.colab.output.renderOutput(dataTable, element);\n",
              "          const docLink = document.createElement('div');\n",
              "          docLink.innerHTML = docLinkHtml;\n",
              "          element.appendChild(docLink);\n",
              "        }\n",
              "      </script>\n",
              "    </div>\n",
              "  </div>\n",
              "  "
            ]
          },
          "metadata": {},
          "execution_count": 16
        }
      ]
    },
    {
      "cell_type": "code",
      "source": [
        "# Rename the columns \n",
        "df_mis_table.rename(columns = {0 : 'Missing Values', 1 : '% of Total Values'})"
      ],
      "metadata": {
        "colab": {
          "base_uri": "https://localhost:8080/",
          "height": 488
        },
        "id": "kzTKY5Nj4dy4",
        "outputId": "dff1eba9-f99c-425c-ddb3-d40fe3567156"
      },
      "execution_count": null,
      "outputs": [
        {
          "output_type": "execute_result",
          "data": {
            "text/plain": [
              "                        Missing Values  % of Total Values\n",
              "enrollee_id                          0           0.000000\n",
              "city                                 0           0.000000\n",
              "city_development_index              28           0.146153\n",
              "gender                            4508          23.530640\n",
              "relevent_experience                  0           0.000000\n",
              "enrolled_university                386           2.014824\n",
              "education_level                    460           2.401086\n",
              "major_discipline                  2813          14.683161\n",
              "experience                          65           0.339284\n",
              "company_size                      5938          30.994885\n",
              "company_type                      6140          32.049274\n",
              "last_new_job                       423           2.207955\n",
              "training_hours                       0           0.000000\n",
              "target                               0           0.000000"
            ],
            "text/html": [
              "\n",
              "  <div id=\"df-d74883da-6830-436f-9291-7fd4882abc6f\">\n",
              "    <div class=\"colab-df-container\">\n",
              "      <div>\n",
              "<style scoped>\n",
              "    .dataframe tbody tr th:only-of-type {\n",
              "        vertical-align: middle;\n",
              "    }\n",
              "\n",
              "    .dataframe tbody tr th {\n",
              "        vertical-align: top;\n",
              "    }\n",
              "\n",
              "    .dataframe thead th {\n",
              "        text-align: right;\n",
              "    }\n",
              "</style>\n",
              "<table border=\"1\" class=\"dataframe\">\n",
              "  <thead>\n",
              "    <tr style=\"text-align: right;\">\n",
              "      <th></th>\n",
              "      <th>Missing Values</th>\n",
              "      <th>% of Total Values</th>\n",
              "    </tr>\n",
              "  </thead>\n",
              "  <tbody>\n",
              "    <tr>\n",
              "      <th>enrollee_id</th>\n",
              "      <td>0</td>\n",
              "      <td>0.000000</td>\n",
              "    </tr>\n",
              "    <tr>\n",
              "      <th>city</th>\n",
              "      <td>0</td>\n",
              "      <td>0.000000</td>\n",
              "    </tr>\n",
              "    <tr>\n",
              "      <th>city_development_index</th>\n",
              "      <td>28</td>\n",
              "      <td>0.146153</td>\n",
              "    </tr>\n",
              "    <tr>\n",
              "      <th>gender</th>\n",
              "      <td>4508</td>\n",
              "      <td>23.530640</td>\n",
              "    </tr>\n",
              "    <tr>\n",
              "      <th>relevent_experience</th>\n",
              "      <td>0</td>\n",
              "      <td>0.000000</td>\n",
              "    </tr>\n",
              "    <tr>\n",
              "      <th>enrolled_university</th>\n",
              "      <td>386</td>\n",
              "      <td>2.014824</td>\n",
              "    </tr>\n",
              "    <tr>\n",
              "      <th>education_level</th>\n",
              "      <td>460</td>\n",
              "      <td>2.401086</td>\n",
              "    </tr>\n",
              "    <tr>\n",
              "      <th>major_discipline</th>\n",
              "      <td>2813</td>\n",
              "      <td>14.683161</td>\n",
              "    </tr>\n",
              "    <tr>\n",
              "      <th>experience</th>\n",
              "      <td>65</td>\n",
              "      <td>0.339284</td>\n",
              "    </tr>\n",
              "    <tr>\n",
              "      <th>company_size</th>\n",
              "      <td>5938</td>\n",
              "      <td>30.994885</td>\n",
              "    </tr>\n",
              "    <tr>\n",
              "      <th>company_type</th>\n",
              "      <td>6140</td>\n",
              "      <td>32.049274</td>\n",
              "    </tr>\n",
              "    <tr>\n",
              "      <th>last_new_job</th>\n",
              "      <td>423</td>\n",
              "      <td>2.207955</td>\n",
              "    </tr>\n",
              "    <tr>\n",
              "      <th>training_hours</th>\n",
              "      <td>0</td>\n",
              "      <td>0.000000</td>\n",
              "    </tr>\n",
              "    <tr>\n",
              "      <th>target</th>\n",
              "      <td>0</td>\n",
              "      <td>0.000000</td>\n",
              "    </tr>\n",
              "  </tbody>\n",
              "</table>\n",
              "</div>\n",
              "      <button class=\"colab-df-convert\" onclick=\"convertToInteractive('df-d74883da-6830-436f-9291-7fd4882abc6f')\"\n",
              "              title=\"Convert this dataframe to an interactive table.\"\n",
              "              style=\"display:none;\">\n",
              "        \n",
              "  <svg xmlns=\"http://www.w3.org/2000/svg\" height=\"24px\"viewBox=\"0 0 24 24\"\n",
              "       width=\"24px\">\n",
              "    <path d=\"M0 0h24v24H0V0z\" fill=\"none\"/>\n",
              "    <path d=\"M18.56 5.44l.94 2.06.94-2.06 2.06-.94-2.06-.94-.94-2.06-.94 2.06-2.06.94zm-11 1L8.5 8.5l.94-2.06 2.06-.94-2.06-.94L8.5 2.5l-.94 2.06-2.06.94zm10 10l.94 2.06.94-2.06 2.06-.94-2.06-.94-.94-2.06-.94 2.06-2.06.94z\"/><path d=\"M17.41 7.96l-1.37-1.37c-.4-.4-.92-.59-1.43-.59-.52 0-1.04.2-1.43.59L10.3 9.45l-7.72 7.72c-.78.78-.78 2.05 0 2.83L4 21.41c.39.39.9.59 1.41.59.51 0 1.02-.2 1.41-.59l7.78-7.78 2.81-2.81c.8-.78.8-2.07 0-2.86zM5.41 20L4 18.59l7.72-7.72 1.47 1.35L5.41 20z\"/>\n",
              "  </svg>\n",
              "      </button>\n",
              "      \n",
              "  <style>\n",
              "    .colab-df-container {\n",
              "      display:flex;\n",
              "      flex-wrap:wrap;\n",
              "      gap: 12px;\n",
              "    }\n",
              "\n",
              "    .colab-df-convert {\n",
              "      background-color: #E8F0FE;\n",
              "      border: none;\n",
              "      border-radius: 50%;\n",
              "      cursor: pointer;\n",
              "      display: none;\n",
              "      fill: #1967D2;\n",
              "      height: 32px;\n",
              "      padding: 0 0 0 0;\n",
              "      width: 32px;\n",
              "    }\n",
              "\n",
              "    .colab-df-convert:hover {\n",
              "      background-color: #E2EBFA;\n",
              "      box-shadow: 0px 1px 2px rgba(60, 64, 67, 0.3), 0px 1px 3px 1px rgba(60, 64, 67, 0.15);\n",
              "      fill: #174EA6;\n",
              "    }\n",
              "\n",
              "    [theme=dark] .colab-df-convert {\n",
              "      background-color: #3B4455;\n",
              "      fill: #D2E3FC;\n",
              "    }\n",
              "\n",
              "    [theme=dark] .colab-df-convert:hover {\n",
              "      background-color: #434B5C;\n",
              "      box-shadow: 0px 1px 3px 1px rgba(0, 0, 0, 0.15);\n",
              "      filter: drop-shadow(0px 1px 2px rgba(0, 0, 0, 0.3));\n",
              "      fill: #FFFFFF;\n",
              "    }\n",
              "  </style>\n",
              "\n",
              "      <script>\n",
              "        const buttonEl =\n",
              "          document.querySelector('#df-d74883da-6830-436f-9291-7fd4882abc6f button.colab-df-convert');\n",
              "        buttonEl.style.display =\n",
              "          google.colab.kernel.accessAllowed ? 'block' : 'none';\n",
              "\n",
              "        async function convertToInteractive(key) {\n",
              "          const element = document.querySelector('#df-d74883da-6830-436f-9291-7fd4882abc6f');\n",
              "          const dataTable =\n",
              "            await google.colab.kernel.invokeFunction('convertToInteractive',\n",
              "                                                     [key], {});\n",
              "          if (!dataTable) return;\n",
              "\n",
              "          const docLinkHtml = 'Like what you see? Visit the ' +\n",
              "            '<a target=\"_blank\" href=https://colab.research.google.com/notebooks/data_table.ipynb>data table notebook</a>'\n",
              "            + ' to learn more about interactive tables.';\n",
              "          element.innerHTML = '';\n",
              "          dataTable['output_type'] = 'display_data';\n",
              "          await google.colab.output.renderOutput(dataTable, element);\n",
              "          const docLink = document.createElement('div');\n",
              "          docLink.innerHTML = docLinkHtml;\n",
              "          element.appendChild(docLink);\n",
              "        }\n",
              "      </script>\n",
              "    </div>\n",
              "  </div>\n",
              "  "
            ]
          },
          "metadata": {},
          "execution_count": 17
        }
      ]
    },
    {
      "cell_type": "code",
      "source": [
        "# checking the null values under a specific row\n",
        "\n",
        "df.loc[10, :].isnull().sum()"
      ],
      "metadata": {
        "colab": {
          "base_uri": "https://localhost:8080/"
        },
        "id": "ZT8Tz4uU8-lz",
        "outputId": "1594aab0-787c-492a-9311-a26debb6ea70"
      },
      "execution_count": null,
      "outputs": [
        {
          "output_type": "execute_result",
          "data": {
            "text/plain": [
              "5"
            ]
          },
          "metadata": {},
          "execution_count": 18
        }
      ]
    },
    {
      "cell_type": "code",
      "source": [
        "# checking all null values in the dataset\n",
        "\n",
        "df.isnull().sum().sum()"
      ],
      "metadata": {
        "colab": {
          "base_uri": "https://localhost:8080/"
        },
        "id": "VwSm_9C39zba",
        "outputId": "dbf50e3e-d59f-4655-fd9d-6c8f7a0f5183"
      },
      "execution_count": null,
      "outputs": [
        {
          "output_type": "execute_result",
          "data": {
            "text/plain": [
              "20761"
            ]
          },
          "metadata": {},
          "execution_count": 19
        }
      ]
    },
    {
      "cell_type": "code",
      "source": [
        "## percent of data that is missing\n",
        "df.isnull().sum().sum()/np.product(df.shape)*100"
      ],
      "metadata": {
        "colab": {
          "base_uri": "https://localhost:8080/"
        },
        "id": "7KqnOfuVsSu4",
        "outputId": "2af1e93d-1384-40dd-aa48-e06b8946e40e"
      },
      "execution_count": null,
      "outputs": [
        {
          "output_type": "execute_result",
          "data": {
            "text/plain": [
              "7.7405186941673"
            ]
          },
          "metadata": {},
          "execution_count": 20
        }
      ]
    },
    {
      "cell_type": "markdown",
      "source": [
        "## 3.2. Using Missingno library\n",
        "\n",
        "Missingno library is helpful for graphical analysis of missing values. "
      ],
      "metadata": {
        "id": "61gV-GsQ5WhO"
      }
    },
    {
      "cell_type": "code",
      "source": [
        "import missingno as msno\n",
        "msno.bar(df)"
      ],
      "metadata": {
        "colab": {
          "base_uri": "https://localhost:8080/",
          "height": 759
        },
        "id": "H2gyWVBp3ZxB",
        "outputId": "2859fddc-9003-4e3e-96e1-12dc9688fe66"
      },
      "execution_count": null,
      "outputs": [
        {
          "output_type": "execute_result",
          "data": {
            "text/plain": [
              "<Axes: >"
            ]
          },
          "metadata": {},
          "execution_count": 21
        },
        {
          "output_type": "display_data",
          "data": {
            "text/plain": [
              "<Figure size 1800x720 with 3 Axes>"
            ],
            "image/png": "[encoded data removed]"
          },
          "metadata": {
            "needs_background": "light"
          }
        }
      ]
    },
    {
      "cell_type": "markdown",
      "source": [
        "#### Visualizing the locations of the missing data\n",
        "\n",
        "1. The plot appears white wherever there are missing values. \n",
        "\n",
        "2. The sparkline on the right gives an idea of the general shape of the completeness of the data and points out the row with the minimum nullities and the total number of columns in a given dataset, at the bottom."
      ],
      "metadata": {
        "id": "qKzFOa2n6xIB"
      }
    },
    {
      "cell_type": "code",
      "source": [
        "\n",
        "msno.matrix(df)"
      ],
      "metadata": {
        "colab": {
          "base_uri": "https://localhost:8080/",
          "height": 720
        },
        "id": "N2klUtcR6QEp",
        "outputId": "527f6e2f-3375-4ee8-c922-19ae3f620f48"
      },
      "execution_count": null,
      "outputs": [
        {
          "output_type": "execute_result",
          "data": {
            "text/plain": [
              "<Axes: >"
            ]
          },
          "metadata": {},
          "execution_count": 22
        },
        {
          "output_type": "display_data",
          "data": {
            "text/plain": [
              "<Figure size 1800x720 with 2 Axes>"
            ],
            "image/png": "[encoded data removed]"
          },
          "metadata": {
            "needs_background": "light"
          }
        }
      ]
    },
    {
      "cell_type": "code",
      "source": [
        "msno.matrix(df.sample(100))"
      ],
      "metadata": {
        "colab": {
          "base_uri": "https://localhost:8080/",
          "height": 729
        },
        "id": "V3wvItLR71Uy",
        "outputId": "732bef6c-1743-4490-fc04-f22a30b14620"
      },
      "execution_count": null,
      "outputs": [
        {
          "output_type": "execute_result",
          "data": {
            "text/plain": [
              "<Axes: >"
            ]
          },
          "metadata": {},
          "execution_count": 23
        },
        {
          "output_type": "display_data",
          "data": {
            "text/plain": [
              "<Figure size 1800x720 with 2 Axes>"
            ],
            "image/png": "[encoded data removed]"
          },
          "metadata": {
            "needs_background": "light"
          }
        }
      ]
    },
    {
      "cell_type": "code",
      "source": [
        "# Finding reason for missing data using matrix plot\n",
        "msno.matrix(df)"
      ],
      "metadata": {
        "colab": {
          "base_uri": "https://localhost:8080/",
          "height": 720
        },
        "id": "mlZ-M2IcEfYD",
        "outputId": "e056064a-5d1f-484d-b852-1defc5063cdc"
      },
      "execution_count": null,
      "outputs": [
        {
          "output_type": "execute_result",
          "data": {
            "text/plain": [
              "<Axes: >"
            ]
          },
          "metadata": {},
          "execution_count": 24
        },
        {
          "output_type": "display_data",
          "data": {
            "text/plain": [
              "<Figure size 1800x720 with 2 Axes>"
            ],
            "image/png": "[encoded data removed]"
          },
          "metadata": {
            "needs_background": "light"
          }
        }
      ]
    },
    {
      "cell_type": "code",
      "source": [
        "#sorted by Gender\n",
        "sorted = df.sort_values('gender')\n",
        "msno.matrix(sorted)"
      ],
      "metadata": {
        "colab": {
          "base_uri": "https://localhost:8080/",
          "height": 720
        },
        "id": "onyE4SQIHRdF",
        "outputId": "bec9e5f8-c373-4622-b392-d6f05b528cb2"
      },
      "execution_count": null,
      "outputs": [
        {
          "output_type": "execute_result",
          "data": {
            "text/plain": [
              "<Axes: >"
            ]
          },
          "metadata": {},
          "execution_count": 25
        },
        {
          "output_type": "display_data",
          "data": {
            "text/plain": [
              "<Figure size 1800x720 with 2 Axes>"
            ],
            "image/png": "[encoded data removed]"
          },
          "metadata": {
            "needs_background": "light"
          }
        }
      ]
    },
    {
      "cell_type": "markdown",
      "source": [
        "it is clear that there is no relation between the missingness in `Gender` and rest variables."
      ],
      "metadata": {
        "id": "yuuRB0xWHm3r"
      }
    },
    {
      "cell_type": "code",
      "source": [
        "## Finding reason for missing data using a Heatmap\n",
        "msno.heatmap(df)"
      ],
      "metadata": {
        "colab": {
          "base_uri": "https://localhost:8080/",
          "height": 861
        },
        "id": "TXrlkhKfH6wL",
        "outputId": "61e82a37-f9d2-4a4c-a5ac-35493a96cea2"
      },
      "execution_count": null,
      "outputs": [
        {
          "output_type": "execute_result",
          "data": {
            "text/plain": [
              "<Axes: >"
            ]
          },
          "metadata": {},
          "execution_count": 26
        },
        {
          "output_type": "display_data",
          "data": {
            "text/plain": [
              "<Figure size 1440x864 with 2 Axes>"
            ],
            "image/png": "[encoded data removed]"
          },
          "metadata": {
            "needs_background": "light"
          }
        }
      ]
    },
    {
      "cell_type": "markdown",
      "source": [
        "The heatmap function shows that there are no strong correlations between missing values of different variables. \n",
        "\n",
        "Low correlations further indicate that the data are MAR."
      ],
      "metadata": {
        "id": "aWf4VeThIKkl"
      }
    },
    {
      "cell_type": "code",
      "source": [
        "## Finding reason for missing data using Dendrogram\n",
        "# A dendogram is a tree diagram of missingness. It groups the highly correlated variables together.\n",
        "msno.dendrogram(df)"
      ],
      "metadata": {
        "colab": {
          "base_uri": "https://localhost:8080/",
          "height": 715
        },
        "id": "xo8LldYGIWys",
        "outputId": "e194443d-a639-4d62-c557-458f64961b9e"
      },
      "execution_count": null,
      "outputs": [
        {
          "output_type": "execute_result",
          "data": {
            "text/plain": [
              "<Axes: >"
            ]
          },
          "metadata": {},
          "execution_count": 27
        },
        {
          "output_type": "display_data",
          "data": {
            "text/plain": [
              "<Figure size 1800x720 with 1 Axes>"
            ],
            "image/png": "[encoded data removed]"
          },
          "metadata": {
            "needs_background": "light"
          }
        }
      ]
    },
    {
      "cell_type": "markdown",
      "source": [
        "# 4. Treatment of missing data\n",
        "\n",
        "* Missing data reduces the representativeness of the sample and can therefore distort inferences about the population. \n",
        "* There are three main approaches to handle missing data: \n",
        "  * (1) Drop/delete—where samples with invalid data are discarded from further analysis\n",
        "  * (2) Imputation—where values are filled in the place of missing data,\n",
        "  * (3) Analysis—by directly applying methods unaffected by the missing values. "
      ],
      "metadata": {
        "id": "mQ_1gAQjBUZW"
      }
    },
    {
      "cell_type": "markdown",
      "source": [
        "# 4.1. Drop/Delete Missing Values\n",
        "\n",
        "* If you're in a hurry or don't have a reason to figure out why your values are missing, one option you have is to just remove any rows or columns that contain missing values. \n",
        "* this approch is not reccomended for important projects\n",
        "* It's usually worth it to take the time \n",
        "    to go through your dataset\n",
        "    look at all the columns with missing values one-by-one \n",
        "\n",
        "The first choice is to remove the `missing values` using `.drop` method of Pandas.\n",
        "\n",
        "## (4.1.1) List-wise deletion\n",
        "* Complete case analysis (listwise deletion) is the default way of handling\n",
        "incomplete data in many statistical packages\n",
        "* eliminates all cases with one or more missing values on the analysis variables.\n",
        "* If the data are MCAR, listwise deletion produces \n",
        "  * unbiased estimates of means, variances and regression weights. \n",
        "  * standard errors and significance levels that are correct for the reduced subset of data, but that are often larger relative to all available data.\n",
        "* If the data are not MCAR, listwise deletion can severely bias estimates of\n",
        "means, regression coefficients and correlations. \n",
        "  * the bias in the estimated mean increases with the \n",
        "    * difference between means of the observed and missing cases, and \n",
        "    * proportion of the missing data.  \n",
        "  * bias of listwise deletion under MAR and MNAR is simulated by [Schafer and Graham](https://pubmed.ncbi.nlm.nih.gov/12090408/).\n",
        "* major advantage of complete case analysis is convenience. \n",
        "* can provide better estimates than even the most sophisticated procedures. \n",
        "* Very useful often in the context of regression analysis\n",
        "* A disadvantage of listwise deletion is that it is potentially wasteful. \n",
        "  * It is not uncommon in real life applications that more than half of the original sample is lost, especially if the number of variables is large.\n",
        "  * a smaller subsample could seriously degrade the ability to\n",
        "detect the effects of interest.\n",
        "  * can lead to nonsensical subsamples.\n",
        "  * can introduce inconsistencies in reporting."
      ],
      "metadata": {
        "id": "OQ-oKmCQYG0Q"
      }
    },
    {
      "cell_type": "code",
      "source": [
        "df.isna().sum()\n"
      ],
      "metadata": {
        "colab": {
          "base_uri": "https://localhost:8080/"
        },
        "id": "tR0V5-PWYqwS",
        "outputId": "f815bf9a-3f4a-47eb-d742-7078eb66f784"
      },
      "execution_count": null,
      "outputs": [
        {
          "output_type": "execute_result",
          "data": {
            "text/plain": [
              "enrollee_id                  0\n",
              "city                         0\n",
              "city_development_index      28\n",
              "gender                    4508\n",
              "relevent_experience          0\n",
              "enrolled_university        386\n",
              "education_level            460\n",
              "major_discipline          2813\n",
              "experience                  65\n",
              "company_size              5938\n",
              "company_type              6140\n",
              "last_new_job               423\n",
              "training_hours               0\n",
              "target                       0\n",
              "dtype: int64"
            ]
          },
          "metadata": {},
          "execution_count": 28
        }
      ]
    },
    {
      "cell_type": "code",
      "source": [
        "df['city_development_index'].mean()"
      ],
      "metadata": {
        "colab": {
          "base_uri": "https://localhost:8080/"
        },
        "id": "oCslRwrdReYb",
        "outputId": "af0566c9-f396-4d3f-efa4-2d27f9ecab75"
      },
      "execution_count": null,
      "outputs": [
        {
          "output_type": "execute_result",
          "data": {
            "text/plain": [
              "0.8288400418191323"
            ]
          },
          "metadata": {},
          "execution_count": 29
        }
      ]
    },
    {
      "cell_type": "markdown",
      "source": [
        "## (4.1.2) Pairwise deletion (available-case analysis) \n",
        "* attempts to remedy the data loss problem of listwise deletion. \n",
        "* Pairwise deletion is used when values are missing completely at random i.e MCAR. \n",
        "* During Pairwise deletion, only the missing values are deleted. \n",
        "* All operations in pandas like mean,sum etc intrinsically skip missing values.\n",
        "* The method calculates the \n",
        "  * means and (co)variances on all observed data. \n",
        "  * the mean of variable X is based on all cases with observed data on X, \n",
        "  * the mean of variable Y uses all cases with observed Y-values, and so on.\n",
        "  * For the correlation and covariance, all data are taken on which both X and Y have non-missing scores. \n",
        "  * Subsequently, the matrix of summary statistics are fed into a program for regression analysis, factor analysis or other modeling procedures.\n",
        "* The method is simple, uses all available information and produces\n",
        "consistent estimates of mean, correlations and covariances under MCAR\n",
        "* The estimates can be biased if the data are not MCAR. \n",
        "* Some columns having no missing values are also affected by this.\n",
        "* A major diadvantage of Listwise deletion is that a major chunk of data and hence a lot of information is lost. \n",
        "* use it only when the number of missing values is very small."
      ],
      "metadata": {
        "id": "ZFJg4VFEdM5y"
      }
    },
    {
      "cell_type": "code",
      "source": [
        "df.dropna(subset=['gender'],how='any',inplace=True)\n",
        "df['gender'].isnull().sum()\n",
        "\n",
        "df.isna().sum()"
      ],
      "metadata": {
        "colab": {
          "base_uri": "https://localhost:8080/"
        },
        "id": "LF1q4wxacTof",
        "outputId": "5334dbf5-91c2-4a24-971a-3e9b50637075"
      },
      "execution_count": null,
      "outputs": [
        {
          "output_type": "execute_result",
          "data": {
            "text/plain": [
              "0"
            ]
          },
          "metadata": {},
          "execution_count": 30
        },
        {
          "output_type": "execute_result",
          "data": {
            "text/plain": [
              "enrollee_id                  0\n",
              "city                         0\n",
              "city_development_index      18\n",
              "gender                       0\n",
              "relevent_experience          0\n",
              "enrolled_university        213\n",
              "education_level            259\n",
              "major_discipline          1978\n",
              "experience                  16\n",
              "company_size              4313\n",
              "company_type              4433\n",
              "last_new_job                74\n",
              "training_hours               0\n",
              "target                       0\n",
              "dtype: int64"
            ]
          },
          "metadata": {},
          "execution_count": 30
        }
      ]
    },
    {
      "cell_type": "markdown",
      "source": [
        "## (4.1.3) drop columns with at least one missing value\n",
        "\n",
        "* Columns that contain a lot of missing values, say more than 80%, and the feature is not significant, you can delete that feature. \n",
        "* However, it is not a good methodology to remove a variable by deleting data."
      ],
      "metadata": {
        "id": "JP7RpBd0wZOA"
      }
    },
    {
      "cell_type": "code",
      "source": [
        "df.dropna(axis=1)"
      ],
      "metadata": {
        "colab": {
          "base_uri": "https://localhost:8080/",
          "height": 423
        },
        "id": "HIEnbFDYwg7H",
        "outputId": "c57569b0-6ebc-4b14-9793-8cdf68a72855"
      },
      "execution_count": null,
      "outputs": [
        {
          "output_type": "execute_result",
          "data": {
            "text/plain": [
              "       enrollee_id      city  gender      relevent_experience  training_hours  \\\n",
              "0             8949  city_103    Male  Has relevent experience              36   \n",
              "1            29725   city_40    Male   No relevent experience              47   \n",
              "4              666  city_162    Male  Has relevent experience               8   \n",
              "6            28806  city_160    Male  Has relevent experience              24   \n",
              "7              402   city_46    Male  Has relevent experience              18   \n",
              "...            ...       ...     ...                      ...             ...   \n",
              "19152        29754  city_103  Female  Has relevent experience              25   \n",
              "19153         7386  city_173    Male   No relevent experience              42   \n",
              "19154        31398  city_103    Male  Has relevent experience              52   \n",
              "19155        24576  city_103    Male  Has relevent experience              44   \n",
              "19156         5756   city_65    Male  Has relevent experience              97   \n",
              "\n",
              "       target  \n",
              "0           1  \n",
              "1           0  \n",
              "4           0  \n",
              "6           0  \n",
              "7           1  \n",
              "...       ...  \n",
              "19152       0  \n",
              "19153       1  \n",
              "19154       1  \n",
              "19155       0  \n",
              "19156       0  \n",
              "\n",
              "[14650 rows x 6 columns]"
            ],
            "text/html": [
              "\n",
              "  <div id=\"df-d45e44a1-65b7-4c4a-9db2-c75c69d93999\">\n",
              "    <div class=\"colab-df-container\">\n",
              "      <div>\n",
              "<style scoped>\n",
              "    .dataframe tbody tr th:only-of-type {\n",
              "        vertical-align: middle;\n",
              "    }\n",
              "\n",
              "    .dataframe tbody tr th {\n",
              "        vertical-align: top;\n",
              "    }\n",
              "\n",
              "    .dataframe thead th {\n",
              "        text-align: right;\n",
              "    }\n",
              "</style>\n",
              "<table border=\"1\" class=\"dataframe\">\n",
              "  <thead>\n",
              "    <tr style=\"text-align: right;\">\n",
              "      <th></th>\n",
              "      <th>enrollee_id</th>\n",
              "      <th>city</th>\n",
              "      <th>gender</th>\n",
              "      <th>relevent_experience</th>\n",
              "      <th>training_hours</th>\n",
              "      <th>target</th>\n",
              "    </tr>\n",
              "  </thead>\n",
              "  <tbody>\n",
              "    <tr>\n",
              "      <th>0</th>\n",
              "      <td>8949</td>\n",
              "      <td>city_103</td>\n",
              "      <td>Male</td>\n",
              "      <td>Has relevent experience</td>\n",
              "      <td>36</td>\n",
              "      <td>1</td>\n",
              "    </tr>\n",
              "    <tr>\n",
              "      <th>1</th>\n",
              "      <td>29725</td>\n",
              "      <td>city_40</td>\n",
              "      <td>Male</td>\n",
              "      <td>No relevent experience</td>\n",
              "      <td>47</td>\n",
              "      <td>0</td>\n",
              "    </tr>\n",
              "    <tr>\n",
              "      <th>4</th>\n",
              "      <td>666</td>\n",
              "      <td>city_162</td>\n",
              "      <td>Male</td>\n",
              "      <td>Has relevent experience</td>\n",
              "      <td>8</td>\n",
              "      <td>0</td>\n",
              "    </tr>\n",
              "    <tr>\n",
              "      <th>6</th>\n",
              "      <td>28806</td>\n",
              "      <td>city_160</td>\n",
              "      <td>Male</td>\n",
              "      <td>Has relevent experience</td>\n",
              "      <td>24</td>\n",
              "      <td>0</td>\n",
              "    </tr>\n",
              "    <tr>\n",
              "      <th>7</th>\n",
              "      <td>402</td>\n",
              "      <td>city_46</td>\n",
              "      <td>Male</td>\n",
              "      <td>Has relevent experience</td>\n",
              "      <td>18</td>\n",
              "      <td>1</td>\n",
              "    </tr>\n",
              "    <tr>\n",
              "      <th>...</th>\n",
              "      <td>...</td>\n",
              "      <td>...</td>\n",
              "      <td>...</td>\n",
              "      <td>...</td>\n",
              "      <td>...</td>\n",
              "      <td>...</td>\n",
              "    </tr>\n",
              "    <tr>\n",
              "      <th>19152</th>\n",
              "      <td>29754</td>\n",
              "      <td>city_103</td>\n",
              "      <td>Female</td>\n",
              "      <td>Has relevent experience</td>\n",
              "      <td>25</td>\n",
              "      <td>0</td>\n",
              "    </tr>\n",
              "    <tr>\n",
              "      <th>19153</th>\n",
              "      <td>7386</td>\n",
              "      <td>city_173</td>\n",
              "      <td>Male</td>\n",
              "      <td>No relevent experience</td>\n",
              "      <td>42</td>\n",
              "      <td>1</td>\n",
              "    </tr>\n",
              "    <tr>\n",
              "      <th>19154</th>\n",
              "      <td>31398</td>\n",
              "      <td>city_103</td>\n",
              "      <td>Male</td>\n",
              "      <td>Has relevent experience</td>\n",
              "      <td>52</td>\n",
              "      <td>1</td>\n",
              "    </tr>\n",
              "    <tr>\n",
              "      <th>19155</th>\n",
              "      <td>24576</td>\n",
              "      <td>city_103</td>\n",
              "      <td>Male</td>\n",
              "      <td>Has relevent experience</td>\n",
              "      <td>44</td>\n",
              "      <td>0</td>\n",
              "    </tr>\n",
              "    <tr>\n",
              "      <th>19156</th>\n",
              "      <td>5756</td>\n",
              "      <td>city_65</td>\n",
              "      <td>Male</td>\n",
              "      <td>Has relevent experience</td>\n",
              "      <td>97</td>\n",
              "      <td>0</td>\n",
              "    </tr>\n",
              "  </tbody>\n",
              "</table>\n",
              "<p>14650 rows × 6 columns</p>\n",
              "</div>\n",
              "      <button class=\"colab-df-convert\" onclick=\"convertToInteractive('df-d45e44a1-65b7-4c4a-9db2-c75c69d93999')\"\n",
              "              title=\"Convert this dataframe to an interactive table.\"\n",
              "              style=\"display:none;\">\n",
              "        \n",
              "  <svg xmlns=\"http://www.w3.org/2000/svg\" height=\"24px\"viewBox=\"0 0 24 24\"\n",
              "       width=\"24px\">\n",
              "    <path d=\"M0 0h24v24H0V0z\" fill=\"none\"/>\n",
              "    <path d=\"M18.56 5.44l.94 2.06.94-2.06 2.06-.94-2.06-.94-.94-2.06-.94 2.06-2.06.94zm-11 1L8.5 8.5l.94-2.06 2.06-.94-2.06-.94L8.5 2.5l-.94 2.06-2.06.94zm10 10l.94 2.06.94-2.06 2.06-.94-2.06-.94-.94-2.06-.94 2.06-2.06.94z\"/><path d=\"M17.41 7.96l-1.37-1.37c-.4-.4-.92-.59-1.43-.59-.52 0-1.04.2-1.43.59L10.3 9.45l-7.72 7.72c-.78.78-.78 2.05 0 2.83L4 21.41c.39.39.9.59 1.41.59.51 0 1.02-.2 1.41-.59l7.78-7.78 2.81-2.81c.8-.78.8-2.07 0-2.86zM5.41 20L4 18.59l7.72-7.72 1.47 1.35L5.41 20z\"/>\n",
              "  </svg>\n",
              "      </button>\n",
              "      \n",
              "  <style>\n",
              "    .colab-df-container {\n",
              "      display:flex;\n",
              "      flex-wrap:wrap;\n",
              "      gap: 12px;\n",
              "    }\n",
              "\n",
              "    .colab-df-convert {\n",
              "      background-color: #E8F0FE;\n",
              "      border: none;\n",
              "      border-radius: 50%;\n",
              "      cursor: pointer;\n",
              "      display: none;\n",
              "      fill: #1967D2;\n",
              "      height: 32px;\n",
              "      padding: 0 0 0 0;\n",
              "      width: 32px;\n",
              "    }\n",
              "\n",
              "    .colab-df-convert:hover {\n",
              "      background-color: #E2EBFA;\n",
              "      box-shadow: 0px 1px 2px rgba(60, 64, 67, 0.3), 0px 1px 3px 1px rgba(60, 64, 67, 0.15);\n",
              "      fill: #174EA6;\n",
              "    }\n",
              "\n",
              "    [theme=dark] .colab-df-convert {\n",
              "      background-color: #3B4455;\n",
              "      fill: #D2E3FC;\n",
              "    }\n",
              "\n",
              "    [theme=dark] .colab-df-convert:hover {\n",
              "      background-color: #434B5C;\n",
              "      box-shadow: 0px 1px 3px 1px rgba(0, 0, 0, 0.15);\n",
              "      filter: drop-shadow(0px 1px 2px rgba(0, 0, 0, 0.3));\n",
              "      fill: #FFFFFF;\n",
              "    }\n",
              "  </style>\n",
              "\n",
              "      <script>\n",
              "        const buttonEl =\n",
              "          document.querySelector('#df-d45e44a1-65b7-4c4a-9db2-c75c69d93999 button.colab-df-convert');\n",
              "        buttonEl.style.display =\n",
              "          google.colab.kernel.accessAllowed ? 'block' : 'none';\n",
              "\n",
              "        async function convertToInteractive(key) {\n",
              "          const element = document.querySelector('#df-d45e44a1-65b7-4c4a-9db2-c75c69d93999');\n",
              "          const dataTable =\n",
              "            await google.colab.kernel.invokeFunction('convertToInteractive',\n",
              "                                                     [key], {});\n",
              "          if (!dataTable) return;\n",
              "\n",
              "          const docLinkHtml = 'Like what you see? Visit the ' +\n",
              "            '<a target=\"_blank\" href=https://colab.research.google.com/notebooks/data_table.ipynb>data table notebook</a>'\n",
              "            + ' to learn more about interactive tables.';\n",
              "          element.innerHTML = '';\n",
              "          dataTable['output_type'] = 'display_data';\n",
              "          await google.colab.output.renderOutput(dataTable, element);\n",
              "          const docLink = document.createElement('div');\n",
              "          docLink.innerHTML = docLinkHtml;\n",
              "          element.appendChild(docLink);\n",
              "        }\n",
              "      </script>\n",
              "    </div>\n",
              "  </div>\n",
              "  "
            ]
          },
          "metadata": {},
          "execution_count": 31
        }
      ]
    },
    {
      "cell_type": "markdown",
      "source": [
        "# **4.2. Imputation/Filling Missing Values**\n",
        "\n",
        "* Specify what we want the `NaN` values to be replaced with. \n",
        "* Check your variable type before filling\n",
        "  * Categorical case- replace all the `NaN` values with appropriate value of the labels/factors\n",
        "  * Numerical Case- replace all the `NaN` values with appropriate values like 0, mean, and others.\n",
        "* There are two types \n",
        "  * Univariate : Using one variable (the same) for imputing the mising values\n",
        "  * Multivariate : Using multiple variables for imputing the mising values in one variable\n",
        "* This may be done by two ways...\n",
        "  * Using basic python/`pandas` tools\n",
        "    * Use `fillna()` function to fill in missing values\n",
        "  * Using special packages like `sklearn`\n",
        "    * Use `SimpleImputer()` function to fill in missing values"
      ],
      "metadata": {
        "id": "PZBx0tSgRxHj"
      }
    },
    {
      "cell_type": "code",
      "source": [
        "# get the index or location of the missing values \n",
        "idx=df.index[df.gender.isna()].to_list()"
      ],
      "metadata": {
        "id": "O-ETXv358zxL"
      },
      "execution_count": null,
      "outputs": []
    },
    {
      "cell_type": "markdown",
      "source": [
        "## (4.2.1) Fill missing values with specific guess (arbitrary) values\n",
        "\n",
        "* Applicable for numerical and categorical variables\n",
        "* Useful when \n",
        "  * missing data are **MNAR** type\n",
        "* Advantage: Simple\n",
        "* Disadvantages:\n",
        "  * Changes the shape of the distribution\n",
        "  * Changes variability in the data\n",
        "  * Creates outliers \n",
        "  * Changes in covariance/ Correlation\n",
        "\n"
      ],
      "metadata": {
        "id": "0w2Yi9EpcEyq"
      }
    },
    {
      "cell_type": "code",
      "source": [
        "df.gender.loc[idx[:101]]='Male'\n",
        "df.gender.loc[idx[:101]]"
      ],
      "metadata": {
        "colab": {
          "base_uri": "https://localhost:8080/"
        },
        "id": "p9MJ6FYv9vgE",
        "outputId": "59e7e8c9-2978-4885-f752-3df6fc1350ec"
      },
      "execution_count": null,
      "outputs": [
        {
          "output_type": "stream",
          "name": "stderr",
          "text": [
            "<ipython-input-33-eb11bb01a041>:1: SettingWithCopyWarning: \n",
            "A value is trying to be set on a copy of a slice from a DataFrame\n",
            "\n",
            "See the caveats in the documentation: https://pandas.pydata.org/pandas-docs/stable/user_guide/indexing.html#returning-a-view-versus-a-copy\n",
            "  df.gender.loc[idx[:101]]='Male'\n"
          ]
        },
        {
          "output_type": "execute_result",
          "data": {
            "text/plain": [
              "Series([], Name: gender, dtype: object)"
            ]
          },
          "metadata": {},
          "execution_count": 33
        }
      ]
    },
    {
      "cell_type": "markdown",
      "source": [
        "## (4.2.2) Fill missing values with the mean/median/mode value(s)\n",
        "* Mean/Median values applicable for numerical data\n",
        "* Mode value applicable for categorical data\n",
        "* Useful when \n",
        "  * missing data are **MCAR** type\n",
        "  * percentage of missing data is less than 5%.\n",
        "* Advantage: Simple\n",
        "* Disadvantages:\n",
        "  * Changes the shape of the distribution\n",
        "  * Changes variability in the data\n",
        "  * Creates outliers \n",
        "  * Changes in covariance/ Correlation"
      ],
      "metadata": {
        "id": "f22-KC8ocrfc"
      }
    },
    {
      "cell_type": "code",
      "source": [
        "fill_mean = df.city_development_index.fillna(df['city_development_index'].mean())\n",
        "fill_mean"
      ],
      "metadata": {
        "id": "q76llurcZypv",
        "colab": {
          "base_uri": "https://localhost:8080/"
        },
        "outputId": "90773c46-d28b-4d3a-8e41-9a5afb1a5b3f"
      },
      "execution_count": null,
      "outputs": [
        {
          "output_type": "execute_result",
          "data": {
            "text/plain": [
              "0        0.920\n",
              "1        0.776\n",
              "4        0.767\n",
              "6        0.920\n",
              "7        0.762\n",
              "         ...  \n",
              "19152    0.920\n",
              "19153    0.878\n",
              "19154    0.920\n",
              "19155    0.920\n",
              "19156    0.802\n",
              "Name: city_development_index, Length: 14650, dtype: float64"
            ]
          },
          "metadata": {},
          "execution_count": 34
        }
      ]
    },
    {
      "cell_type": "markdown",
      "source": [
        "## (4.2.3) Fill missing values with the mean/median/mode value within groups\n",
        "* fill missing values in the group by the Mean/Median values for the same group\n",
        "* Useful when \n",
        "  * missing data are **MCAR** type\n",
        "  * percentage of missing data is less than 5%.\n",
        "* Advantage: Simple\n",
        "* Disadvantages:\n",
        "  * Changes the shape of the distribution\n",
        "  * Changes variability in the data\n",
        "  * Creates outliers \n",
        "  * Changes in covariance/ Correlation"
      ],
      "metadata": {
        "id": "jwG4gOEIFUuv"
      }
    },
    {
      "cell_type": "markdown",
      "source": [
        "## (4.2.4) End of distribution imputation\n",
        "\n",
        "* Applicable for numerical variables\n",
        "* Useful when \n",
        "  * missing data are **MNAR** type\n",
        "* If distribution of missing values is \n",
        "  * Normal : fill missing values by `μ+3σ`\n",
        "  * Skewed : fill missing values by `Q1-1.5 IQR` or `Q3+1.5 IQR`\n",
        "* Advantage: Easy to apply\n",
        "* Disadvantages:\n",
        "  * Changes the shape of the distribution\n",
        "  * Changes variability in the data\n",
        "  * Creates outliers \n",
        "  * Changes in covariance/ Correlation"
      ],
      "metadata": {
        "id": "Wh_cLB0PyvP_"
      }
    },
    {
      "cell_type": "markdown",
      "source": [
        "## (4.2.5) Hot deck method\n",
        "\n",
        "Fill each missing value with an existing value from a similar case within the dataset"
      ],
      "metadata": {
        "id": "SZEf4pu99Uqx"
      }
    },
    {
      "cell_type": "markdown",
      "source": [
        "#(4.2.6) `fillna()` methods\n",
        "\n",
        "1.  `fillna()` is used for imputing missing values\n",
        "   * `ffill`- Replace `NaN`s with **last observed value**\n",
        "   * `bfill`- Replace `NaN`s with **next observed value**\n"
      ],
      "metadata": {
        "id": "HqWoaWo8i78Y"
      }
    },
    {
      "cell_type": "code",
      "source": [
        "df_ts = pd.read_csv('./data/city_day_aqi.csv',parse_dates=True,index_col='Date')\n",
        "df_ts1=df_ts.copy(deep=True)\n",
        "df_ts.head()"
      ],
      "metadata": {
        "colab": {
          "base_uri": "https://localhost:8080/",
          "height": 237
        },
        "id": "OuuTOCY9vgHu",
        "outputId": "13d10512-5393-4e7b-93e8-05719c4c92d8"
      },
      "execution_count": null,
      "outputs": [
        {
          "output_type": "execute_result",
          "data": {
            "text/plain": [
              "                 City  PM2.5  PM10     NO    NO2    NOx  NH3     CO    SO2  \\\n",
              "Date                                                                         \n",
              "2015-01-01  Ahmedabad    NaN   NaN   0.92  18.22  17.15  NaN   0.92  27.64   \n",
              "2015-01-02  Ahmedabad    NaN   NaN   0.97  15.69  16.46  NaN   0.97  24.55   \n",
              "2015-01-03  Ahmedabad    NaN   NaN  17.40  19.30  29.70  NaN  17.40  29.07   \n",
              "2015-01-04  Ahmedabad    NaN   NaN   1.70  18.48  17.97  NaN   1.70  18.59   \n",
              "2015-01-05  Ahmedabad    NaN   NaN  22.10  21.42  37.76  NaN  22.10  39.33   \n",
              "\n",
              "                O3  Benzene  Toluene  Xylene  AQI AQI_Bucket  \n",
              "Date                                                          \n",
              "2015-01-01  133.36     0.00     0.02    0.00  NaN        NaN  \n",
              "2015-01-02   34.06     3.68     5.50    3.77  NaN        NaN  \n",
              "2015-01-03   30.70     6.80    16.40    2.25  NaN        NaN  \n",
              "2015-01-04   36.08     4.43    10.14    1.00  NaN        NaN  \n",
              "2015-01-05   39.31     7.01    18.89    2.78  NaN        NaN  "
            ],
            "text/html": [
              "\n",
              "  <div id=\"df-220aca15-3b4c-4b5a-83b0-2fcf4c11aec4\">\n",
              "    <div class=\"colab-df-container\">\n",
              "      <div>\n",
              "<style scoped>\n",
              "    .dataframe tbody tr th:only-of-type {\n",
              "        vertical-align: middle;\n",
              "    }\n",
              "\n",
              "    .dataframe tbody tr th {\n",
              "        vertical-align: top;\n",
              "    }\n",
              "\n",
              "    .dataframe thead th {\n",
              "        text-align: right;\n",
              "    }\n",
              "</style>\n",
              "<table border=\"1\" class=\"dataframe\">\n",
              "  <thead>\n",
              "    <tr style=\"text-align: right;\">\n",
              "      <th></th>\n",
              "      <th>City</th>\n",
              "      <th>PM2.5</th>\n",
              "      <th>PM10</th>\n",
              "      <th>NO</th>\n",
              "      <th>NO2</th>\n",
              "      <th>NOx</th>\n",
              "      <th>NH3</th>\n",
              "      <th>CO</th>\n",
              "      <th>SO2</th>\n",
              "      <th>O3</th>\n",
              "      <th>Benzene</th>\n",
              "      <th>Toluene</th>\n",
              "      <th>Xylene</th>\n",
              "      <th>AQI</th>\n",
              "      <th>AQI_Bucket</th>\n",
              "    </tr>\n",
              "    <tr>\n",
              "      <th>Date</th>\n",
              "      <th></th>\n",
              "      <th></th>\n",
              "      <th></th>\n",
              "      <th></th>\n",
              "      <th></th>\n",
              "      <th></th>\n",
              "      <th></th>\n",
              "      <th></th>\n",
              "      <th></th>\n",
              "      <th></th>\n",
              "      <th></th>\n",
              "      <th></th>\n",
              "      <th></th>\n",
              "      <th></th>\n",
              "      <th></th>\n",
              "    </tr>\n",
              "  </thead>\n",
              "  <tbody>\n",
              "    <tr>\n",
              "      <th>2015-01-01</th>\n",
              "      <td>Ahmedabad</td>\n",
              "      <td>NaN</td>\n",
              "      <td>NaN</td>\n",
              "      <td>0.92</td>\n",
              "      <td>18.22</td>\n",
              "      <td>17.15</td>\n",
              "      <td>NaN</td>\n",
              "      <td>0.92</td>\n",
              "      <td>27.64</td>\n",
              "      <td>133.36</td>\n",
              "      <td>0.00</td>\n",
              "      <td>0.02</td>\n",
              "      <td>0.00</td>\n",
              "      <td>NaN</td>\n",
              "      <td>NaN</td>\n",
              "    </tr>\n",
              "    <tr>\n",
              "      <th>2015-01-02</th>\n",
              "      <td>Ahmedabad</td>\n",
              "      <td>NaN</td>\n",
              "      <td>NaN</td>\n",
              "      <td>0.97</td>\n",
              "      <td>15.69</td>\n",
              "      <td>16.46</td>\n",
              "      <td>NaN</td>\n",
              "      <td>0.97</td>\n",
              "      <td>24.55</td>\n",
              "      <td>34.06</td>\n",
              "      <td>3.68</td>\n",
              "      <td>5.50</td>\n",
              "      <td>3.77</td>\n",
              "      <td>NaN</td>\n",
              "      <td>NaN</td>\n",
              "    </tr>\n",
              "    <tr>\n",
              "      <th>2015-01-03</th>\n",
              "      <td>Ahmedabad</td>\n",
              "      <td>NaN</td>\n",
              "      <td>NaN</td>\n",
              "      <td>17.40</td>\n",
              "      <td>19.30</td>\n",
              "      <td>29.70</td>\n",
              "      <td>NaN</td>\n",
              "      <td>17.40</td>\n",
              "      <td>29.07</td>\n",
              "      <td>30.70</td>\n",
              "      <td>6.80</td>\n",
              "      <td>16.40</td>\n",
              "      <td>2.25</td>\n",
              "      <td>NaN</td>\n",
              "      <td>NaN</td>\n",
              "    </tr>\n",
              "    <tr>\n",
              "      <th>2015-01-04</th>\n",
              "      <td>Ahmedabad</td>\n",
              "      <td>NaN</td>\n",
              "      <td>NaN</td>\n",
              "      <td>1.70</td>\n",
              "      <td>18.48</td>\n",
              "      <td>17.97</td>\n",
              "      <td>NaN</td>\n",
              "      <td>1.70</td>\n",
              "      <td>18.59</td>\n",
              "      <td>36.08</td>\n",
              "      <td>4.43</td>\n",
              "      <td>10.14</td>\n",
              "      <td>1.00</td>\n",
              "      <td>NaN</td>\n",
              "      <td>NaN</td>\n",
              "    </tr>\n",
              "    <tr>\n",
              "      <th>2015-01-05</th>\n",
              "      <td>Ahmedabad</td>\n",
              "      <td>NaN</td>\n",
              "      <td>NaN</td>\n",
              "      <td>22.10</td>\n",
              "      <td>21.42</td>\n",
              "      <td>37.76</td>\n",
              "      <td>NaN</td>\n",
              "      <td>22.10</td>\n",
              "      <td>39.33</td>\n",
              "      <td>39.31</td>\n",
              "      <td>7.01</td>\n",
              "      <td>18.89</td>\n",
              "      <td>2.78</td>\n",
              "      <td>NaN</td>\n",
              "      <td>NaN</td>\n",
              "    </tr>\n",
              "  </tbody>\n",
              "</table>\n",
              "</div>\n",
              "      <button class=\"colab-df-convert\" onclick=\"convertToInteractive('df-220aca15-3b4c-4b5a-83b0-2fcf4c11aec4')\"\n",
              "              title=\"Convert this dataframe to an interactive table.\"\n",
              "              style=\"display:none;\">\n",
              "        \n",
              "  <svg xmlns=\"http://www.w3.org/2000/svg\" height=\"24px\"viewBox=\"0 0 24 24\"\n",
              "       width=\"24px\">\n",
              "    <path d=\"M0 0h24v24H0V0z\" fill=\"none\"/>\n",
              "    <path d=\"M18.56 5.44l.94 2.06.94-2.06 2.06-.94-2.06-.94-.94-2.06-.94 2.06-2.06.94zm-11 1L8.5 8.5l.94-2.06 2.06-.94-2.06-.94L8.5 2.5l-.94 2.06-2.06.94zm10 10l.94 2.06.94-2.06 2.06-.94-2.06-.94-.94-2.06-.94 2.06-2.06.94z\"/><path d=\"M17.41 7.96l-1.37-1.37c-.4-.4-.92-.59-1.43-.59-.52 0-1.04.2-1.43.59L10.3 9.45l-7.72 7.72c-.78.78-.78 2.05 0 2.83L4 21.41c.39.39.9.59 1.41.59.51 0 1.02-.2 1.41-.59l7.78-7.78 2.81-2.81c.8-.78.8-2.07 0-2.86zM5.41 20L4 18.59l7.72-7.72 1.47 1.35L5.41 20z\"/>\n",
              "  </svg>\n",
              "      </button>\n",
              "      \n",
              "  <style>\n",
              "    .colab-df-container {\n",
              "      display:flex;\n",
              "      flex-wrap:wrap;\n",
              "      gap: 12px;\n",
              "    }\n",
              "\n",
              "    .colab-df-convert {\n",
              "      background-color: #E8F0FE;\n",
              "      border: none;\n",
              "      border-radius: 50%;\n",
              "      cursor: pointer;\n",
              "      display: none;\n",
              "      fill: #1967D2;\n",
              "      height: 32px;\n",
              "      padding: 0 0 0 0;\n",
              "      width: 32px;\n",
              "    }\n",
              "\n",
              "    .colab-df-convert:hover {\n",
              "      background-color: #E2EBFA;\n",
              "      box-shadow: 0px 1px 2px rgba(60, 64, 67, 0.3), 0px 1px 3px 1px rgba(60, 64, 67, 0.15);\n",
              "      fill: #174EA6;\n",
              "    }\n",
              "\n",
              "    [theme=dark] .colab-df-convert {\n",
              "      background-color: #3B4455;\n",
              "      fill: #D2E3FC;\n",
              "    }\n",
              "\n",
              "    [theme=dark] .colab-df-convert:hover {\n",
              "      background-color: #434B5C;\n",
              "      box-shadow: 0px 1px 3px 1px rgba(0, 0, 0, 0.15);\n",
              "      filter: drop-shadow(0px 1px 2px rgba(0, 0, 0, 0.3));\n",
              "      fill: #FFFFFF;\n",
              "    }\n",
              "  </style>\n",
              "\n",
              "      <script>\n",
              "        const buttonEl =\n",
              "          document.querySelector('#df-220aca15-3b4c-4b5a-83b0-2fcf4c11aec4 button.colab-df-convert');\n",
              "        buttonEl.style.display =\n",
              "          google.colab.kernel.accessAllowed ? 'block' : 'none';\n",
              "\n",
              "        async function convertToInteractive(key) {\n",
              "          const element = document.querySelector('#df-220aca15-3b4c-4b5a-83b0-2fcf4c11aec4');\n",
              "          const dataTable =\n",
              "            await google.colab.kernel.invokeFunction('convertToInteractive',\n",
              "                                                     [key], {});\n",
              "          if (!dataTable) return;\n",
              "\n",
              "          const docLinkHtml = 'Like what you see? Visit the ' +\n",
              "            '<a target=\"_blank\" href=https://colab.research.google.com/notebooks/data_table.ipynb>data table notebook</a>'\n",
              "            + ' to learn more about interactive tables.';\n",
              "          element.innerHTML = '';\n",
              "          dataTable['output_type'] = 'display_data';\n",
              "          await google.colab.output.renderOutput(dataTable, element);\n",
              "          const docLink = document.createElement('div');\n",
              "          docLink.innerHTML = docLinkHtml;\n",
              "          element.appendChild(docLink);\n",
              "        }\n",
              "      </script>\n",
              "    </div>\n",
              "  </div>\n",
              "  "
            ]
          },
          "metadata": {},
          "execution_count": 35
        }
      ]
    },
    {
      "cell_type": "code",
      "source": [
        "#Missing Values\n",
        "df_ts_mis= pd.concat([df_ts.isnull().sum(), 100 * df_ts.isnull().sum() / len(df_ts)], axis=1)\n",
        "df_ts_mis.rename(columns = {0 : 'Missing', 1 : '% of Total'})"
      ],
      "metadata": {
        "colab": {
          "base_uri": "https://localhost:8080/",
          "height": 519
        },
        "id": "dgHuttUbb-8W",
        "outputId": "d23b625e-a86d-4b48-8979-d67f1fcacd19"
      },
      "execution_count": null,
      "outputs": [
        {
          "output_type": "execute_result",
          "data": {
            "text/plain": [
              "            Missing  % of Total\n",
              "City              0    0.000000\n",
              "PM2.5          4598   15.570079\n",
              "PM10          11140   37.723071\n",
              "NO             3582   12.129626\n",
              "NO2            3585   12.139785\n",
              "NOx            4185   14.171549\n",
              "NH3           10328   34.973418\n",
              "CO             2059    6.972334\n",
              "SO2            3854   13.050692\n",
              "O3             4022   13.619586\n",
              "Benzene        5623   19.041008\n",
              "Toluene        8041   27.229014\n",
              "Xylene        18109   61.322001\n",
              "AQI            4681   15.851139\n",
              "AQI_Bucket     4681   15.851139"
            ],
            "text/html": [
              "\n",
              "  <div id=\"df-938d9a41-be1c-4702-a409-5c23307a2485\">\n",
              "    <div class=\"colab-df-container\">\n",
              "      <div>\n",
              "<style scoped>\n",
              "    .dataframe tbody tr th:only-of-type {\n",
              "        vertical-align: middle;\n",
              "    }\n",
              "\n",
              "    .dataframe tbody tr th {\n",
              "        vertical-align: top;\n",
              "    }\n",
              "\n",
              "    .dataframe thead th {\n",
              "        text-align: right;\n",
              "    }\n",
              "</style>\n",
              "<table border=\"1\" class=\"dataframe\">\n",
              "  <thead>\n",
              "    <tr style=\"text-align: right;\">\n",
              "      <th></th>\n",
              "      <th>Missing</th>\n",
              "      <th>% of Total</th>\n",
              "    </tr>\n",
              "  </thead>\n",
              "  <tbody>\n",
              "    <tr>\n",
              "      <th>City</th>\n",
              "      <td>0</td>\n",
              "      <td>0.000000</td>\n",
              "    </tr>\n",
              "    <tr>\n",
              "      <th>PM2.5</th>\n",
              "      <td>4598</td>\n",
              "      <td>15.570079</td>\n",
              "    </tr>\n",
              "    <tr>\n",
              "      <th>PM10</th>\n",
              "      <td>11140</td>\n",
              "      <td>37.723071</td>\n",
              "    </tr>\n",
              "    <tr>\n",
              "      <th>NO</th>\n",
              "      <td>3582</td>\n",
              "      <td>12.129626</td>\n",
              "    </tr>\n",
              "    <tr>\n",
              "      <th>NO2</th>\n",
              "      <td>3585</td>\n",
              "      <td>12.139785</td>\n",
              "    </tr>\n",
              "    <tr>\n",
              "      <th>NOx</th>\n",
              "      <td>4185</td>\n",
              "      <td>14.171549</td>\n",
              "    </tr>\n",
              "    <tr>\n",
              "      <th>NH3</th>\n",
              "      <td>10328</td>\n",
              "      <td>34.973418</td>\n",
              "    </tr>\n",
              "    <tr>\n",
              "      <th>CO</th>\n",
              "      <td>2059</td>\n",
              "      <td>6.972334</td>\n",
              "    </tr>\n",
              "    <tr>\n",
              "      <th>SO2</th>\n",
              "      <td>3854</td>\n",
              "      <td>13.050692</td>\n",
              "    </tr>\n",
              "    <tr>\n",
              "      <th>O3</th>\n",
              "      <td>4022</td>\n",
              "      <td>13.619586</td>\n",
              "    </tr>\n",
              "    <tr>\n",
              "      <th>Benzene</th>\n",
              "      <td>5623</td>\n",
              "      <td>19.041008</td>\n",
              "    </tr>\n",
              "    <tr>\n",
              "      <th>Toluene</th>\n",
              "      <td>8041</td>\n",
              "      <td>27.229014</td>\n",
              "    </tr>\n",
              "    <tr>\n",
              "      <th>Xylene</th>\n",
              "      <td>18109</td>\n",
              "      <td>61.322001</td>\n",
              "    </tr>\n",
              "    <tr>\n",
              "      <th>AQI</th>\n",
              "      <td>4681</td>\n",
              "      <td>15.851139</td>\n",
              "    </tr>\n",
              "    <tr>\n",
              "      <th>AQI_Bucket</th>\n",
              "      <td>4681</td>\n",
              "      <td>15.851139</td>\n",
              "    </tr>\n",
              "  </tbody>\n",
              "</table>\n",
              "</div>\n",
              "      <button class=\"colab-df-convert\" onclick=\"convertToInteractive('df-938d9a41-be1c-4702-a409-5c23307a2485')\"\n",
              "              title=\"Convert this dataframe to an interactive table.\"\n",
              "              style=\"display:none;\">\n",
              "        \n",
              "  <svg xmlns=\"http://www.w3.org/2000/svg\" height=\"24px\"viewBox=\"0 0 24 24\"\n",
              "       width=\"24px\">\n",
              "    <path d=\"M0 0h24v24H0V0z\" fill=\"none\"/>\n",
              "    <path d=\"M18.56 5.44l.94 2.06.94-2.06 2.06-.94-2.06-.94-.94-2.06-.94 2.06-2.06.94zm-11 1L8.5 8.5l.94-2.06 2.06-.94-2.06-.94L8.5 2.5l-.94 2.06-2.06.94zm10 10l.94 2.06.94-2.06 2.06-.94-2.06-.94-.94-2.06-.94 2.06-2.06.94z\"/><path d=\"M17.41 7.96l-1.37-1.37c-.4-.4-.92-.59-1.43-.59-.52 0-1.04.2-1.43.59L10.3 9.45l-7.72 7.72c-.78.78-.78 2.05 0 2.83L4 21.41c.39.39.9.59 1.41.59.51 0 1.02-.2 1.41-.59l7.78-7.78 2.81-2.81c.8-.78.8-2.07 0-2.86zM5.41 20L4 18.59l7.72-7.72 1.47 1.35L5.41 20z\"/>\n",
              "  </svg>\n",
              "      </button>\n",
              "      \n",
              "  <style>\n",
              "    .colab-df-container {\n",
              "      display:flex;\n",
              "      flex-wrap:wrap;\n",
              "      gap: 12px;\n",
              "    }\n",
              "\n",
              "    .colab-df-convert {\n",
              "      background-color: #E8F0FE;\n",
              "      border: none;\n",
              "      border-radius: 50%;\n",
              "      cursor: pointer;\n",
              "      display: none;\n",
              "      fill: #1967D2;\n",
              "      height: 32px;\n",
              "      padding: 0 0 0 0;\n",
              "      width: 32px;\n",
              "    }\n",
              "\n",
              "    .colab-df-convert:hover {\n",
              "      background-color: #E2EBFA;\n",
              "      box-shadow: 0px 1px 2px rgba(60, 64, 67, 0.3), 0px 1px 3px 1px rgba(60, 64, 67, 0.15);\n",
              "      fill: #174EA6;\n",
              "    }\n",
              "\n",
              "    [theme=dark] .colab-df-convert {\n",
              "      background-color: #3B4455;\n",
              "      fill: #D2E3FC;\n",
              "    }\n",
              "\n",
              "    [theme=dark] .colab-df-convert:hover {\n",
              "      background-color: #434B5C;\n",
              "      box-shadow: 0px 1px 3px 1px rgba(0, 0, 0, 0.15);\n",
              "      filter: drop-shadow(0px 1px 2px rgba(0, 0, 0, 0.3));\n",
              "      fill: #FFFFFF;\n",
              "    }\n",
              "  </style>\n",
              "\n",
              "      <script>\n",
              "        const buttonEl =\n",
              "          document.querySelector('#df-938d9a41-be1c-4702-a409-5c23307a2485 button.colab-df-convert');\n",
              "        buttonEl.style.display =\n",
              "          google.colab.kernel.accessAllowed ? 'block' : 'none';\n",
              "\n",
              "        async function convertToInteractive(key) {\n",
              "          const element = document.querySelector('#df-938d9a41-be1c-4702-a409-5c23307a2485');\n",
              "          const dataTable =\n",
              "            await google.colab.kernel.invokeFunction('convertToInteractive',\n",
              "                                                     [key], {});\n",
              "          if (!dataTable) return;\n",
              "\n",
              "          const docLinkHtml = 'Like what you see? Visit the ' +\n",
              "            '<a target=\"_blank\" href=https://colab.research.google.com/notebooks/data_table.ipynb>data table notebook</a>'\n",
              "            + ' to learn more about interactive tables.';\n",
              "          element.innerHTML = '';\n",
              "          dataTable['output_type'] = 'display_data';\n",
              "          await google.colab.output.renderOutput(dataTable, element);\n",
              "          const docLink = document.createElement('div');\n",
              "          docLink.innerHTML = docLinkHtml;\n",
              "          element.appendChild(docLink);\n",
              "        }\n",
              "      </script>\n",
              "    </div>\n",
              "  </div>\n",
              "  "
            ]
          },
          "metadata": {},
          "execution_count": 36
        }
      ]
    },
    {
      "cell_type": "markdown",
      "source": [
        "### (4.2.6.1) Impute missing values with `ffill`\n",
        "\n",
        "Replace all `NA's` with the value that comes directly after it (*last observed value*) in the same column, then replace all the reamining `NA's` with 0 for numerical data.\n",
        "\n"
      ],
      "metadata": {
        "id": "XrO68dM_dw3b"
      }
    },
    {
      "cell_type": "code",
      "source": [
        "# Imputing Xylene value\n",
        "df_ts['Xylene'][50:70]"
      ],
      "metadata": {
        "id": "ZlMlHP1NcxOp",
        "colab": {
          "base_uri": "https://localhost:8080/"
        },
        "outputId": "9fc6c784-7696-4365-c2a6-7cd724b2633a"
      },
      "execution_count": null,
      "outputs": [
        {
          "output_type": "execute_result",
          "data": {
            "text/plain": [
              "Date\n",
              "2015-02-20     7.48\n",
              "2015-02-21    15.44\n",
              "2015-02-22     8.47\n",
              "2015-02-23    28.46\n",
              "2015-02-24     6.05\n",
              "2015-02-25     0.81\n",
              "2015-02-26      NaN\n",
              "2015-02-27      NaN\n",
              "2015-02-28      NaN\n",
              "2015-03-01     1.32\n",
              "2015-03-02     0.22\n",
              "2015-03-03     2.25\n",
              "2015-03-04     1.55\n",
              "2015-03-05     4.13\n",
              "2015-03-06      NaN\n",
              "2015-03-07     0.39\n",
              "2015-03-08     0.63\n",
              "2015-03-09     1.35\n",
              "2015-03-10     1.74\n",
              "2015-03-11     2.78\n",
              "Name: Xylene, dtype: float64"
            ]
          },
          "metadata": {},
          "execution_count": 37
        }
      ]
    },
    {
      "cell_type": "code",
      "source": [
        "df_ts.fillna(method='ffill',inplace=True)\n",
        "df_ts['Xylene'][50:70]"
      ],
      "metadata": {
        "id": "b7vurSqngRP0",
        "colab": {
          "base_uri": "https://localhost:8080/"
        },
        "outputId": "65d985b9-3116-401c-abd2-d52542043159"
      },
      "execution_count": null,
      "outputs": [
        {
          "output_type": "execute_result",
          "data": {
            "text/plain": [
              "Date\n",
              "2015-02-20     7.48\n",
              "2015-02-21    15.44\n",
              "2015-02-22     8.47\n",
              "2015-02-23    28.46\n",
              "2015-02-24     6.05\n",
              "2015-02-25     0.81\n",
              "2015-02-26     0.81\n",
              "2015-02-27     0.81\n",
              "2015-02-28     0.81\n",
              "2015-03-01     1.32\n",
              "2015-03-02     0.22\n",
              "2015-03-03     2.25\n",
              "2015-03-04     1.55\n",
              "2015-03-05     4.13\n",
              "2015-03-06     4.13\n",
              "2015-03-07     0.39\n",
              "2015-03-08     0.63\n",
              "2015-03-09     1.35\n",
              "2015-03-10     1.74\n",
              "2015-03-11     2.78\n",
              "Name: Xylene, dtype: float64"
            ]
          },
          "metadata": {},
          "execution_count": 38
        }
      ]
    },
    {
      "cell_type": "markdown",
      "source": [
        "### (4.2.6.2) Impute missing values with `bfill`\n",
        "\n",
        "Replace all `NA's` with the value that comes directly before it in the same column, then replace all the reamining `NA's` with 0 for numerical data."
      ],
      "metadata": {
        "id": "SokYaAHXedCA"
      }
    },
    {
      "cell_type": "code",
      "source": [
        "# Imputing PM10 value\n",
        "df_ts['PM10'][1580:1600]"
      ],
      "metadata": {
        "id": "R8ubV0wnhb7s",
        "colab": {
          "base_uri": "https://localhost:8080/"
        },
        "outputId": "8794dfaa-97d5-4782-ff88-0b9e397acf1e"
      },
      "execution_count": null,
      "outputs": [
        {
          "output_type": "execute_result",
          "data": {
            "text/plain": [
              "Date\n",
              "2019-04-30       NaN\n",
              "2019-05-01       NaN\n",
              "2019-05-02       NaN\n",
              "2019-05-03       NaN\n",
              "2019-05-04       NaN\n",
              "2019-05-05       NaN\n",
              "2019-05-06       NaN\n",
              "2019-05-07       NaN\n",
              "2019-05-08       NaN\n",
              "2019-05-09       NaN\n",
              "2019-05-10       NaN\n",
              "2019-05-11       NaN\n",
              "2019-05-12       NaN\n",
              "2019-05-13       NaN\n",
              "2019-05-14    141.54\n",
              "2019-05-15    122.41\n",
              "2019-05-16    116.32\n",
              "2019-05-17    130.07\n",
              "2019-05-18    138.31\n",
              "2019-05-19    111.73\n",
              "Name: PM10, dtype: float64"
            ]
          },
          "metadata": {},
          "execution_count": 39
        }
      ]
    },
    {
      "cell_type": "code",
      "source": [
        "df_ts.fillna(method='bfill',inplace=True)\n",
        "df_ts['PM10'][1580:1600]"
      ],
      "metadata": {
        "id": "zAZHh3JCd5GD",
        "colab": {
          "base_uri": "https://localhost:8080/"
        },
        "outputId": "40108b8d-1ab4-43a9-dd5d-f8842ab3ee8b"
      },
      "execution_count": null,
      "outputs": [
        {
          "output_type": "execute_result",
          "data": {
            "text/plain": [
              "Date\n",
              "2019-04-30    141.54\n",
              "2019-05-01    141.54\n",
              "2019-05-02    141.54\n",
              "2019-05-03    141.54\n",
              "2019-05-04    141.54\n",
              "2019-05-05    141.54\n",
              "2019-05-06    141.54\n",
              "2019-05-07    141.54\n",
              "2019-05-08    141.54\n",
              "2019-05-09    141.54\n",
              "2019-05-10    141.54\n",
              "2019-05-11    141.54\n",
              "2019-05-12    141.54\n",
              "2019-05-13    141.54\n",
              "2019-05-14    141.54\n",
              "2019-05-15    122.41\n",
              "2019-05-16    116.32\n",
              "2019-05-17    130.07\n",
              "2019-05-18    138.31\n",
              "2019-05-19    111.73\n",
              "Name: PM10, dtype: float64"
            ]
          },
          "metadata": {},
          "execution_count": 40
        }
      ]
    },
    {
      "cell_type": "markdown",
      "source": [
        "# (4.3) Imputation using Interpolation\n",
        "\n",
        "* imputing using `backward fill` and `forward fill` isn't the best solution to address the missing value problem. \n",
        "* A better alternative would be to use interpolation methods, where the values are filled with incrementing or decrementing values.\n",
        "* `interpolate()` interpolation methods\n",
        "  * `method=\"linear\"` \n",
        "    * fill missing values with an increasing order between the previous and next observed values. (treats values as *equally spaced* by ignoring the index)\n",
        "  * `method=polynomial, spline, nearest, quadratic`"
      ],
      "metadata": {
        "id": "0SEBQoLaeq-M"
      }
    },
    {
      "cell_type": "markdown",
      "source": [
        "## (4.3.1) Linear interpolation\n",
        "* assumes a linear relationship between data points \n",
        "* utilises non-missing values from adjacent data points to compute missing values\n",
        "* It is the default method"
      ],
      "metadata": {
        "id": "FYuScfq-euyM"
      }
    },
    {
      "cell_type": "code",
      "source": [
        "df_ts1['Xylene'][50:70]"
      ],
      "metadata": {
        "colab": {
          "base_uri": "https://localhost:8080/"
        },
        "id": "E6aJU7_bnc01",
        "outputId": "c84ed511-c77e-442d-92a9-09a287058a79"
      },
      "execution_count": null,
      "outputs": [
        {
          "output_type": "execute_result",
          "data": {
            "text/plain": [
              "Date\n",
              "2015-02-20     7.48\n",
              "2015-02-21    15.44\n",
              "2015-02-22     8.47\n",
              "2015-02-23    28.46\n",
              "2015-02-24     6.05\n",
              "2015-02-25     0.81\n",
              "2015-02-26      NaN\n",
              "2015-02-27      NaN\n",
              "2015-02-28      NaN\n",
              "2015-03-01     1.32\n",
              "2015-03-02     0.22\n",
              "2015-03-03     2.25\n",
              "2015-03-04     1.55\n",
              "2015-03-05     4.13\n",
              "2015-03-06      NaN\n",
              "2015-03-07     0.39\n",
              "2015-03-08     0.63\n",
              "2015-03-09     1.35\n",
              "2015-03-10     1.74\n",
              "2015-03-11     2.78\n",
              "Name: Xylene, dtype: float64"
            ]
          },
          "metadata": {},
          "execution_count": 41
        }
      ]
    },
    {
      "cell_type": "code",
      "source": [
        "df_ts1.interpolate(limit_direction=\"both\",inplace=True)\n",
        "#df_ts1['Xylene'].interpolate(method=\"linear\") #interpolating a specific column\n",
        "df_ts1['Xylene'][50:70]"
      ],
      "metadata": {
        "colab": {
          "base_uri": "https://localhost:8080/"
        },
        "id": "ncSnnCp7e3zq",
        "outputId": "06965989-5e3c-4139-d622-f19409c9275a"
      },
      "execution_count": null,
      "outputs": [
        {
          "output_type": "execute_result",
          "data": {
            "text/plain": [
              "Date\n",
              "2015-02-20     7.4800\n",
              "2015-02-21    15.4400\n",
              "2015-02-22     8.4700\n",
              "2015-02-23    28.4600\n",
              "2015-02-24     6.0500\n",
              "2015-02-25     0.8100\n",
              "2015-02-26     0.9375\n",
              "2015-02-27     1.0650\n",
              "2015-02-28     1.1925\n",
              "2015-03-01     1.3200\n",
              "2015-03-02     0.2200\n",
              "2015-03-03     2.2500\n",
              "2015-03-04     1.5500\n",
              "2015-03-05     4.1300\n",
              "2015-03-06     2.2600\n",
              "2015-03-07     0.3900\n",
              "2015-03-08     0.6300\n",
              "2015-03-09     1.3500\n",
              "2015-03-10     1.7400\n",
              "2015-03-11     2.7800\n",
              "Name: Xylene, dtype: float64"
            ]
          },
          "metadata": {},
          "execution_count": 42
        }
      ]
    },
    {
      "cell_type": "markdown",
      "source": [
        "## (4.3.2) Polynomial method"
      ],
      "metadata": {
        "id": "b-ByUco8fGPX"
      }
    },
    {
      "cell_type": "code",
      "source": [
        "df_ts2=df_ts.copy(deep=True)\n",
        "df_ts2['Xylene'][50:70]"
      ],
      "metadata": {
        "colab": {
          "base_uri": "https://localhost:8080/"
        },
        "id": "Qr6WaYX18qiG",
        "outputId": "f46729a1-d144-4a51-adfe-cac2fcdd3c4d"
      },
      "execution_count": null,
      "outputs": [
        {
          "output_type": "execute_result",
          "data": {
            "text/plain": [
              "Date\n",
              "2015-02-20     7.48\n",
              "2015-02-21    15.44\n",
              "2015-02-22     8.47\n",
              "2015-02-23    28.46\n",
              "2015-02-24     6.05\n",
              "2015-02-25     0.81\n",
              "2015-02-26     0.81\n",
              "2015-02-27     0.81\n",
              "2015-02-28     0.81\n",
              "2015-03-01     1.32\n",
              "2015-03-02     0.22\n",
              "2015-03-03     2.25\n",
              "2015-03-04     1.55\n",
              "2015-03-05     4.13\n",
              "2015-03-06     4.13\n",
              "2015-03-07     0.39\n",
              "2015-03-08     0.63\n",
              "2015-03-09     1.35\n",
              "2015-03-10     1.74\n",
              "2015-03-11     2.78\n",
              "Name: Xylene, dtype: float64"
            ]
          },
          "metadata": {},
          "execution_count": 43
        }
      ]
    },
    {
      "cell_type": "code",
      "source": [
        "df_ts2['Xylene'].interpolate(method='polynomial',order=2)\n",
        "df_ts2['Xylene'][50:70]"
      ],
      "metadata": {
        "id": "uiopJmu2e-Ok",
        "colab": {
          "base_uri": "https://localhost:8080/"
        },
        "outputId": "f892bd00-94ae-4030-d5e6-b1f41c58ba43"
      },
      "execution_count": null,
      "outputs": [
        {
          "output_type": "execute_result",
          "data": {
            "text/plain": [
              "Date\n",
              "2015-01-01    0.00\n",
              "2015-01-02    3.77\n",
              "2015-01-03    2.25\n",
              "2015-01-04    1.00\n",
              "2015-01-05    2.78\n",
              "              ... \n",
              "2020-06-27    0.73\n",
              "2020-06-28    0.38\n",
              "2020-06-29    0.00\n",
              "2020-06-30    0.00\n",
              "2020-07-01    0.00\n",
              "Name: Xylene, Length: 29531, dtype: float64"
            ]
          },
          "metadata": {},
          "execution_count": 44
        },
        {
          "output_type": "execute_result",
          "data": {
            "text/plain": [
              "Date\n",
              "2015-02-20     7.48\n",
              "2015-02-21    15.44\n",
              "2015-02-22     8.47\n",
              "2015-02-23    28.46\n",
              "2015-02-24     6.05\n",
              "2015-02-25     0.81\n",
              "2015-02-26     0.81\n",
              "2015-02-27     0.81\n",
              "2015-02-28     0.81\n",
              "2015-03-01     1.32\n",
              "2015-03-02     0.22\n",
              "2015-03-03     2.25\n",
              "2015-03-04     1.55\n",
              "2015-03-05     4.13\n",
              "2015-03-06     4.13\n",
              "2015-03-07     0.39\n",
              "2015-03-08     0.63\n",
              "2015-03-09     1.35\n",
              "2015-03-10     1.74\n",
              "2015-03-11     2.78\n",
              "Name: Xylene, dtype: float64"
            ]
          },
          "metadata": {},
          "execution_count": 44
        }
      ]
    },
    {
      "cell_type": "markdown",
      "source": [
        "## (4.2.3) cubic spline method"
      ],
      "metadata": {
        "id": "OlIdkmPlfSec"
      }
    },
    {
      "cell_type": "code",
      "source": [
        "df_ts1['Xylene'].interpolate(method='cubicspline',order=2)"
      ],
      "metadata": {
        "id": "aFYML2DVfW8F",
        "colab": {
          "base_uri": "https://localhost:8080/"
        },
        "outputId": "0a8d23cc-60f7-49bc-deec-b2414401dabd"
      },
      "execution_count": null,
      "outputs": [
        {
          "output_type": "execute_result",
          "data": {
            "text/plain": [
              "Date\n",
              "2015-01-01    0.00\n",
              "2015-01-02    3.77\n",
              "2015-01-03    2.25\n",
              "2015-01-04    1.00\n",
              "2015-01-05    2.78\n",
              "              ... \n",
              "2020-06-27    0.73\n",
              "2020-06-28    0.38\n",
              "2020-06-29    0.00\n",
              "2020-06-30    0.00\n",
              "2020-07-01    0.00\n",
              "Name: Xylene, Length: 29531, dtype: float64"
            ]
          },
          "metadata": {},
          "execution_count": 45
        }
      ]
    },
    {
      "cell_type": "markdown",
      "source": [
        "# 4.4. Imputation using ML methods\n",
        "We used pandas function for imputation (univariate). Now, we will use the `scikit-learn` package as an alternate method for the same imputation.\n",
        "1. `SimpleImputer` function from `scikit-learn` useful to\n",
        "  * replace missing values with a fill value. \n",
        "  * `strategy` parameter options gives 4 different imputation methods\n",
        "    * `strategy='mean'` replaces missing values using the mean of the column.\n",
        "    * `strategy='median'` replaces missing values using the median of the column.\n",
        "    * `strategy='most_frequent'` replaces missing values using mode of the column (If multi modal, use the minimum mode.)\n",
        "    * `strategy='constant'` replaces missing values using a defined fill value.\n",
        "\n",
        "  * The default behavior fills in the `mean value` for imputation.\n",
        "2. K-Nearest Neighbour **(KNN)** Imputation\n",
        "  \n",
        "  * An alternative way to impute missing values is to predict them. \n",
        "  * This is a multivariate imputation method.\n",
        "  * use `KNNImputer` from `Scikit-learn`\n",
        "    * missing values are imputed using the mean value from K-nearest neighbors found in the training set.\n",
        "  * is a distance-based algorithm\n",
        "  * KNNImputer has several parameters such as \n",
        "    * `missing_values` - default `np.nan`, \n",
        "    * `n_neighbors` - number of neighboring samples used for imputation, default 5, \n",
        "    * `metric`- distance metric for searching neighbors, default `nan-euclidean` \n",
        "  * can work with continuous, discrete and categorical data types but not with text data. \n",
        "3. Multivariate Imputation by Chained Equation (**MICE**)\n",
        "  * MICE algorithm starts with a random draw from the observed data, and imputes the incomplete data in a variable-by-variable fashion. \n",
        "  * One iteration consists of one cycle\n",
        "through all Yj . \n",
        "  * generates multiple imputations by executing Algorithm 4.3 in parallel $m$ times.\n",
        "  \n",
        "  * MICE algorithm is a Markov chain Monte Carlo (MCMC) method,\n",
        "where the state space is the collection of all imputed values. \n",
        "  * one of the most used imputation techniques\n",
        "  * MICE algorithm functions as\n",
        "    * first calculates the mean of every column where there is a missing value and uses the mean value as a placeholder. \n",
        "    * runs a series of regression models (chained equations) to impute each missing value sequentially. \n",
        "    * uses a feature matrix and target variable (column with missing values) to train\n",
        "    * predicts and updates missing values on target columns. \n",
        "    * this process repeats by constantly changing the placeholder variables with the predictions from the previous iteration until it reaches a robust estimation.\n",
        "\n",
        "  * use `IterativeImputer` from `scikit-learn` to apply MICE algorithm"
      ],
      "metadata": {
        "id": "Ia8NpqZB0Zdo"
      }
    },
    {
      "cell_type": "markdown",
      "source": [
        "![mice-alg.png](data:image/png;base64,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)"
      ],
      "metadata": {
        "id": "4ppbBGW57AL8"
      }
    },
    {
      "cell_type": "code",
      "source": [
        "# imputing with a constant using special functions from `SKLEARN`\n",
        "\n",
        "from sklearn.impute import SimpleImputer\n",
        "df_constant = df.copy()\n",
        "#setting strategy to 'constant' \n",
        "mean_imputer = SimpleImputer(strategy='constant') # imputing using a constant value\n",
        "df_constant.iloc[:,:] = mean_imputer.fit_transform(df_constant)\n",
        "df_constant.isnull().sum()"
      ],
      "metadata": {
        "colab": {
          "base_uri": "https://localhost:8080/"
        },
        "id": "syXzW98-fOMX",
        "outputId": "22ebfa4d-5661-4eaa-d039-3bc16b41c378"
      },
      "execution_count": null,
      "outputs": [
        {
          "output_type": "execute_result",
          "data": {
            "text/plain": [
              "enrollee_id               0\n",
              "city                      0\n",
              "city_development_index    0\n",
              "gender                    0\n",
              "relevent_experience       0\n",
              "enrolled_university       0\n",
              "education_level           0\n",
              "major_discipline          0\n",
              "experience                0\n",
              "company_size              0\n",
              "company_type              0\n",
              "last_new_job              0\n",
              "training_hours            0\n",
              "target                    0\n",
              "dtype: int64"
            ]
          },
          "metadata": {},
          "execution_count": 46
        }
      ]
    },
    {
      "cell_type": "code",
      "source": [
        "df_constant"
      ],
      "metadata": {
        "colab": {
          "base_uri": "https://localhost:8080/",
          "height": 626
        },
        "id": "LSXAD8kYgHSD",
        "outputId": "c369719e-1435-407b-de73-2c728d21e302"
      },
      "execution_count": null,
      "outputs": [
        {
          "output_type": "execute_result",
          "data": {
            "text/plain": [
              "       enrollee_id      city city_development_index  gender  \\\n",
              "0             8949  city_103                   0.92    Male   \n",
              "1            29725   city_40                  0.776    Male   \n",
              "4              666  city_162                  0.767    Male   \n",
              "6            28806  city_160                   0.92    Male   \n",
              "7              402   city_46                  0.762    Male   \n",
              "...            ...       ...                    ...     ...   \n",
              "19152        29754  city_103                   0.92  Female   \n",
              "19153         7386  city_173                  0.878    Male   \n",
              "19154        31398  city_103                   0.92    Male   \n",
              "19155        24576  city_103                   0.92    Male   \n",
              "19156         5756   city_65                  0.802    Male   \n",
              "\n",
              "           relevent_experience enrolled_university education_level  \\\n",
              "0      Has relevent experience       no_enrollment        Graduate   \n",
              "1       No relevent experience       no_enrollment        Graduate   \n",
              "4      Has relevent experience       no_enrollment         Masters   \n",
              "6      Has relevent experience       no_enrollment     High School   \n",
              "7      Has relevent experience       no_enrollment        Graduate   \n",
              "...                        ...                 ...             ...   \n",
              "19152  Has relevent experience       no_enrollment        Graduate   \n",
              "19153   No relevent experience       no_enrollment        Graduate   \n",
              "19154  Has relevent experience       no_enrollment        Graduate   \n",
              "19155  Has relevent experience       no_enrollment        Graduate   \n",
              "19156  Has relevent experience       no_enrollment     High School   \n",
              "\n",
              "      major_discipline experience   company_size    company_type last_new_job  \\\n",
              "0                 STEM        >20  missing_value   missing_value            1   \n",
              "1                 STEM         15          50-99         Pvt Ltd           >4   \n",
              "4                 STEM        >20          50-99  Funded Startup            4   \n",
              "6        missing_value          5          50-99  Funded Startup            1   \n",
              "7                 STEM         13            <10         Pvt Ltd           >4   \n",
              "...                ...        ...            ...             ...          ...   \n",
              "19152       Humanities          7          10/49  Funded Startup            1   \n",
              "19153       Humanities         14  missing_value   missing_value            1   \n",
              "19154             STEM         14  missing_value   missing_value            4   \n",
              "19155             STEM        >20          50-99         Pvt Ltd            4   \n",
              "19156    missing_value         <1        500-999         Pvt Ltd            2   \n",
              "\n",
              "       training_hours  target  \n",
              "0                  36       1  \n",
              "1                  47       0  \n",
              "4                   8       0  \n",
              "6                  24       0  \n",
              "7                  18       1  \n",
              "...               ...     ...  \n",
              "19152              25       0  \n",
              "19153              42       1  \n",
              "19154              52       1  \n",
              "19155              44       0  \n",
              "19156              97       0  \n",
              "\n",
              "[14650 rows x 14 columns]"
            ],
            "text/html": [
              "\n",
              "  <div id=\"df-297b11d0-9dc5-409e-a519-fa0163764a9c\">\n",
              "    <div class=\"colab-df-container\">\n",
              "      <div>\n",
              "<style scoped>\n",
              "    .dataframe tbody tr th:only-of-type {\n",
              "        vertical-align: middle;\n",
              "    }\n",
              "\n",
              "    .dataframe tbody tr th {\n",
              "        vertical-align: top;\n",
              "    }\n",
              "\n",
              "    .dataframe thead th {\n",
              "        text-align: right;\n",
              "    }\n",
              "</style>\n",
              "<table border=\"1\" class=\"dataframe\">\n",
              "  <thead>\n",
              "    <tr style=\"text-align: right;\">\n",
              "      <th></th>\n",
              "      <th>enrollee_id</th>\n",
              "      <th>city</th>\n",
              "      <th>city_development_index</th>\n",
              "      <th>gender</th>\n",
              "      <th>relevent_experience</th>\n",
              "      <th>enrolled_university</th>\n",
              "      <th>education_level</th>\n",
              "      <th>major_discipline</th>\n",
              "      <th>experience</th>\n",
              "      <th>company_size</th>\n",
              "      <th>company_type</th>\n",
              "      <th>last_new_job</th>\n",
              "      <th>training_hours</th>\n",
              "      <th>target</th>\n",
              "    </tr>\n",
              "  </thead>\n",
              "  <tbody>\n",
              "    <tr>\n",
              "      <th>0</th>\n",
              "      <td>8949</td>\n",
              "      <td>city_103</td>\n",
              "      <td>0.92</td>\n",
              "      <td>Male</td>\n",
              "      <td>Has relevent experience</td>\n",
              "      <td>no_enrollment</td>\n",
              "      <td>Graduate</td>\n",
              "      <td>STEM</td>\n",
              "      <td>&gt;20</td>\n",
              "      <td>missing_value</td>\n",
              "      <td>missing_value</td>\n",
              "      <td>1</td>\n",
              "      <td>36</td>\n",
              "      <td>1</td>\n",
              "    </tr>\n",
              "    <tr>\n",
              "      <th>1</th>\n",
              "      <td>29725</td>\n",
              "      <td>city_40</td>\n",
              "      <td>0.776</td>\n",
              "      <td>Male</td>\n",
              "      <td>No relevent experience</td>\n",
              "      <td>no_enrollment</td>\n",
              "      <td>Graduate</td>\n",
              "      <td>STEM</td>\n",
              "      <td>15</td>\n",
              "      <td>50-99</td>\n",
              "      <td>Pvt Ltd</td>\n",
              "      <td>&gt;4</td>\n",
              "      <td>47</td>\n",
              "      <td>0</td>\n",
              "    </tr>\n",
              "    <tr>\n",
              "      <th>4</th>\n",
              "      <td>666</td>\n",
              "      <td>city_162</td>\n",
              "      <td>0.767</td>\n",
              "      <td>Male</td>\n",
              "      <td>Has relevent experience</td>\n",
              "      <td>no_enrollment</td>\n",
              "      <td>Masters</td>\n",
              "      <td>STEM</td>\n",
              "      <td>&gt;20</td>\n",
              "      <td>50-99</td>\n",
              "      <td>Funded Startup</td>\n",
              "      <td>4</td>\n",
              "      <td>8</td>\n",
              "      <td>0</td>\n",
              "    </tr>\n",
              "    <tr>\n",
              "      <th>6</th>\n",
              "      <td>28806</td>\n",
              "      <td>city_160</td>\n",
              "      <td>0.92</td>\n",
              "      <td>Male</td>\n",
              "      <td>Has relevent experience</td>\n",
              "      <td>no_enrollment</td>\n",
              "      <td>High School</td>\n",
              "      <td>missing_value</td>\n",
              "      <td>5</td>\n",
              "      <td>50-99</td>\n",
              "      <td>Funded Startup</td>\n",
              "      <td>1</td>\n",
              "      <td>24</td>\n",
              "      <td>0</td>\n",
              "    </tr>\n",
              "    <tr>\n",
              "      <th>7</th>\n",
              "      <td>402</td>\n",
              "      <td>city_46</td>\n",
              "      <td>0.762</td>\n",
              "      <td>Male</td>\n",
              "      <td>Has relevent experience</td>\n",
              "      <td>no_enrollment</td>\n",
              "      <td>Graduate</td>\n",
              "      <td>STEM</td>\n",
              "      <td>13</td>\n",
              "      <td>&lt;10</td>\n",
              "      <td>Pvt Ltd</td>\n",
              "      <td>&gt;4</td>\n",
              "      <td>18</td>\n",
              "      <td>1</td>\n",
              "    </tr>\n",
              "    <tr>\n",
              "      <th>...</th>\n",
              "      <td>...</td>\n",
              "      <td>...</td>\n",
              "      <td>...</td>\n",
              "      <td>...</td>\n",
              "      <td>...</td>\n",
              "      <td>...</td>\n",
              "      <td>...</td>\n",
              "      <td>...</td>\n",
              "      <td>...</td>\n",
              "      <td>...</td>\n",
              "      <td>...</td>\n",
              "      <td>...</td>\n",
              "      <td>...</td>\n",
              "      <td>...</td>\n",
              "    </tr>\n",
              "    <tr>\n",
              "      <th>19152</th>\n",
              "      <td>29754</td>\n",
              "      <td>city_103</td>\n",
              "      <td>0.92</td>\n",
              "      <td>Female</td>\n",
              "      <td>Has relevent experience</td>\n",
              "      <td>no_enrollment</td>\n",
              "      <td>Graduate</td>\n",
              "      <td>Humanities</td>\n",
              "      <td>7</td>\n",
              "      <td>10/49</td>\n",
              "      <td>Funded Startup</td>\n",
              "      <td>1</td>\n",
              "      <td>25</td>\n",
              "      <td>0</td>\n",
              "    </tr>\n",
              "    <tr>\n",
              "      <th>19153</th>\n",
              "      <td>7386</td>\n",
              "      <td>city_173</td>\n",
              "      <td>0.878</td>\n",
              "      <td>Male</td>\n",
              "      <td>No relevent experience</td>\n",
              "      <td>no_enrollment</td>\n",
              "      <td>Graduate</td>\n",
              "      <td>Humanities</td>\n",
              "      <td>14</td>\n",
              "      <td>missing_value</td>\n",
              "      <td>missing_value</td>\n",
              "      <td>1</td>\n",
              "      <td>42</td>\n",
              "      <td>1</td>\n",
              "    </tr>\n",
              "    <tr>\n",
              "      <th>19154</th>\n",
              "      <td>31398</td>\n",
              "      <td>city_103</td>\n",
              "      <td>0.92</td>\n",
              "      <td>Male</td>\n",
              "      <td>Has relevent experience</td>\n",
              "      <td>no_enrollment</td>\n",
              "      <td>Graduate</td>\n",
              "      <td>STEM</td>\n",
              "      <td>14</td>\n",
              "      <td>missing_value</td>\n",
              "      <td>missing_value</td>\n",
              "      <td>4</td>\n",
              "      <td>52</td>\n",
              "      <td>1</td>\n",
              "    </tr>\n",
              "    <tr>\n",
              "      <th>19155</th>\n",
              "      <td>24576</td>\n",
              "      <td>city_103</td>\n",
              "      <td>0.92</td>\n",
              "      <td>Male</td>\n",
              "      <td>Has relevent experience</td>\n",
              "      <td>no_enrollment</td>\n",
              "      <td>Graduate</td>\n",
              "      <td>STEM</td>\n",
              "      <td>&gt;20</td>\n",
              "      <td>50-99</td>\n",
              "      <td>Pvt Ltd</td>\n",
              "      <td>4</td>\n",
              "      <td>44</td>\n",
              "      <td>0</td>\n",
              "    </tr>\n",
              "    <tr>\n",
              "      <th>19156</th>\n",
              "      <td>5756</td>\n",
              "      <td>city_65</td>\n",
              "      <td>0.802</td>\n",
              "      <td>Male</td>\n",
              "      <td>Has relevent experience</td>\n",
              "      <td>no_enrollment</td>\n",
              "      <td>High School</td>\n",
              "      <td>missing_value</td>\n",
              "      <td>&lt;1</td>\n",
              "      <td>500-999</td>\n",
              "      <td>Pvt Ltd</td>\n",
              "      <td>2</td>\n",
              "      <td>97</td>\n",
              "      <td>0</td>\n",
              "    </tr>\n",
              "  </tbody>\n",
              "</table>\n",
              "<p>14650 rows × 14 columns</p>\n",
              "</div>\n",
              "      <button class=\"colab-df-convert\" onclick=\"convertToInteractive('df-297b11d0-9dc5-409e-a519-fa0163764a9c')\"\n",
              "              title=\"Convert this dataframe to an interactive table.\"\n",
              "              style=\"display:none;\">\n",
              "        \n",
              "  <svg xmlns=\"http://www.w3.org/2000/svg\" height=\"24px\"viewBox=\"0 0 24 24\"\n",
              "       width=\"24px\">\n",
              "    <path d=\"M0 0h24v24H0V0z\" fill=\"none\"/>\n",
              "    <path d=\"M18.56 5.44l.94 2.06.94-2.06 2.06-.94-2.06-.94-.94-2.06-.94 2.06-2.06.94zm-11 1L8.5 8.5l.94-2.06 2.06-.94-2.06-.94L8.5 2.5l-.94 2.06-2.06.94zm10 10l.94 2.06.94-2.06 2.06-.94-2.06-.94-.94-2.06-.94 2.06-2.06.94z\"/><path d=\"M17.41 7.96l-1.37-1.37c-.4-.4-.92-.59-1.43-.59-.52 0-1.04.2-1.43.59L10.3 9.45l-7.72 7.72c-.78.78-.78 2.05 0 2.83L4 21.41c.39.39.9.59 1.41.59.51 0 1.02-.2 1.41-.59l7.78-7.78 2.81-2.81c.8-.78.8-2.07 0-2.86zM5.41 20L4 18.59l7.72-7.72 1.47 1.35L5.41 20z\"/>\n",
              "  </svg>\n",
              "      </button>\n",
              "      \n",
              "  <style>\n",
              "    .colab-df-container {\n",
              "      display:flex;\n",
              "      flex-wrap:wrap;\n",
              "      gap: 12px;\n",
              "    }\n",
              "\n",
              "    .colab-df-convert {\n",
              "      background-color: #E8F0FE;\n",
              "      border: none;\n",
              "      border-radius: 50%;\n",
              "      cursor: pointer;\n",
              "      display: none;\n",
              "      fill: #1967D2;\n",
              "      height: 32px;\n",
              "      padding: 0 0 0 0;\n",
              "      width: 32px;\n",
              "    }\n",
              "\n",
              "    .colab-df-convert:hover {\n",
              "      background-color: #E2EBFA;\n",
              "      box-shadow: 0px 1px 2px rgba(60, 64, 67, 0.3), 0px 1px 3px 1px rgba(60, 64, 67, 0.15);\n",
              "      fill: #174EA6;\n",
              "    }\n",
              "\n",
              "    [theme=dark] .colab-df-convert {\n",
              "      background-color: #3B4455;\n",
              "      fill: #D2E3FC;\n",
              "    }\n",
              "\n",
              "    [theme=dark] .colab-df-convert:hover {\n",
              "      background-color: #434B5C;\n",
              "      box-shadow: 0px 1px 3px 1px rgba(0, 0, 0, 0.15);\n",
              "      filter: drop-shadow(0px 1px 2px rgba(0, 0, 0, 0.3));\n",
              "      fill: #FFFFFF;\n",
              "    }\n",
              "  </style>\n",
              "\n",
              "      <script>\n",
              "        const buttonEl =\n",
              "          document.querySelector('#df-297b11d0-9dc5-409e-a519-fa0163764a9c button.colab-df-convert');\n",
              "        buttonEl.style.display =\n",
              "          google.colab.kernel.accessAllowed ? 'block' : 'none';\n",
              "\n",
              "        async function convertToInteractive(key) {\n",
              "          const element = document.querySelector('#df-297b11d0-9dc5-409e-a519-fa0163764a9c');\n",
              "          const dataTable =\n",
              "            await google.colab.kernel.invokeFunction('convertToInteractive',\n",
              "                                                     [key], {});\n",
              "          if (!dataTable) return;\n",
              "\n",
              "          const docLinkHtml = 'Like what you see? Visit the ' +\n",
              "            '<a target=\"_blank\" href=https://colab.research.google.com/notebooks/data_table.ipynb>data table notebook</a>'\n",
              "            + ' to learn more about interactive tables.';\n",
              "          element.innerHTML = '';\n",
              "          dataTable['output_type'] = 'display_data';\n",
              "          await google.colab.output.renderOutput(dataTable, element);\n",
              "          const docLink = document.createElement('div');\n",
              "          docLink.innerHTML = docLinkHtml;\n",
              "          element.appendChild(docLink);\n",
              "        }\n",
              "      </script>\n",
              "    </div>\n",
              "  </div>\n",
              "  "
            ]
          },
          "metadata": {},
          "execution_count": 47
        }
      ]
    },
    {
      "cell_type": "code",
      "source": [
        "## Impute missing values using sklearn package\n",
        "df_frequent = df.copy()\n",
        "#setting strategy to 'mean' to impute by the mean\n",
        "mean_imputer = SimpleImputer(strategy='most_frequent')# strategy can also be mean or median \n",
        "df_frequent.iloc[:,:] = mean_imputer.fit_transform(df_frequent)\n",
        "\n",
        "df_frequent.isnull().sum()"
      ],
      "metadata": {
        "colab": {
          "base_uri": "https://localhost:8080/"
        },
        "id": "Zta9CB6XhlMr",
        "outputId": "e35b97eb-58e9-4d2f-c2a3-bf0688f7130e"
      },
      "execution_count": null,
      "outputs": [
        {
          "output_type": "execute_result",
          "data": {
            "text/plain": [
              "enrollee_id               0\n",
              "city                      0\n",
              "city_development_index    0\n",
              "gender                    0\n",
              "relevent_experience       0\n",
              "enrolled_university       0\n",
              "education_level           0\n",
              "major_discipline          0\n",
              "experience                0\n",
              "company_size              0\n",
              "company_type              0\n",
              "last_new_job              0\n",
              "training_hours            0\n",
              "target                    0\n",
              "dtype: int64"
            ]
          },
          "metadata": {},
          "execution_count": 48
        }
      ]
    },
    {
      "cell_type": "markdown",
      "source": [
        "# 4.5. Full Analysis\n",
        "\n",
        "These methods take full account of all information available, without the distortion resulting from using imputed values as if they were actually observed:\n",
        " 1. Generative approaches:\n",
        "  * The expectation-maximization algorithm\n",
        "  * full information maximum likelihood estimation\n",
        " 2. Discriminative approaches:\n",
        "  * Max-margin classification of data with absent features\n",
        "  * Partial identification methods \n",
        "\n",
        "3. Algorithms which handle missing values on its own\n",
        "  * [`XGBoost`](https://xgboost.readthedocs.io/en/latest/python/python_api.html#module-xgboost.sklearn) \n",
        "  * [`LightGBM`](https://lightgbm.readthedocs.io/en/latest/Advanced-Topics.html) "
      ],
      "metadata": {
        "id": "09hXC5RQC-Zq"
      }
    },
    {
      "cell_type": "markdown",
      "source": [
        "#**5. Follow up techniques**\n",
        "The imputation methods discussed above \n",
        "  * Changes the shape of the distribution\n",
        "  * Changes variability in the data\n",
        "  * Creates outliers \n",
        "  * Changes in covariance/ Correlation\n",
        "\n",
        "Check the difference with all these four cases by comparing it before imputation and after imputation.\n",
        "\n",
        "If the difference is minimal, then imputation works fine. \n",
        "\n",
        "> EVALUATE IMPUTATION METHODS\n",
        "1. Mean Absolute Error (MAE) $\\qquad \\frac{1}{N}\\sum\\limits_{i=1}^N |y_i-\\hat{y}|$\n",
        "2. Root Mean Squared Error (RMSE) $\\qquad \\sqrt{\\frac{1}{N}\\sum\\limits_{i=1}^N (y_i-\\hat{y})^2 }$\n",
        "3. Pearson’s Correlation Coefficient (R2) $\\qquad 1-\\frac{\\sum\\limits_{i=1}^N (y_i-\\hat{y}_i)^2}{\\sum\\limits_{i=1}^N (y_i-\\bar{y})^2}$\n",
        "4. Rank Product\n",
        "\n",
        "where $\\hat{y}$ is predicted value of $y$ and $\\bar{y}$ is mean value of $y$\n",
        "\n",
        "\n"
      ],
      "metadata": {
        "id": "XQpyCVdttbKv"
      }
    },
    {
      "cell_type": "code",
      "source": [],
      "metadata": {
        "id": "ZV20qlFsDZpd"
      },
      "execution_count": null,
      "outputs": []
    },
    {
      "cell_type": "markdown",
      "source": [
        "# REFERENCES\n",
        "\n",
        "1. [Flexible Imputation of Missing Data](https://stefvanbuuren.name/fimd/)\n",
        "2. [Introduction to Regression Methods for Public Health Using R](https://bookdown.org/rwnahhas/RMPH/)"
      ],
      "metadata": {
        "id": "AnHAu15fdUYD"
      }
    }
  ]
}