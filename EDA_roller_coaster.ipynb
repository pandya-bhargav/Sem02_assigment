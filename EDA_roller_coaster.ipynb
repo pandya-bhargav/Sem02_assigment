{
 "cells": [
  {
   "cell_type": "markdown",
   "metadata": {
    "id": "2aa069f1"
   },
   "source": [
    "### import pandas"
   ]
  },
  {
   "cell_type": "code",
   "execution_count": 1,
   "metadata": {
    "id": "56zCvkyh4ohR"
   },
   "outputs": [],
   "source": [
    "import numpy as np\n",
    "import pandas as pd\n",
    "import matplotlib.pyplot as plt\n",
    "import seaborn as sns\n",
    "\n",
    "# pd.set_option('display.max_rows', None)\n",
    "\n",
    "import warnings\n",
    "warnings.filterwarnings('ignore')"
   ]
  },
  {
   "cell_type": "markdown",
   "metadata": {
    "id": "908df6c8"
   },
   "source": [
    "### Load the roller coaster data"
   ]
  },
  {
   "cell_type": "code",
   "execution_count": 2,
   "metadata": {
    "id": "j7vmXO7t6sbh"
   },
   "outputs": [],
   "source": [
    "df = pd.read_csv(\"roller_coaster.csv\")"
   ]
  },
  {
   "cell_type": "code",
   "execution_count": 3,
   "metadata": {
    "colab": {
     "base_uri": "https://localhost:8080/"
    },
    "id": "pD-1ADHt63Z2",
    "outputId": "8ee13675-0155-474a-9231-e55732ca029a"
   },
   "outputs": [
    {
     "data": {
      "text/html": [
       "<div>\n",
       "<style scoped>\n",
       "    .dataframe tbody tr th:only-of-type {\n",
       "        vertical-align: middle;\n",
       "    }\n",
       "\n",
       "    .dataframe tbody tr th {\n",
       "        vertical-align: top;\n",
       "    }\n",
       "\n",
       "    .dataframe thead th {\n",
       "        text-align: right;\n",
       "    }\n",
       "</style>\n",
       "<table border=\"1\" class=\"dataframe\">\n",
       "  <thead>\n",
       "    <tr style=\"text-align: right;\">\n",
       "      <th></th>\n",
       "      <th>coaster_name</th>\n",
       "      <th>Length</th>\n",
       "      <th>Speed</th>\n",
       "      <th>Location</th>\n",
       "      <th>Status</th>\n",
       "      <th>Opening date</th>\n",
       "      <th>Type</th>\n",
       "      <th>Manufacturer</th>\n",
       "      <th>Height restriction</th>\n",
       "      <th>Model</th>\n",
       "      <th>...</th>\n",
       "      <th>speed1</th>\n",
       "      <th>speed2</th>\n",
       "      <th>speed1_value</th>\n",
       "      <th>speed1_unit</th>\n",
       "      <th>speed_mph</th>\n",
       "      <th>height_value</th>\n",
       "      <th>height_unit</th>\n",
       "      <th>height_ft</th>\n",
       "      <th>Inversions_clean</th>\n",
       "      <th>Gforce_clean</th>\n",
       "    </tr>\n",
       "  </thead>\n",
       "  <tbody>\n",
       "    <tr>\n",
       "      <th>0</th>\n",
       "      <td>Switchback Railway</td>\n",
       "      <td>600 ft (180 m)</td>\n",
       "      <td>6 mph (9.7 km/h)</td>\n",
       "      <td>Coney Island</td>\n",
       "      <td>Removed</td>\n",
       "      <td>June 16, 1884</td>\n",
       "      <td>Wood</td>\n",
       "      <td>LaMarcus Adna Thompson</td>\n",
       "      <td>NaN</td>\n",
       "      <td>Lift Packed</td>\n",
       "      <td>...</td>\n",
       "      <td>6 mph</td>\n",
       "      <td>9.7 km/h</td>\n",
       "      <td>6.0</td>\n",
       "      <td>mph</td>\n",
       "      <td>6.0</td>\n",
       "      <td>50.0</td>\n",
       "      <td>ft</td>\n",
       "      <td>NaN</td>\n",
       "      <td>0</td>\n",
       "      <td>2.9</td>\n",
       "    </tr>\n",
       "    <tr>\n",
       "      <th>1</th>\n",
       "      <td>Flip Flap Railway</td>\n",
       "      <td>NaN</td>\n",
       "      <td>NaN</td>\n",
       "      <td>Sea Lion Park</td>\n",
       "      <td>Removed</td>\n",
       "      <td>1895</td>\n",
       "      <td>Wood</td>\n",
       "      <td>Lina Beecher</td>\n",
       "      <td>NaN</td>\n",
       "      <td>NaN</td>\n",
       "      <td>...</td>\n",
       "      <td>NaN</td>\n",
       "      <td>NaN</td>\n",
       "      <td>NaN</td>\n",
       "      <td>NaN</td>\n",
       "      <td>NaN</td>\n",
       "      <td>NaN</td>\n",
       "      <td>NaN</td>\n",
       "      <td>NaN</td>\n",
       "      <td>1</td>\n",
       "      <td>12.0</td>\n",
       "    </tr>\n",
       "    <tr>\n",
       "      <th>2</th>\n",
       "      <td>Switchback Railway (Euclid Beach Park)</td>\n",
       "      <td>NaN</td>\n",
       "      <td>NaN</td>\n",
       "      <td>Cleveland, Ohio, United States</td>\n",
       "      <td>Closed</td>\n",
       "      <td>NaN</td>\n",
       "      <td>Other</td>\n",
       "      <td>NaN</td>\n",
       "      <td>NaN</td>\n",
       "      <td>NaN</td>\n",
       "      <td>...</td>\n",
       "      <td>NaN</td>\n",
       "      <td>NaN</td>\n",
       "      <td>NaN</td>\n",
       "      <td>NaN</td>\n",
       "      <td>NaN</td>\n",
       "      <td>NaN</td>\n",
       "      <td>NaN</td>\n",
       "      <td>NaN</td>\n",
       "      <td>0</td>\n",
       "      <td>NaN</td>\n",
       "    </tr>\n",
       "    <tr>\n",
       "      <th>3</th>\n",
       "      <td>Loop the Loop (Coney Island)</td>\n",
       "      <td>NaN</td>\n",
       "      <td>NaN</td>\n",
       "      <td>Other</td>\n",
       "      <td>Removed</td>\n",
       "      <td>1901</td>\n",
       "      <td>Steel</td>\n",
       "      <td>Edwin Prescott</td>\n",
       "      <td>NaN</td>\n",
       "      <td>NaN</td>\n",
       "      <td>...</td>\n",
       "      <td>NaN</td>\n",
       "      <td>NaN</td>\n",
       "      <td>NaN</td>\n",
       "      <td>NaN</td>\n",
       "      <td>NaN</td>\n",
       "      <td>NaN</td>\n",
       "      <td>NaN</td>\n",
       "      <td>NaN</td>\n",
       "      <td>1</td>\n",
       "      <td>NaN</td>\n",
       "    </tr>\n",
       "    <tr>\n",
       "      <th>4</th>\n",
       "      <td>Loop the Loop (Young's Pier)</td>\n",
       "      <td>NaN</td>\n",
       "      <td>NaN</td>\n",
       "      <td>Other</td>\n",
       "      <td>Removed</td>\n",
       "      <td>1901</td>\n",
       "      <td>Steel</td>\n",
       "      <td>Edwin Prescott</td>\n",
       "      <td>NaN</td>\n",
       "      <td>NaN</td>\n",
       "      <td>...</td>\n",
       "      <td>NaN</td>\n",
       "      <td>NaN</td>\n",
       "      <td>NaN</td>\n",
       "      <td>NaN</td>\n",
       "      <td>NaN</td>\n",
       "      <td>NaN</td>\n",
       "      <td>NaN</td>\n",
       "      <td>NaN</td>\n",
       "      <td>1</td>\n",
       "      <td>NaN</td>\n",
       "    </tr>\n",
       "  </tbody>\n",
       "</table>\n",
       "<p>5 rows × 56 columns</p>\n",
       "</div>"
      ],
      "text/plain": [
       "                             coaster_name          Length             Speed  \\\n",
       "0                      Switchback Railway  600 ft (180 m)  6 mph (9.7 km/h)   \n",
       "1                       Flip Flap Railway             NaN               NaN   \n",
       "2  Switchback Railway (Euclid Beach Park)             NaN               NaN   \n",
       "3            Loop the Loop (Coney Island)             NaN               NaN   \n",
       "4            Loop the Loop (Young's Pier)             NaN               NaN   \n",
       "\n",
       "                         Location   Status   Opening date   Type  \\\n",
       "0                    Coney Island  Removed  June 16, 1884   Wood   \n",
       "1                   Sea Lion Park  Removed           1895   Wood   \n",
       "2  Cleveland, Ohio, United States   Closed            NaN  Other   \n",
       "3                           Other  Removed           1901  Steel   \n",
       "4                           Other  Removed           1901  Steel   \n",
       "\n",
       "             Manufacturer Height restriction        Model  ...  speed1  \\\n",
       "0  LaMarcus Adna Thompson                NaN  Lift Packed  ...  6 mph    \n",
       "1            Lina Beecher                NaN          NaN  ...     NaN   \n",
       "2                     NaN                NaN          NaN  ...     NaN   \n",
       "3          Edwin Prescott                NaN          NaN  ...     NaN   \n",
       "4          Edwin Prescott                NaN          NaN  ...     NaN   \n",
       "\n",
       "     speed2 speed1_value speed1_unit speed_mph height_value height_unit  \\\n",
       "0  9.7 km/h          6.0         mph       6.0         50.0          ft   \n",
       "1       NaN          NaN         NaN       NaN          NaN         NaN   \n",
       "2       NaN          NaN         NaN       NaN          NaN         NaN   \n",
       "3       NaN          NaN         NaN       NaN          NaN         NaN   \n",
       "4       NaN          NaN         NaN       NaN          NaN         NaN   \n",
       "\n",
       "  height_ft Inversions_clean Gforce_clean  \n",
       "0       NaN                0          2.9  \n",
       "1       NaN                1         12.0  \n",
       "2       NaN                0          NaN  \n",
       "3       NaN                1          NaN  \n",
       "4       NaN                1          NaN  \n",
       "\n",
       "[5 rows x 56 columns]"
      ]
     },
     "execution_count": 3,
     "metadata": {},
     "output_type": "execute_result"
    }
   ],
   "source": [
    "df.head()"
   ]
  },
  {
   "cell_type": "markdown",
   "metadata": {
    "id": "0Ebcn_uM6bla"
   },
   "source": [
    "### List out all the columns in the dataset"
   ]
  },
  {
   "cell_type": "code",
   "execution_count": 4,
   "metadata": {
    "colab": {
     "base_uri": "https://localhost:8080/"
    },
    "id": "mIgfoq0h7Vcd",
    "outputId": "84c94ec2-a156-428b-ac72-fbff57314bfc"
   },
   "outputs": [
    {
     "data": {
      "text/plain": [
       "Index(['coaster_name', 'Length', 'Speed', 'Location', 'Status', 'Opening date',\n",
       "       'Type', 'Manufacturer', 'Height restriction', 'Model', 'Height',\n",
       "       'Inversions', 'Lift/launch system', 'Cost', 'Trains', 'Park section',\n",
       "       'Duration', 'Capacity', 'G-force', 'Designer', 'Max vertical angle',\n",
       "       'Drop', 'Soft opening date', 'Fast Lane available', 'Replaced',\n",
       "       'Track layout', 'Fastrack available', 'Soft opening date.1',\n",
       "       'Closing date', 'Opened', 'Replaced by', 'Website',\n",
       "       'Flash Pass Available', 'Must transfer from wheelchair', 'Theme',\n",
       "       'Single rider line available', 'Restraint Style',\n",
       "       'Flash Pass available', 'Acceleration', 'Restraints', 'Name',\n",
       "       'year_introduced', 'latitude', 'longitude', 'Type_Main',\n",
       "       'opening_date_clean', 'speed1', 'speed2', 'speed1_value', 'speed1_unit',\n",
       "       'speed_mph', 'height_value', 'height_unit', 'height_ft',\n",
       "       'Inversions_clean', 'Gforce_clean'],\n",
       "      dtype='object')"
      ]
     },
     "execution_count": 4,
     "metadata": {},
     "output_type": "execute_result"
    }
   ],
   "source": [
    "df.columns"
   ]
  },
  {
   "cell_type": "markdown",
   "metadata": {
    "id": "fdad7a29"
   },
   "source": [
    "### check how many non null values are there in each columns. check the datatype of each column"
   ]
  },
  {
   "cell_type": "code",
   "execution_count": 5,
   "metadata": {
    "colab": {
     "base_uri": "https://localhost:8080/"
    },
    "id": "7ynhAhxq7hn9",
    "outputId": "6a796fc1-476a-4a95-b5f4-58063d03b83e"
   },
   "outputs": [
    {
     "data": {
      "text/plain": [
       "(1087, 56)"
      ]
     },
     "execution_count": 5,
     "metadata": {},
     "output_type": "execute_result"
    }
   ],
   "source": [
    "df.shape"
   ]
  },
  {
   "cell_type": "code",
   "execution_count": 6,
   "metadata": {
    "colab": {
     "base_uri": "https://localhost:8080/"
    },
    "id": "8A8gi8TR64Ye",
    "outputId": "d2e6e840-8b0e-4d2f-87e3-9abf28d5590a"
   },
   "outputs": [
    {
     "name": "stdout",
     "output_type": "stream",
     "text": [
      "<class 'pandas.core.frame.DataFrame'>\n",
      "RangeIndex: 1087 entries, 0 to 1086\n",
      "Data columns (total 56 columns):\n",
      " #   Column                         Non-Null Count  Dtype  \n",
      "---  ------                         --------------  -----  \n",
      " 0   coaster_name                   1087 non-null   object \n",
      " 1   Length                         953 non-null    object \n",
      " 2   Speed                          937 non-null    object \n",
      " 3   Location                       1087 non-null   object \n",
      " 4   Status                         874 non-null    object \n",
      " 5   Opening date                   837 non-null    object \n",
      " 6   Type                           1087 non-null   object \n",
      " 7   Manufacturer                   1028 non-null   object \n",
      " 8   Height restriction             831 non-null    object \n",
      " 9   Model                          744 non-null    object \n",
      " 10  Height                         965 non-null    object \n",
      " 11  Inversions                     932 non-null    float64\n",
      " 12  Lift/launch system             795 non-null    object \n",
      " 13  Cost                           382 non-null    object \n",
      " 14  Trains                         718 non-null    object \n",
      " 15  Park section                   487 non-null    object \n",
      " 16  Duration                       765 non-null    object \n",
      " 17  Capacity                       575 non-null    object \n",
      " 18  G-force                        362 non-null    object \n",
      " 19  Designer                       578 non-null    object \n",
      " 20  Max vertical angle             357 non-null    object \n",
      " 21  Drop                           494 non-null    object \n",
      " 22  Soft opening date              96 non-null     object \n",
      " 23  Fast Lane available            69 non-null     object \n",
      " 24  Replaced                       173 non-null    object \n",
      " 25  Track layout                   335 non-null    object \n",
      " 26  Fastrack available             19 non-null     object \n",
      " 27  Soft opening date.1            96 non-null     object \n",
      " 28  Closing date                   236 non-null    object \n",
      " 29  Opened                         27 non-null     object \n",
      " 30  Replaced by                    88 non-null     object \n",
      " 31  Website                        87 non-null     object \n",
      " 32  Flash Pass Available           50 non-null     object \n",
      " 33  Must transfer from wheelchair  106 non-null    object \n",
      " 34  Theme                          44 non-null     object \n",
      " 35  Single rider line available    81 non-null     object \n",
      " 36  Restraint Style                22 non-null     object \n",
      " 37  Flash Pass available           46 non-null     object \n",
      " 38  Acceleration                   60 non-null     object \n",
      " 39  Restraints                     24 non-null     object \n",
      " 40  Name                           35 non-null     object \n",
      " 41  year_introduced                1087 non-null   int64  \n",
      " 42  latitude                       812 non-null    float64\n",
      " 43  longitude                      812 non-null    float64\n",
      " 44  Type_Main                      1087 non-null   object \n",
      " 45  opening_date_clean             837 non-null    object \n",
      " 46  speed1                         937 non-null    object \n",
      " 47  speed2                         935 non-null    object \n",
      " 48  speed1_value                   937 non-null    float64\n",
      " 49  speed1_unit                    937 non-null    object \n",
      " 50  speed_mph                      937 non-null    float64\n",
      " 51  height_value                   965 non-null    float64\n",
      " 52  height_unit                    965 non-null    object \n",
      " 53  height_ft                      171 non-null    float64\n",
      " 54  Inversions_clean               1087 non-null   int64  \n",
      " 55  Gforce_clean                   362 non-null    float64\n",
      "dtypes: float64(8), int64(2), object(46)\n",
      "memory usage: 475.7+ KB\n"
     ]
    }
   ],
   "source": [
    "df.info()"
   ]
  },
  {
   "cell_type": "markdown",
   "metadata": {
    "id": "-yTLVJX66blc"
   },
   "source": [
    "### filter the dataset by picking only these columns, coaster_name, Length, Speed, Location, Status, Opening date, Type, Manufacturer, Height,G-force, Max vertical angle, Drop, year_introduced."
   ]
  },
  {
   "cell_type": "code",
   "execution_count": 7,
   "metadata": {
    "id": "ZYJJbb7a7VUW"
   },
   "outputs": [],
   "source": [
    "df1 = df[[\"coaster_name\", \"Length\", \"Speed\", \"Location\", \"Status\",\n",
    "         \"Opening date\", \"Type\", \"Manufacturer\",\"Height\",\"G-force\",\n",
    "         \"Max vertical angle\", \"Drop\", \"year_introduced\"]]"
   ]
  },
  {
   "cell_type": "code",
   "execution_count": 8,
   "metadata": {
    "colab": {
     "base_uri": "https://localhost:8080/",
     "height": 372
    },
    "id": "Rb-_5tO07VRe",
    "outputId": "20f43fdb-6261-46d3-b8ba-6f8db81e8d78"
   },
   "outputs": [
    {
     "data": {
      "text/html": [
       "<div>\n",
       "<style scoped>\n",
       "    .dataframe tbody tr th:only-of-type {\n",
       "        vertical-align: middle;\n",
       "    }\n",
       "\n",
       "    .dataframe tbody tr th {\n",
       "        vertical-align: top;\n",
       "    }\n",
       "\n",
       "    .dataframe thead th {\n",
       "        text-align: right;\n",
       "    }\n",
       "</style>\n",
       "<table border=\"1\" class=\"dataframe\">\n",
       "  <thead>\n",
       "    <tr style=\"text-align: right;\">\n",
       "      <th></th>\n",
       "      <th>coaster_name</th>\n",
       "      <th>Length</th>\n",
       "      <th>Speed</th>\n",
       "      <th>Location</th>\n",
       "      <th>Status</th>\n",
       "      <th>Opening date</th>\n",
       "      <th>Type</th>\n",
       "      <th>Manufacturer</th>\n",
       "      <th>Height</th>\n",
       "      <th>G-force</th>\n",
       "      <th>Max vertical angle</th>\n",
       "      <th>Drop</th>\n",
       "      <th>year_introduced</th>\n",
       "    </tr>\n",
       "  </thead>\n",
       "  <tbody>\n",
       "    <tr>\n",
       "      <th>0</th>\n",
       "      <td>Switchback Railway</td>\n",
       "      <td>600 ft (180 m)</td>\n",
       "      <td>6 mph (9.7 km/h)</td>\n",
       "      <td>Coney Island</td>\n",
       "      <td>Removed</td>\n",
       "      <td>June 16, 1884</td>\n",
       "      <td>Wood</td>\n",
       "      <td>LaMarcus Adna Thompson</td>\n",
       "      <td>50 ft (15 m)</td>\n",
       "      <td>2.9</td>\n",
       "      <td>30°</td>\n",
       "      <td>43 ft (13 m)</td>\n",
       "      <td>1884</td>\n",
       "    </tr>\n",
       "    <tr>\n",
       "      <th>1</th>\n",
       "      <td>Flip Flap Railway</td>\n",
       "      <td>NaN</td>\n",
       "      <td>NaN</td>\n",
       "      <td>Sea Lion Park</td>\n",
       "      <td>Removed</td>\n",
       "      <td>1895</td>\n",
       "      <td>Wood</td>\n",
       "      <td>Lina Beecher</td>\n",
       "      <td>NaN</td>\n",
       "      <td>12</td>\n",
       "      <td>NaN</td>\n",
       "      <td>NaN</td>\n",
       "      <td>1895</td>\n",
       "    </tr>\n",
       "    <tr>\n",
       "      <th>2</th>\n",
       "      <td>Switchback Railway (Euclid Beach Park)</td>\n",
       "      <td>NaN</td>\n",
       "      <td>NaN</td>\n",
       "      <td>Cleveland, Ohio, United States</td>\n",
       "      <td>Closed</td>\n",
       "      <td>NaN</td>\n",
       "      <td>Other</td>\n",
       "      <td>NaN</td>\n",
       "      <td>NaN</td>\n",
       "      <td>NaN</td>\n",
       "      <td>NaN</td>\n",
       "      <td>NaN</td>\n",
       "      <td>1896</td>\n",
       "    </tr>\n",
       "    <tr>\n",
       "      <th>3</th>\n",
       "      <td>Loop the Loop (Coney Island)</td>\n",
       "      <td>NaN</td>\n",
       "      <td>NaN</td>\n",
       "      <td>Other</td>\n",
       "      <td>Removed</td>\n",
       "      <td>1901</td>\n",
       "      <td>Steel</td>\n",
       "      <td>Edwin Prescott</td>\n",
       "      <td>NaN</td>\n",
       "      <td>NaN</td>\n",
       "      <td>NaN</td>\n",
       "      <td>NaN</td>\n",
       "      <td>1901</td>\n",
       "    </tr>\n",
       "    <tr>\n",
       "      <th>4</th>\n",
       "      <td>Loop the Loop (Young's Pier)</td>\n",
       "      <td>NaN</td>\n",
       "      <td>NaN</td>\n",
       "      <td>Other</td>\n",
       "      <td>Removed</td>\n",
       "      <td>1901</td>\n",
       "      <td>Steel</td>\n",
       "      <td>Edwin Prescott</td>\n",
       "      <td>NaN</td>\n",
       "      <td>NaN</td>\n",
       "      <td>NaN</td>\n",
       "      <td>NaN</td>\n",
       "      <td>1901</td>\n",
       "    </tr>\n",
       "  </tbody>\n",
       "</table>\n",
       "</div>"
      ],
      "text/plain": [
       "                             coaster_name          Length             Speed  \\\n",
       "0                      Switchback Railway  600 ft (180 m)  6 mph (9.7 km/h)   \n",
       "1                       Flip Flap Railway             NaN               NaN   \n",
       "2  Switchback Railway (Euclid Beach Park)             NaN               NaN   \n",
       "3            Loop the Loop (Coney Island)             NaN               NaN   \n",
       "4            Loop the Loop (Young's Pier)             NaN               NaN   \n",
       "\n",
       "                         Location   Status   Opening date   Type  \\\n",
       "0                    Coney Island  Removed  June 16, 1884   Wood   \n",
       "1                   Sea Lion Park  Removed           1895   Wood   \n",
       "2  Cleveland, Ohio, United States   Closed            NaN  Other   \n",
       "3                           Other  Removed           1901  Steel   \n",
       "4                           Other  Removed           1901  Steel   \n",
       "\n",
       "             Manufacturer        Height G-force Max vertical angle  \\\n",
       "0  LaMarcus Adna Thompson  50 ft (15 m)     2.9                30°   \n",
       "1            Lina Beecher           NaN      12                NaN   \n",
       "2                     NaN           NaN     NaN                NaN   \n",
       "3          Edwin Prescott           NaN     NaN                NaN   \n",
       "4          Edwin Prescott           NaN     NaN                NaN   \n",
       "\n",
       "           Drop  year_introduced  \n",
       "0  43 ft (13 m)             1884  \n",
       "1           NaN             1895  \n",
       "2           NaN             1896  \n",
       "3           NaN             1901  \n",
       "4           NaN             1901  "
      ]
     },
     "execution_count": 8,
     "metadata": {},
     "output_type": "execute_result"
    }
   ],
   "source": [
    "df1.head()"
   ]
  },
  {
   "cell_type": "code",
   "execution_count": 9,
   "metadata": {
    "colab": {
     "base_uri": "https://localhost:8080/"
    },
    "id": "fSo9-fZM7VOW",
    "outputId": "e1765583-2d14-464e-d259-f95749135082"
   },
   "outputs": [
    {
     "name": "stdout",
     "output_type": "stream",
     "text": [
      "<class 'pandas.core.frame.DataFrame'>\n",
      "RangeIndex: 1087 entries, 0 to 1086\n",
      "Data columns (total 13 columns):\n",
      " #   Column              Non-Null Count  Dtype \n",
      "---  ------              --------------  ----- \n",
      " 0   coaster_name        1087 non-null   object\n",
      " 1   Length              953 non-null    object\n",
      " 2   Speed               937 non-null    object\n",
      " 3   Location            1087 non-null   object\n",
      " 4   Status              874 non-null    object\n",
      " 5   Opening date        837 non-null    object\n",
      " 6   Type                1087 non-null   object\n",
      " 7   Manufacturer        1028 non-null   object\n",
      " 8   Height              965 non-null    object\n",
      " 9   G-force             362 non-null    object\n",
      " 10  Max vertical angle  357 non-null    object\n",
      " 11  Drop                494 non-null    object\n",
      " 12  year_introduced     1087 non-null   int64 \n",
      "dtypes: int64(1), object(12)\n",
      "memory usage: 110.5+ KB\n"
     ]
    }
   ],
   "source": [
    "df1.info()"
   ]
  },
  {
   "cell_type": "markdown",
   "metadata": {
    "id": "hVgv7iA49zdO"
   },
   "source": [
    "### Numbers of null values in columns"
   ]
  },
  {
   "cell_type": "code",
   "execution_count": 10,
   "metadata": {
    "colab": {
     "base_uri": "https://localhost:8080/"
    },
    "id": "VsnF8WqU9qON",
    "outputId": "b23d54f1-5773-419f-d354-80fab1972f0d"
   },
   "outputs": [
    {
     "data": {
      "text/plain": [
       "coaster_name            0\n",
       "Length                134\n",
       "Speed                 150\n",
       "Location                0\n",
       "Status                213\n",
       "Opening date          250\n",
       "Type                    0\n",
       "Manufacturer           59\n",
       "Height                122\n",
       "G-force               725\n",
       "Max vertical angle    730\n",
       "Drop                  593\n",
       "year_introduced         0\n",
       "dtype: int64"
      ]
     },
     "execution_count": 10,
     "metadata": {},
     "output_type": "execute_result"
    }
   ],
   "source": [
    "df1.isnull().sum()"
   ]
  },
  {
   "cell_type": "markdown",
   "metadata": {
    "id": "tgy0_dgk6bld"
   },
   "source": [
    "### Rename the columns so they match snake case."
   ]
  },
  {
   "cell_type": "code",
   "execution_count": 11,
   "metadata": {
    "id": "JWflzfHg9vX1"
   },
   "outputs": [],
   "source": [
    "df1.rename(columns = {\n",
    "    \"Length\" : \"length\",\n",
    "     \"Speed\" : \"speed\",\n",
    "    \"Location\" : \"location\",\n",
    "     \"Status\" : \"status\",\n",
    "    \"Opening date\" : \"opening_date\",\n",
    "    \"Type\" : \"type\",\n",
    "    \"Manufacturer\" : \"manfacturer\",\n",
    "    \"Height\" :\"height\",\n",
    "    \"G-force\" : \"g_force\",\n",
    "    \"Max vertical angle\" : \"max_vertical_angle\", \n",
    "    \"Drop\" : \"drop\",\n",
    "} , inplace  = True)"
   ]
  },
  {
   "cell_type": "markdown",
   "metadata": {
    "id": "01Qe0uVA6bld"
   },
   "source": [
    "### The Speed column is object type, containing a string of speed in both mph and kmph. Change the contents of Speed column such that it contains only float values of kmph, thereby changing the type of Speed column to float. Also change the name of Speed column to speed(kmph). Do the same for Length, i.e. it should contain only float values for length in meters, also change it's name to length(m). Do the same thing for Height and Drop."
   ]
  },
  {
   "cell_type": "markdown",
   "metadata": {
    "id": "pAbSZJZn_JOh"
   },
   "source": [
    "### speed"
   ]
  },
  {
   "cell_type": "code",
   "execution_count": 12,
   "metadata": {
    "id": "SMRogY-lujNE"
   },
   "outputs": [],
   "source": [
    "# for speed columns\n",
    "\n",
    "df1[['speed_1','unit1' ,\"speed_2\",\"unit2\" ]] = df1.speed.str.split(expand=True)\n",
    "df1[['par','speed_3']] = df1['speed_2'].str.split('(', expand=True)\n",
    "\n",
    "ind1 = df1.index[df1['unit1'] == \"km/h\"].tolist()\n",
    "ind2 = df1.index[df1['unit2'] == \"km/h)\"].tolist()\n",
    "\n",
    "df1.loc[ind1,'speed'] = df1[\"speed_1\"]\n",
    "df1.loc[ind2,'speed'] = df1[\"speed_3\"]\n",
    "\n",
    "df1.drop([\"speed_1\",\t\"unit1\",\t\"speed_2\",\t\"unit2\",\t\"speed_3\",\t\"par\"] , axis = 1 , inplace = True)\n",
    "\n",
    "ind3 = df1.index[df1['speed'] == \"57.2 mph\"].tolist()\n",
    "df1.loc[ind3,'speed'] = 92.05"
   ]
  },
  {
   "cell_type": "code",
   "execution_count": 13,
   "metadata": {
    "colab": {
     "base_uri": "https://localhost:8080/"
    },
    "id": "65uLvGRP6kR1",
    "outputId": "a44c9e0b-c85a-4db3-bef7-d228bc14ea6d"
   },
   "outputs": [
    {
     "data": {
      "text/html": [
       "<div>\n",
       "<style scoped>\n",
       "    .dataframe tbody tr th:only-of-type {\n",
       "        vertical-align: middle;\n",
       "    }\n",
       "\n",
       "    .dataframe tbody tr th {\n",
       "        vertical-align: top;\n",
       "    }\n",
       "\n",
       "    .dataframe thead th {\n",
       "        text-align: right;\n",
       "    }\n",
       "</style>\n",
       "<table border=\"1\" class=\"dataframe\">\n",
       "  <thead>\n",
       "    <tr style=\"text-align: right;\">\n",
       "      <th></th>\n",
       "      <th>coaster_name</th>\n",
       "      <th>length</th>\n",
       "      <th>speed(kmph)</th>\n",
       "      <th>location</th>\n",
       "      <th>status</th>\n",
       "      <th>opening_date</th>\n",
       "      <th>type</th>\n",
       "      <th>manfacturer</th>\n",
       "      <th>height</th>\n",
       "      <th>g_force</th>\n",
       "      <th>max_vertical_angle</th>\n",
       "      <th>drop</th>\n",
       "      <th>year_introduced</th>\n",
       "    </tr>\n",
       "  </thead>\n",
       "  <tbody>\n",
       "    <tr>\n",
       "      <th>0</th>\n",
       "      <td>Switchback Railway</td>\n",
       "      <td>600 ft (180 m)</td>\n",
       "      <td>9.7</td>\n",
       "      <td>Coney Island</td>\n",
       "      <td>Removed</td>\n",
       "      <td>June 16, 1884</td>\n",
       "      <td>Wood</td>\n",
       "      <td>LaMarcus Adna Thompson</td>\n",
       "      <td>50 ft (15 m)</td>\n",
       "      <td>2.9</td>\n",
       "      <td>30°</td>\n",
       "      <td>43 ft (13 m)</td>\n",
       "      <td>1884</td>\n",
       "    </tr>\n",
       "    <tr>\n",
       "      <th>1</th>\n",
       "      <td>Flip Flap Railway</td>\n",
       "      <td>NaN</td>\n",
       "      <td>NaN</td>\n",
       "      <td>Sea Lion Park</td>\n",
       "      <td>Removed</td>\n",
       "      <td>1895</td>\n",
       "      <td>Wood</td>\n",
       "      <td>Lina Beecher</td>\n",
       "      <td>NaN</td>\n",
       "      <td>12</td>\n",
       "      <td>NaN</td>\n",
       "      <td>NaN</td>\n",
       "      <td>1895</td>\n",
       "    </tr>\n",
       "    <tr>\n",
       "      <th>2</th>\n",
       "      <td>Switchback Railway (Euclid Beach Park)</td>\n",
       "      <td>NaN</td>\n",
       "      <td>NaN</td>\n",
       "      <td>Cleveland, Ohio, United States</td>\n",
       "      <td>Closed</td>\n",
       "      <td>NaN</td>\n",
       "      <td>Other</td>\n",
       "      <td>NaN</td>\n",
       "      <td>NaN</td>\n",
       "      <td>NaN</td>\n",
       "      <td>NaN</td>\n",
       "      <td>NaN</td>\n",
       "      <td>1896</td>\n",
       "    </tr>\n",
       "    <tr>\n",
       "      <th>3</th>\n",
       "      <td>Loop the Loop (Coney Island)</td>\n",
       "      <td>NaN</td>\n",
       "      <td>NaN</td>\n",
       "      <td>Other</td>\n",
       "      <td>Removed</td>\n",
       "      <td>1901</td>\n",
       "      <td>Steel</td>\n",
       "      <td>Edwin Prescott</td>\n",
       "      <td>NaN</td>\n",
       "      <td>NaN</td>\n",
       "      <td>NaN</td>\n",
       "      <td>NaN</td>\n",
       "      <td>1901</td>\n",
       "    </tr>\n",
       "    <tr>\n",
       "      <th>4</th>\n",
       "      <td>Loop the Loop (Young's Pier)</td>\n",
       "      <td>NaN</td>\n",
       "      <td>NaN</td>\n",
       "      <td>Other</td>\n",
       "      <td>Removed</td>\n",
       "      <td>1901</td>\n",
       "      <td>Steel</td>\n",
       "      <td>Edwin Prescott</td>\n",
       "      <td>NaN</td>\n",
       "      <td>NaN</td>\n",
       "      <td>NaN</td>\n",
       "      <td>NaN</td>\n",
       "      <td>1901</td>\n",
       "    </tr>\n",
       "  </tbody>\n",
       "</table>\n",
       "</div>"
      ],
      "text/plain": [
       "                             coaster_name          length  speed(kmph)  \\\n",
       "0                      Switchback Railway  600 ft (180 m)          9.7   \n",
       "1                       Flip Flap Railway             NaN          NaN   \n",
       "2  Switchback Railway (Euclid Beach Park)             NaN          NaN   \n",
       "3            Loop the Loop (Coney Island)             NaN          NaN   \n",
       "4            Loop the Loop (Young's Pier)             NaN          NaN   \n",
       "\n",
       "                         location   status   opening_date   type  \\\n",
       "0                    Coney Island  Removed  June 16, 1884   Wood   \n",
       "1                   Sea Lion Park  Removed           1895   Wood   \n",
       "2  Cleveland, Ohio, United States   Closed            NaN  Other   \n",
       "3                           Other  Removed           1901  Steel   \n",
       "4                           Other  Removed           1901  Steel   \n",
       "\n",
       "              manfacturer        height g_force max_vertical_angle  \\\n",
       "0  LaMarcus Adna Thompson  50 ft (15 m)     2.9                30°   \n",
       "1            Lina Beecher           NaN      12                NaN   \n",
       "2                     NaN           NaN     NaN                NaN   \n",
       "3          Edwin Prescott           NaN     NaN                NaN   \n",
       "4          Edwin Prescott           NaN     NaN                NaN   \n",
       "\n",
       "           drop  year_introduced  \n",
       "0  43 ft (13 m)             1884  \n",
       "1           NaN             1895  \n",
       "2           NaN             1896  \n",
       "3           NaN             1901  \n",
       "4           NaN             1901  "
      ]
     },
     "execution_count": 13,
     "metadata": {},
     "output_type": "execute_result"
    }
   ],
   "source": [
    "df1.rename(columns = {\n",
    "    \"speed\" : \"speed(kmph)\"\n",
    "} , inplace = True)\n",
    "\n",
    "df1[\"speed(kmph)\"] = pd.to_numeric(df1[\"speed(kmph)\"])\n",
    "\n",
    "df1.head()"
   ]
  },
  {
   "cell_type": "markdown",
   "metadata": {
    "id": "7jTMZOit_Mze"
   },
   "source": [
    "### height"
   ]
  },
  {
   "cell_type": "code",
   "execution_count": 14,
   "metadata": {
    "id": "ooAqHDfDU9PM"
   },
   "outputs": [],
   "source": [
    "ind1 = df1.index[df1[\"height\"] == \"100 or 105 ft (30 or 32 m)\"].to_list()\n",
    "df1.loc[ind1 , \"height\"] = 30"
   ]
  },
  {
   "cell_type": "code",
   "execution_count": 15,
   "metadata": {
    "id": "afrBYNHbV2G5"
   },
   "outputs": [],
   "source": [
    "df1[['height_1','unit1' ,\"height_2\",\"unit2\" ]] = df1.height.str.split(expand=True)\n",
    "df1[['par','height_3']] = df1['height_2'].str.split('(', expand=True)\n",
    "\n",
    "ind2 = df1.index[df1['unit1'] == \"m\"].tolist()\n",
    "ind3 = df1.index[df1['unit2'] == \"m)\"].tolist()\n",
    "\n",
    "df1.loc[ind2,'height'] = df1[\"height_1\"]\n",
    "df1.loc[ind3,'height'] = df1[\"height_3\"]\n",
    "\n",
    "df1.drop([\"height_1\",\t\"unit1\",\t\"height_2\",\t\"unit2\",\t\"height_3\",\t\"par\"] , axis = 1 , inplace = True)\n",
    "\n",
    "ind4 = df1.index[df1[\"height\"] == \"119.8 ft\"]\n",
    "df1.loc[ind4 , \"height\"] = 36.51504\n",
    "\n",
    "ind4 = df1.index[df1[\"height\"] == \"119.8 ft\"]\n",
    "df1.loc[ind4 , \"height\"] = 36.51504\n",
    "\n",
    "df1.loc[905,\"height\"] = 1200"
   ]
  },
  {
   "cell_type": "code",
   "execution_count": 16,
   "metadata": {
    "colab": {
     "base_uri": "https://localhost:8080/"
    },
    "id": "Z0_taJYXTUd9",
    "outputId": "655b8a4f-376a-4a96-c312-4994ce4a6d97"
   },
   "outputs": [
    {
     "data": {
      "text/html": [
       "<div>\n",
       "<style scoped>\n",
       "    .dataframe tbody tr th:only-of-type {\n",
       "        vertical-align: middle;\n",
       "    }\n",
       "\n",
       "    .dataframe tbody tr th {\n",
       "        vertical-align: top;\n",
       "    }\n",
       "\n",
       "    .dataframe thead th {\n",
       "        text-align: right;\n",
       "    }\n",
       "</style>\n",
       "<table border=\"1\" class=\"dataframe\">\n",
       "  <thead>\n",
       "    <tr style=\"text-align: right;\">\n",
       "      <th></th>\n",
       "      <th>coaster_name</th>\n",
       "      <th>length</th>\n",
       "      <th>speed(kmph)</th>\n",
       "      <th>location</th>\n",
       "      <th>status</th>\n",
       "      <th>opening_date</th>\n",
       "      <th>type</th>\n",
       "      <th>manfacturer</th>\n",
       "      <th>height</th>\n",
       "      <th>g_force</th>\n",
       "      <th>max_vertical_angle</th>\n",
       "      <th>drop</th>\n",
       "      <th>year_introduced</th>\n",
       "    </tr>\n",
       "  </thead>\n",
       "  <tbody>\n",
       "    <tr>\n",
       "      <th>0</th>\n",
       "      <td>Switchback Railway</td>\n",
       "      <td>600 ft (180 m)</td>\n",
       "      <td>9.7</td>\n",
       "      <td>Coney Island</td>\n",
       "      <td>Removed</td>\n",
       "      <td>June 16, 1884</td>\n",
       "      <td>Wood</td>\n",
       "      <td>LaMarcus Adna Thompson</td>\n",
       "      <td>15</td>\n",
       "      <td>2.9</td>\n",
       "      <td>30°</td>\n",
       "      <td>43 ft (13 m)</td>\n",
       "      <td>1884</td>\n",
       "    </tr>\n",
       "    <tr>\n",
       "      <th>1</th>\n",
       "      <td>Flip Flap Railway</td>\n",
       "      <td>NaN</td>\n",
       "      <td>NaN</td>\n",
       "      <td>Sea Lion Park</td>\n",
       "      <td>Removed</td>\n",
       "      <td>1895</td>\n",
       "      <td>Wood</td>\n",
       "      <td>Lina Beecher</td>\n",
       "      <td>NaN</td>\n",
       "      <td>12</td>\n",
       "      <td>NaN</td>\n",
       "      <td>NaN</td>\n",
       "      <td>1895</td>\n",
       "    </tr>\n",
       "    <tr>\n",
       "      <th>2</th>\n",
       "      <td>Switchback Railway (Euclid Beach Park)</td>\n",
       "      <td>NaN</td>\n",
       "      <td>NaN</td>\n",
       "      <td>Cleveland, Ohio, United States</td>\n",
       "      <td>Closed</td>\n",
       "      <td>NaN</td>\n",
       "      <td>Other</td>\n",
       "      <td>NaN</td>\n",
       "      <td>NaN</td>\n",
       "      <td>NaN</td>\n",
       "      <td>NaN</td>\n",
       "      <td>NaN</td>\n",
       "      <td>1896</td>\n",
       "    </tr>\n",
       "    <tr>\n",
       "      <th>3</th>\n",
       "      <td>Loop the Loop (Coney Island)</td>\n",
       "      <td>NaN</td>\n",
       "      <td>NaN</td>\n",
       "      <td>Other</td>\n",
       "      <td>Removed</td>\n",
       "      <td>1901</td>\n",
       "      <td>Steel</td>\n",
       "      <td>Edwin Prescott</td>\n",
       "      <td>NaN</td>\n",
       "      <td>NaN</td>\n",
       "      <td>NaN</td>\n",
       "      <td>NaN</td>\n",
       "      <td>1901</td>\n",
       "    </tr>\n",
       "    <tr>\n",
       "      <th>4</th>\n",
       "      <td>Loop the Loop (Young's Pier)</td>\n",
       "      <td>NaN</td>\n",
       "      <td>NaN</td>\n",
       "      <td>Other</td>\n",
       "      <td>Removed</td>\n",
       "      <td>1901</td>\n",
       "      <td>Steel</td>\n",
       "      <td>Edwin Prescott</td>\n",
       "      <td>NaN</td>\n",
       "      <td>NaN</td>\n",
       "      <td>NaN</td>\n",
       "      <td>NaN</td>\n",
       "      <td>1901</td>\n",
       "    </tr>\n",
       "  </tbody>\n",
       "</table>\n",
       "</div>"
      ],
      "text/plain": [
       "                             coaster_name          length  speed(kmph)  \\\n",
       "0                      Switchback Railway  600 ft (180 m)          9.7   \n",
       "1                       Flip Flap Railway             NaN          NaN   \n",
       "2  Switchback Railway (Euclid Beach Park)             NaN          NaN   \n",
       "3            Loop the Loop (Coney Island)             NaN          NaN   \n",
       "4            Loop the Loop (Young's Pier)             NaN          NaN   \n",
       "\n",
       "                         location   status   opening_date   type  \\\n",
       "0                    Coney Island  Removed  June 16, 1884   Wood   \n",
       "1                   Sea Lion Park  Removed           1895   Wood   \n",
       "2  Cleveland, Ohio, United States   Closed            NaN  Other   \n",
       "3                           Other  Removed           1901  Steel   \n",
       "4                           Other  Removed           1901  Steel   \n",
       "\n",
       "              manfacturer height g_force max_vertical_angle          drop  \\\n",
       "0  LaMarcus Adna Thompson     15     2.9                30°  43 ft (13 m)   \n",
       "1            Lina Beecher    NaN      12                NaN           NaN   \n",
       "2                     NaN    NaN     NaN                NaN           NaN   \n",
       "3          Edwin Prescott    NaN     NaN                NaN           NaN   \n",
       "4          Edwin Prescott    NaN     NaN                NaN           NaN   \n",
       "\n",
       "   year_introduced  \n",
       "0             1884  \n",
       "1             1895  \n",
       "2             1896  \n",
       "3             1901  \n",
       "4             1901  "
      ]
     },
     "execution_count": 16,
     "metadata": {},
     "output_type": "execute_result"
    }
   ],
   "source": [
    "df1.head()"
   ]
  },
  {
   "cell_type": "code",
   "execution_count": 17,
   "metadata": {
    "colab": {
     "base_uri": "https://localhost:8080/"
    },
    "id": "swbAQLOuem12",
    "outputId": "e904e51a-b270-451d-9d43-24165fd43bda"
   },
   "outputs": [
    {
     "data": {
      "text/html": [
       "<div>\n",
       "<style scoped>\n",
       "    .dataframe tbody tr th:only-of-type {\n",
       "        vertical-align: middle;\n",
       "    }\n",
       "\n",
       "    .dataframe tbody tr th {\n",
       "        vertical-align: top;\n",
       "    }\n",
       "\n",
       "    .dataframe thead th {\n",
       "        text-align: right;\n",
       "    }\n",
       "</style>\n",
       "<table border=\"1\" class=\"dataframe\">\n",
       "  <thead>\n",
       "    <tr style=\"text-align: right;\">\n",
       "      <th></th>\n",
       "      <th>coaster_name</th>\n",
       "      <th>length</th>\n",
       "      <th>speed(kmph)</th>\n",
       "      <th>location</th>\n",
       "      <th>status</th>\n",
       "      <th>opening_date</th>\n",
       "      <th>type</th>\n",
       "      <th>manfacturer</th>\n",
       "      <th>height(m)</th>\n",
       "      <th>g_force</th>\n",
       "      <th>max_vertical_angle</th>\n",
       "      <th>drop</th>\n",
       "      <th>year_introduced</th>\n",
       "    </tr>\n",
       "  </thead>\n",
       "  <tbody>\n",
       "    <tr>\n",
       "      <th>0</th>\n",
       "      <td>Switchback Railway</td>\n",
       "      <td>600 ft (180 m)</td>\n",
       "      <td>9.7</td>\n",
       "      <td>Coney Island</td>\n",
       "      <td>Removed</td>\n",
       "      <td>June 16, 1884</td>\n",
       "      <td>Wood</td>\n",
       "      <td>LaMarcus Adna Thompson</td>\n",
       "      <td>15.0</td>\n",
       "      <td>2.9</td>\n",
       "      <td>30°</td>\n",
       "      <td>43 ft (13 m)</td>\n",
       "      <td>1884</td>\n",
       "    </tr>\n",
       "    <tr>\n",
       "      <th>1</th>\n",
       "      <td>Flip Flap Railway</td>\n",
       "      <td>NaN</td>\n",
       "      <td>NaN</td>\n",
       "      <td>Sea Lion Park</td>\n",
       "      <td>Removed</td>\n",
       "      <td>1895</td>\n",
       "      <td>Wood</td>\n",
       "      <td>Lina Beecher</td>\n",
       "      <td>NaN</td>\n",
       "      <td>12</td>\n",
       "      <td>NaN</td>\n",
       "      <td>NaN</td>\n",
       "      <td>1895</td>\n",
       "    </tr>\n",
       "    <tr>\n",
       "      <th>2</th>\n",
       "      <td>Switchback Railway (Euclid Beach Park)</td>\n",
       "      <td>NaN</td>\n",
       "      <td>NaN</td>\n",
       "      <td>Cleveland, Ohio, United States</td>\n",
       "      <td>Closed</td>\n",
       "      <td>NaN</td>\n",
       "      <td>Other</td>\n",
       "      <td>NaN</td>\n",
       "      <td>NaN</td>\n",
       "      <td>NaN</td>\n",
       "      <td>NaN</td>\n",
       "      <td>NaN</td>\n",
       "      <td>1896</td>\n",
       "    </tr>\n",
       "    <tr>\n",
       "      <th>3</th>\n",
       "      <td>Loop the Loop (Coney Island)</td>\n",
       "      <td>NaN</td>\n",
       "      <td>NaN</td>\n",
       "      <td>Other</td>\n",
       "      <td>Removed</td>\n",
       "      <td>1901</td>\n",
       "      <td>Steel</td>\n",
       "      <td>Edwin Prescott</td>\n",
       "      <td>NaN</td>\n",
       "      <td>NaN</td>\n",
       "      <td>NaN</td>\n",
       "      <td>NaN</td>\n",
       "      <td>1901</td>\n",
       "    </tr>\n",
       "    <tr>\n",
       "      <th>4</th>\n",
       "      <td>Loop the Loop (Young's Pier)</td>\n",
       "      <td>NaN</td>\n",
       "      <td>NaN</td>\n",
       "      <td>Other</td>\n",
       "      <td>Removed</td>\n",
       "      <td>1901</td>\n",
       "      <td>Steel</td>\n",
       "      <td>Edwin Prescott</td>\n",
       "      <td>NaN</td>\n",
       "      <td>NaN</td>\n",
       "      <td>NaN</td>\n",
       "      <td>NaN</td>\n",
       "      <td>1901</td>\n",
       "    </tr>\n",
       "  </tbody>\n",
       "</table>\n",
       "</div>"
      ],
      "text/plain": [
       "                             coaster_name          length  speed(kmph)  \\\n",
       "0                      Switchback Railway  600 ft (180 m)          9.7   \n",
       "1                       Flip Flap Railway             NaN          NaN   \n",
       "2  Switchback Railway (Euclid Beach Park)             NaN          NaN   \n",
       "3            Loop the Loop (Coney Island)             NaN          NaN   \n",
       "4            Loop the Loop (Young's Pier)             NaN          NaN   \n",
       "\n",
       "                         location   status   opening_date   type  \\\n",
       "0                    Coney Island  Removed  June 16, 1884   Wood   \n",
       "1                   Sea Lion Park  Removed           1895   Wood   \n",
       "2  Cleveland, Ohio, United States   Closed            NaN  Other   \n",
       "3                           Other  Removed           1901  Steel   \n",
       "4                           Other  Removed           1901  Steel   \n",
       "\n",
       "              manfacturer  height(m) g_force max_vertical_angle          drop  \\\n",
       "0  LaMarcus Adna Thompson       15.0     2.9                30°  43 ft (13 m)   \n",
       "1            Lina Beecher        NaN      12                NaN           NaN   \n",
       "2                     NaN        NaN     NaN                NaN           NaN   \n",
       "3          Edwin Prescott        NaN     NaN                NaN           NaN   \n",
       "4          Edwin Prescott        NaN     NaN                NaN           NaN   \n",
       "\n",
       "   year_introduced  \n",
       "0             1884  \n",
       "1             1895  \n",
       "2             1896  \n",
       "3             1901  \n",
       "4             1901  "
      ]
     },
     "execution_count": 17,
     "metadata": {},
     "output_type": "execute_result"
    }
   ],
   "source": [
    "df1.rename(columns = {\n",
    "    \"height\" : \"height(m)\"\n",
    "} , inplace = True)\n",
    "\n",
    "df1[\"height(m)\"] = pd.to_numeric(df1[\"height(m)\"])\n",
    "\n",
    "df1.head()"
   ]
  },
  {
   "cell_type": "markdown",
   "metadata": {
    "id": "g8xhYK_0_SoO"
   },
   "source": [
    "### length\n"
   ]
  },
  {
   "cell_type": "code",
   "execution_count": 18,
   "metadata": {
    "colab": {
     "base_uri": "https://localhost:8080/"
    },
    "id": "GFZbTxjzeK_D",
    "outputId": "aba5a01d-c2ef-42c7-c0f1-ec27db753adb"
   },
   "outputs": [
    {
     "data": {
      "text/html": [
       "<div>\n",
       "<style scoped>\n",
       "    .dataframe tbody tr th:only-of-type {\n",
       "        vertical-align: middle;\n",
       "    }\n",
       "\n",
       "    .dataframe tbody tr th {\n",
       "        vertical-align: top;\n",
       "    }\n",
       "\n",
       "    .dataframe thead th {\n",
       "        text-align: right;\n",
       "    }\n",
       "</style>\n",
       "<table border=\"1\" class=\"dataframe\">\n",
       "  <thead>\n",
       "    <tr style=\"text-align: right;\">\n",
       "      <th></th>\n",
       "      <th>coaster_name</th>\n",
       "      <th>length</th>\n",
       "      <th>speed(kmph)</th>\n",
       "      <th>location</th>\n",
       "      <th>status</th>\n",
       "      <th>opening_date</th>\n",
       "      <th>type</th>\n",
       "      <th>manfacturer</th>\n",
       "      <th>height(m)</th>\n",
       "      <th>g_force</th>\n",
       "      <th>max_vertical_angle</th>\n",
       "      <th>drop</th>\n",
       "      <th>year_introduced</th>\n",
       "    </tr>\n",
       "  </thead>\n",
       "  <tbody>\n",
       "    <tr>\n",
       "      <th>455</th>\n",
       "      <td>Roar (roller coaster)</td>\n",
       "      <td>3,468 ft (1,057 m) (America)3,291 ft (1,003 m)...</td>\n",
       "      <td>81.3</td>\n",
       "      <td>Other</td>\n",
       "      <td>NaN</td>\n",
       "      <td>NaN</td>\n",
       "      <td>Wood</td>\n",
       "      <td>Great Coasters International</td>\n",
       "      <td>29.0</td>\n",
       "      <td>3.5</td>\n",
       "      <td>50°</td>\n",
       "      <td>85 ft (26 m)</td>\n",
       "      <td>1998</td>\n",
       "    </tr>\n",
       "    <tr>\n",
       "      <th>499</th>\n",
       "      <td>Roar (roller coaster)</td>\n",
       "      <td>3,468 ft (1,057 m) (America)3,291 ft (1,003 m)...</td>\n",
       "      <td>81.3</td>\n",
       "      <td>Other</td>\n",
       "      <td>NaN</td>\n",
       "      <td>NaN</td>\n",
       "      <td>Wood</td>\n",
       "      <td>Great Coasters International</td>\n",
       "      <td>29.0</td>\n",
       "      <td>3.5</td>\n",
       "      <td>50°</td>\n",
       "      <td>85 ft (26 m)</td>\n",
       "      <td>1999</td>\n",
       "    </tr>\n",
       "  </tbody>\n",
       "</table>\n",
       "</div>"
      ],
      "text/plain": [
       "              coaster_name                                             length  \\\n",
       "455  Roar (roller coaster)  3,468 ft (1,057 m) (America)3,291 ft (1,003 m)...   \n",
       "499  Roar (roller coaster)  3,468 ft (1,057 m) (America)3,291 ft (1,003 m)...   \n",
       "\n",
       "     speed(kmph) location status opening_date  type  \\\n",
       "455         81.3    Other    NaN          NaN  Wood   \n",
       "499         81.3    Other    NaN          NaN  Wood   \n",
       "\n",
       "                      manfacturer  height(m) g_force max_vertical_angle  \\\n",
       "455  Great Coasters International       29.0     3.5                50°   \n",
       "499  Great Coasters International       29.0     3.5                50°   \n",
       "\n",
       "             drop  year_introduced  \n",
       "455  85 ft (26 m)             1998  \n",
       "499  85 ft (26 m)             1999  "
      ]
     },
     "execution_count": 18,
     "metadata": {},
     "output_type": "execute_result"
    }
   ],
   "source": [
    "df1[df1[\"length\"] == \"3,468\\xa0ft (1,057\\xa0m) (America)3,291\\xa0ft (1,003\\xa0m) (Discovery Kingdom)\"]"
   ]
  },
  {
   "cell_type": "code",
   "execution_count": 19,
   "metadata": {
    "id": "p3sSXAh6g2Zx"
   },
   "outputs": [],
   "source": [
    "df1.loc[[455,499] , \"length\"] = 3468\n",
    "ind1 = df1.index[df1[\"length\"] == \"2,693 or 2,700\\xa0ft (821 or 823\\xa0m)\"]\n",
    "df1.loc[ind1 , \"length\"] = 2700\n"
   ]
  },
  {
   "cell_type": "code",
   "execution_count": 20,
   "metadata": {
    "id": "Pw4bvT2DhMPm"
   },
   "outputs": [],
   "source": [
    "df1[['length_1','unit1' ,\"length_2\",\"unit2\" ]] = df1.length.str.split(expand=True)\n",
    "df1[['par','length_3']] = df1['length_2'].str.split('(', expand=True)\n",
    "\n",
    "ind2 = df1.index[df1['unit1'] == \"m\"].tolist()\n",
    "ind3 = df1.index[df1['unit2'] == \"m)\"].tolist()\n",
    "\n",
    "df1.loc[ind2,'length'] = df1[\"length_1\"]\n",
    "df1.loc[ind3,'length'] = df1[\"length_3\"]\n",
    "\n",
    "df1.drop([\"length_1\",\t\"unit1\",\t\"length_2\",\t\"unit2\",\t\"length_3\",\t\"par\"] , axis = 1 , inplace = True)\n",
    "\n",
    "ind5 = df1.index[df1[\"length\"] == \"2,759–2,798\\xa0ft (841–853\\xa0m)\"]\n",
    "df1.loc[ind5 , \"length\"] == str(853)\n",
    "\n",
    "ind5 = df1.index[df1[\"length\"] == \"2,759–2,798\\xa0ft (841–853\\xa0m)\"]\n",
    "df1.loc[ind5 , \"length\"] = str(853)"
   ]
  },
  {
   "cell_type": "code",
   "execution_count": 21,
   "metadata": {
    "colab": {
     "base_uri": "https://localhost:8080/"
    },
    "id": "Sg73a3np_qBr",
    "outputId": "3dc1e7e4-2b2c-4c7a-f0ce-1c036f0e6a2f"
   },
   "outputs": [
    {
     "data": {
      "text/html": [
       "<div>\n",
       "<style scoped>\n",
       "    .dataframe tbody tr th:only-of-type {\n",
       "        vertical-align: middle;\n",
       "    }\n",
       "\n",
       "    .dataframe tbody tr th {\n",
       "        vertical-align: top;\n",
       "    }\n",
       "\n",
       "    .dataframe thead th {\n",
       "        text-align: right;\n",
       "    }\n",
       "</style>\n",
       "<table border=\"1\" class=\"dataframe\">\n",
       "  <thead>\n",
       "    <tr style=\"text-align: right;\">\n",
       "      <th></th>\n",
       "      <th>coaster_name</th>\n",
       "      <th>length</th>\n",
       "      <th>speed(kmph)</th>\n",
       "      <th>location</th>\n",
       "      <th>status</th>\n",
       "      <th>opening_date</th>\n",
       "      <th>type</th>\n",
       "      <th>manfacturer</th>\n",
       "      <th>height(m)</th>\n",
       "      <th>g_force</th>\n",
       "      <th>max_vertical_angle</th>\n",
       "      <th>drop</th>\n",
       "      <th>year_introduced</th>\n",
       "    </tr>\n",
       "  </thead>\n",
       "  <tbody>\n",
       "    <tr>\n",
       "      <th>198</th>\n",
       "      <td>Cyclone (Six Flags New England)</td>\n",
       "      <td>1,010</td>\n",
       "      <td>89.0</td>\n",
       "      <td>Six Flags New England</td>\n",
       "      <td>Operating</td>\n",
       "      <td>May 24, 2015</td>\n",
       "      <td>Steel</td>\n",
       "      <td>Rocky Mountain Construction</td>\n",
       "      <td>33.0</td>\n",
       "      <td>NaN</td>\n",
       "      <td>78°</td>\n",
       "      <td>NaN</td>\n",
       "      <td>1983</td>\n",
       "    </tr>\n",
       "    <tr>\n",
       "      <th>331</th>\n",
       "      <td>Batman The Escape</td>\n",
       "      <td>700</td>\n",
       "      <td>89.0</td>\n",
       "      <td>Other</td>\n",
       "      <td>NaN</td>\n",
       "      <td>NaN</td>\n",
       "      <td>Steel – Stand-up</td>\n",
       "      <td>Intamin</td>\n",
       "      <td>27.0</td>\n",
       "      <td>3.4</td>\n",
       "      <td>NaN</td>\n",
       "      <td>85 ft (26 m)</td>\n",
       "      <td>1993</td>\n",
       "    </tr>\n",
       "    <tr>\n",
       "      <th>796</th>\n",
       "      <td>Prowler (roller coaster)</td>\n",
       "      <td>937</td>\n",
       "      <td>82.4</td>\n",
       "      <td>Worlds of Fun</td>\n",
       "      <td>Operating</td>\n",
       "      <td>May 2, 2009</td>\n",
       "      <td>Wood</td>\n",
       "      <td>Great Coasters International</td>\n",
       "      <td>31.2</td>\n",
       "      <td>NaN</td>\n",
       "      <td>NaN</td>\n",
       "      <td>85.9 ft (26.2 m)</td>\n",
       "      <td>2009</td>\n",
       "    </tr>\n",
       "    <tr>\n",
       "      <th>372</th>\n",
       "      <td>Cobra (La Ronde)</td>\n",
       "      <td>785</td>\n",
       "      <td>77.0</td>\n",
       "      <td>Other</td>\n",
       "      <td>NaN</td>\n",
       "      <td>NaN</td>\n",
       "      <td>Steel – Stand-up</td>\n",
       "      <td>Intamin</td>\n",
       "      <td>27.0</td>\n",
       "      <td>NaN</td>\n",
       "      <td>NaN</td>\n",
       "      <td>87 ft (27 m)</td>\n",
       "      <td>1995</td>\n",
       "    </tr>\n",
       "    <tr>\n",
       "      <th>252</th>\n",
       "      <td>La Vibora</td>\n",
       "      <td>450</td>\n",
       "      <td>51.0</td>\n",
       "      <td>Other</td>\n",
       "      <td>NaN</td>\n",
       "      <td>NaN</td>\n",
       "      <td>Steel</td>\n",
       "      <td>Intamin</td>\n",
       "      <td>18.0</td>\n",
       "      <td>NaN</td>\n",
       "      <td>NaN</td>\n",
       "      <td>NaN</td>\n",
       "      <td>1987</td>\n",
       "    </tr>\n",
       "    <tr>\n",
       "      <th>986</th>\n",
       "      <td>InvadR</td>\n",
       "      <td>646</td>\n",
       "      <td>77.0</td>\n",
       "      <td>Busch Gardens Williamsburg</td>\n",
       "      <td>Operating</td>\n",
       "      <td>April 7, 2017</td>\n",
       "      <td>Wood</td>\n",
       "      <td>Great Coasters International</td>\n",
       "      <td>18.0</td>\n",
       "      <td>NaN</td>\n",
       "      <td>NaN</td>\n",
       "      <td>74 ft (23 m)</td>\n",
       "      <td>2017</td>\n",
       "    </tr>\n",
       "    <tr>\n",
       "      <th>293</th>\n",
       "      <td>Thunder Run (Kentucky Kingdom)</td>\n",
       "      <td>870</td>\n",
       "      <td>85.0</td>\n",
       "      <td>Kentucky Kingdom</td>\n",
       "      <td>Operating</td>\n",
       "      <td>August 1990</td>\n",
       "      <td>Wood</td>\n",
       "      <td>Dinn Corporation</td>\n",
       "      <td>27.0</td>\n",
       "      <td>NaN</td>\n",
       "      <td>NaN</td>\n",
       "      <td>74 ft (23 m)</td>\n",
       "      <td>1990</td>\n",
       "    </tr>\n",
       "    <tr>\n",
       "      <th>1023</th>\n",
       "      <td>Desmo Race</td>\n",
       "      <td>525.0</td>\n",
       "      <td>80.0</td>\n",
       "      <td>Other</td>\n",
       "      <td>Operating</td>\n",
       "      <td>July 25, 2019</td>\n",
       "      <td>Steel – Dueling – Racing</td>\n",
       "      <td>Maurer AG</td>\n",
       "      <td>22.0</td>\n",
       "      <td>1.2</td>\n",
       "      <td>NaN</td>\n",
       "      <td>NaN</td>\n",
       "      <td>2019</td>\n",
       "    </tr>\n",
       "    <tr>\n",
       "      <th>315</th>\n",
       "      <td>Cosmic Coaster (Valleyfair)</td>\n",
       "      <td>66</td>\n",
       "      <td>24.0</td>\n",
       "      <td>Other</td>\n",
       "      <td>NaN</td>\n",
       "      <td>NaN</td>\n",
       "      <td>Steel – Junior – Powered</td>\n",
       "      <td>Zamperla</td>\n",
       "      <td>4.3</td>\n",
       "      <td>NaN</td>\n",
       "      <td>NaN</td>\n",
       "      <td>NaN</td>\n",
       "      <td>1992</td>\n",
       "    </tr>\n",
       "    <tr>\n",
       "      <th>188</th>\n",
       "      <td>Looping Star (Nagashima Spa Land)</td>\n",
       "      <td>592.0</td>\n",
       "      <td>64.0</td>\n",
       "      <td>Nagashima Spa Land</td>\n",
       "      <td>Operating</td>\n",
       "      <td>1982</td>\n",
       "      <td>Steel</td>\n",
       "      <td>Anton Schwarzkopf</td>\n",
       "      <td>24.0</td>\n",
       "      <td>NaN</td>\n",
       "      <td>NaN</td>\n",
       "      <td>80 ft (24 m)</td>\n",
       "      <td>1982</td>\n",
       "    </tr>\n",
       "  </tbody>\n",
       "</table>\n",
       "</div>"
      ],
      "text/plain": [
       "                           coaster_name length  speed(kmph)  \\\n",
       "198     Cyclone (Six Flags New England)  1,010         89.0   \n",
       "331                   Batman The Escape    700         89.0   \n",
       "796            Prowler (roller coaster)    937         82.4   \n",
       "372                    Cobra (La Ronde)    785         77.0   \n",
       "252                           La Vibora    450         51.0   \n",
       "986                              InvadR    646         77.0   \n",
       "293      Thunder Run (Kentucky Kingdom)    870         85.0   \n",
       "1023                         Desmo Race  525.0         80.0   \n",
       "315         Cosmic Coaster (Valleyfair)     66         24.0   \n",
       "188   Looping Star (Nagashima Spa Land)  592.0         64.0   \n",
       "\n",
       "                        location     status   opening_date  \\\n",
       "198        Six Flags New England  Operating   May 24, 2015   \n",
       "331                        Other        NaN            NaN   \n",
       "796                Worlds of Fun  Operating    May 2, 2009   \n",
       "372                        Other        NaN            NaN   \n",
       "252                        Other        NaN            NaN   \n",
       "986   Busch Gardens Williamsburg  Operating  April 7, 2017   \n",
       "293             Kentucky Kingdom  Operating    August 1990   \n",
       "1023                       Other  Operating  July 25, 2019   \n",
       "315                        Other        NaN            NaN   \n",
       "188           Nagashima Spa Land  Operating           1982   \n",
       "\n",
       "                          type                   manfacturer  height(m)  \\\n",
       "198                      Steel   Rocky Mountain Construction       33.0   \n",
       "331           Steel – Stand-up                       Intamin       27.0   \n",
       "796                       Wood  Great Coasters International       31.2   \n",
       "372           Steel – Stand-up                       Intamin       27.0   \n",
       "252                      Steel                       Intamin       18.0   \n",
       "986                       Wood  Great Coasters International       18.0   \n",
       "293                       Wood              Dinn Corporation       27.0   \n",
       "1023  Steel – Dueling – Racing                     Maurer AG       22.0   \n",
       "315   Steel – Junior – Powered                      Zamperla        4.3   \n",
       "188                      Steel             Anton Schwarzkopf       24.0   \n",
       "\n",
       "     g_force max_vertical_angle              drop  year_introduced  \n",
       "198      NaN                78°               NaN             1983  \n",
       "331      3.4                NaN      85 ft (26 m)             1993  \n",
       "796      NaN                NaN  85.9 ft (26.2 m)             2009  \n",
       "372      NaN                NaN      87 ft (27 m)             1995  \n",
       "252      NaN                NaN               NaN             1987  \n",
       "986      NaN                NaN      74 ft (23 m)             2017  \n",
       "293      NaN                NaN      74 ft (23 m)             1990  \n",
       "1023     1.2                NaN               NaN             2019  \n",
       "315      NaN                NaN               NaN             1992  \n",
       "188      NaN                NaN      80 ft (24 m)             1982  "
      ]
     },
     "execution_count": 21,
     "metadata": {},
     "output_type": "execute_result"
    }
   ],
   "source": [
    "df1.sample(10)"
   ]
  },
  {
   "cell_type": "code",
   "execution_count": 22,
   "metadata": {
    "id": "K42aLSkxAHOa"
   },
   "outputs": [],
   "source": [
    "df1['length'] = df1['length'].replace(r'[^\\d.]', '', regex=True)"
   ]
  },
  {
   "cell_type": "code",
   "execution_count": 23,
   "metadata": {
    "colab": {
     "base_uri": "https://localhost:8080/"
    },
    "id": "CzjGZekE8ZMW",
    "outputId": "52d4cffa-e1ac-4d38-fa65-4dea3c023094"
   },
   "outputs": [
    {
     "data": {
      "text/html": [
       "<div>\n",
       "<style scoped>\n",
       "    .dataframe tbody tr th:only-of-type {\n",
       "        vertical-align: middle;\n",
       "    }\n",
       "\n",
       "    .dataframe tbody tr th {\n",
       "        vertical-align: top;\n",
       "    }\n",
       "\n",
       "    .dataframe thead th {\n",
       "        text-align: right;\n",
       "    }\n",
       "</style>\n",
       "<table border=\"1\" class=\"dataframe\">\n",
       "  <thead>\n",
       "    <tr style=\"text-align: right;\">\n",
       "      <th></th>\n",
       "      <th>coaster_name</th>\n",
       "      <th>length(m)</th>\n",
       "      <th>speed(kmph)</th>\n",
       "      <th>location</th>\n",
       "      <th>status</th>\n",
       "      <th>opening_date</th>\n",
       "      <th>type</th>\n",
       "      <th>manfacturer</th>\n",
       "      <th>height(m)</th>\n",
       "      <th>g_force</th>\n",
       "      <th>max_vertical_angle</th>\n",
       "      <th>drop</th>\n",
       "      <th>year_introduced</th>\n",
       "    </tr>\n",
       "  </thead>\n",
       "  <tbody>\n",
       "    <tr>\n",
       "      <th>0</th>\n",
       "      <td>Switchback Railway</td>\n",
       "      <td>180.0</td>\n",
       "      <td>9.7</td>\n",
       "      <td>Coney Island</td>\n",
       "      <td>Removed</td>\n",
       "      <td>June 16, 1884</td>\n",
       "      <td>Wood</td>\n",
       "      <td>LaMarcus Adna Thompson</td>\n",
       "      <td>15.0</td>\n",
       "      <td>2.9</td>\n",
       "      <td>30°</td>\n",
       "      <td>43 ft (13 m)</td>\n",
       "      <td>1884</td>\n",
       "    </tr>\n",
       "    <tr>\n",
       "      <th>1</th>\n",
       "      <td>Flip Flap Railway</td>\n",
       "      <td>NaN</td>\n",
       "      <td>NaN</td>\n",
       "      <td>Sea Lion Park</td>\n",
       "      <td>Removed</td>\n",
       "      <td>1895</td>\n",
       "      <td>Wood</td>\n",
       "      <td>Lina Beecher</td>\n",
       "      <td>NaN</td>\n",
       "      <td>12</td>\n",
       "      <td>NaN</td>\n",
       "      <td>NaN</td>\n",
       "      <td>1895</td>\n",
       "    </tr>\n",
       "    <tr>\n",
       "      <th>2</th>\n",
       "      <td>Switchback Railway (Euclid Beach Park)</td>\n",
       "      <td>NaN</td>\n",
       "      <td>NaN</td>\n",
       "      <td>Cleveland, Ohio, United States</td>\n",
       "      <td>Closed</td>\n",
       "      <td>NaN</td>\n",
       "      <td>Other</td>\n",
       "      <td>NaN</td>\n",
       "      <td>NaN</td>\n",
       "      <td>NaN</td>\n",
       "      <td>NaN</td>\n",
       "      <td>NaN</td>\n",
       "      <td>1896</td>\n",
       "    </tr>\n",
       "    <tr>\n",
       "      <th>3</th>\n",
       "      <td>Loop the Loop (Coney Island)</td>\n",
       "      <td>NaN</td>\n",
       "      <td>NaN</td>\n",
       "      <td>Other</td>\n",
       "      <td>Removed</td>\n",
       "      <td>1901</td>\n",
       "      <td>Steel</td>\n",
       "      <td>Edwin Prescott</td>\n",
       "      <td>NaN</td>\n",
       "      <td>NaN</td>\n",
       "      <td>NaN</td>\n",
       "      <td>NaN</td>\n",
       "      <td>1901</td>\n",
       "    </tr>\n",
       "    <tr>\n",
       "      <th>4</th>\n",
       "      <td>Loop the Loop (Young's Pier)</td>\n",
       "      <td>NaN</td>\n",
       "      <td>NaN</td>\n",
       "      <td>Other</td>\n",
       "      <td>Removed</td>\n",
       "      <td>1901</td>\n",
       "      <td>Steel</td>\n",
       "      <td>Edwin Prescott</td>\n",
       "      <td>NaN</td>\n",
       "      <td>NaN</td>\n",
       "      <td>NaN</td>\n",
       "      <td>NaN</td>\n",
       "      <td>1901</td>\n",
       "    </tr>\n",
       "  </tbody>\n",
       "</table>\n",
       "</div>"
      ],
      "text/plain": [
       "                             coaster_name  length(m)  speed(kmph)  \\\n",
       "0                      Switchback Railway      180.0          9.7   \n",
       "1                       Flip Flap Railway        NaN          NaN   \n",
       "2  Switchback Railway (Euclid Beach Park)        NaN          NaN   \n",
       "3            Loop the Loop (Coney Island)        NaN          NaN   \n",
       "4            Loop the Loop (Young's Pier)        NaN          NaN   \n",
       "\n",
       "                         location   status   opening_date   type  \\\n",
       "0                    Coney Island  Removed  June 16, 1884   Wood   \n",
       "1                   Sea Lion Park  Removed           1895   Wood   \n",
       "2  Cleveland, Ohio, United States   Closed            NaN  Other   \n",
       "3                           Other  Removed           1901  Steel   \n",
       "4                           Other  Removed           1901  Steel   \n",
       "\n",
       "              manfacturer  height(m) g_force max_vertical_angle          drop  \\\n",
       "0  LaMarcus Adna Thompson       15.0     2.9                30°  43 ft (13 m)   \n",
       "1            Lina Beecher        NaN      12                NaN           NaN   \n",
       "2                     NaN        NaN     NaN                NaN           NaN   \n",
       "3          Edwin Prescott        NaN     NaN                NaN           NaN   \n",
       "4          Edwin Prescott        NaN     NaN                NaN           NaN   \n",
       "\n",
       "   year_introduced  \n",
       "0             1884  \n",
       "1             1895  \n",
       "2             1896  \n",
       "3             1901  \n",
       "4             1901  "
      ]
     },
     "execution_count": 23,
     "metadata": {},
     "output_type": "execute_result"
    }
   ],
   "source": [
    "df1.rename(columns = {\n",
    "    \"length\" : \"length(m)\"\n",
    "} , inplace = True)\n",
    "\n",
    "df1[\"length(m)\"] = pd.to_numeric(df1[\"length(m)\"])\n",
    "\n",
    "df1.head()"
   ]
  },
  {
   "cell_type": "code",
   "execution_count": 24,
   "metadata": {
    "id": "KOKJbj-oFXil"
   },
   "outputs": [],
   "source": [
    "df1['length(m)'] = df1['length(m)'].replace(r'[^\\d.]', '', regex=True)"
   ]
  },
  {
   "cell_type": "code",
   "execution_count": 25,
   "metadata": {
    "colab": {
     "base_uri": "https://localhost:8080/"
    },
    "id": "iUBIwLiQ-Hr4",
    "outputId": "e1fe7e9b-2ae8-4084-bc1e-fc4513f3dc17"
   },
   "outputs": [
    {
     "data": {
      "text/html": [
       "<div>\n",
       "<style scoped>\n",
       "    .dataframe tbody tr th:only-of-type {\n",
       "        vertical-align: middle;\n",
       "    }\n",
       "\n",
       "    .dataframe tbody tr th {\n",
       "        vertical-align: top;\n",
       "    }\n",
       "\n",
       "    .dataframe thead th {\n",
       "        text-align: right;\n",
       "    }\n",
       "</style>\n",
       "<table border=\"1\" class=\"dataframe\">\n",
       "  <thead>\n",
       "    <tr style=\"text-align: right;\">\n",
       "      <th></th>\n",
       "      <th>coaster_name</th>\n",
       "      <th>length(m)</th>\n",
       "      <th>speed(kmph)</th>\n",
       "      <th>location</th>\n",
       "      <th>status</th>\n",
       "      <th>opening_date</th>\n",
       "      <th>type</th>\n",
       "      <th>manfacturer</th>\n",
       "      <th>height(m)</th>\n",
       "      <th>g_force</th>\n",
       "      <th>max_vertical_angle</th>\n",
       "      <th>drop</th>\n",
       "      <th>year_introduced</th>\n",
       "    </tr>\n",
       "  </thead>\n",
       "  <tbody>\n",
       "    <tr>\n",
       "      <th>0</th>\n",
       "      <td>Switchback Railway</td>\n",
       "      <td>180.0</td>\n",
       "      <td>9.7</td>\n",
       "      <td>Coney Island</td>\n",
       "      <td>Removed</td>\n",
       "      <td>June 16, 1884</td>\n",
       "      <td>Wood</td>\n",
       "      <td>LaMarcus Adna Thompson</td>\n",
       "      <td>15.0</td>\n",
       "      <td>2.9</td>\n",
       "      <td>30°</td>\n",
       "      <td>43 ft (13 m)</td>\n",
       "      <td>1884</td>\n",
       "    </tr>\n",
       "    <tr>\n",
       "      <th>1</th>\n",
       "      <td>Flip Flap Railway</td>\n",
       "      <td>NaN</td>\n",
       "      <td>NaN</td>\n",
       "      <td>Sea Lion Park</td>\n",
       "      <td>Removed</td>\n",
       "      <td>1895</td>\n",
       "      <td>Wood</td>\n",
       "      <td>Lina Beecher</td>\n",
       "      <td>NaN</td>\n",
       "      <td>12</td>\n",
       "      <td>NaN</td>\n",
       "      <td>NaN</td>\n",
       "      <td>1895</td>\n",
       "    </tr>\n",
       "    <tr>\n",
       "      <th>2</th>\n",
       "      <td>Switchback Railway (Euclid Beach Park)</td>\n",
       "      <td>NaN</td>\n",
       "      <td>NaN</td>\n",
       "      <td>Cleveland, Ohio, United States</td>\n",
       "      <td>Closed</td>\n",
       "      <td>NaN</td>\n",
       "      <td>Other</td>\n",
       "      <td>NaN</td>\n",
       "      <td>NaN</td>\n",
       "      <td>NaN</td>\n",
       "      <td>NaN</td>\n",
       "      <td>NaN</td>\n",
       "      <td>1896</td>\n",
       "    </tr>\n",
       "    <tr>\n",
       "      <th>3</th>\n",
       "      <td>Loop the Loop (Coney Island)</td>\n",
       "      <td>NaN</td>\n",
       "      <td>NaN</td>\n",
       "      <td>Other</td>\n",
       "      <td>Removed</td>\n",
       "      <td>1901</td>\n",
       "      <td>Steel</td>\n",
       "      <td>Edwin Prescott</td>\n",
       "      <td>NaN</td>\n",
       "      <td>NaN</td>\n",
       "      <td>NaN</td>\n",
       "      <td>NaN</td>\n",
       "      <td>1901</td>\n",
       "    </tr>\n",
       "    <tr>\n",
       "      <th>4</th>\n",
       "      <td>Loop the Loop (Young's Pier)</td>\n",
       "      <td>NaN</td>\n",
       "      <td>NaN</td>\n",
       "      <td>Other</td>\n",
       "      <td>Removed</td>\n",
       "      <td>1901</td>\n",
       "      <td>Steel</td>\n",
       "      <td>Edwin Prescott</td>\n",
       "      <td>NaN</td>\n",
       "      <td>NaN</td>\n",
       "      <td>NaN</td>\n",
       "      <td>NaN</td>\n",
       "      <td>1901</td>\n",
       "    </tr>\n",
       "  </tbody>\n",
       "</table>\n",
       "</div>"
      ],
      "text/plain": [
       "                             coaster_name  length(m)  speed(kmph)  \\\n",
       "0                      Switchback Railway      180.0          9.7   \n",
       "1                       Flip Flap Railway        NaN          NaN   \n",
       "2  Switchback Railway (Euclid Beach Park)        NaN          NaN   \n",
       "3            Loop the Loop (Coney Island)        NaN          NaN   \n",
       "4            Loop the Loop (Young's Pier)        NaN          NaN   \n",
       "\n",
       "                         location   status   opening_date   type  \\\n",
       "0                    Coney Island  Removed  June 16, 1884   Wood   \n",
       "1                   Sea Lion Park  Removed           1895   Wood   \n",
       "2  Cleveland, Ohio, United States   Closed            NaN  Other   \n",
       "3                           Other  Removed           1901  Steel   \n",
       "4                           Other  Removed           1901  Steel   \n",
       "\n",
       "              manfacturer  height(m) g_force max_vertical_angle          drop  \\\n",
       "0  LaMarcus Adna Thompson       15.0     2.9                30°  43 ft (13 m)   \n",
       "1            Lina Beecher        NaN      12                NaN           NaN   \n",
       "2                     NaN        NaN     NaN                NaN           NaN   \n",
       "3          Edwin Prescott        NaN     NaN                NaN           NaN   \n",
       "4          Edwin Prescott        NaN     NaN                NaN           NaN   \n",
       "\n",
       "   year_introduced  \n",
       "0             1884  \n",
       "1             1895  \n",
       "2             1896  \n",
       "3             1901  \n",
       "4             1901  "
      ]
     },
     "execution_count": 25,
     "metadata": {},
     "output_type": "execute_result"
    }
   ],
   "source": [
    "df1.head()"
   ]
  },
  {
   "cell_type": "markdown",
   "metadata": {
    "id": "V_KX87ngAvL6"
   },
   "source": [
    "### drop"
   ]
  },
  {
   "cell_type": "code",
   "execution_count": 26,
   "metadata": {
    "id": "6ByL2yGc6TPs"
   },
   "outputs": [],
   "source": [
    "df1['drop'] = df1['drop'].astype(str)"
   ]
  },
  {
   "cell_type": "code",
   "execution_count": 27,
   "metadata": {
    "id": "d20RS_OC5NiS"
   },
   "outputs": [],
   "source": [
    "df1[['drop_1','unit1' ,\"drop_2\",\"unit2\" ]] = df1[\"drop\"].str.split(expand=True)\n",
    "df1[['par','drop_3']] = df1['drop_2'].str.split('(', expand=True)\n",
    "\n",
    "ind2 = df1.index[df1['unit1'] == \"m\"].tolist()\n",
    "ind3 = df1.index[df1['unit2'] == \"m)\"].tolist()\n",
    "\n",
    "df1.loc[ind2,'drop'] = df1[\"drop_1\"]\n",
    "df1.loc[ind3,'drop'] = df1[\"drop_3\"]\n",
    "\n",
    "df1.drop([\"drop_1\",\t\"unit1\",\t\"drop_2\",\t\"unit2\",\t\"drop_3\",\t\"par\"] , axis = 1 , inplace = True)\n",
    "\n",
    "ind4 = df1.index[df1[\"drop\"] == \"84.5 ft[3]\"]\n",
    "df1.loc[ind4 , \"drop\"] = 84.5"
   ]
  },
  {
   "cell_type": "code",
   "execution_count": 28,
   "metadata": {
    "colab": {
     "base_uri": "https://localhost:8080/"
    },
    "id": "N1hOIUiY47Qa",
    "outputId": "26359d27-1d62-4adf-efcc-3ec9a5531926"
   },
   "outputs": [
    {
     "data": {
      "text/html": [
       "<div>\n",
       "<style scoped>\n",
       "    .dataframe tbody tr th:only-of-type {\n",
       "        vertical-align: middle;\n",
       "    }\n",
       "\n",
       "    .dataframe tbody tr th {\n",
       "        vertical-align: top;\n",
       "    }\n",
       "\n",
       "    .dataframe thead th {\n",
       "        text-align: right;\n",
       "    }\n",
       "</style>\n",
       "<table border=\"1\" class=\"dataframe\">\n",
       "  <thead>\n",
       "    <tr style=\"text-align: right;\">\n",
       "      <th></th>\n",
       "      <th>coaster_name</th>\n",
       "      <th>length(m)</th>\n",
       "      <th>speed(kmph)</th>\n",
       "      <th>location</th>\n",
       "      <th>status</th>\n",
       "      <th>opening_date</th>\n",
       "      <th>type</th>\n",
       "      <th>manfacturer</th>\n",
       "      <th>height(m)</th>\n",
       "      <th>g_force</th>\n",
       "      <th>max_vertical_angle</th>\n",
       "      <th>drop(m)</th>\n",
       "      <th>year_introduced</th>\n",
       "    </tr>\n",
       "  </thead>\n",
       "  <tbody>\n",
       "    <tr>\n",
       "      <th>0</th>\n",
       "      <td>Switchback Railway</td>\n",
       "      <td>180.0</td>\n",
       "      <td>9.7</td>\n",
       "      <td>Coney Island</td>\n",
       "      <td>Removed</td>\n",
       "      <td>June 16, 1884</td>\n",
       "      <td>Wood</td>\n",
       "      <td>LaMarcus Adna Thompson</td>\n",
       "      <td>15.0</td>\n",
       "      <td>2.9</td>\n",
       "      <td>30°</td>\n",
       "      <td>13.0</td>\n",
       "      <td>1884</td>\n",
       "    </tr>\n",
       "    <tr>\n",
       "      <th>1</th>\n",
       "      <td>Flip Flap Railway</td>\n",
       "      <td>NaN</td>\n",
       "      <td>NaN</td>\n",
       "      <td>Sea Lion Park</td>\n",
       "      <td>Removed</td>\n",
       "      <td>1895</td>\n",
       "      <td>Wood</td>\n",
       "      <td>Lina Beecher</td>\n",
       "      <td>NaN</td>\n",
       "      <td>12</td>\n",
       "      <td>NaN</td>\n",
       "      <td>NaN</td>\n",
       "      <td>1895</td>\n",
       "    </tr>\n",
       "    <tr>\n",
       "      <th>2</th>\n",
       "      <td>Switchback Railway (Euclid Beach Park)</td>\n",
       "      <td>NaN</td>\n",
       "      <td>NaN</td>\n",
       "      <td>Cleveland, Ohio, United States</td>\n",
       "      <td>Closed</td>\n",
       "      <td>NaN</td>\n",
       "      <td>Other</td>\n",
       "      <td>NaN</td>\n",
       "      <td>NaN</td>\n",
       "      <td>NaN</td>\n",
       "      <td>NaN</td>\n",
       "      <td>NaN</td>\n",
       "      <td>1896</td>\n",
       "    </tr>\n",
       "    <tr>\n",
       "      <th>3</th>\n",
       "      <td>Loop the Loop (Coney Island)</td>\n",
       "      <td>NaN</td>\n",
       "      <td>NaN</td>\n",
       "      <td>Other</td>\n",
       "      <td>Removed</td>\n",
       "      <td>1901</td>\n",
       "      <td>Steel</td>\n",
       "      <td>Edwin Prescott</td>\n",
       "      <td>NaN</td>\n",
       "      <td>NaN</td>\n",
       "      <td>NaN</td>\n",
       "      <td>NaN</td>\n",
       "      <td>1901</td>\n",
       "    </tr>\n",
       "    <tr>\n",
       "      <th>4</th>\n",
       "      <td>Loop the Loop (Young's Pier)</td>\n",
       "      <td>NaN</td>\n",
       "      <td>NaN</td>\n",
       "      <td>Other</td>\n",
       "      <td>Removed</td>\n",
       "      <td>1901</td>\n",
       "      <td>Steel</td>\n",
       "      <td>Edwin Prescott</td>\n",
       "      <td>NaN</td>\n",
       "      <td>NaN</td>\n",
       "      <td>NaN</td>\n",
       "      <td>NaN</td>\n",
       "      <td>1901</td>\n",
       "    </tr>\n",
       "  </tbody>\n",
       "</table>\n",
       "</div>"
      ],
      "text/plain": [
       "                             coaster_name  length(m)  speed(kmph)  \\\n",
       "0                      Switchback Railway      180.0          9.7   \n",
       "1                       Flip Flap Railway        NaN          NaN   \n",
       "2  Switchback Railway (Euclid Beach Park)        NaN          NaN   \n",
       "3            Loop the Loop (Coney Island)        NaN          NaN   \n",
       "4            Loop the Loop (Young's Pier)        NaN          NaN   \n",
       "\n",
       "                         location   status   opening_date   type  \\\n",
       "0                    Coney Island  Removed  June 16, 1884   Wood   \n",
       "1                   Sea Lion Park  Removed           1895   Wood   \n",
       "2  Cleveland, Ohio, United States   Closed            NaN  Other   \n",
       "3                           Other  Removed           1901  Steel   \n",
       "4                           Other  Removed           1901  Steel   \n",
       "\n",
       "              manfacturer  height(m) g_force max_vertical_angle  drop(m)  \\\n",
       "0  LaMarcus Adna Thompson       15.0     2.9                30°     13.0   \n",
       "1            Lina Beecher        NaN      12                NaN      NaN   \n",
       "2                     NaN        NaN     NaN                NaN      NaN   \n",
       "3          Edwin Prescott        NaN     NaN                NaN      NaN   \n",
       "4          Edwin Prescott        NaN     NaN                NaN      NaN   \n",
       "\n",
       "   year_introduced  \n",
       "0             1884  \n",
       "1             1895  \n",
       "2             1896  \n",
       "3             1901  \n",
       "4             1901  "
      ]
     },
     "execution_count": 28,
     "metadata": {},
     "output_type": "execute_result"
    }
   ],
   "source": [
    "df1.rename(columns = {\n",
    "    \"drop\" : \"drop(m)\"\n",
    "} , inplace = True)\n",
    "df1[\"drop(m)\"] = pd.to_numeric(df1[\"drop(m)\"] , errors='coerce')\n",
    "\n",
    "df1.head()"
   ]
  },
  {
   "cell_type": "code",
   "execution_count": 29,
   "metadata": {
    "colab": {
     "base_uri": "https://localhost:8080/"
    },
    "id": "5tIj_spU47MN",
    "outputId": "668b175c-d008-4c23-fe0a-e1fa88e21a7b"
   },
   "outputs": [
    {
     "name": "stdout",
     "output_type": "stream",
     "text": [
      "<class 'pandas.core.frame.DataFrame'>\n",
      "RangeIndex: 1087 entries, 0 to 1086\n",
      "Data columns (total 13 columns):\n",
      " #   Column              Non-Null Count  Dtype  \n",
      "---  ------              --------------  -----  \n",
      " 0   coaster_name        1087 non-null   object \n",
      " 1   length(m)           953 non-null    float64\n",
      " 2   speed(kmph)         937 non-null    float64\n",
      " 3   location            1087 non-null   object \n",
      " 4   status              874 non-null    object \n",
      " 5   opening_date        837 non-null    object \n",
      " 6   type                1087 non-null   object \n",
      " 7   manfacturer         1028 non-null   object \n",
      " 8   height(m)           965 non-null    float64\n",
      " 9   g_force             362 non-null    object \n",
      " 10  max_vertical_angle  357 non-null    object \n",
      " 11  drop(m)             492 non-null    float64\n",
      " 12  year_introduced     1087 non-null   int64  \n",
      "dtypes: float64(4), int64(1), object(8)\n",
      "memory usage: 110.5+ KB\n"
     ]
    }
   ],
   "source": [
    "df1.info()"
   ]
  },
  {
   "cell_type": "code",
   "execution_count": 30,
   "metadata": {
    "id": "VkkeZF4lVN87"
   },
   "outputs": [],
   "source": [
    "df2 = df1.copy()"
   ]
  },
  {
   "cell_type": "markdown",
   "metadata": {
    "id": "J_9ontrFGzHb"
   },
   "source": [
    "### Convert the G-force column into float, there might be some record having values like \"4 Gs\", it should be converted to 4."
   ]
  },
  {
   "cell_type": "code",
   "execution_count": 31,
   "metadata": {
    "id": "0bclfoiKhc-Y"
   },
   "outputs": [],
   "source": [
    "def convert_G_force(ele):\n",
    "  if type(ele) != str:\n",
    "    return ele\n",
    "  if ele == '0.2-2':\n",
    "    return 1.2\n",
    "  if ele == 'Between 3 and 4 Gs':\n",
    "    return 3.5\n",
    "  lis = ele.replace(',','.').replace('g','').replace('Gs','').replace('G','').replace('[',' ').split(' ')\n",
    "  return float(lis[0])"
   ]
  },
  {
   "cell_type": "code",
   "execution_count": 32,
   "metadata": {
    "id": "ESBA_VNc5bAj"
   },
   "outputs": [],
   "source": [
    "df2[\"g_force\"] = df2[\"g_force\"].apply(lambda x: convert_G_force(x))"
   ]
  },
  {
   "cell_type": "code",
   "execution_count": 33,
   "metadata": {
    "colab": {
     "base_uri": "https://localhost:8080/"
    },
    "id": "F5pyAGlT5q2s",
    "outputId": "2bf90d22-1d3a-425b-b241-467d058f4748"
   },
   "outputs": [
    {
     "data": {
      "text/html": [
       "<div>\n",
       "<style scoped>\n",
       "    .dataframe tbody tr th:only-of-type {\n",
       "        vertical-align: middle;\n",
       "    }\n",
       "\n",
       "    .dataframe tbody tr th {\n",
       "        vertical-align: top;\n",
       "    }\n",
       "\n",
       "    .dataframe thead th {\n",
       "        text-align: right;\n",
       "    }\n",
       "</style>\n",
       "<table border=\"1\" class=\"dataframe\">\n",
       "  <thead>\n",
       "    <tr style=\"text-align: right;\">\n",
       "      <th></th>\n",
       "      <th>coaster_name</th>\n",
       "      <th>length(m)</th>\n",
       "      <th>speed(kmph)</th>\n",
       "      <th>location</th>\n",
       "      <th>status</th>\n",
       "      <th>opening_date</th>\n",
       "      <th>type</th>\n",
       "      <th>manfacturer</th>\n",
       "      <th>height(m)</th>\n",
       "      <th>g_force</th>\n",
       "      <th>max_vertical_angle</th>\n",
       "      <th>drop(m)</th>\n",
       "      <th>year_introduced</th>\n",
       "    </tr>\n",
       "  </thead>\n",
       "  <tbody>\n",
       "    <tr>\n",
       "      <th>0</th>\n",
       "      <td>Switchback Railway</td>\n",
       "      <td>180.0</td>\n",
       "      <td>9.7</td>\n",
       "      <td>Coney Island</td>\n",
       "      <td>Removed</td>\n",
       "      <td>June 16, 1884</td>\n",
       "      <td>Wood</td>\n",
       "      <td>LaMarcus Adna Thompson</td>\n",
       "      <td>15.0</td>\n",
       "      <td>2.9</td>\n",
       "      <td>30°</td>\n",
       "      <td>13.0</td>\n",
       "      <td>1884</td>\n",
       "    </tr>\n",
       "    <tr>\n",
       "      <th>1</th>\n",
       "      <td>Flip Flap Railway</td>\n",
       "      <td>NaN</td>\n",
       "      <td>NaN</td>\n",
       "      <td>Sea Lion Park</td>\n",
       "      <td>Removed</td>\n",
       "      <td>1895</td>\n",
       "      <td>Wood</td>\n",
       "      <td>Lina Beecher</td>\n",
       "      <td>NaN</td>\n",
       "      <td>12.0</td>\n",
       "      <td>NaN</td>\n",
       "      <td>NaN</td>\n",
       "      <td>1895</td>\n",
       "    </tr>\n",
       "    <tr>\n",
       "      <th>2</th>\n",
       "      <td>Switchback Railway (Euclid Beach Park)</td>\n",
       "      <td>NaN</td>\n",
       "      <td>NaN</td>\n",
       "      <td>Cleveland, Ohio, United States</td>\n",
       "      <td>Closed</td>\n",
       "      <td>NaN</td>\n",
       "      <td>Other</td>\n",
       "      <td>NaN</td>\n",
       "      <td>NaN</td>\n",
       "      <td>NaN</td>\n",
       "      <td>NaN</td>\n",
       "      <td>NaN</td>\n",
       "      <td>1896</td>\n",
       "    </tr>\n",
       "    <tr>\n",
       "      <th>3</th>\n",
       "      <td>Loop the Loop (Coney Island)</td>\n",
       "      <td>NaN</td>\n",
       "      <td>NaN</td>\n",
       "      <td>Other</td>\n",
       "      <td>Removed</td>\n",
       "      <td>1901</td>\n",
       "      <td>Steel</td>\n",
       "      <td>Edwin Prescott</td>\n",
       "      <td>NaN</td>\n",
       "      <td>NaN</td>\n",
       "      <td>NaN</td>\n",
       "      <td>NaN</td>\n",
       "      <td>1901</td>\n",
       "    </tr>\n",
       "    <tr>\n",
       "      <th>4</th>\n",
       "      <td>Loop the Loop (Young's Pier)</td>\n",
       "      <td>NaN</td>\n",
       "      <td>NaN</td>\n",
       "      <td>Other</td>\n",
       "      <td>Removed</td>\n",
       "      <td>1901</td>\n",
       "      <td>Steel</td>\n",
       "      <td>Edwin Prescott</td>\n",
       "      <td>NaN</td>\n",
       "      <td>NaN</td>\n",
       "      <td>NaN</td>\n",
       "      <td>NaN</td>\n",
       "      <td>1901</td>\n",
       "    </tr>\n",
       "  </tbody>\n",
       "</table>\n",
       "</div>"
      ],
      "text/plain": [
       "                             coaster_name  length(m)  speed(kmph)  \\\n",
       "0                      Switchback Railway      180.0          9.7   \n",
       "1                       Flip Flap Railway        NaN          NaN   \n",
       "2  Switchback Railway (Euclid Beach Park)        NaN          NaN   \n",
       "3            Loop the Loop (Coney Island)        NaN          NaN   \n",
       "4            Loop the Loop (Young's Pier)        NaN          NaN   \n",
       "\n",
       "                         location   status   opening_date   type  \\\n",
       "0                    Coney Island  Removed  June 16, 1884   Wood   \n",
       "1                   Sea Lion Park  Removed           1895   Wood   \n",
       "2  Cleveland, Ohio, United States   Closed            NaN  Other   \n",
       "3                           Other  Removed           1901  Steel   \n",
       "4                           Other  Removed           1901  Steel   \n",
       "\n",
       "              manfacturer  height(m)  g_force max_vertical_angle  drop(m)  \\\n",
       "0  LaMarcus Adna Thompson       15.0      2.9                30°     13.0   \n",
       "1            Lina Beecher        NaN     12.0                NaN      NaN   \n",
       "2                     NaN        NaN      NaN                NaN      NaN   \n",
       "3          Edwin Prescott        NaN      NaN                NaN      NaN   \n",
       "4          Edwin Prescott        NaN      NaN                NaN      NaN   \n",
       "\n",
       "   year_introduced  \n",
       "0             1884  \n",
       "1             1895  \n",
       "2             1896  \n",
       "3             1901  \n",
       "4             1901  "
      ]
     },
     "execution_count": 33,
     "metadata": {},
     "output_type": "execute_result"
    }
   ],
   "source": [
    "df2[\"g_force\"] = pd.to_numeric(df2[\"g_force\"])\n",
    "df2.head()"
   ]
  },
  {
   "cell_type": "markdown",
   "metadata": {
    "id": "mVB44fzvjN0N"
   },
   "source": [
    "### Convert the Max vertical angle to float or int by removing the degree symbol in the column. rename to max_vertical_angle(degrees)"
   ]
  },
  {
   "cell_type": "code",
   "execution_count": 34,
   "metadata": {
    "id": "ZNJvHFSFjOfQ"
   },
   "outputs": [],
   "source": [
    "def convert_to_degree(ele):\n",
    "  if type(ele) != str:\n",
    "    return ele\n",
    "  lis = ele.replace('°','').replace('[',' ').split(' ')\n",
    "  return float(lis[0])"
   ]
  },
  {
   "cell_type": "code",
   "execution_count": 35,
   "metadata": {
    "id": "sB9SxPmA6Y0f"
   },
   "outputs": [],
   "source": [
    "df2[\"max_vertical_angle\"] = df2[\"max_vertical_angle\"].apply(lambda x: convert_to_degree(x))"
   ]
  },
  {
   "cell_type": "code",
   "execution_count": 36,
   "metadata": {
    "colab": {
     "base_uri": "https://localhost:8080/"
    },
    "id": "qvYHidl4p9De",
    "outputId": "182c06cd-eab3-4563-8a98-187144e8436c"
   },
   "outputs": [
    {
     "data": {
      "text/html": [
       "<div>\n",
       "<style scoped>\n",
       "    .dataframe tbody tr th:only-of-type {\n",
       "        vertical-align: middle;\n",
       "    }\n",
       "\n",
       "    .dataframe tbody tr th {\n",
       "        vertical-align: top;\n",
       "    }\n",
       "\n",
       "    .dataframe thead th {\n",
       "        text-align: right;\n",
       "    }\n",
       "</style>\n",
       "<table border=\"1\" class=\"dataframe\">\n",
       "  <thead>\n",
       "    <tr style=\"text-align: right;\">\n",
       "      <th></th>\n",
       "      <th>coaster_name</th>\n",
       "      <th>length(m)</th>\n",
       "      <th>speed(kmph)</th>\n",
       "      <th>location</th>\n",
       "      <th>status</th>\n",
       "      <th>opening_date</th>\n",
       "      <th>type</th>\n",
       "      <th>manfacturer</th>\n",
       "      <th>height(m)</th>\n",
       "      <th>g_force</th>\n",
       "      <th>max_vertical_angle(degree)</th>\n",
       "      <th>drop(m)</th>\n",
       "      <th>year_introduced</th>\n",
       "    </tr>\n",
       "  </thead>\n",
       "  <tbody>\n",
       "    <tr>\n",
       "      <th>0</th>\n",
       "      <td>Switchback Railway</td>\n",
       "      <td>180.0</td>\n",
       "      <td>9.7</td>\n",
       "      <td>Coney Island</td>\n",
       "      <td>Removed</td>\n",
       "      <td>June 16, 1884</td>\n",
       "      <td>Wood</td>\n",
       "      <td>LaMarcus Adna Thompson</td>\n",
       "      <td>15.0</td>\n",
       "      <td>2.9</td>\n",
       "      <td>30.0</td>\n",
       "      <td>13.0</td>\n",
       "      <td>1884</td>\n",
       "    </tr>\n",
       "    <tr>\n",
       "      <th>1</th>\n",
       "      <td>Flip Flap Railway</td>\n",
       "      <td>NaN</td>\n",
       "      <td>NaN</td>\n",
       "      <td>Sea Lion Park</td>\n",
       "      <td>Removed</td>\n",
       "      <td>1895</td>\n",
       "      <td>Wood</td>\n",
       "      <td>Lina Beecher</td>\n",
       "      <td>NaN</td>\n",
       "      <td>12.0</td>\n",
       "      <td>NaN</td>\n",
       "      <td>NaN</td>\n",
       "      <td>1895</td>\n",
       "    </tr>\n",
       "    <tr>\n",
       "      <th>2</th>\n",
       "      <td>Switchback Railway (Euclid Beach Park)</td>\n",
       "      <td>NaN</td>\n",
       "      <td>NaN</td>\n",
       "      <td>Cleveland, Ohio, United States</td>\n",
       "      <td>Closed</td>\n",
       "      <td>NaN</td>\n",
       "      <td>Other</td>\n",
       "      <td>NaN</td>\n",
       "      <td>NaN</td>\n",
       "      <td>NaN</td>\n",
       "      <td>NaN</td>\n",
       "      <td>NaN</td>\n",
       "      <td>1896</td>\n",
       "    </tr>\n",
       "    <tr>\n",
       "      <th>3</th>\n",
       "      <td>Loop the Loop (Coney Island)</td>\n",
       "      <td>NaN</td>\n",
       "      <td>NaN</td>\n",
       "      <td>Other</td>\n",
       "      <td>Removed</td>\n",
       "      <td>1901</td>\n",
       "      <td>Steel</td>\n",
       "      <td>Edwin Prescott</td>\n",
       "      <td>NaN</td>\n",
       "      <td>NaN</td>\n",
       "      <td>NaN</td>\n",
       "      <td>NaN</td>\n",
       "      <td>1901</td>\n",
       "    </tr>\n",
       "    <tr>\n",
       "      <th>4</th>\n",
       "      <td>Loop the Loop (Young's Pier)</td>\n",
       "      <td>NaN</td>\n",
       "      <td>NaN</td>\n",
       "      <td>Other</td>\n",
       "      <td>Removed</td>\n",
       "      <td>1901</td>\n",
       "      <td>Steel</td>\n",
       "      <td>Edwin Prescott</td>\n",
       "      <td>NaN</td>\n",
       "      <td>NaN</td>\n",
       "      <td>NaN</td>\n",
       "      <td>NaN</td>\n",
       "      <td>1901</td>\n",
       "    </tr>\n",
       "  </tbody>\n",
       "</table>\n",
       "</div>"
      ],
      "text/plain": [
       "                             coaster_name  length(m)  speed(kmph)  \\\n",
       "0                      Switchback Railway      180.0          9.7   \n",
       "1                       Flip Flap Railway        NaN          NaN   \n",
       "2  Switchback Railway (Euclid Beach Park)        NaN          NaN   \n",
       "3            Loop the Loop (Coney Island)        NaN          NaN   \n",
       "4            Loop the Loop (Young's Pier)        NaN          NaN   \n",
       "\n",
       "                         location   status   opening_date   type  \\\n",
       "0                    Coney Island  Removed  June 16, 1884   Wood   \n",
       "1                   Sea Lion Park  Removed           1895   Wood   \n",
       "2  Cleveland, Ohio, United States   Closed            NaN  Other   \n",
       "3                           Other  Removed           1901  Steel   \n",
       "4                           Other  Removed           1901  Steel   \n",
       "\n",
       "              manfacturer  height(m)  g_force  max_vertical_angle(degree)  \\\n",
       "0  LaMarcus Adna Thompson       15.0      2.9                        30.0   \n",
       "1            Lina Beecher        NaN     12.0                         NaN   \n",
       "2                     NaN        NaN      NaN                         NaN   \n",
       "3          Edwin Prescott        NaN      NaN                         NaN   \n",
       "4          Edwin Prescott        NaN      NaN                         NaN   \n",
       "\n",
       "   drop(m)  year_introduced  \n",
       "0     13.0             1884  \n",
       "1      NaN             1895  \n",
       "2      NaN             1896  \n",
       "3      NaN             1901  \n",
       "4      NaN             1901  "
      ]
     },
     "execution_count": 36,
     "metadata": {},
     "output_type": "execute_result"
    }
   ],
   "source": [
    "df2.rename(columns = {\n",
    "    \"max_vertical_angle\" : \"max_vertical_angle(degree)\"\n",
    "} , inplace = True)\n",
    "\n",
    "df2[\"max_vertical_angle(degree)\"] = pd.to_numeric(df2[\"max_vertical_angle(degree)\"])\n",
    "\n",
    "df2.head()"
   ]
  },
  {
   "cell_type": "markdown",
   "metadata": {
    "id": "6ktWHI886blf"
   },
   "source": [
    "### Convert the data type of Opening data and year_introduced into date_time"
   ]
  },
  {
   "cell_type": "markdown",
   "metadata": {
    "id": "c7d5a17c"
   },
   "source": [
    "### optimize the datatype by changing it so that it takes less space. ex convert int64 to int8 if no information is lost"
   ]
  },
  {
   "cell_type": "code",
   "execution_count": 37,
   "metadata": {
    "id": "q3-Z5C-LsKiQ"
   },
   "outputs": [],
   "source": [
    "df2.year_introduced = pd.to_datetime(df2.year_introduced, format='%Y')"
   ]
  },
  {
   "cell_type": "code",
   "execution_count": 38,
   "metadata": {
    "id": "CZm1v4bj_X82"
   },
   "outputs": [],
   "source": [
    "df2['opening_date'] =  pd.to_datetime(df2['opening_date'], errors = \"coerce\")"
   ]
  },
  {
   "cell_type": "markdown",
   "metadata": {
    "id": "B4qRMlvsDmA2"
   },
   "source": [
    "### optimize the datatype by changing it so that it takes less space. ex convert int64 to int8 if no information is lost"
   ]
  },
  {
   "cell_type": "code",
   "execution_count": 39,
   "metadata": {
    "colab": {
     "base_uri": "https://localhost:8080/"
    },
    "id": "olp0wTlwBfH1",
    "outputId": "e2874134-8fa5-4daa-d60e-b2d7f5a0df7c"
   },
   "outputs": [
    {
     "name": "stdout",
     "output_type": "stream",
     "text": [
      "<class 'pandas.core.frame.DataFrame'>\n",
      "RangeIndex: 1087 entries, 0 to 1086\n",
      "Data columns (total 13 columns):\n",
      " #   Column                      Non-Null Count  Dtype         \n",
      "---  ------                      --------------  -----         \n",
      " 0   coaster_name                1087 non-null   object        \n",
      " 1   length(m)                   953 non-null    float64       \n",
      " 2   speed(kmph)                 937 non-null    float64       \n",
      " 3   location                    1087 non-null   object        \n",
      " 4   status                      874 non-null    object        \n",
      " 5   opening_date                738 non-null    datetime64[ns]\n",
      " 6   type                        1087 non-null   object        \n",
      " 7   manfacturer                 1028 non-null   object        \n",
      " 8   height(m)                   965 non-null    float64       \n",
      " 9   g_force                     362 non-null    float64       \n",
      " 10  max_vertical_angle(degree)  357 non-null    float64       \n",
      " 11  drop(m)                     492 non-null    float64       \n",
      " 12  year_introduced             1087 non-null   datetime64[ns]\n",
      "dtypes: datetime64[ns](2), float64(6), object(5)\n",
      "memory usage: 110.5+ KB\n"
     ]
    }
   ],
   "source": [
    "df2.info()"
   ]
  },
  {
   "cell_type": "code",
   "execution_count": 40,
   "metadata": {
    "colab": {
     "base_uri": "https://localhost:8080/"
    },
    "id": "Uf983n4pBoCl",
    "outputId": "210055ff-6306-46b0-aa37-f3bf3c84d267"
   },
   "outputs": [
    {
     "name": "stdout",
     "output_type": "stream",
     "text": [
      "<class 'pandas.core.frame.DataFrame'>\n",
      "RangeIndex: 1087 entries, 0 to 1086\n",
      "Data columns (total 13 columns):\n",
      " #   Column                      Non-Null Count  Dtype         \n",
      "---  ------                      --------------  -----         \n",
      " 0   coaster_name                1087 non-null   object        \n",
      " 1   length(m)                   953 non-null    float32       \n",
      " 2   speed(kmph)                 937 non-null    float32       \n",
      " 3   location                    1087 non-null   object        \n",
      " 4   status                      874 non-null    object        \n",
      " 5   opening_date                738 non-null    datetime64[ns]\n",
      " 6   type                        1087 non-null   object        \n",
      " 7   manfacturer                 1028 non-null   object        \n",
      " 8   height(m)                   965 non-null    float32       \n",
      " 9   g_force                     362 non-null    float32       \n",
      " 10  max_vertical_angle(degree)  357 non-null    float32       \n",
      " 11  drop(m)                     492 non-null    float32       \n",
      " 12  year_introduced             1087 non-null   datetime64[ns]\n",
      "dtypes: datetime64[ns](2), float32(6), object(5)\n",
      "memory usage: 85.0+ KB\n"
     ]
    }
   ],
   "source": [
    "ncol = df2.select_dtypes('float').columns\n",
    "df2[ncol] = df2[ncol].apply(pd.to_numeric, downcast='float')\n",
    "\n",
    "df2.info()"
   ]
  },
  {
   "cell_type": "code",
   "execution_count": 41,
   "metadata": {
    "colab": {
     "base_uri": "https://localhost:8080/"
    },
    "id": "sjt8mQ_XeaNT",
    "outputId": "b69f55c5-fe70-4076-c8e9-f6936e8f6e35"
   },
   "outputs": [
    {
     "data": {
      "text/plain": [
       "coaster_name                    0\n",
       "length(m)                     134\n",
       "speed(kmph)                   150\n",
       "location                        0\n",
       "status                        213\n",
       "opening_date                  349\n",
       "type                            0\n",
       "manfacturer                    59\n",
       "height(m)                     122\n",
       "g_force                       725\n",
       "max_vertical_angle(degree)    730\n",
       "drop(m)                       595\n",
       "year_introduced                 0\n",
       "dtype: int64"
      ]
     },
     "execution_count": 41,
     "metadata": {},
     "output_type": "execute_result"
    }
   ],
   "source": [
    "df2.isna().sum()"
   ]
  },
  {
   "cell_type": "markdown",
   "metadata": {
    "id": "d9bfa01d"
   },
   "source": [
    "### compute the mean, std, min, max, of all the numeric columns"
   ]
  },
  {
   "cell_type": "code",
   "execution_count": 42,
   "metadata": {
    "colab": {
     "base_uri": "https://localhost:8080/"
    },
    "id": "87CJ9KFdGqCp",
    "outputId": "4860cb1f-be3e-4c86-facc-6e577f2fcd82"
   },
   "outputs": [
    {
     "data": {
      "text/html": [
       "<div>\n",
       "<style scoped>\n",
       "    .dataframe tbody tr th:only-of-type {\n",
       "        vertical-align: middle;\n",
       "    }\n",
       "\n",
       "    .dataframe tbody tr th {\n",
       "        vertical-align: top;\n",
       "    }\n",
       "\n",
       "    .dataframe thead th {\n",
       "        text-align: right;\n",
       "    }\n",
       "</style>\n",
       "<table border=\"1\" class=\"dataframe\">\n",
       "  <thead>\n",
       "    <tr style=\"text-align: right;\">\n",
       "      <th></th>\n",
       "      <th>count</th>\n",
       "      <th>mean</th>\n",
       "      <th>std</th>\n",
       "      <th>min</th>\n",
       "      <th>25%</th>\n",
       "      <th>50%</th>\n",
       "      <th>75%</th>\n",
       "      <th>max</th>\n",
       "    </tr>\n",
       "  </thead>\n",
       "  <tbody>\n",
       "    <tr>\n",
       "      <th>length(m)</th>\n",
       "      <td>953.0</td>\n",
       "      <td>2532.617676</td>\n",
       "      <td>38513.628906</td>\n",
       "      <td>60.00</td>\n",
       "      <td>400.000000</td>\n",
       "      <td>719.0</td>\n",
       "      <td>1000.0</td>\n",
       "      <td>841853.0</td>\n",
       "    </tr>\n",
       "    <tr>\n",
       "      <th>speed(kmph)</th>\n",
       "      <td>937.0</td>\n",
       "      <td>78.159477</td>\n",
       "      <td>26.824537</td>\n",
       "      <td>8.00</td>\n",
       "      <td>60.000000</td>\n",
       "      <td>80.0</td>\n",
       "      <td>93.0</td>\n",
       "      <td>240.0</td>\n",
       "    </tr>\n",
       "    <tr>\n",
       "      <th>height(m)</th>\n",
       "      <td>965.0</td>\n",
       "      <td>31.124369</td>\n",
       "      <td>41.521755</td>\n",
       "      <td>2.40</td>\n",
       "      <td>17.000000</td>\n",
       "      <td>28.0</td>\n",
       "      <td>37.0</td>\n",
       "      <td>1200.0</td>\n",
       "    </tr>\n",
       "    <tr>\n",
       "      <th>g_force</th>\n",
       "      <td>362.0</td>\n",
       "      <td>3.805223</td>\n",
       "      <td>1.032886</td>\n",
       "      <td>-1.50</td>\n",
       "      <td>3.400000</td>\n",
       "      <td>4.0</td>\n",
       "      <td>4.5</td>\n",
       "      <td>12.0</td>\n",
       "    </tr>\n",
       "    <tr>\n",
       "      <th>max_vertical_angle(degree)</th>\n",
       "      <td>357.0</td>\n",
       "      <td>69.009811</td>\n",
       "      <td>30.550789</td>\n",
       "      <td>1.00</td>\n",
       "      <td>50.000000</td>\n",
       "      <td>65.0</td>\n",
       "      <td>88.5</td>\n",
       "      <td>360.0</td>\n",
       "    </tr>\n",
       "    <tr>\n",
       "      <th>drop(m)</th>\n",
       "      <td>492.0</td>\n",
       "      <td>32.603634</td>\n",
       "      <td>20.176964</td>\n",
       "      <td>0.61</td>\n",
       "      <td>19.950001</td>\n",
       "      <td>28.0</td>\n",
       "      <td>43.0</td>\n",
       "      <td>127.0</td>\n",
       "    </tr>\n",
       "  </tbody>\n",
       "</table>\n",
       "</div>"
      ],
      "text/plain": [
       "                            count         mean           std    min  \\\n",
       "length(m)                   953.0  2532.617676  38513.628906  60.00   \n",
       "speed(kmph)                 937.0    78.159477     26.824537   8.00   \n",
       "height(m)                   965.0    31.124369     41.521755   2.40   \n",
       "g_force                     362.0     3.805223      1.032886  -1.50   \n",
       "max_vertical_angle(degree)  357.0    69.009811     30.550789   1.00   \n",
       "drop(m)                     492.0    32.603634     20.176964   0.61   \n",
       "\n",
       "                                   25%    50%     75%       max  \n",
       "length(m)                   400.000000  719.0  1000.0  841853.0  \n",
       "speed(kmph)                  60.000000   80.0    93.0     240.0  \n",
       "height(m)                    17.000000   28.0    37.0    1200.0  \n",
       "g_force                       3.400000    4.0     4.5      12.0  \n",
       "max_vertical_angle(degree)   50.000000   65.0    88.5     360.0  \n",
       "drop(m)                      19.950001   28.0    43.0     127.0  "
      ]
     },
     "execution_count": 42,
     "metadata": {},
     "output_type": "execute_result"
    }
   ],
   "source": [
    "df2.describe().T"
   ]
  },
  {
   "cell_type": "markdown",
   "metadata": {
    "id": "0jLXwWYMIodW"
   },
   "source": [
    "### remove duplicate rows and reset the index, if any. (remove only if whole row is a duplicate)."
   ]
  },
  {
   "cell_type": "code",
   "execution_count": 43,
   "metadata": {
    "id": "aIE2_Ly7SneJ"
   },
   "outputs": [],
   "source": [
    "df3 = df2.copy()"
   ]
  },
  {
   "cell_type": "code",
   "execution_count": 44,
   "metadata": {
    "id": "L5lpbg6dIoO5"
   },
   "outputs": [],
   "source": [
    "df3.drop_duplicates(inplace=True, ignore_index=True)"
   ]
  },
  {
   "cell_type": "code",
   "execution_count": 45,
   "metadata": {
    "colab": {
     "base_uri": "https://localhost:8080/"
    },
    "id": "BsZkuLLYeudB",
    "outputId": "0f41181d-d10a-4683-e0af-f56385b1cf88"
   },
   "outputs": [
    {
     "data": {
      "text/plain": [
       "(1087, 13)"
      ]
     },
     "execution_count": 45,
     "metadata": {},
     "output_type": "execute_result"
    }
   ],
   "source": [
    "df3.shape"
   ]
  },
  {
   "cell_type": "markdown",
   "metadata": {
    "id": "5XJxc57g6blg"
   },
   "source": [
    "### remove rows which have duplicate coster_name and reset the index, if any."
   ]
  },
  {
   "cell_type": "code",
   "execution_count": 46,
   "metadata": {
    "colab": {
     "base_uri": "https://localhost:8080/"
    },
    "id": "Ij_7s88tF4Jx",
    "outputId": "b0082b9d-4494-4abf-edf5-794cbb3a33a1"
   },
   "outputs": [
    {
     "data": {
      "text/plain": [
       "(990, 13)"
      ]
     },
     "execution_count": 46,
     "metadata": {},
     "output_type": "execute_result"
    }
   ],
   "source": [
    "df3 = df3.drop_duplicates(subset='coaster_name', keep='first' , ignore_index = True )\n",
    "df3.shape"
   ]
  },
  {
   "cell_type": "markdown",
   "metadata": {
    "id": "94eac590"
   },
   "source": [
    "### Detect and remove the outliers in numeric variables:\n",
    "make a custom function using the Turky method to detect outliers. <br>\n",
    "Remove the outlier rows and reset the index."
   ]
  },
  {
   "cell_type": "code",
   "execution_count": 47,
   "metadata": {
    "id": "8P5882uLf3o4"
   },
   "outputs": [],
   "source": [
    "ncols = df3.select_dtypes('float').columns"
   ]
  },
  {
   "cell_type": "code",
   "execution_count": 48,
   "metadata": {
    "colab": {
     "base_uri": "https://localhost:8080/"
    },
    "id": "f8hghNdGmCwZ",
    "outputId": "cc6619bb-cd67-4d9f-f9d7-0cbedaa7dc43"
   },
   "outputs": [
    {
     "data": {
      "text/plain": [
       "Index(['length(m)', 'speed(kmph)', 'height(m)', 'g_force',\n",
       "       'max_vertical_angle(degree)', 'drop(m)'],\n",
       "      dtype='object')"
      ]
     },
     "execution_count": 48,
     "metadata": {},
     "output_type": "execute_result"
    }
   ],
   "source": [
    "ncols"
   ]
  },
  {
   "cell_type": "code",
   "execution_count": 49,
   "metadata": {},
   "outputs": [],
   "source": [
    "def Tukey_method(df,list_of_variable):\n",
    "  Outliers_index = []\n",
    "  for variable in list_of_variable:\n",
    "    Q1 = df[variable].quantile(0.25)\n",
    "    Q3 = df[variable].quantile(0.75)\n",
    "    IQR = Q3 - Q1\n",
    "    lower_limit = Q1 - 1.5*IQR\n",
    "    Upper_limit = Q3 + 1.5*IQR\n",
    "    for i in range(len(df[variable])):\n",
    "      if df[variable][i] < lower_limit or df[variable][i] > Upper_limit:\n",
    "        Outliers_index.append(i)\n",
    "  return set(Outliers_index)"
   ]
  },
  {
   "cell_type": "code",
   "execution_count": 50,
   "metadata": {},
   "outputs": [],
   "source": [
    "Outliers_index = Tukey_method(df3,ncols)"
   ]
  },
  {
   "cell_type": "code",
   "execution_count": 51,
   "metadata": {},
   "outputs": [],
   "source": [
    "df3.drop(index=Outliers_index,inplace=True)\n",
    "df3.reset_index(drop=True,inplace=True) "
   ]
  },
  {
   "cell_type": "code",
   "execution_count": 52,
   "metadata": {
    "colab": {
     "base_uri": "https://localhost:8080/"
    },
    "id": "UhaCVmI8eX43",
    "outputId": "3c165144-0380-4cfa-d7f9-d1aed99422a4"
   },
   "outputs": [
    {
     "data": {
      "text/plain": [
       "(934, 13)"
      ]
     },
     "execution_count": 52,
     "metadata": {},
     "output_type": "execute_result"
    }
   ],
   "source": [
    "df3.shape"
   ]
  },
  {
   "cell_type": "code",
   "execution_count": 53,
   "metadata": {
    "colab": {
     "base_uri": "https://localhost:8080/",
     "height": 300
    },
    "id": "XOk3W0E3cm9s",
    "outputId": "5b82ad0b-7f15-4eef-ffe9-62b971cc94ca"
   },
   "outputs": [
    {
     "data": {
      "text/html": [
       "<div>\n",
       "<style scoped>\n",
       "    .dataframe tbody tr th:only-of-type {\n",
       "        vertical-align: middle;\n",
       "    }\n",
       "\n",
       "    .dataframe tbody tr th {\n",
       "        vertical-align: top;\n",
       "    }\n",
       "\n",
       "    .dataframe thead th {\n",
       "        text-align: right;\n",
       "    }\n",
       "</style>\n",
       "<table border=\"1\" class=\"dataframe\">\n",
       "  <thead>\n",
       "    <tr style=\"text-align: right;\">\n",
       "      <th></th>\n",
       "      <th>length(m)</th>\n",
       "      <th>speed(kmph)</th>\n",
       "      <th>height(m)</th>\n",
       "      <th>g_force</th>\n",
       "      <th>max_vertical_angle(degree)</th>\n",
       "      <th>drop(m)</th>\n",
       "    </tr>\n",
       "  </thead>\n",
       "  <tbody>\n",
       "    <tr>\n",
       "      <th>count</th>\n",
       "      <td>815.000000</td>\n",
       "      <td>796.000000</td>\n",
       "      <td>825.000000</td>\n",
       "      <td>290.000000</td>\n",
       "      <td>294.000000</td>\n",
       "      <td>410.000000</td>\n",
       "    </tr>\n",
       "    <tr>\n",
       "      <th>mean</th>\n",
       "      <td>722.544800</td>\n",
       "      <td>76.492813</td>\n",
       "      <td>28.173599</td>\n",
       "      <td>3.795140</td>\n",
       "      <td>66.278580</td>\n",
       "      <td>29.496269</td>\n",
       "    </tr>\n",
       "    <tr>\n",
       "      <th>std</th>\n",
       "      <td>372.867249</td>\n",
       "      <td>22.923149</td>\n",
       "      <td>14.129416</td>\n",
       "      <td>0.826353</td>\n",
       "      <td>22.198803</td>\n",
       "      <td>14.863916</td>\n",
       "    </tr>\n",
       "    <tr>\n",
       "      <th>min</th>\n",
       "      <td>60.000000</td>\n",
       "      <td>16.000000</td>\n",
       "      <td>3.000000</td>\n",
       "      <td>1.500000</td>\n",
       "      <td>1.000000</td>\n",
       "      <td>2.400000</td>\n",
       "    </tr>\n",
       "    <tr>\n",
       "      <th>25%</th>\n",
       "      <td>400.000000</td>\n",
       "      <td>60.000000</td>\n",
       "      <td>17.000000</td>\n",
       "      <td>3.325000</td>\n",
       "      <td>50.000000</td>\n",
       "      <td>20.000000</td>\n",
       "    </tr>\n",
       "    <tr>\n",
       "      <th>50%</th>\n",
       "      <td>700.000000</td>\n",
       "      <td>80.000000</td>\n",
       "      <td>27.000000</td>\n",
       "      <td>4.000000</td>\n",
       "      <td>60.000000</td>\n",
       "      <td>27.650002</td>\n",
       "    </tr>\n",
       "    <tr>\n",
       "      <th>75%</th>\n",
       "      <td>980.000000</td>\n",
       "      <td>90.000000</td>\n",
       "      <td>35.900002</td>\n",
       "      <td>4.300000</td>\n",
       "      <td>87.375000</td>\n",
       "      <td>39.000000</td>\n",
       "    </tr>\n",
       "    <tr>\n",
       "      <th>max</th>\n",
       "      <td>1851.000000</td>\n",
       "      <td>137.000000</td>\n",
       "      <td>67.000000</td>\n",
       "      <td>5.900000</td>\n",
       "      <td>121.500000</td>\n",
       "      <td>69.000000</td>\n",
       "    </tr>\n",
       "  </tbody>\n",
       "</table>\n",
       "</div>"
      ],
      "text/plain": [
       "         length(m)  speed(kmph)   height(m)     g_force  \\\n",
       "count   815.000000   796.000000  825.000000  290.000000   \n",
       "mean    722.544800    76.492813   28.173599    3.795140   \n",
       "std     372.867249    22.923149   14.129416    0.826353   \n",
       "min      60.000000    16.000000    3.000000    1.500000   \n",
       "25%     400.000000    60.000000   17.000000    3.325000   \n",
       "50%     700.000000    80.000000   27.000000    4.000000   \n",
       "75%     980.000000    90.000000   35.900002    4.300000   \n",
       "max    1851.000000   137.000000   67.000000    5.900000   \n",
       "\n",
       "       max_vertical_angle(degree)     drop(m)  \n",
       "count                  294.000000  410.000000  \n",
       "mean                    66.278580   29.496269  \n",
       "std                     22.198803   14.863916  \n",
       "min                      1.000000    2.400000  \n",
       "25%                     50.000000   20.000000  \n",
       "50%                     60.000000   27.650002  \n",
       "75%                     87.375000   39.000000  \n",
       "max                    121.500000   69.000000  "
      ]
     },
     "execution_count": 53,
     "metadata": {},
     "output_type": "execute_result"
    }
   ],
   "source": [
    "df3.describe()"
   ]
  },
  {
   "cell_type": "markdown",
   "metadata": {
    "id": "HjXAMCHo6blh"
   },
   "source": [
    "### make a simple bar plot (use pandas .plot(kind='bar')) for number of roller coasters introduced in a given year (top 10 only)"
   ]
  },
  {
   "cell_type": "code",
   "execution_count": 54,
   "metadata": {},
   "outputs": [],
   "source": [
    "df4 = df3.copy()"
   ]
  },
  {
   "cell_type": "code",
   "execution_count": 55,
   "metadata": {
    "colab": {
     "base_uri": "https://localhost:8080/",
     "height": 579
    },
    "id": "_LjfI5QMLbVa",
    "outputId": "937aafa6-9170-48d0-c492-a92526f57a13"
   },
   "outputs": [
    {
     "data": {
      "text/plain": [
       "<AxesSubplot:>"
      ]
     },
     "execution_count": 55,
     "metadata": {},
     "output_type": "execute_result"
    },
    {
     "data": {
      "image/png": "[encoded data removed]",
      "text/plain": [
       "<Figure size 432x288 with 1 Axes>"
      ]
     },
     "metadata": {
      "needs_background": "light"
     },
     "output_type": "display_data"
    }
   ],
   "source": [
    "top_years = df4['year_introduced'].value_counts()\n",
    "\n",
    "top_years[:10].plot(kind='bar')\n"
   ]
  },
  {
   "cell_type": "markdown",
   "metadata": {
    "id": "GTedCuu_6blj"
   },
   "source": [
    "### Make a histogram plot (use pandas .plot(kind='hist')) of Speed,Length, height, G-force, drop, and Max vertical angle. "
   ]
  },
  {
   "cell_type": "code",
   "execution_count": 56,
   "metadata": {
    "id": "Um1ihunFUReo"
   },
   "outputs": [],
   "source": [
    "plot_cols = [\"speed(kmph)\",\"length(m)\",\"height(m)\" , \t\"g_force\" , \"drop(m)\" , 'max_vertical_angle(degree)']"
   ]
  },
  {
   "cell_type": "code",
   "execution_count": 57,
   "metadata": {
    "colab": {
     "base_uri": "https://localhost:8080/",
     "height": 447
    },
    "id": "Pe0aPhOOcRgL",
    "outputId": "3eee837a-ae58-4bc9-8bfb-211e7f5a9126"
   },
   "outputs": [
    {
     "data": {
      "text/plain": [
       "<AxesSubplot:ylabel='Frequency'>"
      ]
     },
     "execution_count": 57,
     "metadata": {},
     "output_type": "execute_result"
    },
    {
     "data": {
      "image/png": "[encoded data removed]",
      "text/plain": [
       "<Figure size 432x288 with 1 Axes>"
      ]
     },
     "metadata": {
      "needs_background": "light"
     },
     "output_type": "display_data"
    }
   ],
   "source": [
    "hist = df4[plot_cols]\n",
    "\n",
    "hist.plot(kind='hist', bins=20, alpha=0.4)"
   ]
  },
  {
   "cell_type": "markdown",
   "metadata": {
    "id": "jHczNuL_6blj"
   },
   "source": [
    "### make a scatter plot (use pandas .plot(kind='scatter')) between speed and length, height and drop, G-force and Max vertical angle."
   ]
  },
  {
   "cell_type": "code",
   "execution_count": 58,
   "metadata": {
    "colab": {
     "base_uri": "https://localhost:8080/",
     "height": 1000
    },
    "id": "w1T1zK1AWDjH",
    "outputId": "012e87c3-6dbb-4510-f9e7-1bb4714b771b"
   },
   "outputs": [
    {
     "data": {
      "text/plain": [
       "<AxesSubplot:xlabel='g_force', ylabel='max_vertical_angle(degree)'>"
      ]
     },
     "execution_count": 58,
     "metadata": {},
     "output_type": "execute_result"
    },
    {
     "data": {
      "image/png": "[encoded data removed]",
      "text/plain": [
       "<Figure size 432x288 with 1 Axes>"
      ]
     },
     "metadata": {
      "needs_background": "light"
     },
     "output_type": "display_data"
    },
    {
     "data": {
      "image/png": "[encoded data removed]",
      "text/plain": [
       "<Figure size 432x288 with 1 Axes>"
      ]
     },
     "metadata": {
      "needs_background": "light"
     },
     "output_type": "display_data"
    },
    {
     "data": {
      "image/png": "[encoded data removed]",
      "text/plain": [
       "<Figure size 432x288 with 1 Axes>"
      ]
     },
     "metadata": {
      "needs_background": "light"
     },
     "output_type": "display_data"
    }
   ],
   "source": [
    "df4.plot(kind='scatter', x='speed(kmph)', y='length(m)')\n",
    "\n",
    "df4.plot(kind='scatter', x='height(m)', y='drop(m)')\n",
    "\n",
    "df4.plot(kind='scatter', x='g_force', y='max_vertical_angle(degree)')"
   ]
  },
  {
   "cell_type": "markdown",
   "metadata": {
    "id": "0oOquu1rgOET"
   },
   "source": [
    "### compute the correlation table for speed, length, height, G-force, drop and max vertical angle. make a heat map using the correlation table using any library.\n"
   ]
  },
  {
   "cell_type": "code",
   "execution_count": 59,
   "metadata": {
    "colab": {
     "base_uri": "https://localhost:8080/",
     "height": 302
    },
    "id": "gzGm77fQgOvQ",
    "outputId": "96ab977f-51dc-4498-9651-f5ae8877457b"
   },
   "outputs": [
    {
     "data": {
      "text/html": [
       "<div>\n",
       "<style scoped>\n",
       "    .dataframe tbody tr th:only-of-type {\n",
       "        vertical-align: middle;\n",
       "    }\n",
       "\n",
       "    .dataframe tbody tr th {\n",
       "        vertical-align: top;\n",
       "    }\n",
       "\n",
       "    .dataframe thead th {\n",
       "        text-align: right;\n",
       "    }\n",
       "</style>\n",
       "<table border=\"1\" class=\"dataframe\">\n",
       "  <thead>\n",
       "    <tr style=\"text-align: right;\">\n",
       "      <th></th>\n",
       "      <th>speed(kmph)</th>\n",
       "      <th>length(m)</th>\n",
       "      <th>height(m)</th>\n",
       "      <th>g_force</th>\n",
       "      <th>drop(m)</th>\n",
       "      <th>max_vertical_angle(degree)</th>\n",
       "    </tr>\n",
       "  </thead>\n",
       "  <tbody>\n",
       "    <tr>\n",
       "      <th>speed(kmph)</th>\n",
       "      <td>1.000000</td>\n",
       "      <td>0.636663</td>\n",
       "      <td>0.846838</td>\n",
       "      <td>0.471926</td>\n",
       "      <td>0.918731</td>\n",
       "      <td>0.414211</td>\n",
       "    </tr>\n",
       "    <tr>\n",
       "      <th>length(m)</th>\n",
       "      <td>0.636663</td>\n",
       "      <td>1.000000</td>\n",
       "      <td>0.582160</td>\n",
       "      <td>0.099401</td>\n",
       "      <td>0.541026</td>\n",
       "      <td>-0.081638</td>\n",
       "    </tr>\n",
       "    <tr>\n",
       "      <th>height(m)</th>\n",
       "      <td>0.846838</td>\n",
       "      <td>0.582160</td>\n",
       "      <td>1.000000</td>\n",
       "      <td>0.421924</td>\n",
       "      <td>0.908131</td>\n",
       "      <td>0.387830</td>\n",
       "    </tr>\n",
       "    <tr>\n",
       "      <th>g_force</th>\n",
       "      <td>0.471926</td>\n",
       "      <td>0.099401</td>\n",
       "      <td>0.421924</td>\n",
       "      <td>1.000000</td>\n",
       "      <td>0.392790</td>\n",
       "      <td>0.434675</td>\n",
       "    </tr>\n",
       "    <tr>\n",
       "      <th>drop(m)</th>\n",
       "      <td>0.918731</td>\n",
       "      <td>0.541026</td>\n",
       "      <td>0.908131</td>\n",
       "      <td>0.392790</td>\n",
       "      <td>1.000000</td>\n",
       "      <td>0.512233</td>\n",
       "    </tr>\n",
       "    <tr>\n",
       "      <th>max_vertical_angle(degree)</th>\n",
       "      <td>0.414211</td>\n",
       "      <td>-0.081638</td>\n",
       "      <td>0.387830</td>\n",
       "      <td>0.434675</td>\n",
       "      <td>0.512233</td>\n",
       "      <td>1.000000</td>\n",
       "    </tr>\n",
       "  </tbody>\n",
       "</table>\n",
       "</div>"
      ],
      "text/plain": [
       "                            speed(kmph)  length(m)  height(m)   g_force  \\\n",
       "speed(kmph)                    1.000000   0.636663   0.846838  0.471926   \n",
       "length(m)                      0.636663   1.000000   0.582160  0.099401   \n",
       "height(m)                      0.846838   0.582160   1.000000  0.421924   \n",
       "g_force                        0.471926   0.099401   0.421924  1.000000   \n",
       "drop(m)                        0.918731   0.541026   0.908131  0.392790   \n",
       "max_vertical_angle(degree)     0.414211  -0.081638   0.387830  0.434675   \n",
       "\n",
       "                             drop(m)  max_vertical_angle(degree)  \n",
       "speed(kmph)                 0.918731                    0.414211  \n",
       "length(m)                   0.541026                   -0.081638  \n",
       "height(m)                   0.908131                    0.387830  \n",
       "g_force                     0.392790                    0.434675  \n",
       "drop(m)                     1.000000                    0.512233  \n",
       "max_vertical_angle(degree)  0.512233                    1.000000  "
      ]
     },
     "execution_count": 59,
     "metadata": {},
     "output_type": "execute_result"
    }
   ],
   "source": [
    "corr_table = df4[plot_cols].corr()\n",
    "\n",
    "corr_table"
   ]
  },
  {
   "cell_type": "code",
   "execution_count": 60,
   "metadata": {
    "colab": {
     "base_uri": "https://localhost:8080/",
     "height": 576
    },
    "id": "H3Q_M_PMgWRO",
    "outputId": "83cc956f-d5e1-4bc4-a59f-83b80ddaa524"
   },
   "outputs": [
    {
     "data": {
      "text/plain": [
       "<AxesSubplot:>"
      ]
     },
     "execution_count": 60,
     "metadata": {},
     "output_type": "execute_result"
    },
    {
     "data": {
      "image/png": "[encoded data removed]",
      "text/plain": [
       "<Figure size 432x288 with 2 Axes>"
      ]
     },
     "metadata": {
      "needs_background": "light"
     },
     "output_type": "display_data"
    }
   ],
   "source": [
    "sns.heatmap(corr_table)"
   ]
  },
  {
   "cell_type": "code",
   "execution_count": null,
   "metadata": {
    "id": "kRK12yHXglvg"
   },
   "outputs": [],
   "source": []
  },
  {
   "cell_type": "markdown",
   "metadata": {
    "id": "h2Otux_f6blj"
   },
   "source": [
    "### A location can have multiple roller costers. A location is called 'hot' if it satisfies two criterions, 1) the average speed of all the roller coasters in that location is greater than 50 kmph. 2) the number of roller coasters in that location is greater than 10. Make a dataframe having all the 'hot' location with their corresponding mean coaster speed and number of coaster in that location. Make a simple bar plot of locations and their mean speed (top 5 only having the highest mean speed in decreasing order). (ignore 'other' location during the computation)"
   ]
  },
  {
   "cell_type": "code",
   "execution_count": 61,
   "metadata": {
    "colab": {
     "base_uri": "https://localhost:8080/",
     "height": 426
    },
    "id": "HX8Qkv-HZbwn",
    "outputId": "34d7782b-36b6-45b4-e0b5-6749433cfe7b"
   },
   "outputs": [
    {
     "data": {
      "text/html": [
       "<div>\n",
       "<style scoped>\n",
       "    .dataframe tbody tr th:only-of-type {\n",
       "        vertical-align: middle;\n",
       "    }\n",
       "\n",
       "    .dataframe tbody tr th {\n",
       "        vertical-align: top;\n",
       "    }\n",
       "\n",
       "    .dataframe thead th {\n",
       "        text-align: right;\n",
       "    }\n",
       "</style>\n",
       "<table border=\"1\" class=\"dataframe\">\n",
       "  <thead>\n",
       "    <tr style=\"text-align: right;\">\n",
       "      <th></th>\n",
       "      <th>coaster_name</th>\n",
       "      <th>length(m)</th>\n",
       "      <th>speed(kmph)</th>\n",
       "      <th>location</th>\n",
       "      <th>status</th>\n",
       "      <th>opening_date</th>\n",
       "      <th>type</th>\n",
       "      <th>manfacturer</th>\n",
       "      <th>height(m)</th>\n",
       "      <th>g_force</th>\n",
       "      <th>max_vertical_angle(degree)</th>\n",
       "      <th>drop(m)</th>\n",
       "      <th>year_introduced</th>\n",
       "    </tr>\n",
       "  </thead>\n",
       "  <tbody>\n",
       "    <tr>\n",
       "      <th>929</th>\n",
       "      <td>Ice Breaker (roller coaster)</td>\n",
       "      <td>580.0</td>\n",
       "      <td>84.0</td>\n",
       "      <td>SeaWorld Orlando</td>\n",
       "      <td>Under construction</td>\n",
       "      <td>2022-02-01</td>\n",
       "      <td>Steel – Launched</td>\n",
       "      <td>Premier Rides</td>\n",
       "      <td>28.0</td>\n",
       "      <td>NaN</td>\n",
       "      <td>100.0</td>\n",
       "      <td>NaN</td>\n",
       "      <td>2022-01-01</td>\n",
       "    </tr>\n",
       "    <tr>\n",
       "      <th>930</th>\n",
       "      <td>Leviathan (Sea World)</td>\n",
       "      <td>1000.0</td>\n",
       "      <td>80.0</td>\n",
       "      <td>Sea World</td>\n",
       "      <td>Under construction</td>\n",
       "      <td>NaT</td>\n",
       "      <td>Wood</td>\n",
       "      <td>Martin &amp; Vleminckx</td>\n",
       "      <td>32.0</td>\n",
       "      <td>NaN</td>\n",
       "      <td>NaN</td>\n",
       "      <td>NaN</td>\n",
       "      <td>2022-01-01</td>\n",
       "    </tr>\n",
       "    <tr>\n",
       "      <th>931</th>\n",
       "      <td>Pantheon (roller coaster)</td>\n",
       "      <td>1014.0</td>\n",
       "      <td>117.0</td>\n",
       "      <td>Busch Gardens Williamsburg</td>\n",
       "      <td>Under construction</td>\n",
       "      <td>2022-01-01</td>\n",
       "      <td>Steel – Launched</td>\n",
       "      <td>Intamin</td>\n",
       "      <td>54.0</td>\n",
       "      <td>NaN</td>\n",
       "      <td>95.0</td>\n",
       "      <td>NaN</td>\n",
       "      <td>2022-01-01</td>\n",
       "    </tr>\n",
       "    <tr>\n",
       "      <th>932</th>\n",
       "      <td>Tumbili</td>\n",
       "      <td>230.0</td>\n",
       "      <td>55.0</td>\n",
       "      <td>Kings Dominion</td>\n",
       "      <td>Under construction</td>\n",
       "      <td>NaT</td>\n",
       "      <td>Steel – 4th Dimension – Wing Coaster</td>\n",
       "      <td>S&amp;S – Sansei Technologies</td>\n",
       "      <td>34.0</td>\n",
       "      <td>NaN</td>\n",
       "      <td>NaN</td>\n",
       "      <td>NaN</td>\n",
       "      <td>2022-01-01</td>\n",
       "    </tr>\n",
       "    <tr>\n",
       "      <th>933</th>\n",
       "      <td>Wonder Woman Flight of Courage</td>\n",
       "      <td>1000.0</td>\n",
       "      <td>93.0</td>\n",
       "      <td>Six Flags Magic Mountain</td>\n",
       "      <td>Under construction</td>\n",
       "      <td>2022-01-01</td>\n",
       "      <td>Steel – Single-rail</td>\n",
       "      <td>Rocky Mountain Construction</td>\n",
       "      <td>40.0</td>\n",
       "      <td>NaN</td>\n",
       "      <td>87.0</td>\n",
       "      <td>39.0</td>\n",
       "      <td>2022-01-01</td>\n",
       "    </tr>\n",
       "  </tbody>\n",
       "</table>\n",
       "</div>"
      ],
      "text/plain": [
       "                       coaster_name  length(m)  speed(kmph)  \\\n",
       "929    Ice Breaker (roller coaster)      580.0         84.0   \n",
       "930           Leviathan (Sea World)     1000.0         80.0   \n",
       "931       Pantheon (roller coaster)     1014.0        117.0   \n",
       "932                         Tumbili      230.0         55.0   \n",
       "933  Wonder Woman Flight of Courage     1000.0         93.0   \n",
       "\n",
       "                       location              status opening_date  \\\n",
       "929            SeaWorld Orlando  Under construction   2022-02-01   \n",
       "930                   Sea World  Under construction          NaT   \n",
       "931  Busch Gardens Williamsburg  Under construction   2022-01-01   \n",
       "932              Kings Dominion  Under construction          NaT   \n",
       "933    Six Flags Magic Mountain  Under construction   2022-01-01   \n",
       "\n",
       "                                     type                  manfacturer  \\\n",
       "929                      Steel – Launched                Premier Rides   \n",
       "930                                  Wood           Martin & Vleminckx   \n",
       "931                      Steel – Launched                      Intamin   \n",
       "932  Steel – 4th Dimension – Wing Coaster    S&S – Sansei Technologies   \n",
       "933                   Steel – Single-rail  Rocky Mountain Construction   \n",
       "\n",
       "     height(m)  g_force  max_vertical_angle(degree)  drop(m) year_introduced  \n",
       "929       28.0      NaN                       100.0      NaN      2022-01-01  \n",
       "930       32.0      NaN                         NaN      NaN      2022-01-01  \n",
       "931       54.0      NaN                        95.0      NaN      2022-01-01  \n",
       "932       34.0      NaN                         NaN      NaN      2022-01-01  \n",
       "933       40.0      NaN                        87.0     39.0      2022-01-01  "
      ]
     },
     "execution_count": 61,
     "metadata": {},
     "output_type": "execute_result"
    }
   ],
   "source": [
    "df4.tail()"
   ]
  },
  {
   "cell_type": "code",
   "execution_count": 62,
   "metadata": {
    "colab": {
     "base_uri": "https://localhost:8080/",
     "height": 651
    },
    "id": "DFH-JO2hYJ-V",
    "outputId": "745681b8-2e82-48d0-adf1-7ba517007df5"
   },
   "outputs": [
    {
     "data": {
      "text/plain": [
       "<AxesSubplot:xlabel='location'>"
      ]
     },
     "execution_count": 62,
     "metadata": {},
     "output_type": "execute_result"
    },
    {
     "data": {
      "image/png": "[encoded data removed]",
      "text/plain": [
       "<Figure size 432x288 with 1 Axes>"
      ]
     },
     "metadata": {
      "needs_background": "light"
     },
     "output_type": "display_data"
    }
   ],
   "source": [
    "hot_locations = df4[df4['location'] != 'other'].groupby('location').agg({'speed(kmph)': 'mean', 'coaster_name': 'count'})\n",
    "hot_locations = hot_locations[(hot_locations['speed(kmph)'] > 50) & (hot_locations['coaster_name'] > 10)]\n",
    "\n",
    "top_5 = hot_locations.sort_values('speed(kmph)', ascending=False).head(5)\n",
    "top_5.plot(kind='bar', y='speed(kmph)', color='red')"
   ]
  },
  {
   "cell_type": "markdown",
   "metadata": {
    "id": "CXqteCAs6blk"
   },
   "source": [
    "### filling missing values:\n",
    "1. use different imputing techiniques like median, mean, mode etc to fill in missing values.<br>\n",
    "\n",
    "2. Instead of imputing the missing values based on the whole mean, median and mode of a particular column, what you can do is impute the missing values based on the mean, median and mode for a particular location. Example, if the speed value of a particular row which belongs to Coney Island is missing, you can impute it with the mean of speed value of Coney Island only, instead of the mean of speed value of whole dataframe. This might be more accurate depending on the dataset. Do the above method of imputation for all the numeric columns."
   ]
  },
  {
   "cell_type": "code",
   "execution_count": 63,
   "metadata": {
    "id": "oHSukd21b7CT"
   },
   "outputs": [],
   "source": [
    "df5 = df4.copy()"
   ]
  },
  {
   "cell_type": "code",
   "execution_count": 64,
   "metadata": {
    "colab": {
     "base_uri": "https://localhost:8080/"
    },
    "id": "DPulrc_vgIXi",
    "outputId": "6d73ffb0-1f01-447d-92fe-46446630af69"
   },
   "outputs": [
    {
     "name": "stdout",
     "output_type": "stream",
     "text": [
      "<class 'pandas.core.frame.DataFrame'>\n",
      "RangeIndex: 934 entries, 0 to 933\n",
      "Data columns (total 13 columns):\n",
      " #   Column                      Non-Null Count  Dtype         \n",
      "---  ------                      --------------  -----         \n",
      " 0   coaster_name                934 non-null    object        \n",
      " 1   length(m)                   815 non-null    float32       \n",
      " 2   speed(kmph)                 796 non-null    float32       \n",
      " 3   location                    934 non-null    object        \n",
      " 4   status                      793 non-null    object        \n",
      " 5   opening_date                669 non-null    datetime64[ns]\n",
      " 6   type                        934 non-null    object        \n",
      " 7   manfacturer                 876 non-null    object        \n",
      " 8   height(m)                   825 non-null    float32       \n",
      " 9   g_force                     290 non-null    float32       \n",
      " 10  max_vertical_angle(degree)  294 non-null    float32       \n",
      " 11  drop(m)                     410 non-null    float32       \n",
      " 12  year_introduced             934 non-null    datetime64[ns]\n",
      "dtypes: datetime64[ns](2), float32(6), object(5)\n",
      "memory usage: 73.1+ KB\n"
     ]
    }
   ],
   "source": [
    "df5.info()"
   ]
  },
  {
   "cell_type": "code",
   "execution_count": 65,
   "metadata": {
    "colab": {
     "base_uri": "https://localhost:8080/"
    },
    "id": "TllJl7frbrAF",
    "outputId": "ae047a7a-712e-4968-ca76-819dd848fcff"
   },
   "outputs": [
    {
     "data": {
      "text/plain": [
       "coaster_name                    0\n",
       "length(m)                       0\n",
       "speed(kmph)                     0\n",
       "location                        0\n",
       "status                        141\n",
       "opening_date                  265\n",
       "type                            0\n",
       "manfacturer                    58\n",
       "height(m)                       0\n",
       "g_force                         0\n",
       "max_vertical_angle(degree)      0\n",
       "drop(m)                         0\n",
       "year_introduced                 0\n",
       "dtype: int64"
      ]
     },
     "execution_count": 65,
     "metadata": {},
     "output_type": "execute_result"
    }
   ],
   "source": [
    "mean_speed = df5.groupby('location')['speed(kmph)'].mean()\n",
    "df5['speed(kmph)'] = df5.apply(lambda row: mean_speed[row['location']] if pd.isna(row['speed(kmph)']) else row['speed(kmph)'], axis=1)\n",
    "\n",
    "median_length = df5.groupby('location')['length(m)'].median()\n",
    "df5['length(m)'] = df5.apply(lambda row: median_length[row['location']] if pd.isna(row['length(m)']) else row['length(m)'], axis=1)\n",
    "\n",
    "median_height = df5.groupby('location')['height(m)'].median()\n",
    "df5['height(m)'] = df5.apply(lambda row: median_height[row['location']] if pd.isna(row['height(m)']) else row['height(m)'], axis=1)\n",
    "\n",
    "median_drop = df5.groupby('location')['drop(m)'].median()\n",
    "df5['drop(m)'] = df5.apply(lambda row: median_drop[row['location']] if pd.isna(row['drop(m)']) else row['drop(m)'], axis=1)\n",
    "\n",
    "median_angle = df5.groupby('location')['max_vertical_angle(degree)'].median()\n",
    "df5['max_vertical_angle(degree)'] = df5.apply(lambda row: median_angle[row['location']] if pd.isna(row['max_vertical_angle(degree)']) else row['max_vertical_angle(degree)'], axis=1)\n",
    "\n",
    "\n",
    "df5['speed(kmph)'].fillna(df5['speed(kmph)'].mean(), inplace=True)\n",
    "df5['length(m)'].fillna(df5['length(m)'].median(), inplace=True)\n",
    "df5['height(m)'].fillna(df5['height(m)'].median(), inplace=True)\n",
    "df5['drop(m)'].fillna(df5['drop(m)'].median(), inplace=True)\n",
    "df5['g_force'].fillna(df5['g_force'].median(), inplace=True)\n",
    "df5['max_vertical_angle(degree)'].fillna(df5['max_vertical_angle(degree)'].median(), inplace=True)\n",
    "\n",
    "df5.isnull().sum()"
   ]
  },
  {
   "cell_type": "code",
   "execution_count": 66,
   "metadata": {
    "colab": {
     "base_uri": "https://localhost:8080/",
     "height": 447
    },
    "id": "df7YvBl2cAD0",
    "outputId": "dad1093e-37a5-4b2a-d9c5-84320db431a6"
   },
   "outputs": [
    {
     "data": {
      "text/plain": [
       "<AxesSubplot:ylabel='Frequency'>"
      ]
     },
     "execution_count": 66,
     "metadata": {},
     "output_type": "execute_result"
    },
    {
     "data": {
      "image/png": "[encoded data removed]",
      "text/plain": [
       "<Figure size 432x288 with 1 Axes>"
      ]
     },
     "metadata": {
      "needs_background": "light"
     },
     "output_type": "display_data"
    }
   ],
   "source": [
    "cols = ['speed(kmph)','length(m)','height(m)','g_force','drop(m)','max_vertical_angle(degree)']\n",
    "\n",
    "hist = df5[cols]\n",
    "hist.plot(kind='hist', bins=20, alpha=0.6)"
   ]
  },
  {
   "cell_type": "code",
   "execution_count": 67,
   "metadata": {
    "colab": {
     "base_uri": "https://localhost:8080/",
     "height": 1000
    },
    "id": "u_bifrTecXTU",
    "outputId": "fdd579e5-4f23-47a1-bdb8-ba090f78c684"
   },
   "outputs": [
    {
     "data": {
      "text/plain": [
       "<AxesSubplot:xlabel='g_force', ylabel='max_vertical_angle(degree)'>"
      ]
     },
     "execution_count": 67,
     "metadata": {},
     "output_type": "execute_result"
    },
    {
     "data": {
      "image/png": "[encoded data removed]",
      "text/plain": [
       "<Figure size 432x288 with 1 Axes>"
      ]
     },
     "metadata": {
      "needs_background": "light"
     },
     "output_type": "display_data"
    },
    {
     "data": {
      "image/png": "[encoded data removed]",
      "text/plain": [
       "<Figure size 432x288 with 1 Axes>"
      ]
     },
     "metadata": {
      "needs_background": "light"
     },
     "output_type": "display_data"
    },
    {
     "data": {
      "image/png": "[encoded data removed]",
      "text/plain": [
       "<Figure size 432x288 with 1 Axes>"
      ]
     },
     "metadata": {
      "needs_background": "light"
     },
     "output_type": "display_data"
    }
   ],
   "source": [
    "df5.plot(kind='scatter', x='speed(kmph)', y='length(m)')\n",
    "\n",
    "df5.plot(kind='scatter', x='height(m)', y='drop(m)')\n",
    "\n",
    "df5.plot(kind='scatter', x='g_force', y='max_vertical_angle(degree)')"
   ]
  },
  {
   "cell_type": "code",
   "execution_count": 68,
   "metadata": {
    "colab": {
     "base_uri": "https://localhost:8080/"
    },
    "id": "xrN2XupRce4S",
    "outputId": "96ce94a7-eaa4-4d95-f282-b029c3c3abd4"
   },
   "outputs": [
    {
     "name": "stdout",
     "output_type": "stream",
     "text": [
      "~~~~ Correlation Table ~~~~ \n",
      "                            speed(kmph)  length(m)  height(m)   g_force  \\\n",
      "speed(kmph)                    1.000000   0.601334   0.788493  0.213233   \n",
      "length(m)                      0.601334   1.000000   0.560500  0.023426   \n",
      "height(m)                      0.788493   0.560500   1.000000  0.179941   \n",
      "g_force                        0.213233   0.023426   0.179941  1.000000   \n",
      "drop(m)                        0.620833   0.390225   0.627798  0.168071   \n",
      "max_vertical_angle(degree)     0.232420   0.042645   0.221733  0.127256   \n",
      "\n",
      "                             drop(m)  max_vertical_angle(degree)  \n",
      "speed(kmph)                 0.620833                    0.232420  \n",
      "length(m)                   0.390225                    0.042645  \n",
      "height(m)                   0.627798                    0.221733  \n",
      "g_force                     0.168071                    0.127256  \n",
      "drop(m)                     1.000000                    0.270880  \n",
      "max_vertical_angle(degree)  0.270880                    1.000000  \n"
     ]
    }
   ],
   "source": [
    "corr_table = df5[cols].corr()\n",
    "\n",
    "print(\"~~~~ Correlation Table ~~~~ \")\n",
    "print(corr_table)"
   ]
  },
  {
   "cell_type": "code",
   "execution_count": 69,
   "metadata": {
    "colab": {
     "base_uri": "https://localhost:8080/",
     "height": 576
    },
    "id": "4QrffID9cp8S",
    "outputId": "7237fa91-476e-4d2b-c000-9e3c2f3e1dd7"
   },
   "outputs": [
    {
     "data": {
      "text/plain": [
       "<AxesSubplot:>"
      ]
     },
     "execution_count": 69,
     "metadata": {},
     "output_type": "execute_result"
    },
    {
     "data": {
      "image/png": "[encoded data removed]",
      "text/plain": [
       "<Figure size 432x288 with 2 Axes>"
      ]
     },
     "metadata": {
      "needs_background": "light"
     },
     "output_type": "display_data"
    }
   ],
   "source": [
    "sns.heatmap(corr_table)"
   ]
  },
  {
   "cell_type": "code",
   "execution_count": null,
   "metadata": {
    "id": "DmGClbQDc1at"
   },
   "outputs": [],
   "source": []
  }
 ],
 "metadata": {
  "colab": {
   "collapsed_sections": [
    "908df6c8",
    "pAbSZJZn_JOh",
    "7jTMZOit_Mze",
    "g8xhYK_0_SoO",
    "V_KX87ngAvL6",
    "J_9ontrFGzHb",
    "mVB44fzvjN0N",
    "c7d5a17c",
    "B4qRMlvsDmA2",
    "d9bfa01d"
   ],
   "provenance": []
  },
  "kernelspec": {
   "display_name": "Python 3 (ipykernel)",
   "language": "python",
   "name": "python3"
  },
  "language_info": {
   "codemirror_mode": {
    "name": "ipython",
    "version": 3
   },
   "file_extension": ".py",
   "mimetype": "text/x-python",
   "name": "python",
   "nbconvert_exporter": "python",
   "pygments_lexer": "ipython3",
   "version": "3.9.12"
  }
 },
 "nbformat": 4,
 "nbformat_minor": 1
}
