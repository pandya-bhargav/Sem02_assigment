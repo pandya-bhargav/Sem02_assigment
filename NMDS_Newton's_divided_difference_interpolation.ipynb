{
  "nbformat": 4,
  "nbformat_minor": 0,
  "metadata": {
    "colab": {
      "provenance": []
    },
    "kernelspec": {
      "name": "python3",
      "display_name": "Python 3"
    },
    "language_info": {
      "name": "python"
    }
  },
  "cells": [
    {
      "cell_type": "markdown",
      "source": [
        "**Name : Bhargav Pandya**\n",
        "\n",
        "**S_ID : 202218055** "
      ],
      "metadata": {
        "id": "Fq4B7Y29MbEt"
      }
    },
    {
      "cell_type": "markdown",
      "source": [
        "#**Assignment - 02**"
      ],
      "metadata": {
        "id": "00dG1F7FMez_"
      }
    },
    {
      "cell_type": "markdown",
      "source": [
        "**1. Write code for Newton's divided-difference interpolation method for\n",
        "linear , quadratic and general form.\n",
        "data points at x0 = 1, x1 = 4, x2 = 6 and x3 = 5 Were used to estimate\n",
        "ln 2 with a parabola.**"
      ],
      "metadata": {
        "id": "sV5Tr--OMho9"
      }
    },
    {
      "cell_type": "markdown",
      "source": [
        "# 1) Linear "
      ],
      "metadata": {
        "id": "01MAEKzhMltX"
      }
    },
    {
      "cell_type": "code",
      "source": [
        "def linear_interpolation(a , x0 , f_x0 , x1 , f_x1):\n",
        "  f_x = f_x0 + (a-x0)*((f_x1-f_x0)/(x1-x0))\n",
        "  return f_x "
      ],
      "metadata": {
        "id": "aRmu-pmrMk-A"
      },
      "execution_count": null,
      "outputs": []
    },
    {
      "cell_type": "code",
      "source": [
        "a = float(input(\"Enter a point which you want to estimate : \"))\n",
        "print(\"Taking Two Points : \")\n",
        "x0 = float(input(\"x0 : \"))\n",
        "f_x0 = float(input(\"f(x0) : \"))\n",
        "x1 = float(input(\"x1 : \"))\n",
        "f_x1 = float(input(\"f(x1) : \"))\n",
        "ans = round(linear_interpolation(a , x0 , f_x0 , x1 , f_x1),6)\n",
        "print(\"For ln({}) to ln({}) : \".format(x0,x1))\n",
        "print(\"predicted value of ln({}) = {}\".format(a,ans))"
      ],
      "metadata": {
        "colab": {
          "base_uri": "https://localhost:8080/"
        },
        "id": "dOFUc_yvMurC",
        "outputId": "2f1f5052-056c-4571-e8de-80810d0c57d1"
      },
      "execution_count": null,
      "outputs": [
        {
          "output_type": "stream",
          "name": "stdout",
          "text": [
            "Enter a point which you want to estimate : 2\n",
            "Taking Two Points : \n",
            "x0 : 1\n",
            "f(x0) : 0\n",
            "x1 : 6\n",
            "f(x1) : 1.791759\n",
            "For ln(1.0) to ln(6.0) : \n",
            "predicted value of ln(2.0) = 0.358352\n"
          ]
        }
      ]
    },
    {
      "cell_type": "markdown",
      "source": [
        "# 2) Quadratic"
      ],
      "metadata": {
        "id": "gwgVrevoNZuI"
      }
    },
    {
      "cell_type": "code",
      "source": [
        "a = float(input(\"Enter a point which you want to estimate : \"))\n",
        "print(\"Enter Three Points : \")\n",
        "x0 = float(input(\"x0 : \"))\n",
        "f_x0 = float(input(\"f(x0) : \"))\n",
        "x1 = float(input(\"x1 : \"))\n",
        "f_x1 = float(input(\"f(x1) : \"))\n",
        "x2 = float(input(\"x2 : \"))\n",
        "f_x2 = float(input(\"f(x2) : \"))\n",
        "b0 = f_x0\n",
        "b1 = (f_x1 - f_x0)/(x1-x0)\n",
        "b2 = (((f_x2-f_x1)/(x2-x1))-b1)/(x2-x0)\n",
        "f_x = b0 + (b1*(a-x0)) + (b2*(a-x0)*(a-x1))\n",
        "print(\"predicted value of ln({}) = {}\".format(a,f_x))"
      ],
      "metadata": {
        "id": "OLu-VWKNNKlA",
        "colab": {
          "base_uri": "https://localhost:8080/"
        },
        "outputId": "e88e8bfa-9e60-447c-88ee-837866aed550"
      },
      "execution_count": null,
      "outputs": [
        {
          "output_type": "stream",
          "name": "stdout",
          "text": [
            "Enter a point which you want to estimate : 2\n",
            "Enter Three Points : \n",
            "x0 : 1\n",
            "f(x0) : 0\n",
            "x1 : 4\n",
            "f(x1) : 1.386294\n",
            "x2 : 6\n",
            "f(x2) : 1.791759\n",
            "predicted value of ln(2.0) = 0.5658441999999999\n"
          ]
        }
      ]
    },
    {
      "cell_type": "markdown",
      "source": [
        "# 3) General"
      ],
      "metadata": {
        "id": "9ySuimxQIgv4"
      }
    },
    {
      "cell_type": "code",
      "source": [
        "def newton_interpolation(x,f_x,a,n):\n",
        "     \n",
        "    b0 = f_x[0]\n",
        "    b = [b0]\n",
        "    for i in range(1, n):\n",
        "        s = f_x[i]\n",
        "        for j in range(i):\n",
        "            s = (s - b[j]) / (x[i] - x[j])\n",
        "        b.append(s)\n",
        "\n",
        "    ans = 0\n",
        "    for i in range(n):\n",
        "        s = b[i]\n",
        "        for j in range(i):\n",
        "            s *= (a - x[j])\n",
        "        ans += s\n",
        "    return ans"
      ],
      "metadata": {
        "id": "dQLNQs2nIcyH"
      },
      "execution_count": null,
      "outputs": []
    },
    {
      "cell_type": "code",
      "source": [
        "n = int(input(\"Enter n : \"))\n",
        "a = float(input(\"Enter a point which you want to estimate : \"))\n",
        "x = []\n",
        "f_x = []\n",
        "for i in range(n):\n",
        "   e = float(input(\"Enter x{} : \".format(i)))\n",
        "   k = float(input(\"Enter f_x{} : \".format(i)))\n",
        "   x.append(e)\n",
        "   f_x.append(k)\n",
        "ans = newton_interpolation(x,f_x,a,n)\n",
        "print(\"Estimated value of ln({}) = {}\".format(a,ans))"
      ],
      "metadata": {
        "colab": {
          "base_uri": "https://localhost:8080/"
        },
        "id": "tX8LfZ8oNAjD",
        "outputId": "a2fcf380-81d0-4253-d5e3-83d838454e93"
      },
      "execution_count": null,
      "outputs": [
        {
          "output_type": "stream",
          "name": "stdout",
          "text": [
            "Enter n : 4\n",
            "Enter a point which you want to estimate : 2\n",
            "Enter x0 : 1\n",
            "Enter f_x0 : 0\n",
            "Enter x1 : 4\n",
            "Enter f_x1 : 1.386294\n",
            "Enter x2 : 5\n",
            "Enter f_x2 : 1.609437\n",
            "Enter x3 : 6\n",
            "Enter f_x3 : 1.791759\n",
            "Estimated value of ln(2.0) = 0.6287693999999997\n"
          ]
        }
      ]
    },
    {
      "cell_type": "code",
      "source": [],
      "metadata": {
        "id": "F4RJiis-Q8lJ"
      },
      "execution_count": null,
      "outputs": []
    }
  ]
}