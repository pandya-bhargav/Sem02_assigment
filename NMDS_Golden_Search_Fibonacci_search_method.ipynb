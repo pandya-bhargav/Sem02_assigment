{
  "nbformat": 4,
  "nbformat_minor": 0,
  "metadata": {
    "colab": {
      "provenance": []
    },
    "kernelspec": {
      "name": "python3",
      "display_name": "Python 3"
    },
    "language_info": {
      "name": "python"
    }
  },
  "cells": [
    {
      "cell_type": "code",
      "execution_count": null,
      "metadata": {
        "id": "mNOQc1lc5gSb"
      },
      "outputs": [],
      "source": [
        "import math as m"
      ]
    },
    {
      "cell_type": "markdown",
      "source": [
        "#### Write a program for Golden Search method and Fibonacci search method to find the maximum of the function given below within the interval xl1 = 0 and  xu1= 4.\n",
        "\n",
        "## f(x) = 2six(x)-x**2/10\n",
        "#### with e = 0.05"
      ],
      "metadata": {
        "id": "37jyDMpF7MDm"
      }
    },
    {
      "cell_type": "markdown",
      "source": [
        "a[0]  :  k\n",
        "\n",
        "a[1]  : xlk\n",
        "\n",
        "a[2]  : xuk\n",
        "\n",
        "a[3]  : xpk\n",
        "\n",
        "a[4]  : xqk\n",
        "\n",
        "a[5]  : Epk\n",
        "\n",
        "a[6]  : Eqk\n",
        "\n",
        "a[7]  : L/R"
      ],
      "metadata": {
        "id": "JnZZHOeBGr11"
      }
    },
    {
      "cell_type": "code",
      "source": [
        "def GS(xl1 , xu1 , e):\n",
        "  a = [1,xl1,xu1,0,0,0,0,'']\n",
        "  while abs(a[2]-a[1])>e:\n",
        "    a[3] = round(a[2] - 0.618*( a[2] - a[1] ),4)\n",
        "    a[4] = round(a[1] + 0.618*( a[2] - a[1] ),4)\n",
        "    a[5] = round(( ( 2*m.sin(a[3]) ) - ((a[3]**2)/10)) ,4)\n",
        "    a[6] = round(( ( 2*m.sin(a[4]) ) - ((a[4]**2)/10)),4)\n",
        "\n",
        "    # print(\"k = {} , xl{} = {} , xu{} = {} , xp{} = {} ,xq{} = {} , Ep{} = {} ,Eq{} = {} , {} \".format(a[0],a[0] ,a[1],a[0] ,a[2],a[0] ,a[3] ,a[0] ,a[4],a[0] ,a[5] ,a[0] ,a[6] ,a[7]  ))\n",
        "    if a[5] >= a[6]:\n",
        "      a[2] = a[4]\n",
        "      a[7] = 'L'\n",
        "    else:\n",
        "      a[1] = a[3]\n",
        "      a[7] = 'R'\n",
        "    \n",
        "    print(\"k = {} , xl{} = {} , xu{} = {} , xp{} = {} ,xq{} = {} , Ep{} = {} ,Eq{} = {} , {} \".format(a[0],a[0] ,a[1],a[0] ,a[2],a[0] ,a[3] ,a[0] ,a[4],a[0] ,a[5] ,a[0] ,a[6] ,a[7]  ))\n",
        "    a[0]+=1"
      ],
      "metadata": {
        "id": "QdsatRyG6Ibm"
      },
      "execution_count": null,
      "outputs": []
    },
    {
      "cell_type": "code",
      "source": [
        "GS(0,4,0.05)"
      ],
      "metadata": {
        "colab": {
          "base_uri": "https://localhost:8080/"
        },
        "id": "jArVlqC_2R7z",
        "outputId": "5fe7381d-0076-40db-e5f3-1cadfa10af9a"
      },
      "execution_count": null,
      "outputs": [
        {
          "output_type": "stream",
          "name": "stdout",
          "text": [
            "k = 1 , xl1 = 0 , xu1 = 2.472 , xp1 = 1.528 ,xq1 = 2.472 , Ep1 = 1.7647 ,Eq1 = 0.6303 , L \n",
            "k = 2 , xl2 = 0.9443 , xu2 = 2.472 , xp2 = 0.9443 ,xq2 = 1.5277 , Ep2 = 1.531 ,Eq2 = 1.7648 , R \n",
            "k = 3 , xl3 = 0.9443 , xu3 = 1.8884 , xp3 = 1.5279 ,xq3 = 1.8884 , Ep3 = 1.7647 ,Eq3 = 1.5434 , L \n",
            "k = 4 , xl4 = 1.3049 , xu4 = 1.8884 , xp4 = 1.3049 ,xq4 = 1.5278 , Ep4 = 1.7594 ,Eq4 = 1.7647 , R \n",
            "k = 5 , xl5 = 1.3049 , xu5 = 1.6655 , xp5 = 1.5278 ,xq5 = 1.6655 , Ep5 = 1.7647 ,Eq5 = 1.7136 , L \n",
            "k = 6 , xl6 = 1.3049 , xu6 = 1.5278 , xp6 = 1.4426 ,xq6 = 1.5278 , Ep6 = 1.7755 ,Eq6 = 1.7647 , L \n",
            "k = 7 , xl7 = 1.39 , xu7 = 1.5278 , xp7 = 1.39 ,xq7 = 1.4427 , Ep7 = 1.7742 ,Eq7 = 1.7755 , R \n",
            "k = 8 , xl8 = 1.39 , xu8 = 1.4752 , xp8 = 1.4426 ,xq8 = 1.4752 , Ep8 = 1.7755 ,Eq8 = 1.7732 , L \n",
            "k = 9 , xl9 = 1.39 , xu9 = 1.4427 , xp9 = 1.4225 ,xq9 = 1.4427 , Ep9 = 1.7757 ,Eq9 = 1.7755 , L \n",
            "k = 10 , xl10 = 1.4101 , xu10 = 1.4427 , xp10 = 1.4101 ,xq10 = 1.4226 , Ep10 = 1.7754 ,Eq10 = 1.7757 , R \n"
          ]
        }
      ]
    },
    {
      "cell_type": "markdown",
      "source": [
        "## Fibonacci search method"
      ],
      "metadata": {
        "id": "I4ND5cgTc22R"
      }
    },
    {
      "cell_type": "markdown",
      "source": [
        "a[0]  :  k\n",
        "\n",
        "a[1]  : (fib_arr[n-a[0]-1])/(fib_arr[n-a[0]]\n",
        "\n",
        "a[2]  : xlk\n",
        "\n",
        "a[3]  : xuk\n",
        "\n",
        "a[4]  : xpk\n",
        "\n",
        "a[5]  : xqk\n",
        "\n",
        "a[6]  : Epk\n",
        "\n",
        "a[7]  : Eqk\n",
        "\n",
        "a[8]  : L/R"
      ],
      "metadata": {
        "id": "qN_bsqTPJ7q2"
      }
    },
    {
      "cell_type": "code",
      "source": [
        "def fib_seq(n):\n",
        "  fib_arr = [1]*n\n",
        "  i=2\n",
        "  while i < n:\n",
        "    fib_arr[i] = fib_arr[i-1]+fib_arr[i-2]\n",
        "    i+=1\n",
        "  return fib_arr\n",
        "\n",
        "def get_n(a,b,e):\n",
        "  fn = (b-a)/e\n",
        "  fib_arr = [1,1]\n",
        "  i=2\n",
        "  while True:\n",
        "    fib_arr.append(fib_arr[i-1]+fib_arr[i-2])\n",
        "    if fib_arr[i] == fn:\n",
        "      return i\n",
        "    elif fib_arr[i] > fn:\n",
        "      return i+1\n",
        "    i+=1\n",
        "  "
      ],
      "metadata": {
        "id": "dVanoRZY6Jy4"
      },
      "execution_count": null,
      "outputs": []
    },
    {
      "cell_type": "code",
      "source": [
        "def FS(xl1 , xu1 , e):\n",
        "  a = [1,0,xl1,xu1,0,0,0,0,'']\n",
        "  n = get_n(xl1,xu1,e)\n",
        "  fib_arr = fib_seq(n)\n",
        "  while a[0]<n:\n",
        "    a[1] = round((fib_arr[n-a[0]-1])/(fib_arr[n-a[0]]),4)\n",
        "    a[4] = round(a[3] - a[1]*( a[3] - a[2] ),4)\n",
        "    a[5] = round(a[2] + a[1]*( a[3] - a[2] ),4)\n",
        "    a[6] = round(( ( 2*m.sin(a[4]) ) - ((a[4]**2)/10)),4)\n",
        "    a[7] = round(( ( 2*m.sin(a[5]) ) - ((a[5]**2)/10)),4)\n",
        "\n",
        "    # print(\"k = {} , r = {} ,xl{} = {} , xu{} = {} , xp{} = {} ,xq{} = {} , Ep{} = {} ,Eq{} = {} , {} \".format(a[0] , a[1],a[0] ,a[2],a[0] ,a[3],a[0] ,a[4] ,a[0] ,a[5],a[0] ,a[6] ,a[0] ,a[7] ,a[8]  ))\n",
        "    if a[6] >= a[7]:\n",
        "      a[3] = a[5]\n",
        "      a[8] = 'L'\n",
        "    else:\n",
        "      a[2] = a[4]\n",
        "      a[8] = 'R'\n",
        "\n",
        "    print(\"k = {} , r = {} ,xl{} = {} , xu{} = {} , xp{} = {} ,xq{} = {} , Ep{} = {} ,Eq{} = {} , {} \".format(a[0] , a[1],a[0] ,a[2],a[0] ,a[3],a[0] ,a[4] ,a[0] ,a[5],a[0] ,a[6] ,a[0] ,a[7] ,a[8]  ))\n",
        "\n",
        "    a[0]+=1"
      ],
      "metadata": {
        "id": "u2I_jAVR9y4Q"
      },
      "execution_count": null,
      "outputs": []
    },
    {
      "cell_type": "code",
      "source": [
        "FS(0,4,0.05)"
      ],
      "metadata": {
        "colab": {
          "base_uri": "https://localhost:8080/"
        },
        "id": "yqui0Trh9yyM",
        "outputId": "714fc88d-8b75-4f4c-9d2d-fc00ca151ff1"
      },
      "execution_count": null,
      "outputs": [
        {
          "output_type": "stream",
          "name": "stdout",
          "text": [
            "k = 1 , r = 0.618 ,xl1 = 0 , xu1 = 2.472 , xp1 = 1.528 ,xq1 = 2.472 , Ep1 = 1.7647 ,Eq1 = 0.6303 , L \n",
            "k = 2 , r = 0.6182 ,xl2 = 0.9438 , xu2 = 2.472 , xp2 = 0.9438 ,xq2 = 1.5282 , Ep2 = 1.5305 ,Eq2 = 1.7646 , R \n",
            "k = 3 , r = 0.6176 ,xl3 = 0.9438 , xu3 = 1.8876 , xp3 = 1.5282 ,xq3 = 1.8876 , Ep3 = 1.7646 ,Eq3 = 1.5442 , L \n",
            "k = 4 , r = 0.619 ,xl4 = 1.3034 , xu4 = 1.8876 , xp4 = 1.3034 ,xq4 = 1.528 , Ep4 = 1.759 ,Eq4 = 1.7647 , R \n",
            "k = 5 , r = 0.6154 ,xl5 = 1.3034 , xu5 = 1.6629 , xp5 = 1.5281 ,xq5 = 1.6629 , Ep5 = 1.7647 ,Eq5 = 1.715 , L \n",
            "k = 6 , r = 0.625 ,xl6 = 1.3034 , xu6 = 1.5281 , xp6 = 1.4382 ,xq6 = 1.5281 , Ep6 = 1.7756 ,Eq6 = 1.7647 , L \n",
            "k = 7 , r = 0.6 ,xl7 = 1.3933 , xu7 = 1.5281 , xp7 = 1.3933 ,xq7 = 1.4382 , Ep7 = 1.7744 ,Eq7 = 1.7756 , R \n",
            "k = 8 , r = 0.6667 ,xl8 = 1.3933 , xu8 = 1.4832 , xp8 = 1.4382 ,xq8 = 1.4832 , Ep8 = 1.7756 ,Eq8 = 1.7723 , L \n",
            "k = 9 , r = 0.5 ,xl9 = 1.3933 , xu9 = 1.4383 , xp9 = 1.4383 ,xq9 = 1.4383 , Ep9 = 1.7756 ,Eq9 = 1.7756 , L \n",
            "k = 10 , r = 1.0 ,xl10 = 1.3933 , xu10 = 1.4383 , xp10 = 1.3933 ,xq10 = 1.4383 , Ep10 = 1.7744 ,Eq10 = 1.7756 , R \n"
          ]
        }
      ]
    },
    {
      "cell_type": "code",
      "source": [],
      "metadata": {
        "id": "4r9g-4WM1LEV"
      },
      "execution_count": null,
      "outputs": []
    }
  ]
}