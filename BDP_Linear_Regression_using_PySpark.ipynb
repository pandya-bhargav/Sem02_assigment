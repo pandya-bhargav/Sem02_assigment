{
  "cells": [
    {
      "cell_type": "markdown",
      "metadata": {
        "id": "jOsUALv5dLqC"
      },
      "source": [
        "Name : Bhargav R Pandya\n",
        "\n",
        "S_ID : 202218055"
      ]
    },
    {
      "cell_type": "code",
      "execution_count": null,
      "metadata": {
        "colab": {
          "base_uri": "https://localhost:8080/"
        },
        "id": "44d2a5CZJxSr",
        "outputId": "f5632217-4122-408f-b47e-a7a3606b1fd5"
      },
      "outputs": [
        {
          "name": "stdout",
          "output_type": "stream",
          "text": [
            "Defaulting to user installation because normal site-packages is not writeable\n",
            "Requirement already satisfied: pyspark in c:\\users\\bhargav pandya\\appdata\\roaming\\python\\python37\\site-packages (3.3.2)\n",
            "Requirement already satisfied: py4j==0.10.9.5 in c:\\users\\bhargav pandya\\appdata\\roaming\\python\\python37\\site-packages (from pyspark) (0.10.9.5)\n"
          ]
        },
        {
          "name": "stderr",
          "output_type": "stream",
          "text": [
            "WARNING: You are using pip version 20.1.1; however, version 23.0.1 is available.\n",
            "You should consider upgrading via the 'c:\\program files\\python37\\python.exe -m pip install --upgrade pip' command.\n"
          ]
        }
      ],
      "source": [
        "!pip install pyspark"
      ]
    },
    {
      "cell_type": "code",
      "execution_count": null,
      "metadata": {
        "id": "Pk1sHxJfHqZL"
      },
      "outputs": [],
      "source": [
        "# Import libraries\n",
        "from pyspark.sql import SparkSession\n",
        "from pyspark.ml.feature import StringIndexer, VectorAssembler\n",
        "from pyspark.ml.regression import LinearRegression\n",
        "from pyspark.ml.evaluation import RegressionEvaluator\n",
        "from pyspark.sql.functions import regexp_extract\n",
        "from pyspark.ml.feature import StandardScaler"
      ]
    },
    {
      "cell_type": "code",
      "execution_count": null,
      "metadata": {
        "id": "pSdUzR07J85Z"
      },
      "outputs": [],
      "source": [
        "# Create Sparksession and Read dataset into a PySpark dataframe\n",
        "spark = SparkSession.builder.appName('Pyspark ML').getOrCreate()\n",
        "carDf = spark.read.csv('Car details v3.csv', header=True, inferSchema=True)"
      ]
    },
    {
      "cell_type": "code",
      "execution_count": null,
      "metadata": {
        "colab": {
          "base_uri": "https://localhost:8080/"
        },
        "id": "vdiFwPEEJ2Nz",
        "outputId": "9d5fec48-8829-4098-866c-f7bc3a589d0f"
      },
      "outputs": [
        {
          "name": "stdout",
          "output_type": "stream",
          "text": [
            "+--------------------+----+-------------+---------+------+-----------+------------+------------+----------+-------+----------+--------------------+-----+\n",
            "|                name|year|selling_price|km_driven|  fuel|seller_type|transmission|       owner|   mileage| engine| max_power|              torque|seats|\n",
            "+--------------------+----+-------------+---------+------+-----------+------------+------------+----------+-------+----------+--------------------+-----+\n",
            "|Maruti Swift Dzir...|2014|       450000|   145500|Diesel| Individual|      Manual| First Owner| 23.4 kmpl|1248 CC|    74 bhp|      190Nm@ 2000rpm|    5|\n",
            "|Skoda Rapid 1.5 T...|2014|       370000|   120000|Diesel| Individual|      Manual|Second Owner|21.14 kmpl|1498 CC|103.52 bhp| 250Nm@ 1500-2500rpm|    5|\n",
            "|Honda City 2017-2...|2006|       158000|   140000|Petrol| Individual|      Manual| Third Owner| 17.7 kmpl|1497 CC|    78 bhp|12.7@ 2,700(kgm@ ...|    5|\n",
            "|Hyundai i20 Sport...|2010|       225000|   127000|Diesel| Individual|      Manual| First Owner| 23.0 kmpl|1396 CC|    90 bhp|22.4 kgm at 1750-...|    5|\n",
            "|Maruti Swift VXI ...|2007|       130000|   120000|Petrol| Individual|      Manual| First Owner| 16.1 kmpl|1298 CC|  88.2 bhp|11.5@ 4,500(kgm@ ...|    5|\n",
            "|Hyundai Xcent 1.2...|2017|       440000|    45000|Petrol| Individual|      Manual| First Owner|20.14 kmpl|1197 CC| 81.86 bhp|   113.75nm@ 4000rpm|    5|\n",
            "|Maruti Wagon R LX...|2007|        96000|   175000|   LPG| Individual|      Manual| First Owner|17.3 km/kg|1061 CC|  57.5 bhp|7.8@ 4,500(kgm@ rpm)|    5|\n",
            "|  Maruti 800 DX BSII|2001|        45000|     5000|Petrol| Individual|      Manual|Second Owner| 16.1 kmpl| 796 CC|    37 bhp|       59Nm@ 2500rpm|    4|\n",
            "|    Toyota Etios VXD|2011|       350000|    90000|Diesel| Individual|      Manual| First Owner|23.59 kmpl|1364 CC|  67.1 bhp| 170Nm@ 1800-2400rpm|    5|\n",
            "|Ford Figo Diesel ...|2013|       200000|   169000|Diesel| Individual|      Manual| First Owner| 20.0 kmpl|1399 CC|  68.1 bhp|      160Nm@ 2000rpm|    5|\n",
            "|Renault Duster 11...|2014|       500000|    68000|Diesel| Individual|      Manual|Second Owner|19.01 kmpl|1461 CC|108.45 bhp|      248Nm@ 2250rpm|    5|\n",
            "|       Maruti Zen LX|2005|        92000|   100000|Petrol| Individual|      Manual|Second Owner| 17.3 kmpl| 993 CC|    60 bhp|       78Nm@ 4500rpm|    5|\n",
            "|Maruti Swift Dzir...|2009|       280000|   140000|Diesel| Individual|      Manual|Second Owner| 19.3 kmpl|1248 CC|  73.9 bhp|      190Nm@ 2000rpm|    5|\n",
            "|Maruti Swift 1.3 VXi|2007|       200000|    80000|Petrol| Individual|      Manual|Second Owner|      null|   null|      null|                null| null|\n",
            "|Maruti Wagon R LX...|2009|       180000|    90000|Petrol| Individual|      Manual|Second Owner| 18.9 kmpl|1061 CC|    67 bhp|       84Nm@ 3500rpm|    5|\n",
            "|Mahindra KUV 100 ...|2016|       400000|    40000|Petrol| Individual|      Manual| First Owner|18.15 kmpl|1198 CC|    82 bhp| 115Nm@ 3500-3600rpm|    5|\n",
            "|Maruti Ertiga SHV...|2016|       778000|    70000|Diesel| Individual|      Manual|Second Owner|24.52 kmpl|1248 CC|  88.5 bhp|      200Nm@ 1750rpm|    7|\n",
            "|Hyundai i20 1.4 C...|2012|       500000|    53000|Diesel| Individual|      Manual|Second Owner| 23.0 kmpl|1396 CC|    90 bhp|22.4 kgm at 1750-...|    5|\n",
            "|      Maruti Alto LX|2002|       150000|    80000|Petrol| Individual|      Manual|Second Owner| 19.7 kmpl| 796 CC|  46.3 bhp|       62Nm@ 3000rpm|    5|\n",
            "|Hyundai i20 2015-...|2016|       680000|   100000|Diesel| Individual|      Manual| First Owner|22.54 kmpl|1396 CC| 88.73 bhp|219.7Nm@ 1500-275...|    5|\n",
            "+--------------------+----+-------------+---------+------+-----------+------------+------------+----------+-------+----------+--------------------+-----+\n",
            "only showing top 20 rows\n",
            "\n"
          ]
        }
      ],
      "source": [
        "carDf.show()"
      ]
    },
    {
      "cell_type": "code",
      "execution_count": null,
      "metadata": {
        "colab": {
          "base_uri": "https://localhost:8080/"
        },
        "id": "afLdR6ECJzYw",
        "outputId": "3e0c4009-8a23-4734-8eb6-66755196aa3a"
      },
      "outputs": [
        {
          "name": "stdout",
          "output_type": "stream",
          "text": [
            "root\n",
            " |-- name: string (nullable = true)\n",
            " |-- year: integer (nullable = true)\n",
            " |-- selling_price: integer (nullable = true)\n",
            " |-- km_driven: integer (nullable = true)\n",
            " |-- fuel: string (nullable = true)\n",
            " |-- seller_type: string (nullable = true)\n",
            " |-- transmission: string (nullable = true)\n",
            " |-- owner: string (nullable = true)\n",
            " |-- mileage: string (nullable = true)\n",
            " |-- engine: string (nullable = true)\n",
            " |-- max_power: string (nullable = true)\n",
            " |-- torque: string (nullable = true)\n",
            " |-- seats: integer (nullable = true)\n",
            "\n"
          ]
        }
      ],
      "source": [
        "carDf.printSchema()"
      ]
    },
    {
      "cell_type": "code",
      "execution_count": null,
      "metadata": {
        "id": "lFtPfShSJ463"
      },
      "outputs": [],
      "source": [
        "# Select necessary columns\n",
        "df = carDf.select(['name', 'year', 'selling_price', 'km_driven', 'fuel',\n",
        "                      'seller_type', 'transmission', 'owner', 'mileage',\n",
        "                      'engine', 'max_power'])\n",
        "df = df.na.drop()"
      ]
    },
    {
      "cell_type": "code",
      "execution_count": null,
      "metadata": {
        "id": "SCRqiYucKa--"
      },
      "outputs": [],
      "source": [
        "catCols = ['name', 'fuel', 'seller_type', 'transmission', 'owner']\n",
        "for c in catCols:\n",
        "    stringIndexer = StringIndexer(inputCol=c, outputCol=c+'_index')\n",
        "    model = stringIndexer.fit(df)\n",
        "    df = model.transform(df)\n",
        "\n",
        "for c in ['mileage', 'engine', 'max_power']:\n",
        "      df = df.withColumn(c, regexp_extract(c, r\"(\\d+(\\.\\d+)?)\", 1).cast('float'))"
      ]
    },
    {
      "cell_type": "code",
      "execution_count": null,
      "metadata": {
        "id": "wZIxUCXmK2DY"
      },
      "outputs": [],
      "source": [
        "assembler = VectorAssembler(inputCols=['name_index','year', 'km_driven', 'fuel_index', \n",
        "      'seller_type_index', 'transmission_index', 'owner_index',\n",
        "       'mileage', 'engine', 'max_power'],\n",
        "    outputCol='features', handleInvalid='skip')\n",
        "\n",
        "df = assembler.transform(df)"
      ]
    },
    {
      "cell_type": "code",
      "execution_count": null,
      "metadata": {
        "id": "7GV3MllPLOTd"
      },
      "outputs": [],
      "source": [
        "# Split data into train and test (80:20)\n",
        "train_data, test_data = df.randomSplit([0.8, 0.2], seed=40)"
      ]
    },
    {
      "cell_type": "code",
      "execution_count": null,
      "metadata": {
        "colab": {
          "base_uri": "https://localhost:8080/"
        },
        "id": "hFIZkAfoLRnr",
        "outputId": "7da55bcd-f1f4-4a84-b286-ee9bc604a6d9"
      },
      "outputs": [
        {
          "name": "stdout",
          "output_type": "stream",
          "text": [
            "RMSE:  488249.94437891594\n",
            "MAE:  280993.02795579494\n",
            "R2 score:  0.6486724473232394\n"
          ]
        }
      ],
      "source": [
        "lr = LinearRegression(featuresCol='features', labelCol='selling_price')\n",
        "\n",
        "lr_model = lr.fit(train_data)\n",
        "# Make predictions on the test dataset\n",
        "predictions = lr_model.transform(test_data)\n",
        "\n",
        "# Evaluate the model using RMSE, MAE and R2 score\n",
        "evaluator = RegressionEvaluator(labelCol=\"selling_price\", predictionCol=\"prediction\", metricName=\"rmse\")\n",
        "rmse = evaluator.evaluate(predictions)\n",
        "evaluator = RegressionEvaluator(labelCol=\"selling_price\", predictionCol=\"prediction\", metricName=\"mae\")\n",
        "mae = evaluator.evaluate(predictions)\n",
        "evaluator = RegressionEvaluator(labelCol=\"selling_price\",predictionCol=\"prediction\", metricName=\"r2\")\n",
        "r2 = evaluator.evaluate(predictions)\n",
        "\n",
        "# Print the evaluation metrics\n",
        "print(\"RMSE: \", rmse)\n",
        "print(\"MAE: \", mae)\n",
        "print(\"R2 score: \", r2)"
      ]
    },
    {
      "cell_type": "code",
      "execution_count": null,
      "metadata": {
        "colab": {
          "base_uri": "https://localhost:8080/"
        },
        "id": "gERg2JpZLgFt",
        "outputId": "cb99f406-40e7-47c5-eac8-787e73d1e938"
      },
      "outputs": [
        {
          "name": "stdout",
          "output_type": "stream",
          "text": [
            "RMSE:  444780.995125806\n",
            "MAE:  270217.6369276774\n",
            "R2 score:  0.6924231215954223\n"
          ]
        }
      ],
      "source": [
        "# Standardize the features\n",
        "stand_scaler = StandardScaler(inputCol=\"features\", outputCol=\"scaledFeatures\", withStd=True, withMean=True)\n",
        "stand_scalerModel = stand_scaler.fit(df)\n",
        "scaled_data = stand_scalerModel.transform(df)\n",
        "scaled_data = scaled_data.select('scaledFeatures', 'selling_Price')\n",
        "\n",
        "# Split data into training and testing datasets\n",
        "train, test = scaled_data.randomSplit([0.8, 0.2], seed=42)\n",
        "\n",
        "# Train the Linear Regression model\n",
        "lr = LinearRegression(featuresCol='scaledFeatures', labelCol='selling_Price', maxIter=100000, regParam=0.0078, elasticNetParam=0.8)\n",
        "model = lr.fit(train)\n",
        "\n",
        "# Make predictions on the test dataset\n",
        "predictions = model.transform(test)\n",
        "\n",
        "# Evaluate the model using RMSE, MAE and R2 score\n",
        "evaluator = RegressionEvaluator(labelCol=\"selling_Price\", predictionCol=\"prediction\", metricName=\"rmse\")\n",
        "rmse = evaluator.evaluate(predictions)\n",
        "evaluator = RegressionEvaluator(labelCol=\"selling_Price\", predictionCol=\"prediction\", metricName=\"mae\")\n",
        "mae = evaluator.evaluate(predictions)\n",
        "evaluator = RegressionEvaluator(labelCol=\"selling_Price\", predictionCol=\"prediction\", metricName=\"r2\")\n",
        "r2 = evaluator.evaluate(predictions)\n",
        "\n",
        "# Print the evaluation\n",
        "print(\"RMSE: \", rmse)\n",
        "print(\"MAE: \", mae)\n",
        "print(\"R2 score: \", r2)"
      ]
    },
    {
      "cell_type": "code",
      "execution_count": null,
      "metadata": {
        "id": "i6wCUzrMdLqR"
      },
      "outputs": [],
      "source": []
    }
  ],
  "metadata": {
    "colab": {
      "provenance": []
    },
    "kernelspec": {
      "display_name": "Python 3 (ipykernel)",
      "language": "python",
      "name": "python3"
    },
    "language_info": {
      "codemirror_mode": {
        "name": "ipython",
        "version": 3
      },
      "file_extension": ".py",
      "mimetype": "text/x-python",
      "name": "python",
      "nbconvert_exporter": "python",
      "pygments_lexer": "ipython3",
      "version": "3.9.12"
    }
  },
  "nbformat": 4,
  "nbformat_minor": 0
}