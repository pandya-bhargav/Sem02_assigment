{
 "cells": [
  {
   "cell_type": "code",
   "execution_count": null,
   "id": "6eae906c",
   "metadata": {},
   "outputs": [],
   "source": []
  },
  {
   "cell_type": "code",
   "execution_count": 1,
   "id": "f9d8d88d",
   "metadata": {},
   "outputs": [],
   "source": [
    "# enter supply array\n",
    "arr_row = [( 140 ,[6,4,1,5]) , (160,[8,9,2,7]),(50,[4,3,6,2])]"
   ]
  },
  {
   "cell_type": "code",
   "execution_count": 2,
   "id": "191fdd58",
   "metadata": {},
   "outputs": [],
   "source": [
    "# enter demand array\n",
    "arr_col = [(60,[6,8,4]),(100,[4,9,3]),(150,[1,2,6]),(40,[5,7,2])]"
   ]
  },
  {
   "cell_type": "code",
   "execution_count": null,
   "id": "2436992d",
   "metadata": {},
   "outputs": [],
   "source": []
  },
  {
   "cell_type": "code",
   "execution_count": 3,
   "id": "004d6403",
   "metadata": {},
   "outputs": [],
   "source": [
    "sup = []\n",
    "row = []\n",
    "dem = []\n",
    "for ele1 in arr_row:\n",
    "    sup.append(ele1[0])\n",
    "    row.append(ele1[1])\n",
    "for ele2 in arr_col:\n",
    "    dem.append(ele2[0])"
   ]
  },
  {
   "cell_type": "code",
   "execution_count": 4,
   "id": "e829aa0f",
   "metadata": {},
   "outputs": [
    {
     "name": "stdout",
     "output_type": "stream",
     "text": [
      "[140, 160, 50]\n",
      "[[6, 4, 1, 5], [8, 9, 2, 7], [4, 3, 6, 2]]\n",
      "[60, 100, 150, 40]\n"
     ]
    }
   ],
   "source": [
    "print(sup)\n",
    "print(row)\n",
    "print(dem)\n"
   ]
  },
  {
   "cell_type": "code",
   "execution_count": 5,
   "id": "bd5018d2",
   "metadata": {},
   "outputs": [],
   "source": [
    "def N_W_method(arr_sup , arr_dem):\n",
    "    sup = []\n",
    "    row = []\n",
    "    dem = []\n",
    "    ans_arr = []\n",
    "    for ele1 in arr_sup:\n",
    "        sup.append(ele1[0])\n",
    "        row.append(ele1[1])\n",
    "    for ele2 in arr_dem:\n",
    "        dem.append(ele2[0])\n",
    "        \n",
    "    # checking balenced Transportatin problem or not?\n",
    "    diff  = sum(sup) - sum(dem)\n",
    "    if diff!=0:\n",
    "        if diff>0 :\n",
    "            for ele in row:\n",
    "                ele.append(0)\n",
    "            dem.append(diff)\n",
    "        else:\n",
    "            row.append([0 for x in range(len(row[0]))])\n",
    "            sup.append(-diff)\n",
    "            \n",
    "    ans = 0\n",
    "    sum_dem = sum(dem)\n",
    "    sum_sup = sum(sup)\n",
    "    i = 0\n",
    "    j = 0\n",
    "    while sum_dem!=0:\n",
    "        if min(sup[i] , dem[j])==sup[i]:     # if sup[i] < dem[j]\n",
    "            sum_dem-=sup[i]                  \n",
    "            ans_arr.append([i,j,sup[i]])\n",
    "            ans += row[i][j]*min(sup[i] , dem[j])\n",
    "\n",
    "            dem[j]-=sup[i]                  # update demand\n",
    "            sup[i]=0                        #update supply\n",
    "            i+=1                            # move to downward\n",
    "            \n",
    "        elif sup[i]==dem[j]:                # if supply == demand             \n",
    "\n",
    "            sum_dem-=sup[i]\n",
    "            ans_arr.append([i,j,sup[i]])\n",
    "            ans += row[i][j]*sup[i] , dem[j]\n",
    "            dem[j]=0                        # update demand\n",
    "            sup[i]=0                         #update supply\n",
    "            i+=1\n",
    "            j+=1                            # move to daigonal                  \n",
    "\n",
    "        else:\n",
    "            sum_dem-=dem[j]              # if supply < demand\n",
    "            ans_arr.append([i,j,dem[j]])\n",
    "            ans += row[i][j]*min(sup[i] , dem[j])\n",
    "            sup[i]-=dem[j]                #update supply\n",
    "            dem[j]=0                     # update demand\n",
    "            j+=1                        # move to right side\n",
    "            \n",
    "    print(\"Total cost = \" , ans)\n",
    "    print(\"postion with cost \" ,  ans_arr)"
   ]
  },
  {
   "cell_type": "code",
   "execution_count": 7,
   "id": "c6f5660f",
   "metadata": {},
   "outputs": [
    {
     "name": "stdout",
     "output_type": "stream",
     "text": [
      "Total cost =  1280\n",
      "postion with cost  [[0, 0, 60], [0, 1, 80], [1, 1, 20], [1, 2, 140], [2, 2, 10], [2, 3, 40]]\n"
     ]
    }
   ],
   "source": [
    "N_W_method(arr_row , arr_col)"
   ]
  },
  {
   "cell_type": "code",
   "execution_count": null,
   "id": "d28f9067",
   "metadata": {},
   "outputs": [],
   "source": []
  }
 ],
 "metadata": {
  "kernelspec": {
   "display_name": "Python 3 (ipykernel)",
   "language": "python",
   "name": "python3"
  },
  "language_info": {
   "codemirror_mode": {
    "name": "ipython",
    "version": 3
   },
   "file_extension": ".py",
   "mimetype": "text/x-python",
   "name": "python",
   "nbconvert_exporter": "python",
   "pygments_lexer": "ipython3",
   "version": "3.9.12"
  }
 },
 "nbformat": 4,
 "nbformat_minor": 5
}
