{
  "cells": [
    {
      "cell_type": "code",
      "execution_count": null,
      "id": "f11552f5",
      "metadata": {
        "id": "f11552f5",
        "outputId": "01f8d58e-a958-4992-dcb8-fda57f0b5f01"
      },
      "outputs": [
        {
          "name": "stdout",
          "output_type": "stream",
          "text": [
            "Requirement already satisfied: kafka-python in e:\\anaconda\\lib\\site-packages (2.0.2)\n",
            "Note: you may need to restart the kernel to use updated packages.\n"
          ]
        }
      ],
      "source": [
        "pip install kafka-python"
      ]
    },
    {
      "cell_type": "code",
      "execution_count": null,
      "id": "e53df9dd",
      "metadata": {
        "id": "e53df9dd",
        "outputId": "8ade02c4-04f6-42a7-c312-478b0308cd99"
      },
      "outputs": [
        {
          "name": "stdout",
          "output_type": "stream",
          "text": [
            "Message sent : 0\n",
            "Message sent : 1\n",
            "Message sent : 2\n",
            "Message sent : 3\n",
            "Message sent : 4\n",
            "Message sent : 5\n",
            "Message sent : 6\n",
            "Message sent : 7\n",
            "Message sent : 8\n",
            "Message sent : 9\n",
            "Message sent : 10\n",
            "Message sent : 11\n",
            "Message sent : 12\n",
            "Message sent : 13\n",
            "Message sent : 14\n",
            "Message sent : 15\n",
            "Message sent : 16\n",
            "Message sent : 17\n",
            "Message sent : 18\n",
            "Message sent : 19\n",
            "Message sent : 20\n",
            "Message sent : 21\n",
            "Message sent : 22\n",
            "Message sent : 23\n",
            "Message sent : 24\n",
            "Message sent : 25\n",
            "Message sent : 26\n",
            "Message sent : 27\n",
            "Message sent : 28\n",
            "Message sent : 29\n"
          ]
        }
      ],
      "source": [
        "from kafka import KafkaProducer\n",
        "from time import sleep\n",
        "import json\n",
        "from datetime import datetime\n",
        "\n",
        "producer = KafkaProducer(bootstrap_servers=['localhost:9092'],api_version=(0,10,1))\n",
        "producer.send('assignment',b'Hello')\n",
        "now = datetime.now()\n",
        "current_time = now.strftime('%d/%m/%y %H:%M:%S')\n",
        "\n",
        "for i in range(30):\n",
        "    message = 'Message {}'.format(str(datetime.now().time()))\n",
        "    producer.send('assignment', json.dumps(message).encode('utf-8'))\n",
        "    sleep(2)\n",
        "    print('Message sent :',i)"
      ]
    },
    {
      "cell_type": "code",
      "execution_count": null,
      "id": "18066756",
      "metadata": {
        "id": "18066756"
      },
      "outputs": [],
      "source": []
    }
  ],
  "metadata": {
    "kernelspec": {
      "display_name": "Python 3 (ipykernel)",
      "language": "python",
      "name": "python3"
    },
    "language_info": {
      "codemirror_mode": {
        "name": "ipython",
        "version": 3
      },
      "file_extension": ".py",
      "mimetype": "text/x-python",
      "name": "python",
      "nbconvert_exporter": "python",
      "pygments_lexer": "ipython3",
      "version": "3.9.12"
    },
    "colab": {
      "provenance": []
    }
  },
  "nbformat": 4,
  "nbformat_minor": 5
}