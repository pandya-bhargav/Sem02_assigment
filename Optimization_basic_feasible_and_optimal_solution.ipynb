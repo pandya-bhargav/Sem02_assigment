{
 "cells": [
  {
   "cell_type": "markdown",
   "id": "6ea36ff7",
   "metadata": {},
   "source": [
    "**Name : Bhargav Pandya**\n",
    "\n",
    "**S_Id : 202218055**"
   ]
  },
  {
   "cell_type": "markdown",
   "id": "f63cb4eb",
   "metadata": {},
   "source": [
    "## Given a system of linear equations, find all possible basic feasible solutions and optimal solution."
   ]
  },
  {
   "cell_type": "code",
   "execution_count": 86,
   "id": "f669e738",
   "metadata": {},
   "outputs": [],
   "source": [
    "import array\n",
    "import numpy as np\n",
    "from itertools import combinations"
   ]
  },
  {
   "cell_type": "code",
   "execution_count": 87,
   "id": "24350103",
   "metadata": {},
   "outputs": [
    {
     "name": "stdout",
     "output_type": "stream",
     "text": [
      "Enter 1: For Maximization \n",
      "Enter 2: For Minimization \n",
      "1\n"
     ]
    }
   ],
   "source": [
    "Type = int(input(\"Enter 1: For Maximization \\nEnter 2: For Minimization \\n\"))"
   ]
  },
  {
   "cell_type": "code",
   "execution_count": 88,
   "id": "93a43f58",
   "metadata": {},
   "outputs": [
    {
     "name": "stdout",
     "output_type": "stream",
     "text": [
      "Enter objective Function(cofficents of variables):150 100\n",
      "Enter number of equations : 2\n",
      "Enter number of variables : 4\n",
      "*******************************************************************\n",
      "for equation 1 coefficient variable1 : 8\n",
      "for equation 1 coefficient variable2 : 5\n",
      "for equation 1 coefficient variable3 : 1\n",
      "for equation 1 coefficient variable4 : 0\n",
      "constant term for equation 1 : 60\n",
      "*********************************************************************\n",
      "for equation 2 coefficient variable1 : 4\n",
      "for equation 2 coefficient variable2 : 5\n",
      "for equation 2 coefficient variable3 : 0\n",
      "for equation 2 coefficient variable4 : 1\n",
      "constant term for equation 2 : 40\n",
      "*********************************************************************\n"
     ]
    }
   ],
   "source": [
    "Obj = list(float(x) for x in input(\"Enter objective Function(cofficents of variables):\").split())\n",
    "\n",
    "eq = int(input(\"Enter number of equations : \"))\n",
    "variables = int(input(\"Enter number of variables : \"))\n",
    "\n",
    "A = []\n",
    "b = []\n",
    "\n",
    "print(\"*******************************************************************\")\n",
    "for i in range(eq):\n",
    "    temp = []\n",
    "    for j in range(variables):\n",
    "        a0 = int(input(\"for equation {} coefficient variable{} : \".format(i+1, j+1)))\n",
    "        temp.append(a0)\n",
    "    b0 = int(input(\"constant term for equation {} : \".format(i+1)))\n",
    "    b.append(b0)\n",
    "    A.append(temp)\n",
    "    print(\"*********************************************************************\")"
   ]
  },
  {
   "cell_type": "code",
   "execution_count": 89,
   "id": "d65394fe",
   "metadata": {},
   "outputs": [],
   "source": [
    "# convert to numpy array\n",
    "Obj = np.array(Obj)\n",
    "A = np.array(A).T\n",
    "b = np.array(b).T"
   ]
  },
  {
   "cell_type": "code",
   "execution_count": 90,
   "id": "d37bb4f5",
   "metadata": {},
   "outputs": [
    {
     "name": "stdout",
     "output_type": "stream",
     "text": [
      "[150. 100.]\n",
      "[[8 4]\n",
      " [5 5]\n",
      " [1 0]\n",
      " [0 1]]\n",
      "[60 40]\n"
     ]
    }
   ],
   "source": [
    "print(Obj)\n",
    "print(A)\n",
    "print(b)"
   ]
  },
  {
   "cell_type": "code",
   "execution_count": 91,
   "id": "d5a330b8",
   "metadata": {},
   "outputs": [],
   "source": [
    "# create a function for basic feasible solutions\n",
    "# A is eq*variables array\n",
    "# b is array of constant term of equations\n",
    "\n",
    "\n",
    "def basic_feasible_solutions(A,b,eq,variables):\n",
    "  comb = list(combinations(A,eq))    # for combinations of A and eq        \n",
    "  var = list(combinations(list(np.arange(0,variables)),eq))     # for positions\n",
    "  res = []                           \n",
    "  comb_var = []                       \n",
    "  for i in range(len(comb)):\n",
    "    sol = (np.linalg.solve(np.array(comb[i]).T,np.array(b)))      # find value of basic variable \n",
    "    if any([ele<0 for ele in sol]):      # beacuse our xi >= 0 \n",
    "      continue\n",
    "    else:\n",
    "      res.append(np.array(sol))          \n",
    "    comb_var.append(var[i])\n",
    "  final = []\n",
    "  for i in range(len(res)):\n",
    "    temp = [0]*variables       # instilize temp\n",
    "    for j in range(len(comb_var[i])):\n",
    "      temp[comb_var[i][j]] = float(res[i][j])     # taken pos. will fit rest are zero \n",
    "    final.append(temp)\n",
    "  return final"
   ]
  },
  {
   "cell_type": "code",
   "execution_count": 92,
   "id": "4abac6f1",
   "metadata": {},
   "outputs": [
    {
     "name": "stdout",
     "output_type": "stream",
     "text": [
      "All basic feasible solution are  [[5.0, 4.0, 0, 0], [7.5, 0, 0, 10.0], [0, 8.0, 20.0, 0], [0, 0, 60.0, 40.0]]\n"
     ]
    }
   ],
   "source": [
    "final = basic_feasible_solutions(A,b,eq,variables)     \n",
    "print(\"All basic feasible solution are \",final)"
   ]
  },
  {
   "cell_type": "code",
   "execution_count": 93,
   "id": "1a54c37e",
   "metadata": {},
   "outputs": [
    {
     "name": "stdout",
     "output_type": "stream",
     "text": [
      "Comb = \n",
      "[(array([8, 4]), array([5, 5])), (array([8, 4]), array([1, 0])), (array([8, 4]), array([0, 1])), (array([5, 5]), array([1, 0])), (array([5, 5]), array([0, 1])), (array([1, 0]), array([0, 1]))]\n",
      "***************\n",
      "var  =  \n",
      "[(0, 1), (0, 2), (0, 3), (1, 2), (1, 3), (2, 3)]\n"
     ]
    }
   ],
   "source": [
    "print(\"Comb = \")\n",
    "print(comb)\n",
    "print(\"***************\")\n",
    "print(\"var  =  \")\n",
    "print(var)"
   ]
  },
  {
   "cell_type": "code",
   "execution_count": 94,
   "id": "6c616077",
   "metadata": {},
   "outputs": [],
   "source": [
    "def optimal_solution(final,Obj,Type):\n",
    "  ans = []\n",
    "  for i in range(len(final)):\n",
    "    sum = 0\n",
    "    for j in range(len(Obj)):            # put all feasible soultions in objective function\n",
    "      sum = sum + Obj[j]*final[i][j]\n",
    "    ans.append(float(sum))\n",
    "  if Type == 1:                  # type 1 then return max\n",
    "    return max(ans)\n",
    "  else:                          # type 2 then return min\n",
    "    return min(ans)"
   ]
  },
  {
   "cell_type": "code",
   "execution_count": 95,
   "id": "df3ae958",
   "metadata": {},
   "outputs": [
    {
     "name": "stdout",
     "output_type": "stream",
     "text": [
      "1150.0\n"
     ]
    }
   ],
   "source": [
    "ans = optimal_solution(final,Obj,Type)\n",
    "print(ans)"
   ]
  },
  {
   "cell_type": "code",
   "execution_count": null,
   "id": "d12eb1c9",
   "metadata": {},
   "outputs": [],
   "source": []
  }
 ],
 "metadata": {
  "kernelspec": {
   "display_name": "Python 3 (ipykernel)",
   "language": "python",
   "name": "python3"
  },
  "language_info": {
   "codemirror_mode": {
    "name": "ipython",
    "version": 3
   },
   "file_extension": ".py",
   "mimetype": "text/x-python",
   "name": "python",
   "nbconvert_exporter": "python",
   "pygments_lexer": "ipython3",
   "version": "3.9.12"
  }
 },
 "nbformat": 4,
 "nbformat_minor": 5
}
