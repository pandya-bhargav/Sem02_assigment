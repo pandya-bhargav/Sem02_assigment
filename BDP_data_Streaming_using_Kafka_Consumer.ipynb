{
  "cells": [
    {
      "cell_type": "code",
      "execution_count": null,
      "id": "2712caaa",
      "metadata": {
        "id": "2712caaa",
        "outputId": "cba28caa-c585-4d3b-fb5d-a2967c7e3b0d"
      },
      "outputs": [
        {
          "name": "stdout",
          "output_type": "stream",
          "text": [
            "b'\"Message 18:00:04.193016\"'\n",
            "b'\"Message 18:00:06.202007\"'\n",
            "b'\"Message 18:00:08.208988\"'\n",
            "b'\"Message 18:00:10.221404\"'\n",
            "b'\"Message 18:00:12.228119\"'\n",
            "b'\"Message 18:00:14.235352\"'\n",
            "b'\"Message 18:00:16.242257\"'\n",
            "b'\"Message 18:00:18.260526\"'\n",
            "b'\"Message 18:00:20.277947\"'\n",
            "b'\"Message 18:00:22.291677\"'\n",
            "b'\"Message 18:00:24.298128\"'\n",
            "b'\"Message 18:00:26.307950\"'\n",
            "b'\"Message 18:00:28.320654\"'\n",
            "b'\"Message 18:00:30.333506\"'\n",
            "b'\"Message 18:00:32.343909\"'\n",
            "b'\"Message 18:00:34.347991\"'\n",
            "b'\"Message 18:00:36.356065\"'\n",
            "b'\"Message 18:00:38.359947\"'\n",
            "b'\"Message 18:00:40.365351\"'\n",
            "b'\"Message 18:00:42.368942\"'\n",
            "b'\"Message 18:00:44.384737\"'\n",
            "b'\"Message 18:00:46.395004\"'\n",
            "b'\"Message 18:00:48.406855\"'\n",
            "b'\"Message 18:00:50.417794\"'\n",
            "b'\"Message 18:00:52.435184\"'\n",
            "b'\"Message 18:00:54.446001\"'\n",
            "b'\"Message 18:00:56.454584\"'\n",
            "b'\"Message 18:00:58.465934\"'\n"
          ]
        }
      ],
      "source": [
        "from kafka import KafkaConsumer\n",
        "import json\n",
        "from json import loads\n",
        "\n",
        "consumer = KafkaConsumer('assignment',\n",
        "                        bootstrap_servers=['localhost:9092'],\n",
        "                        api_version=(0,10)\n",
        "                        )\n",
        "for message in consumer:\n",
        "    print(message.value)"
      ]
    },
    {
      "cell_type": "code",
      "execution_count": null,
      "id": "e3e0e6d4",
      "metadata": {
        "id": "e3e0e6d4"
      },
      "outputs": [],
      "source": []
    }
  ],
  "metadata": {
    "kernelspec": {
      "display_name": "Python 3 (ipykernel)",
      "language": "python",
      "name": "python3"
    },
    "language_info": {
      "codemirror_mode": {
        "name": "ipython",
        "version": 3
      },
      "file_extension": ".py",
      "mimetype": "text/x-python",
      "name": "python",
      "nbconvert_exporter": "python",
      "pygments_lexer": "ipython3",
      "version": "3.9.12"
    },
    "colab": {
      "provenance": []
    }
  },
  "nbformat": 4,
  "nbformat_minor": 5
}