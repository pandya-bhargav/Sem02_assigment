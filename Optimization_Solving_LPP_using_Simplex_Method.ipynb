{
 "cells": [
  {
   "cell_type": "markdown",
   "metadata": {
    "id": "op8sEyPzVPsm"
   },
   "source": [
    "#**Task**\n",
    "\n",
    "1. Formulate the above problem as a linear programming problem.\n",
    "\n",
    "2. Implement the simplex method in Python to solve the problem.\n",
    "\n",
    "3. Print the optimal solution (i.e., the values of the decision variables that maximize the profit and the corresponding maximum profit)"
   ]
  },
  {
   "cell_type": "code",
   "execution_count": 62,
   "metadata": {
    "colab": {
     "base_uri": "https://localhost:8080/"
    },
    "id": "d3GtXYpW-Mxs",
    "outputId": "9f013947-efb9-4634-c399-2543de5e3411"
   },
   "outputs": [
    {
     "name": "stdout",
     "output_type": "stream",
     "text": [
      "Enter no. of products : 2\n",
      "Enter no. of raw materials : 3\n",
      "for product 1, coefficient 1 : 2\n",
      "for product 1, coefficient 2 : 1\n",
      "constant of product 1 : 5\n",
      "for product 2, coefficient 1 : 3\n",
      "for product 2, coefficient 2 : -2\n",
      "constant of product 2 : 6\n",
      "for product 3, coefficient 1 : 1\n",
      "for product 3, coefficient 2 : 4\n",
      "constant of product 3 : 8\n",
      "prifit 1 from product 1 : 3\n",
      "prifit 2 from product 2 : 2\n",
      "[[2.0, 1.0], [3.0, -2.0], [1.0, 4.0]]\n",
      "[5.0, 6.0, 8.0]\n",
      "[3.0, 2.0]\n"
     ]
    }
   ],
   "source": [
    "#Production quantities x1,x2,x2 of products A,B,C\n",
    "#A,B,C use two raw materials X and Y\n",
    "#p1,p2,p3 are profits from A,B,C products repectively\n",
    "products = int(input(\"Enter no. of products : \"))\n",
    "materials = int(input(\"Enter no. of raw materials : \"))\n",
    "M = []\n",
    "c = []\n",
    "for i in range(materials):\n",
    "  a = []\n",
    "  for j in range(products):\n",
    "    k = float(input(\"for product {}, coefficient {} : \".format(i+1, j+1)))\n",
    "    a.append(k)\n",
    "  M.append(a)\n",
    "  d = float(input(\"constant of product {} : \".format(i+1)))\n",
    "  c.append(d)\n",
    "p = []\n",
    "for i in range(products):\n",
    "  e = float(input(\"prifit {} from product {} : \".format(i+1,i+1)))\n",
    "  p.append(e)\n",
    "print(M)\n",
    "print(c)\n",
    "print(p)"
   ]
  },
  {
   "cell_type": "code",
   "execution_count": 63,
   "metadata": {
    "id": "jxAiXyufA0hB"
   },
   "outputs": [],
   "source": [
    "import numpy as np\n",
    "import math"
   ]
  },
  {
   "cell_type": "code",
   "execution_count": 64,
   "metadata": {
    "colab": {
     "base_uri": "https://localhost:8080/"
    },
    "id": "ZGYg3AE4RvDg",
    "outputId": "4aa5f0fe-512e-4f6f-eac6-19b4139a6da0"
   },
   "outputs": [
    {
     "name": "stdout",
     "output_type": "stream",
     "text": [
      "[[2.0, 1.0, 1.0, 0.0, 0.0], [3.0, -2.0, 0.0, 1.0, 0.0], [1.0, 4.0, 0.0, 0.0, 1.0]]\n"
     ]
    }
   ],
   "source": [
    "#adding slack variable in M\n",
    "m = materials\n",
    "M_slack = [[0.0] * m + [1.0 if i == j else 0.0 for j in range(m)] for i in range(m)]\n",
    "for i in range(m):\n",
    "    M_slack[i][:m] = M[i]\n",
    "\n",
    "print(M_slack)"
   ]
  },
  {
   "cell_type": "code",
   "execution_count": 65,
   "metadata": {
    "colab": {
     "base_uri": "https://localhost:8080/"
    },
    "id": "8XFNrwgxn5lg",
    "outputId": "5d809388-32b4-479d-8d19-4f373708e91c"
   },
   "outputs": [
    {
     "name": "stdout",
     "output_type": "stream",
     "text": [
      "[3.0, 2.0, 0.0, 0.0, 0.0]\n"
     ]
    }
   ],
   "source": [
    "p = p + [0.0]*m\n",
    "print(p)"
   ]
  },
  {
   "cell_type": "code",
   "execution_count": 66,
   "metadata": {
    "id": "EDlXpzceGJcS"
   },
   "outputs": [],
   "source": [
    "M =  np.array(M_slack)\n",
    "c = np.array(c)\n",
    "p =  np.array(p)"
   ]
  },
  {
   "cell_type": "code",
   "execution_count": 67,
   "metadata": {
    "id": "Ruc8umlhkRF4"
   },
   "outputs": [],
   "source": [
    "#table where right most enteries are 'M',not include last row and last column\n",
    "#last column enteries are c\n",
    "#In last row n enteries are p and bottom right entry of table to 0\n",
    "def tabular(p, M, c):\n",
    "    m, n = M.shape\n",
    "    table = np.zeros((m+1, n+1)) \n",
    "    table[:-1, :-1] = M\n",
    "    table[:-1, -1] = c\n",
    "    table[-1, :-1] = p\n",
    "    table[-1, -1] = 0\n",
    "    return table "
   ]
  },
  {
   "cell_type": "code",
   "execution_count": 68,
   "metadata": {
    "id": "DMgpDnlFmWbJ"
   },
   "outputs": [],
   "source": [
    "#function to return position of key_value\n",
    "def key_value_position(table):\n",
    "    z = table[-1][:-1]\n",
    "    column  = np.argmax(np.array(z) > 0) #To create true value when z values are>0 and max value index store in column\n",
    "    re = []\n",
    "    for eq in table[:-1]:\n",
    "        ele = eq[column]\n",
    "        large = math.inf\n",
    "        re.append(large if ele <= 0 else eq[-1] / ele) #when ratio<=0 it gives value to large so we can neglate that ratio\n",
    "    row = re.index(min(re)) #remain ratio we find minimum of that and  give it to row index\n",
    "    return row, column #return row and column index "
   ]
  },
  {
   "cell_type": "code",
   "execution_count": 69,
   "metadata": {
    "id": "p9V-Y1TBqr_O"
   },
   "outputs": [],
   "source": [
    "#function to take table andd a key position and return new table \n",
    "def key_step(table, key_position):\n",
    "    new_table = [[] for eq in table]\n",
    "    i, j = key_position\n",
    "    key_value = table[i][j]\n",
    "    new_table[i] = np.array(table[i]) / key_value  \n",
    "    for eq_i, eq in enumerate(table):\n",
    "        if eq_i != i:\n",
    "            multiplier = np.array(new_table[i]) * table[eq_i][j]\n",
    "            new_table[eq_i] = np.array(table[eq_i]) - multiplier  \n",
    "    return new_table"
   ]
  },
  {
   "cell_type": "code",
   "execution_count": 70,
   "metadata": {
    "id": "kqajUILutB84"
   },
   "outputs": [],
   "source": [
    "def is_basic(column):\n",
    "    return sum(column) == 1 and len([c for c in column if c == 0]) == len(column) - 1"
   ]
  },
  {
   "cell_type": "code",
   "execution_count": 71,
   "metadata": {
    "id": "v1F7xV9etHkv"
   },
   "outputs": [],
   "source": [
    "#Final simplex solution\n",
    "def simplex(p, M, c):\n",
    "    table = tabular(p, M, c)\n",
    "    \n",
    "    while any(x > 0 for x in table[-1][:-1]): #need to be cj-zj<=0 for all,if not then go inside loop\n",
    "        key_position = key_value_position(table)\n",
    "        table = key_step(table,key_position)\n",
    "    \n",
    "    columns = np.array(table).T\n",
    "    solutions = []\n",
    "    for column in columns:\n",
    "        solution = 0\n",
    "        if is_basic(column):\n",
    "            one_index = column.tolist().index(1)\n",
    "            solution = columns[-1][one_index]\n",
    "        solutions.append(solution)  \n",
    "    return solutions"
   ]
  },
  {
   "cell_type": "code",
   "execution_count": 72,
   "metadata": {
    "colab": {
     "base_uri": "https://localhost:8080/"
    },
    "id": "7j7iNlWgT5My",
    "outputId": "6fa7d200-8f5b-4394-9d6e-f23c6bd557e2"
   },
   "outputs": [
    {
     "name": "stdout",
     "output_type": "stream",
     "text": [
      "x1 :  1.7142857142857146\n",
      "x2 :  1.571428571428571\n"
     ]
    }
   ],
   "source": [
    "solution = simplex(p, M, c)\n",
    "nv = 0\n",
    "for i in p:\n",
    "  if i != 0:\n",
    "     nv += 1\n",
    "for i in range(nv):\n",
    "  print(\"x{} : \".format(i+1),solution[i] )"
   ]
  },
  {
   "cell_type": "code",
   "execution_count": 75,
   "metadata": {
    "colab": {
     "base_uri": "https://localhost:8080/"
    },
    "id": "-37RIoxgtp2o",
    "outputId": "d601a874-9e1d-4615-ae19-944c46e0dc37"
   },
   "outputs": [
    {
     "name": "stdout",
     "output_type": "stream",
     "text": [
      "Maximize of z :  8.285714285714286\n"
     ]
    }
   ],
   "source": [
    "ans = 0\n",
    "for i in range(nv):\n",
    "  ans = ans + p[i]*solution[i]\n",
    "print(\"Maximize of z : \",ans)"
   ]
  }
 ],
 "metadata": {
  "colab": {
   "provenance": []
  },
  "kernelspec": {
   "display_name": "Python 3 (ipykernel)",
   "language": "python",
   "name": "python3"
  },
  "language_info": {
   "codemirror_mode": {
    "name": "ipython",
    "version": 3
   },
   "file_extension": ".py",
   "mimetype": "text/x-python",
   "name": "python",
   "nbconvert_exporter": "python",
   "pygments_lexer": "ipython3",
   "version": "3.9.12"
  }
 },
 "nbformat": 4,
 "nbformat_minor": 1
}
